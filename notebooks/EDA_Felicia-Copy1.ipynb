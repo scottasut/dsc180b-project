{
 "cells": [
  {
   "cell_type": "code",
   "execution_count": 1,
   "metadata": {},
   "outputs": [],
   "source": [
    "import pandas as pd\n",
    "import numpy as np\n",
    "import matplotlib.pyplot as plt\n",
    "import random\n",
    "from datetime import datetime"
   ]
  },
  {
   "cell_type": "code",
   "execution_count": 8,
   "metadata": {},
   "outputs": [
    {
     "data": {
      "text/html": [
       "<div>\n",
       "<style scoped>\n",
       "    .dataframe tbody tr th:only-of-type {\n",
       "        vertical-align: middle;\n",
       "    }\n",
       "\n",
       "    .dataframe tbody tr th {\n",
       "        vertical-align: top;\n",
       "    }\n",
       "\n",
       "    .dataframe thead th {\n",
       "        text-align: right;\n",
       "    }\n",
       "</style>\n",
       "<table border=\"1\" class=\"dataframe\">\n",
       "  <thead>\n",
       "    <tr style=\"text-align: right;\">\n",
       "      <th></th>\n",
       "      <th>0</th>\n",
       "      <th>1</th>\n",
       "      <th>2</th>\n",
       "      <th>3</th>\n",
       "    </tr>\n",
       "  </thead>\n",
       "  <tbody>\n",
       "    <tr>\n",
       "      <th>0</th>\n",
       "      <td>cxiigat</td>\n",
       "      <td>AskReddit</td>\n",
       "      <td>1448928000</td>\n",
       "      <td>2</td>\n",
       "    </tr>\n",
       "    <tr>\n",
       "      <th>1</th>\n",
       "      <td>cxiigax</td>\n",
       "      <td>KotakuInAction</td>\n",
       "      <td>1448928000</td>\n",
       "      <td>0</td>\n",
       "    </tr>\n",
       "    <tr>\n",
       "      <th>2</th>\n",
       "      <td>cxiigbr</td>\n",
       "      <td>socialwork</td>\n",
       "      <td>1448928001</td>\n",
       "      <td>1</td>\n",
       "    </tr>\n",
       "    <tr>\n",
       "      <th>3</th>\n",
       "      <td>cxiigbs</td>\n",
       "      <td>fnafcringe</td>\n",
       "      <td>1448928001</td>\n",
       "      <td>1</td>\n",
       "    </tr>\n",
       "    <tr>\n",
       "      <th>4</th>\n",
       "      <td>cxiigcl</td>\n",
       "      <td>AskReddit</td>\n",
       "      <td>1448928002</td>\n",
       "      <td>1</td>\n",
       "    </tr>\n",
       "    <tr>\n",
       "      <th>...</th>\n",
       "      <td>...</td>\n",
       "      <td>...</td>\n",
       "      <td>...</td>\n",
       "      <td>...</td>\n",
       "    </tr>\n",
       "    <tr>\n",
       "      <th>5471500</th>\n",
       "      <td>cyhtloy</td>\n",
       "      <td>Android</td>\n",
       "      <td>1451606397</td>\n",
       "      <td>4</td>\n",
       "    </tr>\n",
       "    <tr>\n",
       "      <th>5471501</th>\n",
       "      <td>cyhtlp3</td>\n",
       "      <td>comicbooks</td>\n",
       "      <td>1451606397</td>\n",
       "      <td>1</td>\n",
       "    </tr>\n",
       "    <tr>\n",
       "      <th>5471502</th>\n",
       "      <td>cyhtlp7</td>\n",
       "      <td>Mavericks</td>\n",
       "      <td>1451606397</td>\n",
       "      <td>1</td>\n",
       "    </tr>\n",
       "    <tr>\n",
       "      <th>5471503</th>\n",
       "      <td>cyhtlpf</td>\n",
       "      <td>CoDCompetitive</td>\n",
       "      <td>1451606398</td>\n",
       "      <td>1</td>\n",
       "    </tr>\n",
       "    <tr>\n",
       "      <th>5471504</th>\n",
       "      <td>cyhtlq8</td>\n",
       "      <td>confessions</td>\n",
       "      <td>1451606399</td>\n",
       "      <td>2</td>\n",
       "    </tr>\n",
       "  </tbody>\n",
       "</table>\n",
       "<p>5471505 rows × 4 columns</p>\n",
       "</div>"
      ],
      "text/plain": [
       "               0               1           2  3\n",
       "0        cxiigat       AskReddit  1448928000  2\n",
       "1        cxiigax  KotakuInAction  1448928000  0\n",
       "2        cxiigbr      socialwork  1448928001  1\n",
       "3        cxiigbs      fnafcringe  1448928001  1\n",
       "4        cxiigcl       AskReddit  1448928002  1\n",
       "...          ...             ...         ... ..\n",
       "5471500  cyhtloy         Android  1451606397  4\n",
       "5471501  cyhtlp3      comicbooks  1451606397  1\n",
       "5471502  cyhtlp7       Mavericks  1451606397  1\n",
       "5471503  cyhtlpf  CoDCompetitive  1451606398  1\n",
       "5471504  cyhtlq8     confessions  1451606399  2\n",
       "\n",
       "[5471505 rows x 4 columns]"
      ]
     },
     "execution_count": 8,
     "metadata": {},
     "output_type": "execute_result"
    }
   ],
   "source": [
    "# load the comments csv to a dataframe, sampling 10%\n",
    "percentage = 0.10\n",
    "df = pd.read_csv(\n",
    "    '../data/out/comments.csv', \n",
    "    header=None, \n",
    "    skiprows=lambda x: x>0 and random.random()>percentage\n",
    ")\n",
    "df"
   ]
  },
  {
   "cell_type": "code",
   "execution_count": 9,
   "metadata": {},
   "outputs": [],
   "source": [
    "# change column names\n",
    "df.columns = ['comment_id', \n",
    "              'subreddit', \n",
    "              'timestamp', \n",
    "              'karma']"
   ]
  },
  {
   "cell_type": "code",
   "execution_count": 16,
   "metadata": {},
   "outputs": [
    {
     "data": {
      "text/html": [
       "<div>\n",
       "<style scoped>\n",
       "    .dataframe tbody tr th:only-of-type {\n",
       "        vertical-align: middle;\n",
       "    }\n",
       "\n",
       "    .dataframe tbody tr th {\n",
       "        vertical-align: top;\n",
       "    }\n",
       "\n",
       "    .dataframe thead th {\n",
       "        text-align: right;\n",
       "    }\n",
       "</style>\n",
       "<table border=\"1\" class=\"dataframe\">\n",
       "  <thead>\n",
       "    <tr style=\"text-align: right;\">\n",
       "      <th></th>\n",
       "      <th>comment_id</th>\n",
       "      <th>subreddit</th>\n",
       "      <th>timestamp</th>\n",
       "      <th>karma</th>\n",
       "      <th>year</th>\n",
       "      <th>month</th>\n",
       "      <th>day</th>\n",
       "      <th>hour</th>\n",
       "      <th>weekday</th>\n",
       "    </tr>\n",
       "  </thead>\n",
       "  <tbody>\n",
       "    <tr>\n",
       "      <th>0</th>\n",
       "      <td>cxiigat</td>\n",
       "      <td>AskReddit</td>\n",
       "      <td>2015-11-30 16:00:00</td>\n",
       "      <td>2</td>\n",
       "      <td>2015</td>\n",
       "      <td>11</td>\n",
       "      <td>30</td>\n",
       "      <td>16</td>\n",
       "      <td>0</td>\n",
       "    </tr>\n",
       "    <tr>\n",
       "      <th>1</th>\n",
       "      <td>cxiigax</td>\n",
       "      <td>KotakuInAction</td>\n",
       "      <td>2015-11-30 16:00:00</td>\n",
       "      <td>0</td>\n",
       "      <td>2015</td>\n",
       "      <td>11</td>\n",
       "      <td>30</td>\n",
       "      <td>16</td>\n",
       "      <td>0</td>\n",
       "    </tr>\n",
       "    <tr>\n",
       "      <th>2</th>\n",
       "      <td>cxiigbr</td>\n",
       "      <td>socialwork</td>\n",
       "      <td>2015-11-30 16:00:01</td>\n",
       "      <td>1</td>\n",
       "      <td>2015</td>\n",
       "      <td>11</td>\n",
       "      <td>30</td>\n",
       "      <td>16</td>\n",
       "      <td>0</td>\n",
       "    </tr>\n",
       "    <tr>\n",
       "      <th>3</th>\n",
       "      <td>cxiigbs</td>\n",
       "      <td>fnafcringe</td>\n",
       "      <td>2015-11-30 16:00:01</td>\n",
       "      <td>1</td>\n",
       "      <td>2015</td>\n",
       "      <td>11</td>\n",
       "      <td>30</td>\n",
       "      <td>16</td>\n",
       "      <td>0</td>\n",
       "    </tr>\n",
       "    <tr>\n",
       "      <th>4</th>\n",
       "      <td>cxiigcl</td>\n",
       "      <td>AskReddit</td>\n",
       "      <td>2015-11-30 16:00:02</td>\n",
       "      <td>1</td>\n",
       "      <td>2015</td>\n",
       "      <td>11</td>\n",
       "      <td>30</td>\n",
       "      <td>16</td>\n",
       "      <td>0</td>\n",
       "    </tr>\n",
       "  </tbody>\n",
       "</table>\n",
       "</div>"
      ],
      "text/plain": [
       "  comment_id       subreddit           timestamp  karma  year  month  day  \\\n",
       "0    cxiigat       AskReddit 2015-11-30 16:00:00      2  2015     11   30   \n",
       "1    cxiigax  KotakuInAction 2015-11-30 16:00:00      0  2015     11   30   \n",
       "2    cxiigbr      socialwork 2015-11-30 16:00:01      1  2015     11   30   \n",
       "3    cxiigbs      fnafcringe 2015-11-30 16:00:01      1  2015     11   30   \n",
       "4    cxiigcl       AskReddit 2015-11-30 16:00:02      1  2015     11   30   \n",
       "\n",
       "   hour  weekday  \n",
       "0    16        0  \n",
       "1    16        0  \n",
       "2    16        0  \n",
       "3    16        0  \n",
       "4    16        0  "
      ]
     },
     "execution_count": 16,
     "metadata": {},
     "output_type": "execute_result"
    }
   ],
   "source": [
    "# Comment volume over the days\n",
    "\n",
    "def convert_to_dt(timestamp):\n",
    "    dt = datetime.fromtimestamp(timestamp)\n",
    "    return dt\n",
    "\n",
    "try:\n",
    "    df['timestamp'] = df['timestamp'].apply(convert_to_dt)\n",
    "except:\n",
    "    pass\n",
    "\n",
    "# these should be scaled up with a larger dataset:\n",
    "# instead of going day by day or hour by hour we can see aggregates by month/year\n",
    "df['year'] = pd.DatetimeIndex(df['timestamp']).year\n",
    "df['month'] = pd.DatetimeIndex(df['timestamp']).month\n",
    "df['day'] = pd.DatetimeIndex(df['timestamp']).day\n",
    "df['hour'] = pd.DatetimeIndex(df['timestamp']).hour\n",
    "df['weekday'] = pd.DatetimeIndex(df['timestamp']).weekday\n",
    "df.head()"
   ]
  },
  {
   "cell_type": "code",
   "execution_count": 11,
   "metadata": {},
   "outputs": [
    {
     "data": {
      "text/plain": [
       "month  day\n",
       "12     1      193722\n",
       "       2      196798\n",
       "       3      195381\n",
       "       4      179098\n",
       "       5      161187\n",
       "       6      174500\n",
       "       7      194346\n",
       "       8      198317\n",
       "       9      197681\n",
       "       10     193035\n",
       "       11     179910\n",
       "       12     158646\n",
       "       13     177461\n",
       "       14     165230\n",
       "       15     197468\n",
       "       16     188896\n",
       "       17     182208\n",
       "       18     172240\n",
       "       19     153613\n",
       "       20     165764\n",
       "       21     182523\n",
       "       22     183379\n",
       "       23     172300\n",
       "       24     148924\n",
       "       25     131834\n",
       "       26     143168\n",
       "       27     162452\n",
       "       28     180453\n",
       "       29     184878\n",
       "       30     182284\n",
       "       31     110162\n",
       "Name: comment_id, dtype: int64"
      ]
     },
     "execution_count": 11,
     "metadata": {},
     "output_type": "execute_result"
    }
   ],
   "source": [
    "from IPython.display import display\n",
    "pd.options.display.max_rows = None\n",
    "\n",
    "grouped = df.groupby(['month', 'day']).count()\n",
    "december = grouped[1:]['comment_id']\n",
    "december"
   ]
  },
  {
   "cell_type": "code",
   "execution_count": 14,
   "metadata": {},
   "outputs": [
    {
     "data": {
      "text/plain": [
       "array([193722, 196798, 195381, 179098, 161187, 174500, 194346, 198317,\n",
       "       197681, 193035, 179910, 158646, 177461, 165230, 197468, 188896,\n",
       "       182208, 172240, 153613, 165764, 182523, 183379, 172300, 148924,\n",
       "       131834, 143168, 162452, 180453, 184878, 182284, 110162],\n",
       "      dtype=int64)"
      ]
     },
     "execution_count": 14,
     "metadata": {},
     "output_type": "execute_result"
    }
   ],
   "source": [
    "december.values"
   ]
  },
  {
   "cell_type": "code",
   "execution_count": 15,
   "metadata": {},
   "outputs": [
    {
     "data": {
      "text/plain": [
       "<BarContainer object of 31 artists>"
      ]
     },
     "execution_count": 15,
     "metadata": {},
     "output_type": "execute_result"
    },
    {
     "data": {
      "image/png": "[encoded data removed]",
      "text/plain": [
       "<Figure size 720x720 with 1 Axes>"
      ]
     },
     "metadata": {
      "needs_background": "light"
     },
     "output_type": "display_data"
    }
   ],
   "source": [
    "# plotting volume against days in december\n",
    "fig, axes = plt.subplots(figsize=(10, 10))\n",
    "plt.bar(range(1, 32), december.values)"
   ]
  },
  {
   "cell_type": "code",
   "execution_count": null,
   "metadata": {},
   "outputs": [],
   "source": [
    "# future: change to day of week"
   ]
  }
 ],
 "metadata": {
  "kernelspec": {
   "display_name": "Python 3",
   "language": "python",
   "name": "python3"
  },
  "language_info": {
   "codemirror_mode": {
    "name": "ipython",
    "version": 3
   },
   "file_extension": ".py",
   "mimetype": "text/x-python",
   "name": "python",
   "nbconvert_exporter": "python",
   "pygments_lexer": "ipython3",
   "version": "3.8.5"
  }
 },
 "nbformat": 4,
 "nbformat_minor": 4
}
