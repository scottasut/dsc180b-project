{
 "cells": [
  {
<<<<<<< HEAD
=======
   "cell_type": "markdown",
   "metadata": {},
   "source": [
    "# Exploring Reddit Comment Data for User Community Reccomendation"
   ]
  },
  {
   "cell_type": "markdown",
   "metadata": {},
   "source": [
    "## Setup"
   ]
  },
  {
>>>>>>> 6bb06cca3ad9a0af0ec3dff300d53a4daf3f06b5
   "cell_type": "code",
   "execution_count": 1,
   "metadata": {},
   "outputs": [],
   "source": [
<<<<<<< HEAD
    "import pandas as pd\n",
    "import numpy as np\n",
    "import plotly.express as px\n",
    "import seaborn as sns\n",
    "import matplotlib.pyplot as plt\n",
    "from dask import dataframe as dd"
=======
    "import numpy as np\n",
    "import pandas as pd\n",
    "import matplotlib.pyplot as plt\n",
    "import seaborn as sns\n",
    "\n",
    "FIGWIDTH = 8\n",
    "FIGHEIGHT = 8\n",
    "plt.rcParams['figure.figsize'] = [FIGWIDTH, FIGHEIGHT]"
>>>>>>> 6bb06cca3ad9a0af0ec3dff300d53a4daf3f06b5
   ]
  },
  {
   "cell_type": "code",
   "execution_count": 2,
   "metadata": {},
   "outputs": [],
   "source": [
<<<<<<< HEAD
    "cmts = pd.read_csv('../data/out/comments.csv')\n",
    "cmts_cmts = pd.read_csv('../data/out/comments_comments.csv')\n",
    "users = pd.read_csv('../data/out/users.csv')\n",
    "users_cmts = pd.read_csv('../data/out/users_comments.csv')"
=======
    "COMMENTS = '../data/out/comments.csv'\n",
    "COMMENTS_COMMENTS = '../data/out/comments_comments.csv'\n",
    "USERS_COMMENTS = '../data/out/users_comments.csv'\n",
    "\n",
    "comments = {}\n",
    "comments_to_subreddit = {}\n",
    "with open(COMMENTS) as f:\n",
    "    for l in f.readlines():\n",
    "        c, s, t, k = l.split(',')\n",
    "        comments[c] = {\n",
    "            'subreddit': s,\n",
    "            'timestamp': int(t),\n",
    "            'karma': int(k.strip())\n",
    "        }\n",
    "        comments_to_subreddit[c] = s\n",
    "\n",
    "comment_parent_map = {}\n",
    "with open(COMMENTS_COMMENTS) as f:\n",
    "    for l in f.readlines():\n",
    "        p, c = l.split(',')\n",
    "        comment_parent_map[c.strip()] = p\n",
    "\n",
    "comment_user_map = {}\n",
    "user_subreddit_data = []\n",
    "with open(USERS_COMMENTS) as f:\n",
    "    for l in f.readlines():\n",
    "        u, c = l.split(',')\n",
    "        c = c.strip()\n",
    "        comment_user_map[c] = u\n",
    "        user_subreddit_data.append({\n",
    "            'user': u,\n",
    "            'subreddit': comments_to_subreddit[c]\n",
    "        })\n",
    "user_subreddits = pd.DataFrame(user_subreddit_data, columns=['user', 'subreddit'])"
   ]
  },
  {
   "cell_type": "markdown",
   "metadata": {},
   "source": [
    "## Comment Chains\n",
    "\n",
    "Like many other social platforms, Reddit's comment representation is a tree structure where separate replies to a comment are branches. We can think of conversation in one of these trees as a comment chain, that is, a set of comments where each one (apart from the first comment) is a reply to one preceding it. We will investigate the typical size, shape and diversity of users in each of these chains:"
   ]
  },
  {
   "cell_type": "markdown",
   "metadata": {},
   "source": [
    "### Data Structure Setup"
>>>>>>> 6bb06cca3ad9a0af0ec3dff300d53a4daf3f06b5
   ]
  },
  {
   "cell_type": "code",
   "execution_count": 3,
   "metadata": {},
   "outputs": [
    {
<<<<<<< HEAD
=======
     "name": "stdout",
     "output_type": "stream",
     "text": [
      "Number of comment chains: 942558\n"
     ]
    }
   ],
   "source": [
    "comment_chains = {}\n",
    "for c in comment_parent_map:\n",
    "    root = c\n",
    "    chain = set()\n",
    "    users = []\n",
    "    while root in comment_parent_map:\n",
    "        chain.add(root)\n",
    "        root = comment_parent_map[root]\n",
    "    if root in comment_chains:\n",
    "        comment_chains[root].update(chain)\n",
    "    else:\n",
    "        comment_chains[root] = chain\n",
    "user_chains = pd.Series([[comment_user_map[c] for c in cset] for cset in comment_chains.values()])\n",
    "print('Number of comment chains: {}'.format(len(comment_chains)))"
   ]
  },
  {
   "cell_type": "markdown",
   "metadata": {},
   "source": [
    "### Comment Chain Lengths"
   ]
  },
  {
   "cell_type": "markdown",
   "metadata": {},
   "source": [
    "So, in total we have 942,558 comment chain in our data. Let's summarize them:"
   ]
  },
  {
   "cell_type": "code",
   "execution_count": 4,
   "metadata": {},
   "outputs": [
    {
>>>>>>> 6bb06cca3ad9a0af0ec3dff300d53a4daf3f06b5
     "data": {
      "text/html": [
       "<div>\n",
       "<style scoped>\n",
       "    .dataframe tbody tr th:only-of-type {\n",
       "        vertical-align: middle;\n",
       "    }\n",
       "\n",
       "    .dataframe tbody tr th {\n",
       "        vertical-align: top;\n",
       "    }\n",
       "\n",
       "    .dataframe thead th {\n",
       "        text-align: right;\n",
       "    }\n",
       "</style>\n",
       "<table border=\"1\" class=\"dataframe\">\n",
       "  <thead>\n",
       "    <tr style=\"text-align: right;\">\n",
       "      <th></th>\n",
<<<<<<< HEAD
       "      <th>------Username------</th>\n",
       "      <th>e5uz9c6</th>\n",
       "      <th>1536779653.0</th>\n",
       "      <th>26</th>\n",
       "      <th>bodybuilding</th>\n",
=======
       "      <th>count</th>\n",
       "      <th>mean</th>\n",
       "      <th>std</th>\n",
       "      <th>min</th>\n",
       "      <th>25%</th>\n",
       "      <th>50%</th>\n",
       "      <th>75%</th>\n",
       "      <th>max</th>\n",
>>>>>>> 6bb06cca3ad9a0af0ec3dff300d53a4daf3f06b5
       "    </tr>\n",
       "  </thead>\n",
       "  <tbody>\n",
       "    <tr>\n",
       "      <th>0</th>\n",
<<<<<<< HEAD
       "      <td>Condishun</td>\n",
       "      <td>e5v0nbi</td>\n",
       "      <td>NaN</td>\n",
       "      <td>NaN</td>\n",
       "      <td>NaN</td>\n",
       "    </tr>\n",
       "    <tr>\n",
       "      <th>1</th>\n",
       "      <td>sre01</td>\n",
       "      <td>e5vvpmv</td>\n",
       "      <td>1.536809e+09</td>\n",
       "      <td>2.0</td>\n",
       "      <td>bodybuilding</td>\n",
       "    </tr>\n",
       "    <tr>\n",
       "      <th>2</th>\n",
       "      <td>sre01</td>\n",
       "      <td>e5vvpmv</td>\n",
       "      <td>1.536809e+09</td>\n",
       "      <td>2.0</td>\n",
       "      <td>bodybuilding</td>\n",
       "    </tr>\n",
       "    <tr>\n",
       "      <th>3</th>\n",
       "      <td>------Username------</td>\n",
       "      <td>e5f3uaj</td>\n",
       "      <td>NaN</td>\n",
       "      <td>NaN</td>\n",
       "      <td>NaN</td>\n",
       "    </tr>\n",
       "    <tr>\n",
       "      <th>4</th>\n",
       "      <td>MapleBrewmaster</td>\n",
       "      <td>e5ix9bb</td>\n",
       "      <td>1.536277e+09</td>\n",
       "      <td>1.0</td>\n",
       "      <td>bodybuilding</td>\n",
=======
       "      <td>942558.0</td>\n",
       "      <td>2.834356</td>\n",
       "      <td>6.142301</td>\n",
       "      <td>1.0</td>\n",
       "      <td>1.0</td>\n",
       "      <td>1.0</td>\n",
       "      <td>3.0</td>\n",
       "      <td>933.0</td>\n",
       "    </tr>\n",
       "  </tbody>\n",
       "</table>\n",
       "</div>"
      ],
      "text/plain": [
       "      count      mean       std  min  25%  50%  75%    max\n",
       "0  942558.0  2.834356  6.142301  1.0  1.0  1.0  3.0  933.0"
      ]
     },
     "execution_count": 4,
     "metadata": {},
     "output_type": "execute_result"
    }
   ],
   "source": [
    "chain_lengths = pd.Series([len(chain) for chain in comment_chains.values()])\n",
    "chain_lengths.describe().to_frame().T"
   ]
  },
  {
   "cell_type": "markdown",
   "metadata": {},
   "source": [
    "The data seems to be very compact around small numbers such as 1 and 2 with large outliers, we will further investigatge the distribution:"
   ]
  },
  {
   "cell_type": "code",
   "execution_count": 5,
   "metadata": {},
   "outputs": [
    {
     "data": {
      "image/png": "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\n",
      "text/plain": [
       "<Figure size 576x576 with 1 Axes>"
      ]
     },
     "metadata": {},
     "output_type": "display_data"
    }
   ],
   "source": [
    "def chain_length_binner(x):\n",
    "    if x == 1:\n",
    "        return '1 comment'\n",
    "    elif 1 < x < 10:\n",
    "        return '2 - 10 comments'\n",
    "    return '10+ comments'\n",
    "\n",
    "chain_length_bins = pd.Series([chain_length_binner(cl) for cl in chain_lengths]).value_counts(normalize=True)\n",
    "colors = sns.color_palette('pastel')[0:5]\n",
    "plt.pie(chain_length_bins, labels=chain_length_bins.index, colors = colors, autopct='%.0f%%')\n",
    "plt.title('Distribution of comments chain lengths')\n",
    "plt.show()"
   ]
  },
  {
   "cell_type": "markdown",
   "metadata": {},
   "source": [
    "From the above chart, we can see that the majority of comments do not actually belong to a comment chain. This means that the comment was posted and no-one replied. These data are likely not very useful in generating meaningful metrics for recommendation based on user comment interactions.\n",
    "\n",
    "However, 45% of the comment data are part of chains with 41% being 'small' chains of only 2 - 10 comments and the other 4% being long chains with over 10 comments. We can examine the distributions of both of these groups:"
   ]
  },
  {
   "cell_type": "code",
   "execution_count": 6,
   "metadata": {},
   "outputs": [
    {
     "data": {
      "image/png": "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\n",
      "text/plain": [
       "<Figure size 1152x576 with 2 Axes>"
      ]
     },
     "metadata": {
      "needs_background": "light"
     },
     "output_type": "display_data"
    }
   ],
   "source": [
    "fig, ax = plt.subplots(1, 2)\n",
    "fig.set_figwidth(FIGWIDTH * len(ax))\n",
    "fig.set_figheight(FIGHEIGHT)\n",
    "\n",
    "ax[0].hist([cl for cl in chain_lengths if 1 < cl < 10], bins=range(2, 11));\n",
    "ax[1].hist([np.log(cl) for cl in chain_lengths if cl > 10]);\n",
    "fig.suptitle('Comment Chain Length Distributions');\n",
    "ax[0].set_title('2-10 Comments');\n",
    "ax[0].set_xlabel('Chain Length');\n",
    "ax[0].set_ylabel('Count');\n",
    "ax[1].set_title('10+ Comments');\n",
    "ax[1].set_xlabel('Chain Length');\n",
    "ax[1].set_ylabel('$\\log$(Count)');"
   ]
  },
  {
   "cell_type": "markdown",
   "metadata": {},
   "source": [
    "As we might expect, we generally have less chains of longer lengths. In short, there are mostly smaller chains in the data but the distribution is heavily right-skewed due to some very long chains."
   ]
  },
  {
   "cell_type": "markdown",
   "metadata": {},
   "source": [
    "### Users in Chains"
   ]
  },
  {
   "cell_type": "markdown",
   "metadata": {},
   "source": [
    "Now we will look at some data such as the number of users in each chain and the number of times users tend to interact in a chain.\n",
    "\n",
    "First, we will focus on the number of unique users per chain:"
   ]
  },
  {
   "cell_type": "code",
   "execution_count": 8,
   "metadata": {},
   "outputs": [
    {
     "data": {
      "text/html": [
       "<div>\n",
       "<style scoped>\n",
       "    .dataframe tbody tr th:only-of-type {\n",
       "        vertical-align: middle;\n",
       "    }\n",
       "\n",
       "    .dataframe tbody tr th {\n",
       "        vertical-align: top;\n",
       "    }\n",
       "\n",
       "    .dataframe thead th {\n",
       "        text-align: right;\n",
       "    }\n",
       "</style>\n",
       "<table border=\"1\" class=\"dataframe\">\n",
       "  <thead>\n",
       "    <tr style=\"text-align: right;\">\n",
       "      <th></th>\n",
       "      <th>count</th>\n",
       "      <th>mean</th>\n",
       "      <th>std</th>\n",
       "      <th>min</th>\n",
       "      <th>25%</th>\n",
       "      <th>50%</th>\n",
       "      <th>75%</th>\n",
       "      <th>max</th>\n",
       "    </tr>\n",
       "  </thead>\n",
       "  <tbody>\n",
       "    <tr>\n",
       "      <th>0</th>\n",
       "      <td>942558.0</td>\n",
       "      <td>2.277905</td>\n",
       "      <td>4.114923</td>\n",
       "      <td>1.0</td>\n",
       "      <td>1.0</td>\n",
       "      <td>1.0</td>\n",
       "      <td>2.0</td>\n",
       "      <td>619.0</td>\n",
       "    </tr>\n",
       "  </tbody>\n",
       "</table>\n",
       "</div>"
      ],
      "text/plain": [
       "      count      mean       std  min  25%  50%  75%    max\n",
       "0  942558.0  2.277905  4.114923  1.0  1.0  1.0  2.0  619.0"
      ]
     },
     "execution_count": 8,
     "metadata": {},
     "output_type": "execute_result"
    }
   ],
   "source": [
    "users_in_chain = pd.Series([len(set(users)) for users in user_chains])\n",
    "users_in_chain.describe().to_frame().T"
   ]
  },
  {
   "cell_type": "code",
   "execution_count": 9,
   "metadata": {},
   "outputs": [
    {
     "data": {
      "image/png": "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\n",
      "text/plain": [
       "<Figure size 576x576 with 1 Axes>"
      ]
     },
     "metadata": {},
     "output_type": "display_data"
    }
   ],
   "source": [
    "def unique_users_binner(x):\n",
    "    if x < 5:\n",
    "        return '{} User(s)'.format(x)\n",
    "    return '5+ users'\n",
    "\n",
    "unique_users_bins = pd.Series([unique_users_binner(u) for u in users_in_chain]).value_counts(normalize=True)\n",
    "colors = sns.color_palette('pastel')[0:5]\n",
    "plt.pie(unique_users_bins, labels=unique_users_bins.index, colors = colors, autopct='%.0f%%')\n",
    "plt.title('Distribution of Unique Users in Chains')\n",
    "plt.show()"
   ]
  },
  {
   "cell_type": "markdown",
   "metadata": {},
   "source": [
    "Next, we look at the ratio between the number of unique users in a chain and the total number of comments in that chain. This tells us how unique the set of users particpating in a chain is. Smaller ratios means there is less diversity."
   ]
  },
  {
   "cell_type": "code",
   "execution_count": 11,
   "metadata": {},
   "outputs": [
    {
     "data": {
      "text/html": [
       "<div>\n",
       "<style scoped>\n",
       "    .dataframe tbody tr th:only-of-type {\n",
       "        vertical-align: middle;\n",
       "    }\n",
       "\n",
       "    .dataframe tbody tr th {\n",
       "        vertical-align: top;\n",
       "    }\n",
       "\n",
       "    .dataframe thead th {\n",
       "        text-align: right;\n",
       "    }\n",
       "</style>\n",
       "<table border=\"1\" class=\"dataframe\">\n",
       "  <thead>\n",
       "    <tr style=\"text-align: right;\">\n",
       "      <th></th>\n",
       "      <th>count</th>\n",
       "      <th>mean</th>\n",
       "      <th>std</th>\n",
       "      <th>min</th>\n",
       "      <th>25%</th>\n",
       "      <th>50%</th>\n",
       "      <th>75%</th>\n",
       "      <th>max</th>\n",
       "    </tr>\n",
       "  </thead>\n",
       "  <tbody>\n",
       "    <tr>\n",
       "      <th>0</th>\n",
       "      <td>942558.0</td>\n",
       "      <td>0.936561</td>\n",
       "      <td>0.154236</td>\n",
       "      <td>0.016173</td>\n",
       "      <td>1.0</td>\n",
       "      <td>1.0</td>\n",
       "      <td>1.0</td>\n",
       "      <td>1.0</td>\n",
       "    </tr>\n",
       "  </tbody>\n",
       "</table>\n",
       "</div>"
      ],
      "text/plain": [
       "      count      mean       std       min  25%  50%  75%  max\n",
       "0  942558.0  0.936561  0.154236  0.016173  1.0  1.0  1.0  1.0"
      ]
     },
     "execution_count": 11,
     "metadata": {},
     "output_type": "execute_result"
    }
   ],
   "source": [
    "users_per_chain_ratio = users_in_chain / chain_lengths\n",
    "users_per_chain_ratio.describe().to_frame().T"
   ]
  },
  {
   "cell_type": "markdown",
   "metadata": {},
   "source": [
    "We can see that the chains are generally wuite diverse as, on average, the number of unique users is very close to the total number of comments. However, because we are including chains of length one which the ration is guarenteed to be 1.0 for, this value is quite skewed. We remove those and try again:"
   ]
  },
  {
   "cell_type": "code",
   "execution_count": 30,
   "metadata": {},
   "outputs": [
    {
     "data": {
      "text/html": [
       "<div>\n",
       "<style scoped>\n",
       "    .dataframe tbody tr th:only-of-type {\n",
       "        vertical-align: middle;\n",
       "    }\n",
       "\n",
       "    .dataframe tbody tr th {\n",
       "        vertical-align: top;\n",
       "    }\n",
       "\n",
       "    .dataframe thead th {\n",
       "        text-align: right;\n",
       "    }\n",
       "</style>\n",
       "<table border=\"1\" class=\"dataframe\">\n",
       "  <thead>\n",
       "    <tr style=\"text-align: right;\">\n",
       "      <th></th>\n",
       "      <th>count</th>\n",
       "      <th>mean</th>\n",
       "      <th>std</th>\n",
       "      <th>min</th>\n",
       "      <th>25%</th>\n",
       "      <th>50%</th>\n",
       "      <th>75%</th>\n",
       "      <th>max</th>\n",
       "    </tr>\n",
       "  </thead>\n",
       "  <tbody>\n",
       "    <tr>\n",
       "      <th>More than 1 unique users in chain</th>\n",
       "      <td>423680.0</td>\n",
       "      <td>0.863450</td>\n",
       "      <td>0.202106</td>\n",
       "      <td>0.016173</td>\n",
       "      <td>0.722222</td>\n",
       "      <td>1.000000</td>\n",
       "      <td>1.000000</td>\n",
       "      <td>1.0</td>\n",
       "    </tr>\n",
       "    <tr>\n",
       "      <th>More than 2 unique users in chain</th>\n",
       "      <td>202730.0</td>\n",
       "      <td>0.828392</td>\n",
       "      <td>0.201955</td>\n",
       "      <td>0.016173</td>\n",
       "      <td>0.714286</td>\n",
       "      <td>0.888889</td>\n",
       "      <td>1.000000</td>\n",
       "      <td>1.0</td>\n",
       "    </tr>\n",
       "    <tr>\n",
       "      <th>More than 3 unique users in chain</th>\n",
       "      <td>116788.0</td>\n",
       "      <td>0.810440</td>\n",
       "      <td>0.196655</td>\n",
       "      <td>0.016173</td>\n",
       "      <td>0.666667</td>\n",
       "      <td>0.833333</td>\n",
       "      <td>1.000000</td>\n",
       "      <td>1.0</td>\n",
       "    </tr>\n",
       "    <tr>\n",
       "      <th>More than 4 unique users in chain</th>\n",
       "      <td>76082.0</td>\n",
       "      <td>0.799829</td>\n",
       "      <td>0.190558</td>\n",
       "      <td>0.016173</td>\n",
       "      <td>0.666667</td>\n",
       "      <td>0.833333</td>\n",
       "      <td>1.000000</td>\n",
       "      <td>1.0</td>\n",
       "    </tr>\n",
       "    <tr>\n",
       "      <th>More than 5 unique users in chain</th>\n",
       "      <td>54092.0</td>\n",
       "      <td>0.792461</td>\n",
       "      <td>0.185693</td>\n",
       "      <td>0.016173</td>\n",
       "      <td>0.666667</td>\n",
       "      <td>0.833333</td>\n",
       "      <td>1.000000</td>\n",
       "      <td>1.0</td>\n",
       "    </tr>\n",
       "    <tr>\n",
       "      <th>More than 6 unique users in chain</th>\n",
       "      <td>40587.0</td>\n",
       "      <td>0.787582</td>\n",
       "      <td>0.181009</td>\n",
       "      <td>0.073684</td>\n",
       "      <td>0.666667</td>\n",
       "      <td>0.818182</td>\n",
       "      <td>0.923077</td>\n",
       "      <td>1.0</td>\n",
       "    </tr>\n",
       "    <tr>\n",
       "      <th>More than 7 unique users in chain</th>\n",
       "      <td>31938.0</td>\n",
       "      <td>0.784376</td>\n",
       "      <td>0.176319</td>\n",
       "      <td>0.085366</td>\n",
       "      <td>0.666667</td>\n",
       "      <td>0.812500</td>\n",
       "      <td>0.916667</td>\n",
       "      <td>1.0</td>\n",
       "    </tr>\n",
       "    <tr>\n",
       "      <th>More than 8 unique users in chain</th>\n",
       "      <td>25804.0</td>\n",
       "      <td>0.781291</td>\n",
       "      <td>0.172523</td>\n",
       "      <td>0.085366</td>\n",
       "      <td>0.666667</td>\n",
       "      <td>0.812500</td>\n",
       "      <td>0.916667</td>\n",
       "      <td>1.0</td>\n",
       "    </tr>\n",
       "    <tr>\n",
       "      <th>More than 9 unique users in chain</th>\n",
       "      <td>21388.0</td>\n",
       "      <td>0.778585</td>\n",
       "      <td>0.169781</td>\n",
       "      <td>0.085366</td>\n",
       "      <td>0.666667</td>\n",
       "      <td>0.800000</td>\n",
       "      <td>0.916667</td>\n",
       "      <td>1.0</td>\n",
       "    </tr>\n",
       "    <tr>\n",
       "      <th>More than 10 unique users in chain</th>\n",
       "      <td>18077.0</td>\n",
       "      <td>0.776888</td>\n",
       "      <td>0.166369</td>\n",
       "      <td>0.085366</td>\n",
       "      <td>0.674419</td>\n",
       "      <td>0.800000</td>\n",
       "      <td>0.916667</td>\n",
       "      <td>1.0</td>\n",
>>>>>>> 6bb06cca3ad9a0af0ec3dff300d53a4daf3f06b5
       "    </tr>\n",
       "  </tbody>\n",
       "</table>\n",
       "</div>"
      ],
      "text/plain": [
<<<<<<< HEAD
       "   ------Username------  e5uz9c6  1536779653.0   26  bodybuilding\n",
       "0             Condishun  e5v0nbi           NaN  NaN           NaN\n",
       "1                 sre01  e5vvpmv  1.536809e+09  2.0  bodybuilding\n",
       "2                 sre01  e5vvpmv  1.536809e+09  2.0  bodybuilding\n",
       "3  ------Username------  e5f3uaj           NaN  NaN           NaN\n",
       "4       MapleBrewmaster  e5ix9bb  1.536277e+09  1.0  bodybuilding"
      ]
     },
     "execution_count": 3,
=======
       "                                       count      mean       std       min  \\\n",
       "More than 1 unique users in chain   423680.0  0.863450  0.202106  0.016173   \n",
       "More than 2 unique users in chain   202730.0  0.828392  0.201955  0.016173   \n",
       "More than 3 unique users in chain   116788.0  0.810440  0.196655  0.016173   \n",
       "More than 4 unique users in chain    76082.0  0.799829  0.190558  0.016173   \n",
       "More than 5 unique users in chain    54092.0  0.792461  0.185693  0.016173   \n",
       "More than 6 unique users in chain    40587.0  0.787582  0.181009  0.073684   \n",
       "More than 7 unique users in chain    31938.0  0.784376  0.176319  0.085366   \n",
       "More than 8 unique users in chain    25804.0  0.781291  0.172523  0.085366   \n",
       "More than 9 unique users in chain    21388.0  0.778585  0.169781  0.085366   \n",
       "More than 10 unique users in chain   18077.0  0.776888  0.166369  0.085366   \n",
       "\n",
       "                                         25%       50%       75%  max  \n",
       "More than 1 unique users in chain   0.722222  1.000000  1.000000  1.0  \n",
       "More than 2 unique users in chain   0.714286  0.888889  1.000000  1.0  \n",
       "More than 3 unique users in chain   0.666667  0.833333  1.000000  1.0  \n",
       "More than 4 unique users in chain   0.666667  0.833333  1.000000  1.0  \n",
       "More than 5 unique users in chain   0.666667  0.833333  1.000000  1.0  \n",
       "More than 6 unique users in chain   0.666667  0.818182  0.923077  1.0  \n",
       "More than 7 unique users in chain   0.666667  0.812500  0.916667  1.0  \n",
       "More than 8 unique users in chain   0.666667  0.812500  0.916667  1.0  \n",
       "More than 9 unique users in chain   0.666667  0.800000  0.916667  1.0  \n",
       "More than 10 unique users in chain  0.674419  0.800000  0.916667  1.0  "
      ]
     },
     "execution_count": 30,
>>>>>>> 6bb06cca3ad9a0af0ec3dff300d53a4daf3f06b5
     "metadata": {},
     "output_type": "execute_result"
    }
   ],
   "source": [
<<<<<<< HEAD
    "users_reddits = users_cmts.merge(cmts.rename({'e5v0nbi':'e5uz9c6'}, axis=1), on='e5uz9c6', how='left')\n",
    "users_reddits.head()"
=======
    "user_chain_ratio_df = pd.DataFrame(columns=['count', 'mean', 'std', 'min', '25%', '50%', '75%', 'max'])\n",
    "user_chain_ratio_df_index = []\n",
    "for i in range(1, 11):\n",
    "    non_singleton_idx = users_in_chain > i\n",
    "    users_per_non_singleton_chain_ratio = users_in_chain[non_singleton_idx] / chain_lengths[non_singleton_idx]\n",
    "    user_chain_ratio_df = user_chain_ratio_df.append(users_per_non_singleton_chain_ratio.describe().to_frame().T)\n",
    "    user_chain_ratio_df_index.append('More than {} unique users in chain'.format(i))\n",
    "user_chain_ratio_df.index = user_chain_ratio_df_index\n",
    "user_chain_ratio_df"
   ]
  },
  {
   "cell_type": "markdown",
   "metadata": {},
   "source": [
    "This is more indicative of the data we wanted to see. Now, as we move towards larger and larger chains, the average ratio of unique users seems to plataeu at ~0.78."
>>>>>>> 6bb06cca3ad9a0af0ec3dff300d53a4daf3f06b5
   ]
  },
  {
   "cell_type": "code",
<<<<<<< HEAD
   "execution_count": 4,
=======
   "execution_count": 31,
   "metadata": {
    "scrolled": false
   },
   "outputs": [
    {
     "data": {
      "image/png": "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\n",
      "text/plain": [
       "<Figure size 576x576 with 1 Axes>"
      ]
     },
     "metadata": {
      "needs_background": "light"
     },
     "output_type": "display_data"
    }
   ],
   "source": [
    "plt.plot(range(1, 11), user_chain_ratio_df['mean']);"
   ]
  },
  {
   "cell_type": "markdown",
   "metadata": {},
   "source": [
    "### Karma in chains"
   ]
  },
  {
   "cell_type": "markdown",
   "metadata": {},
   "source": [
    "Finally within chains, we will examine 'karma' which essentially measueres how well recieved a comment is. The more negative the value, the more disliked it was and more positive the value, the more liked it was. We want to compute some karma metrics across chains to try and determine naively what kind of chain it may be."
   ]
  },
  {
   "cell_type": "code",
   "execution_count": null,
   "metadata": {},
   "outputs": [],
   "source": [
    "# TODO: Karma EDA"
   ]
  },
  {
   "cell_type": "markdown",
   "metadata": {},
   "source": [
    "## User interactions per Subreddit"
   ]
  },
  {
   "cell_type": "code",
   "execution_count": 7,
   "metadata": {},
   "outputs": [],
   "source": [
    "user_sub_size = user_subreddits.groupby(['user', 'subreddit']).size()"
   ]
  },
  {
   "cell_type": "code",
   "execution_count": 14,
>>>>>>> 6bb06cca3ad9a0af0ec3dff300d53a4daf3f06b5
   "metadata": {},
   "outputs": [
    {
     "data": {
<<<<<<< HEAD
      "image/png": "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",
      "text/plain": [
       "<Figure size 640x480 with 1 Axes>"
      ]
     },
     "metadata": {},
     "output_type": "display_data"
    }
   ],
   "source": [
=======
      "text/html": [
       "<div>\n",
       "<style scoped>\n",
       "    .dataframe tbody tr th:only-of-type {\n",
       "        vertical-align: middle;\n",
       "    }\n",
       "\n",
       "    .dataframe tbody tr th {\n",
       "        vertical-align: top;\n",
       "    }\n",
       "\n",
       "    .dataframe thead th {\n",
       "        text-align: right;\n",
       "    }\n",
       "</style>\n",
       "<table border=\"1\" class=\"dataframe\">\n",
       "  <thead>\n",
       "    <tr style=\"text-align: right;\">\n",
       "      <th></th>\n",
       "      <th>0</th>\n",
       "    </tr>\n",
       "  </thead>\n",
       "  <tbody>\n",
       "    <tr>\n",
       "      <th>count</th>\n",
       "      <td>689830.000000</td>\n",
       "    </tr>\n",
       "    <tr>\n",
       "      <th>mean</th>\n",
       "      <td>3.872759</td>\n",
       "    </tr>\n",
       "    <tr>\n",
       "      <th>std</th>\n",
       "      <td>10.658053</td>\n",
       "    </tr>\n",
       "    <tr>\n",
       "      <th>min</th>\n",
       "      <td>1.000000</td>\n",
       "    </tr>\n",
       "    <tr>\n",
       "      <th>25%</th>\n",
       "      <td>1.000000</td>\n",
       "    </tr>\n",
       "    <tr>\n",
       "      <th>50%</th>\n",
       "      <td>2.000000</td>\n",
       "    </tr>\n",
       "    <tr>\n",
       "      <th>75%</th>\n",
       "      <td>3.000000</td>\n",
       "    </tr>\n",
       "    <tr>\n",
       "      <th>max</th>\n",
       "      <td>2801.000000</td>\n",
       "    </tr>\n",
       "  </tbody>\n",
       "</table>\n",
       "</div>"
      ],
      "text/plain": [
       "                   0\n",
       "count  689830.000000\n",
       "mean        3.872759\n",
       "std        10.658053\n",
       "min         1.000000\n",
       "25%         1.000000\n",
       "50%         2.000000\n",
       "75%         3.000000\n",
       "max      2801.000000"
      ]
     },
     "execution_count": 14,
     "metadata": {},
     "output_type": "execute_result"
    }
   ],
   "source": [
    "user_sub_size.describe().to_frame()"
   ]
  },
  {
   "cell_type": "markdown",
   "metadata": {},
   "source": []
  },
  {
   "cell_type": "code",
   "execution_count": null,
   "metadata": {},
   "outputs": [],
   "source": [
    "cmts = pd.read_csv('../data/out/comments.csv')\n",
    "cmts_cmts = pd.read_csv('../data/out/comments_comments.csv')\n",
    "users = pd.read_csv('../data/out/users.csv')\n",
    "users_cmts = pd.read_csv('../data/out/users_comments.csv')"
   ]
  },
  {
   "cell_type": "code",
   "execution_count": null,
   "metadata": {},
   "outputs": [],
   "source": [
    "users_reddits = users_cmts.merge(cmts.rename({'e5v0nbi':'e5uz9c6'}, axis=1), on='e5uz9c6', how='left')\n",
    "users_reddits.head()"
   ]
  },
  {
   "cell_type": "code",
   "execution_count": null,
   "metadata": {},
   "outputs": [],
   "source": [
    "\n",
>>>>>>> 6bb06cca3ad9a0af0ec3dff300d53a4daf3f06b5
    "df = users_reddits.groupby(by='bodybuilding').nunique().rename({'------Username------':'count'}, axis=1)[['count']].reset_index().rename({'bodybuilding':'subreddit'})\n",
    "top_10_subs = df.sort_values('count', ascending=False).head(10)\n",
    "\n",
    "\n",
    "sns.barplot(data=top_10_subs, x=\"bodybuilding\", y=\"count\")\n",
    "plt.xticks(rotation=80)\n",
    "plt.title('Top 10 Subreddits with Unique Users')\n",
    "plt.xlabel('Subreddits')\n",
    "plt.ylabel('Number of Unique Users')\n",
    "plt.show()"
   ]
  },
  {
   "cell_type": "code",
<<<<<<< HEAD
   "execution_count": 5,
   "metadata": {},
   "outputs": [
    {
     "data": {
      "image/png": "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",
      "text/plain": [
       "<Figure size 640x480 with 1 Axes>"
      ]
     },
     "metadata": {},
     "output_type": "display_data"
    }
   ],
=======
   "execution_count": null,
   "metadata": {},
   "outputs": [],
>>>>>>> 6bb06cca3ad9a0af0ec3dff300d53a4daf3f06b5
   "source": [
    "users_cmt_cnt = users_cmts.groupby('------Username------').nunique().reset_index().rename({'------Username------':'usernames', 'e5uz9c6':'num_cmts'}, axis=1).sort_values('num_cmts', ascending=False)\n",
    "\n",
    "def bin(x):\n",
    "    if x == 1:\n",
    "        return '1 comment'\n",
    "    elif 1 < x < 11:\n",
    "        return '2 - 10 comments'\n",
    "    elif 11 <= x:\n",
    "        return '100+ comments'\n",
    "\n",
    "users_cmt_cnt['range'] = users_cmt_cnt['num_cmts'].apply(bin)\n",
    "simp = users_cmt_cnt['range'].value_counts(normalize=True).to_frame().reset_index()\n",
    "\n",
    "data = simp['range']\n",
    "labels = simp['index']\n",
    "\n",
    "colors = sns.color_palette('pastel')[0:5]\n",
    "\n",
    "plt.pie(data, labels = labels, colors = colors, autopct='%.0f%%')\n",
    "plt.title('Distribution of comments made by Users')\n",
    "plt.show()"
   ]
  },
  {
   "cell_type": "code",
<<<<<<< HEAD
   "execution_count": 2,
=======
   "execution_count": null,
>>>>>>> 6bb06cca3ad9a0af0ec3dff300d53a4daf3f06b5
   "metadata": {},
   "outputs": [],
   "source": [
    "user_cmts = dd.read_csv('../new_data/user_comment.csv', header=None)\n",
    "cmt_cmt = dd.read_csv('../new_data/comment_comment.csv', header=None)\n",
    "sub_cmt = dd.read_csv('../new_data/subreddit_comment.csv', header=None)"
   ]
  },
  {
   "cell_type": "code",
<<<<<<< HEAD
   "execution_count": 4,
=======
   "execution_count": null,
>>>>>>> 6bb06cca3ad9a0af0ec3dff300d53a4daf3f06b5
   "metadata": {},
   "outputs": [],
   "source": [
    "new_columns = ['users', 'cmt_id']\n",
    "user_cmts = user_cmts.rename(columns=dict(zip(user_cmts.columns, new_columns)))\n",
    "\n",
    "new_columns = ['cmt_id', 'cmt_1']\n",
    "cmt_cmt = cmt_cmt.rename(columns=dict(zip(cmt_cmt.columns, new_columns)))\n",
    "\n",
    "new_columns = ['sub', 'cmt_id']\n",
    "sub_cmt = sub_cmt.rename(columns=dict(zip(sub_cmt.columns, new_columns)))"
   ]
  },
  {
   "cell_type": "code",
<<<<<<< HEAD
   "execution_count": 10,
=======
   "execution_count": null,
>>>>>>> 6bb06cca3ad9a0af0ec3dff300d53a4daf3f06b5
   "metadata": {},
   "outputs": [],
   "source": [
    "sub_cmt_cnts = sub_cmt.groupby('sub').cmt_id.count().to_frame().reset_index().compute()\n",
    "sub_cmt_cnts"
   ]
<<<<<<< HEAD
  },
  {
   "cell_type": "code",
   "execution_count": null,
   "metadata": {},
   "outputs": [],
   "source": []
=======
>>>>>>> 6bb06cca3ad9a0af0ec3dff300d53a4daf3f06b5
  }
 ],
 "metadata": {
  "kernelspec": {
   "display_name": "Python 3",
   "language": "python",
   "name": "python3"
  },
  "language_info": {
   "codemirror_mode": {
    "name": "ipython",
    "version": 3
   },
   "file_extension": ".py",
   "mimetype": "text/x-python",
   "name": "python",
   "nbconvert_exporter": "python",
   "pygments_lexer": "ipython3",
<<<<<<< HEAD
   "version": "3.11.1"
  },
  "orig_nbformat": 4,
  "vscode": {
   "interpreter": {
    "hash": "4ab1b9b1b11fea1061bda266273a5edde6a9a2e460b8b89e7e57ab6511a2eaee"
=======
   "version": "3.9.4"
  },
  "vscode": {
   "interpreter": {
    "hash": "3765b5c36215b6942432267d5a9eb97e0199a22c25b16bdeee0eec4357e615e6"
>>>>>>> 6bb06cca3ad9a0af0ec3dff300d53a4daf3f06b5
   }
  }
 },
 "nbformat": 4,
 "nbformat_minor": 2
}
