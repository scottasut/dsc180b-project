{
 "cells": [
  {
   "cell_type": "markdown",
   "metadata": {},
   "source": [
    "# Exploring Reddit Comment Data for User Community Reccomendation"
   ]
  },
  {
   "cell_type": "markdown",
   "metadata": {},
   "source": [
    "## Setup"
   ]
  },
  {
   "cell_type": "code",
   "execution_count": 1,
   "metadata": {},
   "outputs": [],
   "source": [
    "import numpy as np\n",
    "import pandas as pd\n",
    "import matplotlib.pyplot as plt\n",
    "import seaborn as sns\n",
    "from datetime import datetime\n",
    "\n",
    "FIGWIDTH = 8\n",
    "FIGHEIGHT = 8\n",
    "plt.rcParams['figure.figsize'] = [FIGWIDTH, FIGHEIGHT]"
   ]
  },
  {
   "cell_type": "code",
   "execution_count": 2,
   "metadata": {},
   "outputs": [],
   "source": [
    "COMMENTS = '../data/out/comments.csv'\n",
    "COMMENTS_COMMENTS = '../data/out/comments_comments.csv'\n",
    "USERS_COMMENTS = '../data/out/users_comments.csv'\n",
    "\n",
    "comments = {}\n",
    "comments_to_subreddit = {}\n",
    "with open(COMMENTS) as f:\n",
    "    for l in f.readlines():\n",
    "        c, s, t, k = l.split(',')\n",
    "        comments[c] = {\n",
    "            'subreddit': s,\n",
    "            'timestamp': int(t),\n",
    "            'karma': int(k.strip())\n",
    "        }\n",
    "        comments_to_subreddit[c] = s\n",
    "\n",
    "comment_parent_map = {}\n",
    "with open(COMMENTS_COMMENTS) as f:\n",
    "    for l in f.readlines():\n",
    "        p, c = l.split(',')\n",
    "        comment_parent_map[c.strip()] = p\n",
    "\n",
    "comment_user_map = {}\n",
    "user_subreddit_data = []\n",
    "with open(USERS_COMMENTS) as f:\n",
    "    for l in f.readlines():\n",
    "        u, c = l.split(',')\n",
    "        c = c.strip()\n",
    "        comment_user_map[c] = u\n",
    "        user_subreddit_data.append({\n",
    "            'user': u,\n",
    "            'subreddit': comments_to_subreddit[c]\n",
    "        })\n",
    "user_subreddits = pd.DataFrame(user_subreddit_data, columns=['user', 'subreddit'])"
   ]
  },
  {
   "cell_type": "markdown",
   "metadata": {},
   "source": [
    "## Comment Chains\n",
    "\n",
    "Like many other social platforms, Reddit's comment representation is a tree structure where separate replies to a comment are branches. We can think of conversation in one of these trees as a comment chain, that is, a set of comments where each one (apart from the first comment) is a reply to one preceding it. We will investigate the typical size, shape and diversity of users in each of these chains:"
   ]
  },
  {
   "cell_type": "markdown",
   "metadata": {},
   "source": [
    "### Data Structure Setup"
   ]
  },
  {
   "cell_type": "code",
   "execution_count": 3,
   "metadata": {},
   "outputs": [
    {
     "name": "stdout",
     "output_type": "stream",
     "text": [
      "Number of comment chains: 961293\n"
     ]
    }
   ],
   "source": [
    "comment_chains = {}\n",
    "for c in comment_parent_map:\n",
    "    root = c\n",
    "    chain = set()\n",
    "    users = []\n",
    "    while root in comment_parent_map:\n",
    "        chain.add(root)\n",
    "        root = comment_parent_map[root]\n",
    "    if root in comment_chains:\n",
    "        comment_chains[root].update(chain)\n",
    "    else:\n",
    "        comment_chains[root] = chain\n",
    "user_chains = pd.Series([[comment_user_map[c] for c in cset] for cset in comment_chains.values()])\n",
    "print('Number of comment chains: {}'.format(len(comment_chains)))"
   ]
  },
  {
   "cell_type": "markdown",
   "metadata": {},
   "source": [
    "### Comment Chain Lengths"
   ]
  },
  {
   "cell_type": "markdown",
   "metadata": {},
   "source": [
    "So, in total we have 942,558 comment chain in our data. Let's summarize them:"
   ]
  },
  {
   "cell_type": "code",
   "execution_count": 4,
   "metadata": {},
   "outputs": [
    {
     "data": {
      "text/html": [
       "<div>\n",
       "<style scoped>\n",
       "    .dataframe tbody tr th:only-of-type {\n",
       "        vertical-align: middle;\n",
       "    }\n",
       "\n",
       "    .dataframe tbody tr th {\n",
       "        vertical-align: top;\n",
       "    }\n",
       "\n",
       "    .dataframe thead th {\n",
       "        text-align: right;\n",
       "    }\n",
       "</style>\n",
       "<table border=\"1\" class=\"dataframe\">\n",
       "  <thead>\n",
       "    <tr style=\"text-align: right;\">\n",
       "      <th></th>\n",
       "      <th>count</th>\n",
       "      <th>mean</th>\n",
       "      <th>std</th>\n",
       "      <th>min</th>\n",
       "      <th>25%</th>\n",
       "      <th>50%</th>\n",
       "      <th>75%</th>\n",
       "      <th>max</th>\n",
       "    </tr>\n",
       "  </thead>\n",
       "  <tbody>\n",
       "    <tr>\n",
       "      <th>0</th>\n",
       "      <td>961293.0</td>\n",
       "      <td>2.809508</td>\n",
       "      <td>6.092239</td>\n",
       "      <td>1.0</td>\n",
       "      <td>1.0</td>\n",
       "      <td>1.0</td>\n",
       "      <td>3.0</td>\n",
       "      <td>933.0</td>\n",
       "    </tr>\n",
       "  </tbody>\n",
       "</table>\n",
       "</div>"
      ],
      "text/plain": [
       "      count      mean       std  min  25%  50%  75%    max\n",
       "0  961293.0  2.809508  6.092239  1.0  1.0  1.0  3.0  933.0"
      ]
     },
     "execution_count": 4,
     "metadata": {},
     "output_type": "execute_result"
    }
   ],
   "source": [
    "chain_lengths = pd.Series([len(chain) for chain in comment_chains.values()])\n",
    "chain_lengths.describe().to_frame().T"
   ]
  },
  {
   "cell_type": "markdown",
   "metadata": {},
   "source": [
    "The data seems to be very compact around small numbers such as 1 and 2 with large outliers, we will further investigatge the distribution:"
   ]
  },
  {
   "cell_type": "code",
   "execution_count": 5,
   "metadata": {},
   "outputs": [
    {
     "data": {
      "image/png": "[encoded data removed]",
      "text/plain": [
       "<Figure size 576x576 with 1 Axes>"
      ]
     },
     "metadata": {},
     "output_type": "display_data"
    }
   ],
   "source": [
    "def chain_length_binner(x):\n",
    "    if x == 1:\n",
    "        return '1 comment'\n",
    "    elif 1 < x < 10:\n",
    "        return '2 - 10 comments'\n",
    "    return '10+ comments'\n",
    "\n",
    "chain_length_bins = pd.Series([chain_length_binner(cl) for cl in chain_lengths]).value_counts(normalize=True)\n",
    "colors = sns.color_palette('pastel')[0:5]\n",
    "plt.pie(chain_length_bins, labels=chain_length_bins.index, colors = colors, autopct='%.0f%%')\n",
    "# plt.title('Distribution of comments chain lengths')\n",
    "plt.savefig('../visuals/cmt_chain_length_distr.png', bbox_inches = \"tight\")\n",
    "plt.show()"
   ]
  },
  {
   "cell_type": "markdown",
   "metadata": {},
   "source": [
    "From the above chart, we can see that the majority of comments do not actually belong to a comment chain. This means that the comment was posted and no-one replied. These data are likely not very useful in generating meaningful metrics for recommendation based on user comment interactions.\n",
    "\n",
    "However, 45% of the comment data are part of chains with 41% being 'small' chains of only 2 - 10 comments and the other 4% being long chains with over 10 comments. We can examine the distributions of both of these groups:"
   ]
  },
  {
   "cell_type": "code",
   "execution_count": 29,
   "metadata": {},
   "outputs": [
    {
     "data": {
      "image/png": "[encoded data removed]",
      "text/plain": [
       "<Figure size 1152x576 with 2 Axes>"
      ]
     },
     "metadata": {
      "needs_background": "light"
     },
     "output_type": "display_data"
    }
   ],
   "source": [
    "fig, ax = plt.subplots(1, 2)\n",
    "fig.set_figwidth(FIGWIDTH * len(ax))\n",
    "fig.set_figheight(FIGHEIGHT)\n",
    "\n",
    "ax[0].hist([cl for cl in chain_lengths if 1 < cl < 10], bins=range(2, 11));\n",
    "ax[1].hist([np.log(cl) for cl in chain_lengths if cl > 10]);\n",
    "# fig.suptitle('Comment Chain Length Distributions');\n",
    "ax[0].set_title('2-10 Comments');\n",
    "ax[0].set_xlabel('Chain Length');\n",
    "ax[0].set_ylabel('Count');\n",
    "ax[1].set_title('10+ Comments');\n",
    "ax[1].set_xlabel('Chain Length');\n",
    "ax[1].set_ylabel('$\\log$(Count)');\n",
    "plt.savefig('../visuals/cmt_chain_length_distr_clean.png', bbox_inches = \"tight\")"
   ]
  },
  {
   "cell_type": "markdown",
   "metadata": {},
   "source": [
    "As we might expect, we generally have less chains of longer lengths. In short, there are mostly smaller chains in the data but the distribution is heavily right-skewed due to some very long chains."
   ]
  },
  {
   "cell_type": "markdown",
   "metadata": {},
   "source": [
    "### Users in Chains"
   ]
  },
  {
   "cell_type": "markdown",
   "metadata": {},
   "source": [
    "Now we will look at some data such as the number of users in each chain and the number of times users tend to interact in a chain.\n",
    "\n",
    "First, we will focus on the number of unique users per chain:"
   ]
  },
  {
   "cell_type": "code",
   "execution_count": 7,
   "metadata": {},
   "outputs": [
    {
     "data": {
      "text/html": [
       "<div>\n",
       "<style scoped>\n",
       "    .dataframe tbody tr th:only-of-type {\n",
       "        vertical-align: middle;\n",
       "    }\n",
       "\n",
       "    .dataframe tbody tr th {\n",
       "        vertical-align: top;\n",
       "    }\n",
       "\n",
       "    .dataframe thead th {\n",
       "        text-align: right;\n",
       "    }\n",
       "</style>\n",
       "<table border=\"1\" class=\"dataframe\">\n",
       "  <thead>\n",
       "    <tr style=\"text-align: right;\">\n",
       "      <th></th>\n",
       "      <th>count</th>\n",
       "      <th>mean</th>\n",
       "      <th>std</th>\n",
       "      <th>min</th>\n",
       "      <th>25%</th>\n",
       "      <th>50%</th>\n",
       "      <th>75%</th>\n",
       "      <th>max</th>\n",
       "    </tr>\n",
       "  </thead>\n",
       "  <tbody>\n",
       "    <tr>\n",
       "      <th>0</th>\n",
       "      <td>961293.0</td>\n",
       "      <td>2.260751</td>\n",
       "      <td>4.081731</td>\n",
       "      <td>1.0</td>\n",
       "      <td>1.0</td>\n",
       "      <td>1.0</td>\n",
       "      <td>2.0</td>\n",
       "      <td>619.0</td>\n",
       "    </tr>\n",
       "  </tbody>\n",
       "</table>\n",
       "</div>"
      ],
      "text/plain": [
       "      count      mean       std  min  25%  50%  75%    max\n",
       "0  961293.0  2.260751  4.081731  1.0  1.0  1.0  2.0  619.0"
      ]
     },
     "execution_count": 7,
     "metadata": {},
     "output_type": "execute_result"
    }
   ],
   "source": [
    "users_in_chain = pd.Series([len(set(users)) for users in user_chains])\n",
    "users_in_chain.describe().to_frame().T"
   ]
  },
  {
   "cell_type": "code",
   "execution_count": 8,
   "metadata": {},
   "outputs": [
    {
     "data": {
      "image/png": "[encoded data removed]",
      "text/plain": [
       "<Figure size 576x576 with 1 Axes>"
      ]
     },
     "metadata": {},
     "output_type": "display_data"
    }
   ],
   "source": [
    "def unique_users_binner(x):\n",
    "    if x < 5:\n",
    "        return '{} User(s)'.format(x)\n",
    "    return '5+ users'\n",
    "\n",
    "unique_users_bins = pd.Series([unique_users_binner(u) for u in users_in_chain]).value_counts(normalize=True)\n",
    "colors = sns.color_palette('pastel')[0:5]\n",
    "plt.pie(unique_users_bins, labels=unique_users_bins.index, colors = colors, autopct='%.0f%%')\n",
    "# plt.title('Distribution of Unique Users in Chains')\n",
    "plt.savefig('../visuals/distr_users_chains.png', bbox_inches = \"tight\")\n",
    "plt.show()"
   ]
  },
  {
   "cell_type": "markdown",
   "metadata": {},
   "source": [
    "Next, we look at the ratio between the number of unique users in a chain and the total number of comments in that chain. This tells us how unique the set of users particpating in a chain is. Smaller ratios means there is less diversity."
   ]
  },
  {
   "cell_type": "code",
   "execution_count": 9,
   "metadata": {},
   "outputs": [
    {
     "data": {
      "text/html": [
       "<div>\n",
       "<style scoped>\n",
       "    .dataframe tbody tr th:only-of-type {\n",
       "        vertical-align: middle;\n",
       "    }\n",
       "\n",
       "    .dataframe tbody tr th {\n",
       "        vertical-align: top;\n",
       "    }\n",
       "\n",
       "    .dataframe thead th {\n",
       "        text-align: right;\n",
       "    }\n",
       "</style>\n",
       "<table border=\"1\" class=\"dataframe\">\n",
       "  <thead>\n",
       "    <tr style=\"text-align: right;\">\n",
       "      <th></th>\n",
       "      <th>count</th>\n",
       "      <th>mean</th>\n",
       "      <th>std</th>\n",
       "      <th>min</th>\n",
       "      <th>25%</th>\n",
       "      <th>50%</th>\n",
       "      <th>75%</th>\n",
       "      <th>max</th>\n",
       "    </tr>\n",
       "  </thead>\n",
       "  <tbody>\n",
       "    <tr>\n",
       "      <th>0</th>\n",
       "      <td>961293.0</td>\n",
       "      <td>0.937237</td>\n",
       "      <td>0.153587</td>\n",
       "      <td>0.016129</td>\n",
       "      <td>1.0</td>\n",
       "      <td>1.0</td>\n",
       "      <td>1.0</td>\n",
       "      <td>1.0</td>\n",
       "    </tr>\n",
       "  </tbody>\n",
       "</table>\n",
       "</div>"
      ],
      "text/plain": [
       "      count      mean       std       min  25%  50%  75%  max\n",
       "0  961293.0  0.937237  0.153587  0.016129  1.0  1.0  1.0  1.0"
      ]
     },
     "execution_count": 9,
     "metadata": {},
     "output_type": "execute_result"
    }
   ],
   "source": [
    "users_per_chain_ratio = users_in_chain / chain_lengths\n",
    "users_per_chain_ratio.describe().to_frame().T"
   ]
  },
  {
   "attachments": {},
   "cell_type": "markdown",
   "metadata": {},
   "source": [
    "We can see that the chains are generally quite diverse as, on average, the number of unique users is very close to the total number of comments. However, because we are including chains of length one which the ration is guarenteed to be 1.0 for, this value is quite skewed. We remove those and try again:"
   ]
  },
  {
   "cell_type": "code",
   "execution_count": 10,
   "metadata": {},
   "outputs": [
    {
     "data": {
      "text/html": [
       "<div>\n",
       "<style scoped>\n",
       "    .dataframe tbody tr th:only-of-type {\n",
       "        vertical-align: middle;\n",
       "    }\n",
       "\n",
       "    .dataframe tbody tr th {\n",
       "        vertical-align: top;\n",
       "    }\n",
       "\n",
       "    .dataframe thead th {\n",
       "        text-align: right;\n",
       "    }\n",
       "</style>\n",
       "<table border=\"1\" class=\"dataframe\">\n",
       "  <thead>\n",
       "    <tr style=\"text-align: right;\">\n",
       "      <th></th>\n",
       "      <th>count</th>\n",
       "      <th>mean</th>\n",
       "      <th>std</th>\n",
       "      <th>min</th>\n",
       "      <th>25%</th>\n",
       "      <th>50%</th>\n",
       "      <th>75%</th>\n",
       "      <th>max</th>\n",
       "    </tr>\n",
       "  </thead>\n",
       "  <tbody>\n",
       "    <tr>\n",
       "      <th>More than 1 unique users in chain</th>\n",
       "      <td>428186.0</td>\n",
       "      <td>0.863724</td>\n",
       "      <td>0.202046</td>\n",
       "      <td>0.016129</td>\n",
       "      <td>0.727273</td>\n",
       "      <td>1.000000</td>\n",
       "      <td>1.000000</td>\n",
       "      <td>1.0</td>\n",
       "    </tr>\n",
       "    <tr>\n",
       "      <th>More than 2 unique users in chain</th>\n",
       "      <td>203798.0</td>\n",
       "      <td>0.828508</td>\n",
       "      <td>0.201938</td>\n",
       "      <td>0.016129</td>\n",
       "      <td>0.714286</td>\n",
       "      <td>0.888889</td>\n",
       "      <td>1.000000</td>\n",
       "      <td>1.0</td>\n",
       "    </tr>\n",
       "    <tr>\n",
       "      <th>More than 3 unique users in chain</th>\n",
       "      <td>117313.0</td>\n",
       "      <td>0.810526</td>\n",
       "      <td>0.196666</td>\n",
       "      <td>0.016129</td>\n",
       "      <td>0.666667</td>\n",
       "      <td>0.833333</td>\n",
       "      <td>1.000000</td>\n",
       "      <td>1.0</td>\n",
       "    </tr>\n",
       "    <tr>\n",
       "      <th>More than 4 unique users in chain</th>\n",
       "      <td>76377.0</td>\n",
       "      <td>0.799899</td>\n",
       "      <td>0.190595</td>\n",
       "      <td>0.016129</td>\n",
       "      <td>0.666667</td>\n",
       "      <td>0.833333</td>\n",
       "      <td>1.000000</td>\n",
       "      <td>1.0</td>\n",
       "    </tr>\n",
       "    <tr>\n",
       "      <th>More than 5 unique users in chain</th>\n",
       "      <td>54273.0</td>\n",
       "      <td>0.792572</td>\n",
       "      <td>0.185698</td>\n",
       "      <td>0.016129</td>\n",
       "      <td>0.666667</td>\n",
       "      <td>0.833333</td>\n",
       "      <td>1.000000</td>\n",
       "      <td>1.0</td>\n",
       "    </tr>\n",
       "    <tr>\n",
       "      <th>More than 6 unique users in chain</th>\n",
       "      <td>40719.0</td>\n",
       "      <td>0.787656</td>\n",
       "      <td>0.181037</td>\n",
       "      <td>0.073684</td>\n",
       "      <td>0.666667</td>\n",
       "      <td>0.818182</td>\n",
       "      <td>0.923077</td>\n",
       "      <td>1.0</td>\n",
       "    </tr>\n",
       "    <tr>\n",
       "      <th>More than 7 unique users in chain</th>\n",
       "      <td>32033.0</td>\n",
       "      <td>0.784463</td>\n",
       "      <td>0.176394</td>\n",
       "      <td>0.085366</td>\n",
       "      <td>0.666667</td>\n",
       "      <td>0.812500</td>\n",
       "      <td>0.916667</td>\n",
       "      <td>1.0</td>\n",
       "    </tr>\n",
       "    <tr>\n",
       "      <th>More than 8 unique users in chain</th>\n",
       "      <td>25871.0</td>\n",
       "      <td>0.781434</td>\n",
       "      <td>0.172553</td>\n",
       "      <td>0.085366</td>\n",
       "      <td>0.666667</td>\n",
       "      <td>0.812500</td>\n",
       "      <td>0.916667</td>\n",
       "      <td>1.0</td>\n",
       "    </tr>\n",
       "    <tr>\n",
       "      <th>More than 9 unique users in chain</th>\n",
       "      <td>21444.0</td>\n",
       "      <td>0.778778</td>\n",
       "      <td>0.169791</td>\n",
       "      <td>0.085366</td>\n",
       "      <td>0.666667</td>\n",
       "      <td>0.800000</td>\n",
       "      <td>0.916667</td>\n",
       "      <td>1.0</td>\n",
       "    </tr>\n",
       "    <tr>\n",
       "      <th>More than 10 unique users in chain</th>\n",
       "      <td>18123.0</td>\n",
       "      <td>0.777116</td>\n",
       "      <td>0.166389</td>\n",
       "      <td>0.085366</td>\n",
       "      <td>0.675000</td>\n",
       "      <td>0.800000</td>\n",
       "      <td>0.916667</td>\n",
       "      <td>1.0</td>\n",
       "    </tr>\n",
       "  </tbody>\n",
       "</table>\n",
       "</div>"
      ],
      "text/plain": [
       "                                       count      mean       std       min  \\\n",
       "More than 1 unique users in chain   428186.0  0.863724  0.202046  0.016129   \n",
       "More than 2 unique users in chain   203798.0  0.828508  0.201938  0.016129   \n",
       "More than 3 unique users in chain   117313.0  0.810526  0.196666  0.016129   \n",
       "More than 4 unique users in chain    76377.0  0.799899  0.190595  0.016129   \n",
       "More than 5 unique users in chain    54273.0  0.792572  0.185698  0.016129   \n",
       "More than 6 unique users in chain    40719.0  0.787656  0.181037  0.073684   \n",
       "More than 7 unique users in chain    32033.0  0.784463  0.176394  0.085366   \n",
       "More than 8 unique users in chain    25871.0  0.781434  0.172553  0.085366   \n",
       "More than 9 unique users in chain    21444.0  0.778778  0.169791  0.085366   \n",
       "More than 10 unique users in chain   18123.0  0.777116  0.166389  0.085366   \n",
       "\n",
       "                                         25%       50%       75%  max  \n",
       "More than 1 unique users in chain   0.727273  1.000000  1.000000  1.0  \n",
       "More than 2 unique users in chain   0.714286  0.888889  1.000000  1.0  \n",
       "More than 3 unique users in chain   0.666667  0.833333  1.000000  1.0  \n",
       "More than 4 unique users in chain   0.666667  0.833333  1.000000  1.0  \n",
       "More than 5 unique users in chain   0.666667  0.833333  1.000000  1.0  \n",
       "More than 6 unique users in chain   0.666667  0.818182  0.923077  1.0  \n",
       "More than 7 unique users in chain   0.666667  0.812500  0.916667  1.0  \n",
       "More than 8 unique users in chain   0.666667  0.812500  0.916667  1.0  \n",
       "More than 9 unique users in chain   0.666667  0.800000  0.916667  1.0  \n",
       "More than 10 unique users in chain  0.675000  0.800000  0.916667  1.0  "
      ]
     },
     "execution_count": 10,
     "metadata": {},
     "output_type": "execute_result"
    }
   ],
   "source": [
    "user_chain_ratio_df = pd.DataFrame(columns=['count', 'mean', 'std', 'min', '25%', '50%', '75%', 'max'])\n",
    "user_chain_ratio_df_index = []\n",
    "for i in range(1, 11):\n",
    "    non_singleton_idx = users_in_chain > i\n",
    "    users_per_non_singleton_chain_ratio = users_in_chain[non_singleton_idx] / chain_lengths[non_singleton_idx]\n",
    "    user_chain_ratio_df = user_chain_ratio_df.append(users_per_non_singleton_chain_ratio.describe().to_frame().T)\n",
    "    user_chain_ratio_df_index.append('More than {} unique users in chain'.format(i))\n",
    "user_chain_ratio_df.index = user_chain_ratio_df_index\n",
    "user_chain_ratio_df.to_csv('../visuals/user_chain_ratio.csv')\n",
    "user_chain_ratio_df"
   ]
  },
  {
   "cell_type": "markdown",
   "metadata": {},
   "source": [
    "This is more indicative of the data we wanted to see. Now, as we move towards larger and larger chains, the average ratio of unique users seems to plataeu at ~0.78."
   ]
  },
  {
   "cell_type": "code",
   "execution_count": 11,
   "metadata": {
    "scrolled": false
   },
   "outputs": [
    {
     "data": {
      "image/png": "[encoded data removed]",
      "text/plain": [
       "<Figure size 576x576 with 1 Axes>"
      ]
     },
     "metadata": {
      "needs_background": "light"
     },
     "output_type": "display_data"
    }
   ],
   "source": [
    "plt.plot(range(1, 11), user_chain_ratio_df['mean']);\n",
    "plt.savefig('../visuals/avg_unique_users_chain.png', bbox_inches = \"tight\")"
   ]
  },
  {
   "cell_type": "markdown",
   "metadata": {},
   "source": [
    "### Karma in chains"
   ]
  },
  {
   "attachments": {},
   "cell_type": "markdown",
   "metadata": {},
   "source": [
    "Finally within chains, we will examine 'karma' which essentially measures how well recieved a comment is. The more negative the value, the more disliked it was and more positive the value, the more liked it was. We want to compute some karma metrics across chains to try and determine naively what kind of chain it may be."
   ]
  },
  {
   "cell_type": "code",
   "execution_count": 12,
   "metadata": {},
   "outputs": [],
   "source": [
    "# TODO: Karma EDA"
   ]
  },
  {
   "cell_type": "markdown",
   "metadata": {},
   "source": [
    "## User interactions per Subreddit"
   ]
  },
  {
   "attachments": {},
   "cell_type": "markdown",
   "metadata": {},
   "source": [
    "Now we look into user interactions by subreddits. First, let us look at some statistics about users in subreddits:"
   ]
  },
  {
   "cell_type": "code",
   "execution_count": 13,
   "metadata": {},
   "outputs": [],
   "source": [
    "user_sub_size = user_subreddits.groupby(['user', 'subreddit']).size()"
   ]
  },
  {
   "cell_type": "code",
   "execution_count": 14,
   "metadata": {},
   "outputs": [
    {
     "data": {
      "text/html": [
       "<div>\n",
       "<style scoped>\n",
       "    .dataframe tbody tr th:only-of-type {\n",
       "        vertical-align: middle;\n",
       "    }\n",
       "\n",
       "    .dataframe tbody tr th {\n",
       "        vertical-align: top;\n",
       "    }\n",
       "\n",
       "    .dataframe thead th {\n",
       "        text-align: right;\n",
       "    }\n",
       "</style>\n",
       "<table border=\"1\" class=\"dataframe\">\n",
       "  <thead>\n",
       "    <tr style=\"text-align: right;\">\n",
       "      <th></th>\n",
       "      <th>0</th>\n",
       "    </tr>\n",
       "  </thead>\n",
       "  <tbody>\n",
       "    <tr>\n",
       "      <th>count</th>\n",
       "      <td>1.139074e+06</td>\n",
       "    </tr>\n",
       "    <tr>\n",
       "      <th>mean</th>\n",
       "      <td>4.127405e+00</td>\n",
       "    </tr>\n",
       "    <tr>\n",
       "      <th>std</th>\n",
       "      <td>1.380067e+01</td>\n",
       "    </tr>\n",
       "    <tr>\n",
       "      <th>min</th>\n",
       "      <td>1.000000e+00</td>\n",
       "    </tr>\n",
       "    <tr>\n",
       "      <th>25%</th>\n",
       "      <td>1.000000e+00</td>\n",
       "    </tr>\n",
       "    <tr>\n",
       "      <th>50%</th>\n",
       "      <td>2.000000e+00</td>\n",
       "    </tr>\n",
       "    <tr>\n",
       "      <th>75%</th>\n",
       "      <td>3.000000e+00</td>\n",
       "    </tr>\n",
       "    <tr>\n",
       "      <th>max</th>\n",
       "      <td>6.085000e+03</td>\n",
       "    </tr>\n",
       "  </tbody>\n",
       "</table>\n",
       "</div>"
      ],
      "text/plain": [
       "                  0\n",
       "count  1.139074e+06\n",
       "mean   4.127405e+00\n",
       "std    1.380067e+01\n",
       "min    1.000000e+00\n",
       "25%    1.000000e+00\n",
       "50%    2.000000e+00\n",
       "75%    3.000000e+00\n",
       "max    6.085000e+03"
      ]
     },
     "execution_count": 14,
     "metadata": {},
     "output_type": "execute_result"
    }
   ],
   "source": [
    "user_sub_size.describe().to_frame()"
   ]
  },
  {
   "cell_type": "code",
   "execution_count": 15,
   "metadata": {},
   "outputs": [],
   "source": [
    "cmts = pd.read_csv('../data/out/comments.csv')\n",
    "cmts_cmts = pd.read_csv('../data/out/comments_comments.csv')\n",
    "users = pd.read_csv('../data/out/users.csv')\n",
    "users_cmts = pd.read_csv('../data/out/users_comments.csv')"
   ]
  },
  {
   "cell_type": "code",
   "execution_count": 16,
   "metadata": {},
   "outputs": [
    {
     "data": {
      "text/html": [
       "<div>\n",
       "<style scoped>\n",
       "    .dataframe tbody tr th:only-of-type {\n",
       "        vertical-align: middle;\n",
       "    }\n",
       "\n",
       "    .dataframe tbody tr th {\n",
       "        vertical-align: top;\n",
       "    }\n",
       "\n",
       "    .dataframe thead th {\n",
       "        text-align: right;\n",
       "    }\n",
       "</style>\n",
       "<table border=\"1\" class=\"dataframe\">\n",
       "  <thead>\n",
       "    <tr style=\"text-align: right;\">\n",
       "      <th></th>\n",
       "      <th>_silentheartsong</th>\n",
       "      <th>c17frnf</th>\n",
       "      <th>Music</th>\n",
       "      <th>1291161600</th>\n",
       "      <th>-5</th>\n",
       "    </tr>\n",
       "  </thead>\n",
       "  <tbody>\n",
       "    <tr>\n",
       "      <th>0</th>\n",
       "      <td>product19</td>\n",
       "      <td>c17frng</td>\n",
       "      <td>IAmA</td>\n",
       "      <td>1291161601</td>\n",
       "      <td>8</td>\n",
       "    </tr>\n",
       "    <tr>\n",
       "      <th>1</th>\n",
       "      <td>RegularFreddieWilson</td>\n",
       "      <td>c17frnh</td>\n",
       "      <td>pics</td>\n",
       "      <td>1291161601</td>\n",
       "      <td>7</td>\n",
       "    </tr>\n",
       "    <tr>\n",
       "      <th>2</th>\n",
       "      <td>superdarkness</td>\n",
       "      <td>c17frnk</td>\n",
       "      <td>funny</td>\n",
       "      <td>1291161605</td>\n",
       "      <td>2</td>\n",
       "    </tr>\n",
       "    <tr>\n",
       "      <th>3</th>\n",
       "      <td>dockmarlin</td>\n",
       "      <td>c17frnl</td>\n",
       "      <td>cats</td>\n",
       "      <td>1291161606</td>\n",
       "      <td>1</td>\n",
       "    </tr>\n",
       "    <tr>\n",
       "      <th>4</th>\n",
       "      <td>snotrokit</td>\n",
       "      <td>c17frnm</td>\n",
       "      <td>pics</td>\n",
       "      <td>1291161606</td>\n",
       "      <td>19</td>\n",
       "    </tr>\n",
       "  </tbody>\n",
       "</table>\n",
       "</div>"
      ],
      "text/plain": [
       "       _silentheartsong  c17frnf  Music  1291161600  -5\n",
       "0             product19  c17frng   IAmA  1291161601   8\n",
       "1  RegularFreddieWilson  c17frnh   pics  1291161601   7\n",
       "2         superdarkness  c17frnk  funny  1291161605   2\n",
       "3            dockmarlin  c17frnl   cats  1291161606   1\n",
       "4             snotrokit  c17frnm   pics  1291161606  19"
      ]
     },
     "execution_count": 16,
     "metadata": {},
     "output_type": "execute_result"
    }
   ],
   "source": [
    "\n",
    "users_reddits = users_cmts.merge(cmts.rename({'c17frng':'c17frnf'}, axis=1), on='c17frnf', how='left')\n",
    "users_reddits.head()"
   ]
  },
  {
   "attachments": {},
   "cell_type": "markdown",
   "metadata": {},
   "source": [
    "Here, we find the subreddits with the most unique users:"
   ]
  },
  {
   "cell_type": "code",
   "execution_count": 17,
   "metadata": {},
   "outputs": [
    {
     "data": {
      "image/png": "[encoded data removed]",
      "text/plain": [
       "<Figure size 576x576 with 1 Axes>"
      ]
     },
     "metadata": {
      "needs_background": "light"
     },
     "output_type": "display_data"
    }
   ],
   "source": [
    "\n",
    "df = users_reddits.groupby(by='Music').nunique().rename({'_silentheartsong':'count'}, axis=1)[['count']].reset_index().rename({'Music':'subreddit'})\n",
    "top_10_subs = df.sort_values('count', ascending=False).head(10)\n",
    "\n",
    "\n",
    "sns.barplot(data=top_10_subs, x=\"Music\", y=\"count\")\n",
    "plt.xticks(rotation=80)\n",
    "# plt.title('Top 10 Subreddits with Unique Users')\n",
    "plt.xlabel('Subreddits')\n",
    "plt.ylabel('Number of Unique Users')\n",
    "plt.savefig('../visuals/subreddit_unique_users.png', bbox_inches = \"tight\")\n",
    "plt.show()"
   ]
  },
  {
   "attachments": {},
   "cell_type": "markdown",
   "metadata": {},
   "source": [
    "We can see that the most popular subreddit by far is 'AskReddit', followed by subreddits like 'pics', 'reddit.com', and 'funny'. This seems to make sense, as more users would be subscribed to broader subreddits and those related to Reddit itself. \n",
    "\n",
    "Next, we look into the distribution of the number of comments made by users:"
   ]
  },
  {
   "cell_type": "code",
   "execution_count": 18,
   "metadata": {},
   "outputs": [
    {
     "data": {
      "image/png": "[encoded data removed]",
      "text/plain": [
       "<Figure size 576x576 with 1 Axes>"
      ]
     },
     "metadata": {},
     "output_type": "display_data"
    }
   ],
   "source": [
    "users_cmt_cnt = users_cmts.groupby('_silentheartsong').nunique().reset_index().rename({'_silentheartsong':'usernames', 'c17frnf':'num_cmts'}, axis=1).sort_values('num_cmts', ascending=False)\n",
    "\n",
    "def bin(x):\n",
    "    if x == 1:\n",
    "        return '1 comment'\n",
    "    elif 1 < x < 11:\n",
    "        return '2 - 10 comments'\n",
    "    elif 11 <= x:\n",
    "        return '10+ comments'\n",
    "\n",
    "users_cmt_cnt['range'] = users_cmt_cnt['num_cmts'].apply(bin)\n",
    "simp = users_cmt_cnt['range'].value_counts(normalize=True).to_frame().reset_index()\n",
    "\n",
    "data = simp['range']\n",
    "labels = simp['index']\n",
    "\n",
    "colors = sns.color_palette('pastel')[0:5]\n",
    "\n",
    "plt.pie(data, labels = labels, colors = colors, autopct='%.0f%%')\n",
    "plt.savefig('../visuals/distr_num_comments.png', bbox_inches = \"tight\")\n",
    "plt.show()"
   ]
  },
  {
   "attachments": {},
   "cell_type": "markdown",
   "metadata": {},
   "source": [
    "What we see is that a bit over a quarter of users have made only 1 comment, 41% of users have made between 2 and 10 comments, and 31% of people have made more than 10 comments."
   ]
  },
  {
   "attachments": {},
   "cell_type": "markdown",
   "metadata": {},
   "source": [
    "## Karma"
   ]
  },
  {
   "attachments": {},
   "cell_type": "markdown",
   "metadata": {},
   "source": [
    "Earlier we looked into Karma in comment chains. As we have defined, 'karma' essentially measures how well recieved a comment is. The more negative the value, the more disliked it was and more positive the value, the more liked it was. Now, we aim to look a bit more deeply into karma across various metrics."
   ]
  },
  {
   "cell_type": "code",
   "execution_count": 19,
   "metadata": {},
   "outputs": [],
   "source": [
    "comments = pd.read_csv('../data/out/comments.csv', header = None)\n",
    "users_comments = pd.read_csv('../data/out/users_comments.csv', header = None)\n",
    "comments.columns = ['cid','subreddit', 'created_utc', 'karma']\n",
    "users_comments.columns = ['author', 'cid']\n",
    "# join comments and users_comments tables\n",
    "cuc = pd.merge(comments, users_comments, on='cid')"
   ]
  },
  {
   "attachments": {},
   "cell_type": "markdown",
   "metadata": {},
   "source": [
    "### Distribution of Karma by Author/User"
   ]
  },
  {
   "attachments": {},
   "cell_type": "markdown",
   "metadata": {},
   "source": [
    "As mentioned above, karma is calculated per comment. A user's total karma is then the sum of the karma of all of their individual comments and posts. First, we look to see the distribution of karma by user."
   ]
  },
  {
   "cell_type": "code",
   "execution_count": 20,
   "metadata": {},
   "outputs": [
    {
     "data": {
      "text/html": [
       "<div>\n",
       "<style scoped>\n",
       "    .dataframe tbody tr th:only-of-type {\n",
       "        vertical-align: middle;\n",
       "    }\n",
       "\n",
       "    .dataframe tbody tr th {\n",
       "        vertical-align: top;\n",
       "    }\n",
       "\n",
       "    .dataframe thead th {\n",
       "        text-align: right;\n",
       "    }\n",
       "</style>\n",
       "<table border=\"1\" class=\"dataframe\">\n",
       "  <thead>\n",
       "    <tr style=\"text-align: right;\">\n",
       "      <th></th>\n",
       "      <th>author</th>\n",
       "      <th>karma</th>\n",
       "    </tr>\n",
       "  </thead>\n",
       "  <tbody>\n",
       "    <tr>\n",
       "      <th>24069</th>\n",
       "      <td>FastOCR18</td>\n",
       "      <td>-3187</td>\n",
       "    </tr>\n",
       "    <tr>\n",
       "      <th>133478</th>\n",
       "      <td>ginmhilleadh</td>\n",
       "      <td>-2713</td>\n",
       "    </tr>\n",
       "    <tr>\n",
       "      <th>172651</th>\n",
       "      <td>mikepunk</td>\n",
       "      <td>-1369</td>\n",
       "    </tr>\n",
       "    <tr>\n",
       "      <th>64772</th>\n",
       "      <td>SlowOCR_13</td>\n",
       "      <td>-980</td>\n",
       "    </tr>\n",
       "    <tr>\n",
       "      <th>159561</th>\n",
       "      <td>krakow057</td>\n",
       "      <td>-827</td>\n",
       "    </tr>\n",
       "    <tr>\n",
       "      <th>...</th>\n",
       "      <td>...</td>\n",
       "      <td>...</td>\n",
       "    </tr>\n",
       "    <tr>\n",
       "      <th>86469</th>\n",
       "      <td>ani625</td>\n",
       "      <td>16368</td>\n",
       "    </tr>\n",
       "    <tr>\n",
       "      <th>133025</th>\n",
       "      <td>ggggbabybabybaby</td>\n",
       "      <td>18172</td>\n",
       "    </tr>\n",
       "    <tr>\n",
       "      <th>55898</th>\n",
       "      <td>ProbablyHittingOnYou</td>\n",
       "      <td>18444</td>\n",
       "    </tr>\n",
       "    <tr>\n",
       "      <th>86101</th>\n",
       "      <td>andrewsmith1986</td>\n",
       "      <td>29956</td>\n",
       "    </tr>\n",
       "    <tr>\n",
       "      <th>67934</th>\n",
       "      <td>Sure_Ill_Draw_That</td>\n",
       "      <td>65288</td>\n",
       "    </tr>\n",
       "  </tbody>\n",
       "</table>\n",
       "<p>243809 rows × 2 columns</p>\n",
       "</div>"
      ],
      "text/plain": [
       "                      author  karma\n",
       "24069              FastOCR18  -3187\n",
       "133478          ginmhilleadh  -2713\n",
       "172651              mikepunk  -1369\n",
       "64772             SlowOCR_13   -980\n",
       "159561             krakow057   -827\n",
       "...                      ...    ...\n",
       "86469                 ani625  16368\n",
       "133025      ggggbabybabybaby  18172\n",
       "55898   ProbablyHittingOnYou  18444\n",
       "86101        andrewsmith1986  29956\n",
       "67934     Sure_Ill_Draw_That  65288\n",
       "\n",
       "[243809 rows x 2 columns]"
      ]
     },
     "execution_count": 20,
     "metadata": {},
     "output_type": "execute_result"
    }
   ],
   "source": [
    "karma_by_author = pd.DataFrame(cuc.groupby('author')['karma'].sum()).reset_index()\n",
    "karma_by_author = karma_by_author.sort_values('karma')\n",
    "karma_by_author"
   ]
  },
  {
   "attachments": {},
   "cell_type": "markdown",
   "metadata": {},
   "source": [
    "From what we see here, users have karma values ranging between -3187 (lots of this users comments are poorly received) and 65,288 (this comments posts are generally very well received)."
   ]
  },
  {
   "cell_type": "code",
   "execution_count": 21,
   "metadata": {},
   "outputs": [
    {
     "data": {
      "image/png": "[encoded data removed]",
      "text/plain": [
       "<Figure size 576x576 with 1 Axes>"
      ]
     },
     "metadata": {
      "needs_background": "light"
     },
     "output_type": "display_data"
    }
   ],
   "source": [
    "def bin(x):\n",
    "    if x < -10:\n",
    "        return '< -10'\n",
    "    elif -10 <= x < 0:\n",
    "        return 'between -10 and 0'\n",
    "    elif 0 <= x <= 1:\n",
    "        return 'between 0 and 1'\n",
    "    elif 1 < x <= 10:\n",
    "        return 'between 1 and 10'\n",
    "    elif 10 < x <= 100:\n",
    "        return 'between 10 and 100'\n",
    "    else:\n",
    "        return '> 100'\n",
    "\n",
    "karma_by_author['bin'] = karma_by_author['karma'].apply(bin)\n",
    "karma_by_author['bin'] = pd.Categorical(karma_by_author['bin'],\n",
    "                                        ['< -10', 'between -10 and 0',\n",
    "                                         'between 0 and 1', 'between 1 and 10',\n",
    "                                         'between 10 and 100', '> 100'])\n",
    "\n",
    "bins = karma_by_author.groupby('bin')['karma'].count()\n",
    "\n",
    "bins.plot(kind = 'bar', xlabel = 'karma', ylabel = 'count of unique users')\n",
    "plt.savefig('../visuals/distr_karma_user.png', bbox_inches = \"tight\")"
   ]
  },
  {
   "attachments": {},
   "cell_type": "markdown",
   "metadata": {},
   "source": [
    "What we see from this is that many users have between 1 and 100 karma, while very few users have negative karma at all."
   ]
  },
  {
   "attachments": {},
   "cell_type": "markdown",
   "metadata": {},
   "source": [
    "### Average Karma for a Comment by Subreddit"
   ]
  },
  {
   "attachments": {},
   "cell_type": "markdown",
   "metadata": {},
   "source": [
    "Next, we will look at the average karma for comments by users. This will help us see how much karma on average a comment will get by user."
   ]
  },
  {
   "cell_type": "code",
   "execution_count": 22,
   "metadata": {},
   "outputs": [
    {
     "data": {
      "text/html": [
       "<div>\n",
       "<style scoped>\n",
       "    .dataframe tbody tr th:only-of-type {\n",
       "        vertical-align: middle;\n",
       "    }\n",
       "\n",
       "    .dataframe tbody tr th {\n",
       "        vertical-align: top;\n",
       "    }\n",
       "\n",
       "    .dataframe thead th {\n",
       "        text-align: right;\n",
       "    }\n",
       "</style>\n",
       "<table border=\"1\" class=\"dataframe\">\n",
       "  <thead>\n",
       "    <tr style=\"text-align: right;\">\n",
       "      <th></th>\n",
       "      <th>author</th>\n",
       "      <th>karma</th>\n",
       "    </tr>\n",
       "  </thead>\n",
       "  <tbody>\n",
       "    <tr>\n",
       "      <th>98626</th>\n",
       "      <td>breeedeeer</td>\n",
       "      <td>-113.0</td>\n",
       "    </tr>\n",
       "    <tr>\n",
       "      <th>88733</th>\n",
       "      <td>asdffsd</td>\n",
       "      <td>-78.0</td>\n",
       "    </tr>\n",
       "    <tr>\n",
       "      <th>237371</th>\n",
       "      <td>wikimedia</td>\n",
       "      <td>-65.0</td>\n",
       "    </tr>\n",
       "    <tr>\n",
       "      <th>6316</th>\n",
       "      <td>AttackingHobo</td>\n",
       "      <td>-51.6</td>\n",
       "    </tr>\n",
       "    <tr>\n",
       "      <th>92768</th>\n",
       "      <td>beast_of_a_priest</td>\n",
       "      <td>-47.0</td>\n",
       "    </tr>\n",
       "    <tr>\n",
       "      <th>...</th>\n",
       "      <td>...</td>\n",
       "      <td>...</td>\n",
       "    </tr>\n",
       "    <tr>\n",
       "      <th>42575</th>\n",
       "      <td>Lovesnoveltyaccounts</td>\n",
       "      <td>1284.0</td>\n",
       "    </tr>\n",
       "    <tr>\n",
       "      <th>77</th>\n",
       "      <td>-captain-hindsight-</td>\n",
       "      <td>1293.0</td>\n",
       "    </tr>\n",
       "    <tr>\n",
       "      <th>71790</th>\n",
       "      <td>The_Joke_Explained</td>\n",
       "      <td>1596.0</td>\n",
       "    </tr>\n",
       "    <tr>\n",
       "      <th>85287</th>\n",
       "      <td>amativus</td>\n",
       "      <td>1738.0</td>\n",
       "    </tr>\n",
       "    <tr>\n",
       "      <th>91820</th>\n",
       "      <td>barehandhunter</td>\n",
       "      <td>2232.0</td>\n",
       "    </tr>\n",
       "  </tbody>\n",
       "</table>\n",
       "<p>243809 rows × 2 columns</p>\n",
       "</div>"
      ],
      "text/plain": [
       "                      author   karma\n",
       "98626             breeedeeer  -113.0\n",
       "88733                asdffsd   -78.0\n",
       "237371             wikimedia   -65.0\n",
       "6316           AttackingHobo   -51.6\n",
       "92768      beast_of_a_priest   -47.0\n",
       "...                      ...     ...\n",
       "42575   Lovesnoveltyaccounts  1284.0\n",
       "77       -captain-hindsight-  1293.0\n",
       "71790     The_Joke_Explained  1596.0\n",
       "85287               amativus  1738.0\n",
       "91820         barehandhunter  2232.0\n",
       "\n",
       "[243809 rows x 2 columns]"
      ]
     },
     "execution_count": 22,
     "metadata": {},
     "output_type": "execute_result"
    }
   ],
   "source": [
    "karma_by_author_avg = pd.DataFrame(cuc.groupby('author')['karma'].mean()).reset_index()\n",
    "karma_by_author_avg.sort_values('karma')"
   ]
  },
  {
   "attachments": {},
   "cell_type": "markdown",
   "metadata": {},
   "source": [
    "From this dataframe above, we see that the average karma for a comment a user makes in our dataset is bounded between -113 on the lower end and 2232 on the upper end."
   ]
  },
  {
   "cell_type": "code",
   "execution_count": 23,
   "metadata": {},
   "outputs": [
    {
     "data": {
      "image/png": "[encoded data removed]",
      "text/plain": [
       "<Figure size 576x576 with 1 Axes>"
      ]
     },
     "metadata": {
      "needs_background": "light"
     },
     "output_type": "display_data"
    }
   ],
   "source": [
    "def bin(x):\n",
    "    if x < 0:\n",
    "        return '< 0'\n",
    "    elif 0 <= x <= 1:\n",
    "        return 'between 0 and 1'\n",
    "    elif 1 < x <= 5:\n",
    "        return 'between 1 and 5'\n",
    "    elif 5 < x <= 10:\n",
    "        return 'between 5 and 10'\n",
    "    else:\n",
    "        return '> 10'\n",
    "\n",
    "karma_by_author_avg['bin'] = karma_by_author_avg['karma'].apply(bin)\n",
    "karma_by_author_avg['bin'] = pd.Categorical(karma_by_author_avg['bin'],\n",
    "                                        ['< 0', 'between 0 and 1',\n",
    "                                         'between 1 and 5',\n",
    "                                         'between 5 and 10', '> 10'])\n",
    "\n",
    "bins = karma_by_author_avg.groupby('bin')['karma'].count()\n",
    "\n",
    "bins.plot(kind = 'bar', xlabel = 'average karma', ylabel = 'count of unique users')\n",
    "plt.savefig('../visuals/avg_karma_users.png', bbox_inches = \"tight\")"
   ]
  },
  {
   "attachments": {},
   "cell_type": "markdown",
   "metadata": {},
   "source": [
    "Clearly, most comments that users make get on average between 1 and 5 karma."
   ]
  },
  {
   "attachments": {},
   "cell_type": "markdown",
   "metadata": {},
   "source": [
    "### Average Karma for a Comment by Subreddit"
   ]
  },
  {
   "attachments": {},
   "cell_type": "markdown",
   "metadata": {},
   "source": [
    "Next, we can take a look at the average karma for a comment  by Subreddit. This will help us see if most comments in subreddits have karma levels hovering between -1 and 1, or if maybe they differ significantly."
   ]
  },
  {
   "cell_type": "code",
   "execution_count": 24,
   "metadata": {},
   "outputs": [
    {
     "data": {
      "text/html": [
       "<div>\n",
       "<style scoped>\n",
       "    .dataframe tbody tr th:only-of-type {\n",
       "        vertical-align: middle;\n",
       "    }\n",
       "\n",
       "    .dataframe tbody tr th {\n",
       "        vertical-align: top;\n",
       "    }\n",
       "\n",
       "    .dataframe thead th {\n",
       "        text-align: right;\n",
       "    }\n",
       "</style>\n",
       "<table border=\"1\" class=\"dataframe\">\n",
       "  <thead>\n",
       "    <tr style=\"text-align: right;\">\n",
       "      <th></th>\n",
       "      <th>subreddit</th>\n",
       "      <th>karma</th>\n",
       "    </tr>\n",
       "  </thead>\n",
       "  <tbody>\n",
       "    <tr>\n",
       "      <th>355</th>\n",
       "      <td>CompulsiveDownvoters</td>\n",
       "      <td>-5.000000</td>\n",
       "    </tr>\n",
       "    <tr>\n",
       "      <th>2241</th>\n",
       "      <td>crybaby</td>\n",
       "      <td>-4.166667</td>\n",
       "    </tr>\n",
       "    <tr>\n",
       "      <th>2170</th>\n",
       "      <td>coke</td>\n",
       "      <td>-2.000000</td>\n",
       "    </tr>\n",
       "    <tr>\n",
       "      <th>1026</th>\n",
       "      <td>NaziHunting</td>\n",
       "      <td>-1.086957</td>\n",
       "    </tr>\n",
       "    <tr>\n",
       "      <th>1195</th>\n",
       "      <td>PornStars</td>\n",
       "      <td>-1.000000</td>\n",
       "    </tr>\n",
       "    <tr>\n",
       "      <th>...</th>\n",
       "      <td>...</td>\n",
       "      <td>...</td>\n",
       "    </tr>\n",
       "    <tr>\n",
       "      <th>3696</th>\n",
       "      <td>redditzine</td>\n",
       "      <td>12.000000</td>\n",
       "    </tr>\n",
       "    <tr>\n",
       "      <th>1624</th>\n",
       "      <td>VOTE4DICKOFTHEYEAR</td>\n",
       "      <td>12.104167</td>\n",
       "    </tr>\n",
       "    <tr>\n",
       "      <th>2405</th>\n",
       "      <td>ectalProlapse</td>\n",
       "      <td>14.000000</td>\n",
       "    </tr>\n",
       "    <tr>\n",
       "      <th>3719</th>\n",
       "      <td>republicans</td>\n",
       "      <td>23.000000</td>\n",
       "    </tr>\n",
       "    <tr>\n",
       "      <th>413</th>\n",
       "      <td>DateRape</td>\n",
       "      <td>27.606780</td>\n",
       "    </tr>\n",
       "  </tbody>\n",
       "</table>\n",
       "<p>4420 rows × 2 columns</p>\n",
       "</div>"
      ],
      "text/plain": [
       "                 subreddit      karma\n",
       "355   CompulsiveDownvoters  -5.000000\n",
       "2241               crybaby  -4.166667\n",
       "2170                  coke  -2.000000\n",
       "1026           NaziHunting  -1.086957\n",
       "1195             PornStars  -1.000000\n",
       "...                    ...        ...\n",
       "3696            redditzine  12.000000\n",
       "1624    VOTE4DICKOFTHEYEAR  12.104167\n",
       "2405         ectalProlapse  14.000000\n",
       "3719           republicans  23.000000\n",
       "413               DateRape  27.606780\n",
       "\n",
       "[4420 rows x 2 columns]"
      ]
     },
     "execution_count": 24,
     "metadata": {},
     "output_type": "execute_result"
    }
   ],
   "source": [
    "karma_by_subreddit = pd.DataFrame(cuc.groupby('subreddit')['karma'].mean()).reset_index()\n",
    "karma_by_subreddit.sort_values('karma')"
   ]
  },
  {
   "attachments": {},
   "cell_type": "markdown",
   "metadata": {},
   "source": [
    "We can see that the average comment karma by subreddit in our dataset is between -5 and 27.61. Let's plot this data:"
   ]
  },
  {
   "cell_type": "code",
   "execution_count": 25,
   "metadata": {},
   "outputs": [
    {
     "data": {
      "image/png": "[encoded data removed]",
      "text/plain": [
       "<Figure size 576x576 with 1 Axes>"
      ]
     },
     "metadata": {
      "needs_background": "light"
     },
     "output_type": "display_data"
    }
   ],
   "source": [
    "def bin(x):\n",
    "    if x < 0:\n",
    "        return '< 0'\n",
    "    elif 0 <= x <= 1:\n",
    "        return 'between 0 and 1'\n",
    "    elif 1 < x <= 2:\n",
    "        return 'between 1 and 2'\n",
    "    elif 2 < x <= 3:\n",
    "        return 'between 2 and 3'\n",
    "    elif 3 < x <= 4:\n",
    "        return 'between 3 and 4'\n",
    "    elif 4 < x <= 5:\n",
    "        return 'between 4 and 5'\n",
    "    elif 5 < x <= 10:\n",
    "        return 'between 5 and 10'\n",
    "    else:\n",
    "        return '> 10'\n",
    "\n",
    "karma_by_subreddit['bin'] = karma_by_subreddit['karma'].apply(bin)\n",
    "karma_by_subreddit['bin'] = pd.Categorical(karma_by_subreddit['bin'],\n",
    "                                        ['< 0', 'between 0 and 1',\n",
    "                                         'between 1 and 2', 'between 2 and 3',\n",
    "                                         'between 3 and 4', 'between 4 and 5',\n",
    "                                         'between 5 and 10', '> 10'])\n",
    "\n",
    "bins = karma_by_subreddit.groupby('bin')['karma'].count()\n",
    "\n",
    "bins.plot(kind = 'bar', xlabel = 'average karma', ylabel = 'count of unique subreddits')\n",
    "plt.xticks(rotation=80)\n",
    "plt.savefig('../visuals/avg_karma_subreddit.png', bbox_inches = \"tight\")"
   ]
  },
  {
   "cell_type": "markdown",
   "metadata": {},
   "source": [
    "As we can see, most of these subreddits have an average karma for comments in the subreddit between 0 and 3."
   ]
  },
  {
   "attachments": {},
   "cell_type": "markdown",
   "metadata": {},
   "source": [
    "## Volume of comments against day of the Month"
   ]
  },
  {
   "attachments": {},
   "cell_type": "markdown",
   "metadata": {},
   "source": [
    "Finally, let us look at the volume of comments by day of the month they are posted on. Our dataset contains the date each comment is posted on in utc time. Let us convert this to a datetime so we can more easily pull dates from it:"
   ]
  },
  {
   "cell_type": "code",
   "execution_count": 26,
   "metadata": {},
   "outputs": [
    {
     "data": {
      "text/html": [
       "<div>\n",
       "<style scoped>\n",
       "    .dataframe tbody tr th:only-of-type {\n",
       "        vertical-align: middle;\n",
       "    }\n",
       "\n",
       "    .dataframe tbody tr th {\n",
       "        vertical-align: top;\n",
       "    }\n",
       "\n",
       "    .dataframe thead th {\n",
       "        text-align: right;\n",
       "    }\n",
       "</style>\n",
       "<table border=\"1\" class=\"dataframe\">\n",
       "  <thead>\n",
       "    <tr style=\"text-align: right;\">\n",
       "      <th></th>\n",
       "      <th>comment_id</th>\n",
       "      <th>subreddit</th>\n",
       "      <th>timestamp</th>\n",
       "      <th>karma</th>\n",
       "      <th>year</th>\n",
       "      <th>month</th>\n",
       "      <th>day</th>\n",
       "      <th>hour</th>\n",
       "      <th>weekday</th>\n",
       "    </tr>\n",
       "  </thead>\n",
       "  <tbody>\n",
       "    <tr>\n",
       "      <th>0</th>\n",
       "      <td>c17frnf</td>\n",
       "      <td>Music</td>\n",
       "      <td>2010-11-30 16:00:00</td>\n",
       "      <td>-5</td>\n",
       "      <td>2010</td>\n",
       "      <td>11</td>\n",
       "      <td>30</td>\n",
       "      <td>16</td>\n",
       "      <td>1</td>\n",
       "    </tr>\n",
       "    <tr>\n",
       "      <th>1</th>\n",
       "      <td>c17frng</td>\n",
       "      <td>IAmA</td>\n",
       "      <td>2010-11-30 16:00:01</td>\n",
       "      <td>8</td>\n",
       "      <td>2010</td>\n",
       "      <td>11</td>\n",
       "      <td>30</td>\n",
       "      <td>16</td>\n",
       "      <td>1</td>\n",
       "    </tr>\n",
       "    <tr>\n",
       "      <th>2</th>\n",
       "      <td>c17frnh</td>\n",
       "      <td>pics</td>\n",
       "      <td>2010-11-30 16:00:01</td>\n",
       "      <td>7</td>\n",
       "      <td>2010</td>\n",
       "      <td>11</td>\n",
       "      <td>30</td>\n",
       "      <td>16</td>\n",
       "      <td>1</td>\n",
       "    </tr>\n",
       "    <tr>\n",
       "      <th>3</th>\n",
       "      <td>c17frnk</td>\n",
       "      <td>funny</td>\n",
       "      <td>2010-11-30 16:00:05</td>\n",
       "      <td>2</td>\n",
       "      <td>2010</td>\n",
       "      <td>11</td>\n",
       "      <td>30</td>\n",
       "      <td>16</td>\n",
       "      <td>1</td>\n",
       "    </tr>\n",
       "    <tr>\n",
       "      <th>4</th>\n",
       "      <td>c17frnl</td>\n",
       "      <td>cats</td>\n",
       "      <td>2010-11-30 16:00:06</td>\n",
       "      <td>1</td>\n",
       "      <td>2010</td>\n",
       "      <td>11</td>\n",
       "      <td>30</td>\n",
       "      <td>16</td>\n",
       "      <td>1</td>\n",
       "    </tr>\n",
       "  </tbody>\n",
       "</table>\n",
       "</div>"
      ],
      "text/plain": [
       "  comment_id subreddit           timestamp  karma  year  month  day  hour  \\\n",
       "0    c17frnf     Music 2010-11-30 16:00:00     -5  2010     11   30    16   \n",
       "1    c17frng      IAmA 2010-11-30 16:00:01      8  2010     11   30    16   \n",
       "2    c17frnh      pics 2010-11-30 16:00:01      7  2010     11   30    16   \n",
       "3    c17frnk     funny 2010-11-30 16:00:05      2  2010     11   30    16   \n",
       "4    c17frnl      cats 2010-11-30 16:00:06      1  2010     11   30    16   \n",
       "\n",
       "   weekday  \n",
       "0        1  \n",
       "1        1  \n",
       "2        1  \n",
       "3        1  \n",
       "4        1  "
      ]
     },
     "execution_count": 26,
     "metadata": {},
     "output_type": "execute_result"
    }
   ],
   "source": [
    "comments.columns = ['comment_id', \n",
    "              'subreddit', \n",
    "              'timestamp', \n",
    "              'karma']\n",
    "def convert_to_dt(timestamp):\n",
    "    dt = datetime.fromtimestamp(timestamp)\n",
    "    return dt\n",
    "\n",
    "try:\n",
    "    comments['timestamp'] = comments['timestamp'].apply(convert_to_dt)\n",
    "except:\n",
    "    pass\n",
    "\n",
    "comments['year'] = pd.DatetimeIndex(comments['timestamp']).year\n",
    "comments['month'] = pd.DatetimeIndex(comments['timestamp']).month\n",
    "comments['day'] = pd.DatetimeIndex(comments['timestamp']).day\n",
    "comments['hour'] = pd.DatetimeIndex(comments['timestamp']).hour\n",
    "comments['weekday'] = pd.DatetimeIndex(comments['timestamp']).weekday\n",
    "comments.head()"
   ]
  },
  {
   "attachments": {},
   "cell_type": "markdown",
   "metadata": {},
   "source": [
    "Let us look into what months our dataset consists of:"
   ]
  },
  {
   "cell_type": "code",
   "execution_count": 27,
   "metadata": {},
   "outputs": [
    {
     "data": {
      "text/html": [
       "<div>\n",
       "<style scoped>\n",
       "    .dataframe tbody tr th:only-of-type {\n",
       "        vertical-align: middle;\n",
       "    }\n",
       "\n",
       "    .dataframe tbody tr th {\n",
       "        vertical-align: top;\n",
       "    }\n",
       "\n",
       "    .dataframe thead th {\n",
       "        text-align: right;\n",
       "    }\n",
       "</style>\n",
       "<table border=\"1\" class=\"dataframe\">\n",
       "  <thead>\n",
       "    <tr style=\"text-align: right;\">\n",
       "      <th></th>\n",
       "      <th></th>\n",
       "      <th>comment_id</th>\n",
       "      <th>subreddit</th>\n",
       "      <th>timestamp</th>\n",
       "      <th>karma</th>\n",
       "      <th>year</th>\n",
       "      <th>hour</th>\n",
       "      <th>weekday</th>\n",
       "    </tr>\n",
       "    <tr>\n",
       "      <th>month</th>\n",
       "      <th>day</th>\n",
       "      <th></th>\n",
       "      <th></th>\n",
       "      <th></th>\n",
       "      <th></th>\n",
       "      <th></th>\n",
       "      <th></th>\n",
       "      <th></th>\n",
       "    </tr>\n",
       "  </thead>\n",
       "  <tbody>\n",
       "    <tr>\n",
       "      <th>11</th>\n",
       "      <th>30</th>\n",
       "      <td>63141</td>\n",
       "      <td>63141</td>\n",
       "      <td>63141</td>\n",
       "      <td>63141</td>\n",
       "      <td>63141</td>\n",
       "      <td>63141</td>\n",
       "      <td>63141</td>\n",
       "    </tr>\n",
       "    <tr>\n",
       "      <th rowspan=\"31\" valign=\"top\">12</th>\n",
       "      <th>1</th>\n",
       "      <td>151284</td>\n",
       "      <td>151284</td>\n",
       "      <td>151284</td>\n",
       "      <td>151284</td>\n",
       "      <td>151284</td>\n",
       "      <td>151284</td>\n",
       "      <td>151284</td>\n",
       "    </tr>\n",
       "    <tr>\n",
       "      <th>2</th>\n",
       "      <td>127638</td>\n",
       "      <td>127638</td>\n",
       "      <td>127638</td>\n",
       "      <td>127638</td>\n",
       "      <td>127638</td>\n",
       "      <td>127638</td>\n",
       "      <td>127638</td>\n",
       "    </tr>\n",
       "    <tr>\n",
       "      <th>3</th>\n",
       "      <td>159309</td>\n",
       "      <td>159309</td>\n",
       "      <td>159309</td>\n",
       "      <td>159309</td>\n",
       "      <td>159309</td>\n",
       "      <td>159309</td>\n",
       "      <td>159309</td>\n",
       "    </tr>\n",
       "    <tr>\n",
       "      <th>4</th>\n",
       "      <td>120771</td>\n",
       "      <td>120771</td>\n",
       "      <td>120771</td>\n",
       "      <td>120771</td>\n",
       "      <td>120771</td>\n",
       "      <td>120771</td>\n",
       "      <td>120771</td>\n",
       "    </tr>\n",
       "    <tr>\n",
       "      <th>5</th>\n",
       "      <td>133489</td>\n",
       "      <td>133489</td>\n",
       "      <td>133489</td>\n",
       "      <td>133489</td>\n",
       "      <td>133489</td>\n",
       "      <td>133489</td>\n",
       "      <td>133489</td>\n",
       "    </tr>\n",
       "    <tr>\n",
       "      <th>6</th>\n",
       "      <td>167630</td>\n",
       "      <td>167630</td>\n",
       "      <td>167630</td>\n",
       "      <td>167630</td>\n",
       "      <td>167630</td>\n",
       "      <td>167630</td>\n",
       "      <td>167630</td>\n",
       "    </tr>\n",
       "    <tr>\n",
       "      <th>7</th>\n",
       "      <td>174313</td>\n",
       "      <td>174313</td>\n",
       "      <td>174313</td>\n",
       "      <td>174313</td>\n",
       "      <td>174313</td>\n",
       "      <td>174313</td>\n",
       "      <td>174313</td>\n",
       "    </tr>\n",
       "    <tr>\n",
       "      <th>8</th>\n",
       "      <td>175478</td>\n",
       "      <td>175478</td>\n",
       "      <td>175478</td>\n",
       "      <td>175478</td>\n",
       "      <td>175478</td>\n",
       "      <td>175478</td>\n",
       "      <td>175478</td>\n",
       "    </tr>\n",
       "    <tr>\n",
       "      <th>9</th>\n",
       "      <td>172127</td>\n",
       "      <td>172127</td>\n",
       "      <td>172127</td>\n",
       "      <td>172127</td>\n",
       "      <td>172127</td>\n",
       "      <td>172127</td>\n",
       "      <td>172127</td>\n",
       "    </tr>\n",
       "    <tr>\n",
       "      <th>10</th>\n",
       "      <td>160426</td>\n",
       "      <td>160426</td>\n",
       "      <td>160426</td>\n",
       "      <td>160426</td>\n",
       "      <td>160426</td>\n",
       "      <td>160426</td>\n",
       "      <td>160426</td>\n",
       "    </tr>\n",
       "    <tr>\n",
       "      <th>11</th>\n",
       "      <td>135179</td>\n",
       "      <td>135179</td>\n",
       "      <td>135179</td>\n",
       "      <td>135179</td>\n",
       "      <td>135179</td>\n",
       "      <td>135179</td>\n",
       "      <td>135179</td>\n",
       "    </tr>\n",
       "    <tr>\n",
       "      <th>12</th>\n",
       "      <td>148638</td>\n",
       "      <td>148638</td>\n",
       "      <td>148638</td>\n",
       "      <td>148638</td>\n",
       "      <td>148638</td>\n",
       "      <td>148638</td>\n",
       "      <td>148638</td>\n",
       "    </tr>\n",
       "    <tr>\n",
       "      <th>13</th>\n",
       "      <td>178487</td>\n",
       "      <td>178487</td>\n",
       "      <td>178487</td>\n",
       "      <td>178487</td>\n",
       "      <td>178487</td>\n",
       "      <td>178487</td>\n",
       "      <td>178487</td>\n",
       "    </tr>\n",
       "    <tr>\n",
       "      <th>14</th>\n",
       "      <td>170594</td>\n",
       "      <td>170594</td>\n",
       "      <td>170594</td>\n",
       "      <td>170594</td>\n",
       "      <td>170594</td>\n",
       "      <td>170594</td>\n",
       "      <td>170594</td>\n",
       "    </tr>\n",
       "    <tr>\n",
       "      <th>15</th>\n",
       "      <td>182470</td>\n",
       "      <td>182470</td>\n",
       "      <td>182470</td>\n",
       "      <td>182470</td>\n",
       "      <td>182470</td>\n",
       "      <td>182470</td>\n",
       "      <td>182470</td>\n",
       "    </tr>\n",
       "    <tr>\n",
       "      <th>16</th>\n",
       "      <td>172948</td>\n",
       "      <td>172948</td>\n",
       "      <td>172948</td>\n",
       "      <td>172948</td>\n",
       "      <td>172948</td>\n",
       "      <td>172948</td>\n",
       "      <td>172948</td>\n",
       "    </tr>\n",
       "    <tr>\n",
       "      <th>17</th>\n",
       "      <td>157330</td>\n",
       "      <td>157330</td>\n",
       "      <td>157330</td>\n",
       "      <td>157330</td>\n",
       "      <td>157330</td>\n",
       "      <td>157330</td>\n",
       "      <td>157330</td>\n",
       "    </tr>\n",
       "    <tr>\n",
       "      <th>18</th>\n",
       "      <td>126930</td>\n",
       "      <td>126930</td>\n",
       "      <td>126930</td>\n",
       "      <td>126930</td>\n",
       "      <td>126930</td>\n",
       "      <td>126930</td>\n",
       "      <td>126930</td>\n",
       "    </tr>\n",
       "    <tr>\n",
       "      <th>19</th>\n",
       "      <td>130086</td>\n",
       "      <td>130086</td>\n",
       "      <td>130086</td>\n",
       "      <td>130086</td>\n",
       "      <td>130086</td>\n",
       "      <td>130086</td>\n",
       "      <td>130086</td>\n",
       "    </tr>\n",
       "    <tr>\n",
       "      <th>20</th>\n",
       "      <td>155943</td>\n",
       "      <td>155943</td>\n",
       "      <td>155943</td>\n",
       "      <td>155943</td>\n",
       "      <td>155943</td>\n",
       "      <td>155943</td>\n",
       "      <td>155943</td>\n",
       "    </tr>\n",
       "    <tr>\n",
       "      <th>21</th>\n",
       "      <td>162464</td>\n",
       "      <td>162464</td>\n",
       "      <td>162464</td>\n",
       "      <td>162464</td>\n",
       "      <td>162464</td>\n",
       "      <td>162464</td>\n",
       "      <td>162464</td>\n",
       "    </tr>\n",
       "    <tr>\n",
       "      <th>22</th>\n",
       "      <td>163575</td>\n",
       "      <td>163575</td>\n",
       "      <td>163575</td>\n",
       "      <td>163575</td>\n",
       "      <td>163575</td>\n",
       "      <td>163575</td>\n",
       "      <td>163575</td>\n",
       "    </tr>\n",
       "    <tr>\n",
       "      <th>23</th>\n",
       "      <td>141843</td>\n",
       "      <td>141843</td>\n",
       "      <td>141843</td>\n",
       "      <td>141843</td>\n",
       "      <td>141843</td>\n",
       "      <td>141843</td>\n",
       "      <td>141843</td>\n",
       "    </tr>\n",
       "    <tr>\n",
       "      <th>24</th>\n",
       "      <td>107482</td>\n",
       "      <td>107482</td>\n",
       "      <td>107482</td>\n",
       "      <td>107482</td>\n",
       "      <td>107482</td>\n",
       "      <td>107482</td>\n",
       "      <td>107482</td>\n",
       "    </tr>\n",
       "    <tr>\n",
       "      <th>25</th>\n",
       "      <td>113165</td>\n",
       "      <td>113165</td>\n",
       "      <td>113165</td>\n",
       "      <td>113165</td>\n",
       "      <td>113165</td>\n",
       "      <td>113165</td>\n",
       "      <td>113165</td>\n",
       "    </tr>\n",
       "    <tr>\n",
       "      <th>26</th>\n",
       "      <td>116168</td>\n",
       "      <td>116168</td>\n",
       "      <td>116168</td>\n",
       "      <td>116168</td>\n",
       "      <td>116168</td>\n",
       "      <td>116168</td>\n",
       "      <td>116168</td>\n",
       "    </tr>\n",
       "    <tr>\n",
       "      <th>27</th>\n",
       "      <td>151338</td>\n",
       "      <td>151338</td>\n",
       "      <td>151338</td>\n",
       "      <td>151338</td>\n",
       "      <td>151338</td>\n",
       "      <td>151338</td>\n",
       "      <td>151338</td>\n",
       "    </tr>\n",
       "    <tr>\n",
       "      <th>28</th>\n",
       "      <td>163108</td>\n",
       "      <td>163108</td>\n",
       "      <td>163108</td>\n",
       "      <td>163108</td>\n",
       "      <td>163108</td>\n",
       "      <td>163108</td>\n",
       "      <td>163108</td>\n",
       "    </tr>\n",
       "    <tr>\n",
       "      <th>29</th>\n",
       "      <td>172834</td>\n",
       "      <td>172834</td>\n",
       "      <td>172834</td>\n",
       "      <td>172834</td>\n",
       "      <td>172834</td>\n",
       "      <td>172834</td>\n",
       "      <td>172834</td>\n",
       "    </tr>\n",
       "    <tr>\n",
       "      <th>30</th>\n",
       "      <td>160374</td>\n",
       "      <td>160374</td>\n",
       "      <td>160374</td>\n",
       "      <td>160374</td>\n",
       "      <td>160374</td>\n",
       "      <td>160374</td>\n",
       "      <td>160374</td>\n",
       "    </tr>\n",
       "    <tr>\n",
       "      <th>31</th>\n",
       "      <td>84858</td>\n",
       "      <td>84858</td>\n",
       "      <td>84858</td>\n",
       "      <td>84858</td>\n",
       "      <td>84858</td>\n",
       "      <td>84858</td>\n",
       "      <td>84858</td>\n",
       "    </tr>\n",
       "  </tbody>\n",
       "</table>\n",
       "</div>"
      ],
      "text/plain": [
       "           comment_id  subreddit  timestamp   karma    year    hour  weekday\n",
       "month day                                                                   \n",
       "11    30        63141      63141      63141   63141   63141   63141    63141\n",
       "12    1        151284     151284     151284  151284  151284  151284   151284\n",
       "      2        127638     127638     127638  127638  127638  127638   127638\n",
       "      3        159309     159309     159309  159309  159309  159309   159309\n",
       "      4        120771     120771     120771  120771  120771  120771   120771\n",
       "      5        133489     133489     133489  133489  133489  133489   133489\n",
       "      6        167630     167630     167630  167630  167630  167630   167630\n",
       "      7        174313     174313     174313  174313  174313  174313   174313\n",
       "      8        175478     175478     175478  175478  175478  175478   175478\n",
       "      9        172127     172127     172127  172127  172127  172127   172127\n",
       "      10       160426     160426     160426  160426  160426  160426   160426\n",
       "      11       135179     135179     135179  135179  135179  135179   135179\n",
       "      12       148638     148638     148638  148638  148638  148638   148638\n",
       "      13       178487     178487     178487  178487  178487  178487   178487\n",
       "      14       170594     170594     170594  170594  170594  170594   170594\n",
       "      15       182470     182470     182470  182470  182470  182470   182470\n",
       "      16       172948     172948     172948  172948  172948  172948   172948\n",
       "      17       157330     157330     157330  157330  157330  157330   157330\n",
       "      18       126930     126930     126930  126930  126930  126930   126930\n",
       "      19       130086     130086     130086  130086  130086  130086   130086\n",
       "      20       155943     155943     155943  155943  155943  155943   155943\n",
       "      21       162464     162464     162464  162464  162464  162464   162464\n",
       "      22       163575     163575     163575  163575  163575  163575   163575\n",
       "      23       141843     141843     141843  141843  141843  141843   141843\n",
       "      24       107482     107482     107482  107482  107482  107482   107482\n",
       "      25       113165     113165     113165  113165  113165  113165   113165\n",
       "      26       116168     116168     116168  116168  116168  116168   116168\n",
       "      27       151338     151338     151338  151338  151338  151338   151338\n",
       "      28       163108     163108     163108  163108  163108  163108   163108\n",
       "      29       172834     172834     172834  172834  172834  172834   172834\n",
       "      30       160374     160374     160374  160374  160374  160374   160374\n",
       "      31        84858      84858      84858   84858   84858   84858    84858"
      ]
     },
     "execution_count": 27,
     "metadata": {},
     "output_type": "execute_result"
    }
   ],
   "source": [
    "grouped = comments.groupby(['month', 'day']).count()\n",
    "grouped"
   ]
  },
  {
   "attachments": {},
   "cell_type": "markdown",
   "metadata": {},
   "source": [
    "We see that most of our data is in the month of December. As such, let us plot the volume of comments by day in the month of December to see what insights we can draw from it:"
   ]
  },
  {
   "cell_type": "code",
   "execution_count": 28,
   "metadata": {},
   "outputs": [
    {
     "data": {
      "image/png": "[encoded data removed]",
      "text/plain": [
       "<Figure size 720x720 with 1 Axes>"
      ]
     },
     "metadata": {
      "needs_background": "light"
     },
     "output_type": "display_data"
    }
   ],
   "source": [
    "december = grouped[1:]['comment_id']\n",
    "fig, axes = plt.subplots(figsize=(10, 10))\n",
    "plt.bar(range(1, 32), december.values)\n",
    "plt.xlabel('Day of Month')\n",
    "plt.ylabel('Number of Comments')\n",
    "plt.savefig('../visuals/volume_by_day.png')"
   ]
  },
  {
   "attachments": {},
   "cell_type": "markdown",
   "metadata": {},
   "source": [
    "Clearly there does not seem to be much of a trend visible to us from this plot. It seems like the day of the month does not make a huge impact on the volume of comments posted that day."
   ]
  },
  {
   "cell_type": "code",
   "execution_count": null,
   "metadata": {},
   "outputs": [],
   "source": []
  }
 ],
 "metadata": {
  "kernelspec": {
   "display_name": "Python 3",
   "language": "python",
   "name": "python3"
  },
  "language_info": {
   "codemirror_mode": {
    "name": "ipython",
    "version": 3
   },
   "file_extension": ".py",
   "mimetype": "text/x-python",
   "name": "python",
   "nbconvert_exporter": "python",
   "pygments_lexer": "ipython3",
   "version": "3.8.6"
  },
  "vscode": {
   "interpreter": {
    "hash": "6a82a2736f4e30ecddee8e03be653c31f8ea8f45af7fb118f94e1afed2a8b07d"
   }
  }
 },
 "nbformat": 4,
 "nbformat_minor": 2
}
