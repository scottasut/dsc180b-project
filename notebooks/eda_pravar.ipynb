{
 "cells": [
  {
   "cell_type": "code",
   "execution_count": 42,
   "metadata": {},
   "outputs": [],
   "source": [
    "import pandas as pd\n",
    "import numpy as np\n",
    "import matplotlib.pyplot as plt\n",
    "from dask import dataframe as dd\n",
    "from datetime import datetime\n",
    "import seaborn as sns"
   ]
  },
  {
   "cell_type": "code",
   "execution_count": 2,
   "metadata": {},
   "outputs": [],
   "source": [
    "comments = pd.read_csv('../data/out/comments.csv', header = None)\n",
    "users_comments = pd.read_csv('../data/out/users_comments.csv', header = None)"
   ]
  },
  {
   "cell_type": "code",
   "execution_count": 3,
   "metadata": {},
   "outputs": [],
   "source": [
    "comments.columns = ['cid','subreddit', 'created_utc', 'karma']\n",
    "users_comments.columns = ['author', 'cid']"
   ]
  },
  {
   "cell_type": "code",
   "execution_count": 4,
   "metadata": {},
   "outputs": [],
   "source": [
    "# join comments and users_comments tables\n",
    "cuc = pd.merge(comments, users_comments, on='cid')"
   ]
  },
  {
   "cell_type": "markdown",
   "metadata": {},
   "source": [
    "### Count of Karma by Author/User"
   ]
  },
  {
   "cell_type": "code",
   "execution_count": 5,
   "metadata": {},
   "outputs": [],
   "source": [
    "karma_by_author = pd.DataFrame(cuc.groupby('author')['karma'].sum()).reset_index()"
   ]
  },
  {
   "cell_type": "code",
   "execution_count": 6,
   "metadata": {},
   "outputs": [
    {
     "data": {
      "text/html": [
       "<div>\n",
       "<style scoped>\n",
       "    .dataframe tbody tr th:only-of-type {\n",
       "        vertical-align: middle;\n",
       "    }\n",
       "\n",
       "    .dataframe tbody tr th {\n",
       "        vertical-align: top;\n",
       "    }\n",
       "\n",
       "    .dataframe thead th {\n",
       "        text-align: right;\n",
       "    }\n",
       "</style>\n",
       "<table border=\"1\" class=\"dataframe\">\n",
       "  <thead>\n",
       "    <tr style=\"text-align: right;\">\n",
       "      <th></th>\n",
       "      <th>author</th>\n",
       "      <th>karma</th>\n",
       "    </tr>\n",
       "  </thead>\n",
       "  <tbody>\n",
       "    <tr>\n",
       "      <th>24069</th>\n",
       "      <td>FastOCR18</td>\n",
       "      <td>-3187</td>\n",
       "    </tr>\n",
       "    <tr>\n",
       "      <th>133478</th>\n",
       "      <td>ginmhilleadh</td>\n",
       "      <td>-2713</td>\n",
       "    </tr>\n",
       "    <tr>\n",
       "      <th>172651</th>\n",
       "      <td>mikepunk</td>\n",
       "      <td>-1369</td>\n",
       "    </tr>\n",
       "    <tr>\n",
       "      <th>64772</th>\n",
       "      <td>SlowOCR_13</td>\n",
       "      <td>-980</td>\n",
       "    </tr>\n",
       "    <tr>\n",
       "      <th>159561</th>\n",
       "      <td>krakow057</td>\n",
       "      <td>-827</td>\n",
       "    </tr>\n",
       "    <tr>\n",
       "      <th>...</th>\n",
       "      <td>...</td>\n",
       "      <td>...</td>\n",
       "    </tr>\n",
       "    <tr>\n",
       "      <th>86469</th>\n",
       "      <td>ani625</td>\n",
       "      <td>16368</td>\n",
       "    </tr>\n",
       "    <tr>\n",
       "      <th>133025</th>\n",
       "      <td>ggggbabybabybaby</td>\n",
       "      <td>18172</td>\n",
       "    </tr>\n",
       "    <tr>\n",
       "      <th>55898</th>\n",
       "      <td>ProbablyHittingOnYou</td>\n",
       "      <td>18444</td>\n",
       "    </tr>\n",
       "    <tr>\n",
       "      <th>86101</th>\n",
       "      <td>andrewsmith1986</td>\n",
       "      <td>29956</td>\n",
       "    </tr>\n",
       "    <tr>\n",
       "      <th>67934</th>\n",
       "      <td>Sure_Ill_Draw_That</td>\n",
       "      <td>65288</td>\n",
       "    </tr>\n",
       "  </tbody>\n",
       "</table>\n",
       "<p>243809 rows × 2 columns</p>\n",
       "</div>"
      ],
      "text/plain": [
       "                      author  karma\n",
       "24069              FastOCR18  -3187\n",
       "133478          ginmhilleadh  -2713\n",
       "172651              mikepunk  -1369\n",
       "64772             SlowOCR_13   -980\n",
       "159561             krakow057   -827\n",
       "...                      ...    ...\n",
       "86469                 ani625  16368\n",
       "133025      ggggbabybabybaby  18172\n",
       "55898   ProbablyHittingOnYou  18444\n",
       "86101        andrewsmith1986  29956\n",
       "67934     Sure_Ill_Draw_That  65288\n",
       "\n",
       "[243809 rows x 2 columns]"
      ]
     },
     "execution_count": 6,
     "metadata": {},
     "output_type": "execute_result"
    }
   ],
   "source": [
    "karma_by_author = karma_by_author.sort_values('karma')\n",
    "karma_by_author"
   ]
  },
  {
   "cell_type": "code",
   "execution_count": 7,
   "metadata": {},
   "outputs": [],
   "source": [
    "top_5_sum_author = karma_by_author.sort_values(by = 'karma', ascending = False).head()\n",
    "bottom_5_sum_author = karma_by_author.sort_values(by = 'karma').head()"
   ]
  },
  {
   "cell_type": "code",
   "execution_count": 8,
   "metadata": {},
   "outputs": [
    {
     "data": {
      "text/html": [
       "<div>\n",
       "<style scoped>\n",
       "    .dataframe tbody tr th:only-of-type {\n",
       "        vertical-align: middle;\n",
       "    }\n",
       "\n",
       "    .dataframe tbody tr th {\n",
       "        vertical-align: top;\n",
       "    }\n",
       "\n",
       "    .dataframe thead th {\n",
       "        text-align: right;\n",
       "    }\n",
       "</style>\n",
       "<table border=\"1\" class=\"dataframe\">\n",
       "  <thead>\n",
       "    <tr style=\"text-align: right;\">\n",
       "      <th></th>\n",
       "      <th>karma</th>\n",
       "    </tr>\n",
       "    <tr>\n",
       "      <th>author</th>\n",
       "      <th></th>\n",
       "    </tr>\n",
       "  </thead>\n",
       "  <tbody>\n",
       "    <tr>\n",
       "      <th>Sure_Ill_Draw_That</th>\n",
       "      <td>65288</td>\n",
       "    </tr>\n",
       "    <tr>\n",
       "      <th>andrewsmith1986</th>\n",
       "      <td>29956</td>\n",
       "    </tr>\n",
       "    <tr>\n",
       "      <th>ProbablyHittingOnYou</th>\n",
       "      <td>18444</td>\n",
       "    </tr>\n",
       "    <tr>\n",
       "      <th>ggggbabybabybaby</th>\n",
       "      <td>18172</td>\n",
       "    </tr>\n",
       "    <tr>\n",
       "      <th>ani625</th>\n",
       "      <td>16368</td>\n",
       "    </tr>\n",
       "  </tbody>\n",
       "</table>\n",
       "</div>"
      ],
      "text/plain": [
       "                      karma\n",
       "author                     \n",
       "Sure_Ill_Draw_That    65288\n",
       "andrewsmith1986       29956\n",
       "ProbablyHittingOnYou  18444\n",
       "ggggbabybabybaby      18172\n",
       "ani625                16368"
      ]
     },
     "execution_count": 8,
     "metadata": {},
     "output_type": "execute_result"
    }
   ],
   "source": [
    "top_5_sum_author.set_index('author')"
   ]
  },
  {
   "cell_type": "code",
   "execution_count": 9,
   "metadata": {},
   "outputs": [
    {
     "data": {
      "text/html": [
       "<div>\n",
       "<style scoped>\n",
       "    .dataframe tbody tr th:only-of-type {\n",
       "        vertical-align: middle;\n",
       "    }\n",
       "\n",
       "    .dataframe tbody tr th {\n",
       "        vertical-align: top;\n",
       "    }\n",
       "\n",
       "    .dataframe thead th {\n",
       "        text-align: right;\n",
       "    }\n",
       "</style>\n",
       "<table border=\"1\" class=\"dataframe\">\n",
       "  <thead>\n",
       "    <tr style=\"text-align: right;\">\n",
       "      <th></th>\n",
       "      <th>karma</th>\n",
       "    </tr>\n",
       "    <tr>\n",
       "      <th>author</th>\n",
       "      <th></th>\n",
       "    </tr>\n",
       "  </thead>\n",
       "  <tbody>\n",
       "    <tr>\n",
       "      <th>FastOCR18</th>\n",
       "      <td>-3187</td>\n",
       "    </tr>\n",
       "    <tr>\n",
       "      <th>ginmhilleadh</th>\n",
       "      <td>-2713</td>\n",
       "    </tr>\n",
       "    <tr>\n",
       "      <th>mikepunk</th>\n",
       "      <td>-1369</td>\n",
       "    </tr>\n",
       "    <tr>\n",
       "      <th>SlowOCR_13</th>\n",
       "      <td>-980</td>\n",
       "    </tr>\n",
       "    <tr>\n",
       "      <th>krakow057</th>\n",
       "      <td>-827</td>\n",
       "    </tr>\n",
       "  </tbody>\n",
       "</table>\n",
       "</div>"
      ],
      "text/plain": [
       "              karma\n",
       "author             \n",
       "FastOCR18     -3187\n",
       "ginmhilleadh  -2713\n",
       "mikepunk      -1369\n",
       "SlowOCR_13     -980\n",
       "krakow057      -827"
      ]
     },
     "execution_count": 9,
     "metadata": {},
     "output_type": "execute_result"
    }
   ],
   "source": [
    "bottom_5_sum_author.set_index('author')"
   ]
  },
  {
   "cell_type": "code",
   "execution_count": 10,
   "metadata": {},
   "outputs": [
    {
     "data": {
      "text/html": [
       "<div>\n",
       "<style scoped>\n",
       "    .dataframe tbody tr th:only-of-type {\n",
       "        vertical-align: middle;\n",
       "    }\n",
       "\n",
       "    .dataframe tbody tr th {\n",
       "        vertical-align: top;\n",
       "    }\n",
       "\n",
       "    .dataframe thead th {\n",
       "        text-align: right;\n",
       "    }\n",
       "</style>\n",
       "<table border=\"1\" class=\"dataframe\">\n",
       "  <thead>\n",
       "    <tr style=\"text-align: right;\">\n",
       "      <th></th>\n",
       "      <th>author</th>\n",
       "      <th>karma</th>\n",
       "      <th>bin</th>\n",
       "    </tr>\n",
       "  </thead>\n",
       "  <tbody>\n",
       "    <tr>\n",
       "      <th>24069</th>\n",
       "      <td>FastOCR18</td>\n",
       "      <td>-3187</td>\n",
       "      <td>(-3187.001, -1.0]</td>\n",
       "    </tr>\n",
       "    <tr>\n",
       "      <th>133478</th>\n",
       "      <td>ginmhilleadh</td>\n",
       "      <td>-2713</td>\n",
       "      <td>(-3187.001, -1.0]</td>\n",
       "    </tr>\n",
       "    <tr>\n",
       "      <th>172651</th>\n",
       "      <td>mikepunk</td>\n",
       "      <td>-1369</td>\n",
       "      <td>(-3187.001, -1.0]</td>\n",
       "    </tr>\n",
       "    <tr>\n",
       "      <th>64772</th>\n",
       "      <td>SlowOCR_13</td>\n",
       "      <td>-980</td>\n",
       "      <td>(-3187.001, -1.0]</td>\n",
       "    </tr>\n",
       "    <tr>\n",
       "      <th>159561</th>\n",
       "      <td>krakow057</td>\n",
       "      <td>-827</td>\n",
       "      <td>(-3187.001, -1.0]</td>\n",
       "    </tr>\n",
       "    <tr>\n",
       "      <th>...</th>\n",
       "      <td>...</td>\n",
       "      <td>...</td>\n",
       "      <td>...</td>\n",
       "    </tr>\n",
       "    <tr>\n",
       "      <th>86469</th>\n",
       "      <td>ani625</td>\n",
       "      <td>16368</td>\n",
       "      <td>(714.0, 65288.0]</td>\n",
       "    </tr>\n",
       "    <tr>\n",
       "      <th>133025</th>\n",
       "      <td>ggggbabybabybaby</td>\n",
       "      <td>18172</td>\n",
       "      <td>(714.0, 65288.0]</td>\n",
       "    </tr>\n",
       "    <tr>\n",
       "      <th>55898</th>\n",
       "      <td>ProbablyHittingOnYou</td>\n",
       "      <td>18444</td>\n",
       "      <td>(714.0, 65288.0]</td>\n",
       "    </tr>\n",
       "    <tr>\n",
       "      <th>86101</th>\n",
       "      <td>andrewsmith1986</td>\n",
       "      <td>29956</td>\n",
       "      <td>(714.0, 65288.0]</td>\n",
       "    </tr>\n",
       "    <tr>\n",
       "      <th>67934</th>\n",
       "      <td>Sure_Ill_Draw_That</td>\n",
       "      <td>65288</td>\n",
       "      <td>(714.0, 65288.0]</td>\n",
       "    </tr>\n",
       "  </tbody>\n",
       "</table>\n",
       "<p>243809 rows × 3 columns</p>\n",
       "</div>"
      ],
      "text/plain": [
       "                      author  karma                bin\n",
       "24069              FastOCR18  -3187  (-3187.001, -1.0]\n",
       "133478          ginmhilleadh  -2713  (-3187.001, -1.0]\n",
       "172651              mikepunk  -1369  (-3187.001, -1.0]\n",
       "64772             SlowOCR_13   -980  (-3187.001, -1.0]\n",
       "159561             krakow057   -827  (-3187.001, -1.0]\n",
       "...                      ...    ...                ...\n",
       "86469                 ani625  16368   (714.0, 65288.0]\n",
       "133025      ggggbabybabybaby  18172   (714.0, 65288.0]\n",
       "55898   ProbablyHittingOnYou  18444   (714.0, 65288.0]\n",
       "86101        andrewsmith1986  29956   (714.0, 65288.0]\n",
       "67934     Sure_Ill_Draw_That  65288   (714.0, 65288.0]\n",
       "\n",
       "[243809 rows x 3 columns]"
      ]
     },
     "execution_count": 10,
     "metadata": {},
     "output_type": "execute_result"
    }
   ],
   "source": [
    "# karma_by_author = pd.DataFrame(karma_by_author).reset_index()\n",
    "karma_by_author['bin'] = pd.qcut(karma_by_author['karma'], q = 50, duplicates = 'drop')\n",
    "karma_by_author"
   ]
  },
  {
   "cell_type": "code",
   "execution_count": 31,
   "metadata": {},
   "outputs": [
    {
     "data": {
      "text/plain": [
       "<AxesSubplot:xlabel='karma bins', ylabel='count of users in bin'>"
      ]
     },
     "execution_count": 31,
     "metadata": {},
     "output_type": "execute_result"
    },
    {
     "data": {
      "image/png": "[encoded data removed]",
      "text/plain": [
       "<Figure size 720x360 with 1 Axes>"
      ]
     },
     "metadata": {
      "needs_background": "light"
     },
     "output_type": "display_data"
    }
   ],
   "source": [
    "bins = karma_by_author.groupby('bin')['karma'].count()\n",
    "#  title = 'Count of Users by Karma (Binned)',\n",
    "bins.plot(kind = 'bar', xlabel = 'karma bins', ylabel = 'count of users in bin', figsize = (10, 5))"
   ]
  },
  {
   "cell_type": "markdown",
   "metadata": {},
   "source": [
    "### Average Karma for Comments made by Authors/Users"
   ]
  },
  {
   "cell_type": "code",
   "execution_count": 12,
   "metadata": {},
   "outputs": [],
   "source": [
    "karma_by_author_avg = pd.DataFrame(cuc.groupby('author')['karma'].mean()).reset_index()"
   ]
  },
  {
   "cell_type": "code",
   "execution_count": 13,
   "metadata": {},
   "outputs": [],
   "source": [
    "top_5_avg_author = karma_by_author_avg.sort_values(by = 'karma', ascending = False).head()\n",
    "bottom_5_avg_author = karma_by_author_avg.sort_values(by = 'karma').head()"
   ]
  },
  {
   "cell_type": "code",
   "execution_count": 14,
   "metadata": {},
   "outputs": [
    {
     "data": {
      "text/html": [
       "<div>\n",
       "<style scoped>\n",
       "    .dataframe tbody tr th:only-of-type {\n",
       "        vertical-align: middle;\n",
       "    }\n",
       "\n",
       "    .dataframe tbody tr th {\n",
       "        vertical-align: top;\n",
       "    }\n",
       "\n",
       "    .dataframe thead th {\n",
       "        text-align: right;\n",
       "    }\n",
       "</style>\n",
       "<table border=\"1\" class=\"dataframe\">\n",
       "  <thead>\n",
       "    <tr style=\"text-align: right;\">\n",
       "      <th></th>\n",
       "      <th>karma</th>\n",
       "    </tr>\n",
       "    <tr>\n",
       "      <th>author</th>\n",
       "      <th></th>\n",
       "    </tr>\n",
       "  </thead>\n",
       "  <tbody>\n",
       "    <tr>\n",
       "      <th>barehandhunter</th>\n",
       "      <td>2232.0</td>\n",
       "    </tr>\n",
       "    <tr>\n",
       "      <th>amativus</th>\n",
       "      <td>1738.0</td>\n",
       "    </tr>\n",
       "    <tr>\n",
       "      <th>The_Joke_Explained</th>\n",
       "      <td>1596.0</td>\n",
       "    </tr>\n",
       "    <tr>\n",
       "      <th>-captain-hindsight-</th>\n",
       "      <td>1293.0</td>\n",
       "    </tr>\n",
       "    <tr>\n",
       "      <th>Lovesnoveltyaccounts</th>\n",
       "      <td>1284.0</td>\n",
       "    </tr>\n",
       "  </tbody>\n",
       "</table>\n",
       "</div>"
      ],
      "text/plain": [
       "                       karma\n",
       "author                      \n",
       "barehandhunter        2232.0\n",
       "amativus              1738.0\n",
       "The_Joke_Explained    1596.0\n",
       "-captain-hindsight-   1293.0\n",
       "Lovesnoveltyaccounts  1284.0"
      ]
     },
     "execution_count": 14,
     "metadata": {},
     "output_type": "execute_result"
    }
   ],
   "source": [
    "top_5_avg_author.set_index('author')"
   ]
  },
  {
   "cell_type": "code",
   "execution_count": 15,
   "metadata": {},
   "outputs": [
    {
     "data": {
      "text/html": [
       "<div>\n",
       "<style scoped>\n",
       "    .dataframe tbody tr th:only-of-type {\n",
       "        vertical-align: middle;\n",
       "    }\n",
       "\n",
       "    .dataframe tbody tr th {\n",
       "        vertical-align: top;\n",
       "    }\n",
       "\n",
       "    .dataframe thead th {\n",
       "        text-align: right;\n",
       "    }\n",
       "</style>\n",
       "<table border=\"1\" class=\"dataframe\">\n",
       "  <thead>\n",
       "    <tr style=\"text-align: right;\">\n",
       "      <th></th>\n",
       "      <th>karma</th>\n",
       "    </tr>\n",
       "    <tr>\n",
       "      <th>author</th>\n",
       "      <th></th>\n",
       "    </tr>\n",
       "  </thead>\n",
       "  <tbody>\n",
       "    <tr>\n",
       "      <th>breeedeeer</th>\n",
       "      <td>-113.0</td>\n",
       "    </tr>\n",
       "    <tr>\n",
       "      <th>asdffsd</th>\n",
       "      <td>-78.0</td>\n",
       "    </tr>\n",
       "    <tr>\n",
       "      <th>wikimedia</th>\n",
       "      <td>-65.0</td>\n",
       "    </tr>\n",
       "    <tr>\n",
       "      <th>AttackingHobo</th>\n",
       "      <td>-51.6</td>\n",
       "    </tr>\n",
       "    <tr>\n",
       "      <th>beast_of_a_priest</th>\n",
       "      <td>-47.0</td>\n",
       "    </tr>\n",
       "  </tbody>\n",
       "</table>\n",
       "</div>"
      ],
      "text/plain": [
       "                   karma\n",
       "author                  \n",
       "breeedeeer        -113.0\n",
       "asdffsd            -78.0\n",
       "wikimedia          -65.0\n",
       "AttackingHobo      -51.6\n",
       "beast_of_a_priest  -47.0"
      ]
     },
     "execution_count": 15,
     "metadata": {},
     "output_type": "execute_result"
    }
   ],
   "source": [
    "bottom_5_avg_author.set_index('author')"
   ]
  },
  {
   "cell_type": "code",
   "execution_count": 30,
   "metadata": {},
   "outputs": [
    {
     "data": {
      "text/plain": [
       "<AxesSubplot:xlabel='average karma', ylabel='count of users in bin'>"
      ]
     },
     "execution_count": 30,
     "metadata": {},
     "output_type": "execute_result"
    },
    {
     "data": {
      "image/png": "[encoded data removed]",
      "text/plain": [
       "<Figure size 720x360 with 1 Axes>"
      ]
     },
     "metadata": {
      "needs_background": "light"
     },
     "output_type": "display_data"
    }
   ],
   "source": [
    "karma_by_author_avg['bin'] = pd.qcut(karma_by_author_avg['karma'], q = 50, duplicates = 'drop')\n",
    "avg_author_bins = karma_by_author_avg.groupby('bin')['karma'].count()\n",
    "# title = 'Average Karma for Comments Made by Users (Binned)',\n",
    "avg_author_bins.plot(kind = 'bar', xlabel = 'average karma', ylabel = 'count of users in bin', figsize = (10, 5))"
   ]
  },
  {
   "cell_type": "markdown",
   "metadata": {},
   "source": [
    "### Average Karma For a Comment by Subreddit"
   ]
  },
  {
   "cell_type": "code",
   "execution_count": 17,
   "metadata": {},
   "outputs": [],
   "source": [
    "karma_by_subreddit = pd.DataFrame(cuc.groupby('subreddit')['karma'].mean()).reset_index()"
   ]
  },
  {
   "cell_type": "code",
   "execution_count": 18,
   "metadata": {},
   "outputs": [],
   "source": [
    "top_5_avg_subreddit = karma_by_subreddit.sort_values(by = 'karma', ascending = False).head()\n",
    "bottom_5_avg_subreddit = karma_by_subreddit.sort_values(by = 'karma').head()"
   ]
  },
  {
   "cell_type": "code",
   "execution_count": 19,
   "metadata": {},
   "outputs": [
    {
     "data": {
      "text/html": [
       "<div>\n",
       "<style scoped>\n",
       "    .dataframe tbody tr th:only-of-type {\n",
       "        vertical-align: middle;\n",
       "    }\n",
       "\n",
       "    .dataframe tbody tr th {\n",
       "        vertical-align: top;\n",
       "    }\n",
       "\n",
       "    .dataframe thead th {\n",
       "        text-align: right;\n",
       "    }\n",
       "</style>\n",
       "<table border=\"1\" class=\"dataframe\">\n",
       "  <thead>\n",
       "    <tr style=\"text-align: right;\">\n",
       "      <th></th>\n",
       "      <th>karma</th>\n",
       "    </tr>\n",
       "    <tr>\n",
       "      <th>subreddit</th>\n",
       "      <th></th>\n",
       "    </tr>\n",
       "  </thead>\n",
       "  <tbody>\n",
       "    <tr>\n",
       "      <th>DateRape</th>\n",
       "      <td>27.606780</td>\n",
       "    </tr>\n",
       "    <tr>\n",
       "      <th>republicans</th>\n",
       "      <td>23.000000</td>\n",
       "    </tr>\n",
       "    <tr>\n",
       "      <th>ectalProlapse</th>\n",
       "      <td>14.000000</td>\n",
       "    </tr>\n",
       "    <tr>\n",
       "      <th>VOTE4DICKOFTHEYEAR</th>\n",
       "      <td>12.104167</td>\n",
       "    </tr>\n",
       "    <tr>\n",
       "      <th>redditzine</th>\n",
       "      <td>12.000000</td>\n",
       "    </tr>\n",
       "  </tbody>\n",
       "</table>\n",
       "</div>"
      ],
      "text/plain": [
       "                        karma\n",
       "subreddit                    \n",
       "DateRape            27.606780\n",
       "republicans         23.000000\n",
       "ectalProlapse       14.000000\n",
       "VOTE4DICKOFTHEYEAR  12.104167\n",
       "redditzine          12.000000"
      ]
     },
     "execution_count": 19,
     "metadata": {},
     "output_type": "execute_result"
    }
   ],
   "source": [
    "top_5_avg_subreddit.set_index('subreddit')"
   ]
  },
  {
   "cell_type": "code",
   "execution_count": 20,
   "metadata": {},
   "outputs": [
    {
     "data": {
      "text/html": [
       "<div>\n",
       "<style scoped>\n",
       "    .dataframe tbody tr th:only-of-type {\n",
       "        vertical-align: middle;\n",
       "    }\n",
       "\n",
       "    .dataframe tbody tr th {\n",
       "        vertical-align: top;\n",
       "    }\n",
       "\n",
       "    .dataframe thead th {\n",
       "        text-align: right;\n",
       "    }\n",
       "</style>\n",
       "<table border=\"1\" class=\"dataframe\">\n",
       "  <thead>\n",
       "    <tr style=\"text-align: right;\">\n",
       "      <th></th>\n",
       "      <th>karma</th>\n",
       "    </tr>\n",
       "    <tr>\n",
       "      <th>subreddit</th>\n",
       "      <th></th>\n",
       "    </tr>\n",
       "  </thead>\n",
       "  <tbody>\n",
       "    <tr>\n",
       "      <th>CompulsiveDownvoters</th>\n",
       "      <td>-5.000000</td>\n",
       "    </tr>\n",
       "    <tr>\n",
       "      <th>crybaby</th>\n",
       "      <td>-4.166667</td>\n",
       "    </tr>\n",
       "    <tr>\n",
       "      <th>coke</th>\n",
       "      <td>-2.000000</td>\n",
       "    </tr>\n",
       "    <tr>\n",
       "      <th>NaziHunting</th>\n",
       "      <td>-1.086957</td>\n",
       "    </tr>\n",
       "    <tr>\n",
       "      <th>PornStars</th>\n",
       "      <td>-1.000000</td>\n",
       "    </tr>\n",
       "  </tbody>\n",
       "</table>\n",
       "</div>"
      ],
      "text/plain": [
       "                         karma\n",
       "subreddit                     \n",
       "CompulsiveDownvoters -5.000000\n",
       "crybaby              -4.166667\n",
       "coke                 -2.000000\n",
       "NaziHunting          -1.086957\n",
       "PornStars            -1.000000"
      ]
     },
     "execution_count": 20,
     "metadata": {},
     "output_type": "execute_result"
    }
   ],
   "source": [
    "bottom_5_avg_subreddit.set_index('subreddit')"
   ]
  },
  {
   "cell_type": "code",
   "execution_count": 29,
   "metadata": {},
   "outputs": [
    {
     "data": {
      "text/plain": [
       "<AxesSubplot:xlabel='average karma', ylabel='count of subreddits in bin'>"
      ]
     },
     "execution_count": 29,
     "metadata": {},
     "output_type": "execute_result"
    },
    {
     "data": {
      "image/png": "[encoded data removed]",
      "text/plain": [
       "<Figure size 720x360 with 1 Axes>"
      ]
     },
     "metadata": {
      "needs_background": "light"
     },
     "output_type": "display_data"
    }
   ],
   "source": [
    "karma_by_subreddit['bin'] = pd.qcut(karma_by_subreddit['karma'], q = 100, duplicates = 'drop')\n",
    "subreddit_bins = karma_by_subreddit.groupby('bin')['karma'].count()\n",
    "#  title = 'Average Karma for a Comment by Subreddit (Binned)'\n",
    "subreddit_bins.plot(kind = 'bar', xlabel = 'average karma', ylabel = 'count of subreddits in bin', figsize = (10, 5))"
   ]
  },
  {
   "attachments": {},
   "cell_type": "markdown",
   "metadata": {},
   "source": [
    "### Felicia Plot"
   ]
  },
  {
   "cell_type": "code",
   "execution_count": 22,
   "metadata": {},
   "outputs": [
    {
     "data": {
      "text/html": [
       "<div>\n",
       "<style scoped>\n",
       "    .dataframe tbody tr th:only-of-type {\n",
       "        vertical-align: middle;\n",
       "    }\n",
       "\n",
       "    .dataframe tbody tr th {\n",
       "        vertical-align: top;\n",
       "    }\n",
       "\n",
       "    .dataframe thead th {\n",
       "        text-align: right;\n",
       "    }\n",
       "</style>\n",
       "<table border=\"1\" class=\"dataframe\">\n",
       "  <thead>\n",
       "    <tr style=\"text-align: right;\">\n",
       "      <th></th>\n",
       "      <th>cid</th>\n",
       "      <th>subreddit</th>\n",
       "      <th>created_utc</th>\n",
       "      <th>karma</th>\n",
       "    </tr>\n",
       "  </thead>\n",
       "  <tbody>\n",
       "    <tr>\n",
       "      <th>0</th>\n",
       "      <td>c17frnf</td>\n",
       "      <td>Music</td>\n",
       "      <td>1291161600</td>\n",
       "      <td>-5</td>\n",
       "    </tr>\n",
       "    <tr>\n",
       "      <th>1</th>\n",
       "      <td>c17frng</td>\n",
       "      <td>IAmA</td>\n",
       "      <td>1291161601</td>\n",
       "      <td>8</td>\n",
       "    </tr>\n",
       "    <tr>\n",
       "      <th>2</th>\n",
       "      <td>c17frnh</td>\n",
       "      <td>pics</td>\n",
       "      <td>1291161601</td>\n",
       "      <td>7</td>\n",
       "    </tr>\n",
       "    <tr>\n",
       "      <th>3</th>\n",
       "      <td>c17frnk</td>\n",
       "      <td>funny</td>\n",
       "      <td>1291161605</td>\n",
       "      <td>2</td>\n",
       "    </tr>\n",
       "    <tr>\n",
       "      <th>4</th>\n",
       "      <td>c17frnl</td>\n",
       "      <td>cats</td>\n",
       "      <td>1291161606</td>\n",
       "      <td>1</td>\n",
       "    </tr>\n",
       "    <tr>\n",
       "      <th>...</th>\n",
       "      <td>...</td>\n",
       "      <td>...</td>\n",
       "      <td>...</td>\n",
       "      <td>...</td>\n",
       "    </tr>\n",
       "    <tr>\n",
       "      <th>4701415</th>\n",
       "      <td>c1b06fj</td>\n",
       "      <td>science</td>\n",
       "      <td>1293839997</td>\n",
       "      <td>0</td>\n",
       "    </tr>\n",
       "    <tr>\n",
       "      <th>4701416</th>\n",
       "      <td>c1b06fk</td>\n",
       "      <td>australia</td>\n",
       "      <td>1293839997</td>\n",
       "      <td>2</td>\n",
       "    </tr>\n",
       "    <tr>\n",
       "      <th>4701417</th>\n",
       "      <td>c1b06fm</td>\n",
       "      <td>gaming</td>\n",
       "      <td>1293839997</td>\n",
       "      <td>1</td>\n",
       "    </tr>\n",
       "    <tr>\n",
       "      <th>4701418</th>\n",
       "      <td>c1b06fn</td>\n",
       "      <td>funny</td>\n",
       "      <td>1293839997</td>\n",
       "      <td>-3</td>\n",
       "    </tr>\n",
       "    <tr>\n",
       "      <th>4701419</th>\n",
       "      <td>c1b06fo</td>\n",
       "      <td>apple</td>\n",
       "      <td>1293839998</td>\n",
       "      <td>-4</td>\n",
       "    </tr>\n",
       "  </tbody>\n",
       "</table>\n",
       "<p>4701420 rows × 4 columns</p>\n",
       "</div>"
      ],
      "text/plain": [
       "             cid  subreddit  created_utc  karma\n",
       "0        c17frnf      Music   1291161600     -5\n",
       "1        c17frng       IAmA   1291161601      8\n",
       "2        c17frnh       pics   1291161601      7\n",
       "3        c17frnk      funny   1291161605      2\n",
       "4        c17frnl       cats   1291161606      1\n",
       "...          ...        ...          ...    ...\n",
       "4701415  c1b06fj    science   1293839997      0\n",
       "4701416  c1b06fk  australia   1293839997      2\n",
       "4701417  c1b06fm     gaming   1293839997      1\n",
       "4701418  c1b06fn      funny   1293839997     -3\n",
       "4701419  c1b06fo      apple   1293839998     -4\n",
       "\n",
       "[4701420 rows x 4 columns]"
      ]
     },
     "execution_count": 22,
     "metadata": {},
     "output_type": "execute_result"
    }
   ],
   "source": [
    "comments"
   ]
  },
  {
   "cell_type": "code",
   "execution_count": 23,
   "metadata": {},
   "outputs": [
    {
     "data": {
      "text/html": [
       "<div>\n",
       "<style scoped>\n",
       "    .dataframe tbody tr th:only-of-type {\n",
       "        vertical-align: middle;\n",
       "    }\n",
       "\n",
       "    .dataframe tbody tr th {\n",
       "        vertical-align: top;\n",
       "    }\n",
       "\n",
       "    .dataframe thead th {\n",
       "        text-align: right;\n",
       "    }\n",
       "</style>\n",
       "<table border=\"1\" class=\"dataframe\">\n",
       "  <thead>\n",
       "    <tr style=\"text-align: right;\">\n",
       "      <th></th>\n",
       "      <th>comment_id</th>\n",
       "      <th>subreddit</th>\n",
       "      <th>timestamp</th>\n",
       "      <th>karma</th>\n",
       "    </tr>\n",
       "  </thead>\n",
       "  <tbody>\n",
       "    <tr>\n",
       "      <th>0</th>\n",
       "      <td>c17frnf</td>\n",
       "      <td>Music</td>\n",
       "      <td>2010-11-30 16:00:00</td>\n",
       "      <td>-5</td>\n",
       "    </tr>\n",
       "    <tr>\n",
       "      <th>1</th>\n",
       "      <td>c17frng</td>\n",
       "      <td>IAmA</td>\n",
       "      <td>2010-11-30 16:00:01</td>\n",
       "      <td>8</td>\n",
       "    </tr>\n",
       "    <tr>\n",
       "      <th>2</th>\n",
       "      <td>c17frnh</td>\n",
       "      <td>pics</td>\n",
       "      <td>2010-11-30 16:00:01</td>\n",
       "      <td>7</td>\n",
       "    </tr>\n",
       "    <tr>\n",
       "      <th>3</th>\n",
       "      <td>c17frnk</td>\n",
       "      <td>funny</td>\n",
       "      <td>2010-11-30 16:00:05</td>\n",
       "      <td>2</td>\n",
       "    </tr>\n",
       "    <tr>\n",
       "      <th>4</th>\n",
       "      <td>c17frnl</td>\n",
       "      <td>cats</td>\n",
       "      <td>2010-11-30 16:00:06</td>\n",
       "      <td>1</td>\n",
       "    </tr>\n",
       "    <tr>\n",
       "      <th>...</th>\n",
       "      <td>...</td>\n",
       "      <td>...</td>\n",
       "      <td>...</td>\n",
       "      <td>...</td>\n",
       "    </tr>\n",
       "    <tr>\n",
       "      <th>4701415</th>\n",
       "      <td>c1b06fj</td>\n",
       "      <td>science</td>\n",
       "      <td>2010-12-31 15:59:57</td>\n",
       "      <td>0</td>\n",
       "    </tr>\n",
       "    <tr>\n",
       "      <th>4701416</th>\n",
       "      <td>c1b06fk</td>\n",
       "      <td>australia</td>\n",
       "      <td>2010-12-31 15:59:57</td>\n",
       "      <td>2</td>\n",
       "    </tr>\n",
       "    <tr>\n",
       "      <th>4701417</th>\n",
       "      <td>c1b06fm</td>\n",
       "      <td>gaming</td>\n",
       "      <td>2010-12-31 15:59:57</td>\n",
       "      <td>1</td>\n",
       "    </tr>\n",
       "    <tr>\n",
       "      <th>4701418</th>\n",
       "      <td>c1b06fn</td>\n",
       "      <td>funny</td>\n",
       "      <td>2010-12-31 15:59:57</td>\n",
       "      <td>-3</td>\n",
       "    </tr>\n",
       "    <tr>\n",
       "      <th>4701419</th>\n",
       "      <td>c1b06fo</td>\n",
       "      <td>apple</td>\n",
       "      <td>2010-12-31 15:59:58</td>\n",
       "      <td>-4</td>\n",
       "    </tr>\n",
       "  </tbody>\n",
       "</table>\n",
       "<p>4701420 rows × 4 columns</p>\n",
       "</div>"
      ],
      "text/plain": [
       "        comment_id  subreddit           timestamp  karma\n",
       "0          c17frnf      Music 2010-11-30 16:00:00     -5\n",
       "1          c17frng       IAmA 2010-11-30 16:00:01      8\n",
       "2          c17frnh       pics 2010-11-30 16:00:01      7\n",
       "3          c17frnk      funny 2010-11-30 16:00:05      2\n",
       "4          c17frnl       cats 2010-11-30 16:00:06      1\n",
       "...            ...        ...                 ...    ...\n",
       "4701415    c1b06fj    science 2010-12-31 15:59:57      0\n",
       "4701416    c1b06fk  australia 2010-12-31 15:59:57      2\n",
       "4701417    c1b06fm     gaming 2010-12-31 15:59:57      1\n",
       "4701418    c1b06fn      funny 2010-12-31 15:59:57     -3\n",
       "4701419    c1b06fo      apple 2010-12-31 15:59:58     -4\n",
       "\n",
       "[4701420 rows x 4 columns]"
      ]
     },
     "execution_count": 23,
     "metadata": {},
     "output_type": "execute_result"
    }
   ],
   "source": [
    "comments.columns = ['comment_id', \n",
    "              'subreddit', \n",
    "              'timestamp', \n",
    "              'karma']\n",
    "def convert_to_dt(timestamp):\n",
    "    dt = datetime.fromtimestamp(timestamp)\n",
    "    return dt\n",
    "\n",
    "try:\n",
    "    comments['timestamp'] = comments['timestamp'].apply(convert_to_dt)\n",
    "except:\n",
    "    pass\n",
    "\n",
    "comments"
   ]
  },
  {
   "cell_type": "code",
   "execution_count": 24,
   "metadata": {},
   "outputs": [],
   "source": [
    "\n",
    "\n",
    "# these should be scaled up with a larger dataset:\n",
    "# instead of going day by day or hour by hour we can see aggregates by month/year\n",
    "comments['year'] = pd.DatetimeIndex(comments['timestamp']).year\n",
    "comments['month'] = pd.DatetimeIndex(comments['timestamp']).month\n",
    "comments['day'] = pd.DatetimeIndex(comments['timestamp']).day\n",
    "comments['hour'] = pd.DatetimeIndex(comments['timestamp']).hour\n",
    "comments['weekday'] = pd.DatetimeIndex(comments['timestamp']).weekday"
   ]
  },
  {
   "cell_type": "code",
   "execution_count": 25,
   "metadata": {},
   "outputs": [
    {
     "data": {
      "text/html": [
       "<div>\n",
       "<style scoped>\n",
       "    .dataframe tbody tr th:only-of-type {\n",
       "        vertical-align: middle;\n",
       "    }\n",
       "\n",
       "    .dataframe tbody tr th {\n",
       "        vertical-align: top;\n",
       "    }\n",
       "\n",
       "    .dataframe thead th {\n",
       "        text-align: right;\n",
       "    }\n",
       "</style>\n",
       "<table border=\"1\" class=\"dataframe\">\n",
       "  <thead>\n",
       "    <tr style=\"text-align: right;\">\n",
       "      <th></th>\n",
       "      <th>comment_id</th>\n",
       "      <th>subreddit</th>\n",
       "      <th>timestamp</th>\n",
       "      <th>karma</th>\n",
       "      <th>year</th>\n",
       "      <th>month</th>\n",
       "      <th>day</th>\n",
       "      <th>hour</th>\n",
       "      <th>weekday</th>\n",
       "    </tr>\n",
       "  </thead>\n",
       "  <tbody>\n",
       "    <tr>\n",
       "      <th>0</th>\n",
       "      <td>c17frnf</td>\n",
       "      <td>Music</td>\n",
       "      <td>2010-11-30 16:00:00</td>\n",
       "      <td>-5</td>\n",
       "      <td>2010</td>\n",
       "      <td>11</td>\n",
       "      <td>30</td>\n",
       "      <td>16</td>\n",
       "      <td>1</td>\n",
       "    </tr>\n",
       "    <tr>\n",
       "      <th>1</th>\n",
       "      <td>c17frng</td>\n",
       "      <td>IAmA</td>\n",
       "      <td>2010-11-30 16:00:01</td>\n",
       "      <td>8</td>\n",
       "      <td>2010</td>\n",
       "      <td>11</td>\n",
       "      <td>30</td>\n",
       "      <td>16</td>\n",
       "      <td>1</td>\n",
       "    </tr>\n",
       "    <tr>\n",
       "      <th>2</th>\n",
       "      <td>c17frnh</td>\n",
       "      <td>pics</td>\n",
       "      <td>2010-11-30 16:00:01</td>\n",
       "      <td>7</td>\n",
       "      <td>2010</td>\n",
       "      <td>11</td>\n",
       "      <td>30</td>\n",
       "      <td>16</td>\n",
       "      <td>1</td>\n",
       "    </tr>\n",
       "    <tr>\n",
       "      <th>3</th>\n",
       "      <td>c17frnk</td>\n",
       "      <td>funny</td>\n",
       "      <td>2010-11-30 16:00:05</td>\n",
       "      <td>2</td>\n",
       "      <td>2010</td>\n",
       "      <td>11</td>\n",
       "      <td>30</td>\n",
       "      <td>16</td>\n",
       "      <td>1</td>\n",
       "    </tr>\n",
       "    <tr>\n",
       "      <th>4</th>\n",
       "      <td>c17frnl</td>\n",
       "      <td>cats</td>\n",
       "      <td>2010-11-30 16:00:06</td>\n",
       "      <td>1</td>\n",
       "      <td>2010</td>\n",
       "      <td>11</td>\n",
       "      <td>30</td>\n",
       "      <td>16</td>\n",
       "      <td>1</td>\n",
       "    </tr>\n",
       "    <tr>\n",
       "      <th>...</th>\n",
       "      <td>...</td>\n",
       "      <td>...</td>\n",
       "      <td>...</td>\n",
       "      <td>...</td>\n",
       "      <td>...</td>\n",
       "      <td>...</td>\n",
       "      <td>...</td>\n",
       "      <td>...</td>\n",
       "      <td>...</td>\n",
       "    </tr>\n",
       "    <tr>\n",
       "      <th>4701415</th>\n",
       "      <td>c1b06fj</td>\n",
       "      <td>science</td>\n",
       "      <td>2010-12-31 15:59:57</td>\n",
       "      <td>0</td>\n",
       "      <td>2010</td>\n",
       "      <td>12</td>\n",
       "      <td>31</td>\n",
       "      <td>15</td>\n",
       "      <td>4</td>\n",
       "    </tr>\n",
       "    <tr>\n",
       "      <th>4701416</th>\n",
       "      <td>c1b06fk</td>\n",
       "      <td>australia</td>\n",
       "      <td>2010-12-31 15:59:57</td>\n",
       "      <td>2</td>\n",
       "      <td>2010</td>\n",
       "      <td>12</td>\n",
       "      <td>31</td>\n",
       "      <td>15</td>\n",
       "      <td>4</td>\n",
       "    </tr>\n",
       "    <tr>\n",
       "      <th>4701417</th>\n",
       "      <td>c1b06fm</td>\n",
       "      <td>gaming</td>\n",
       "      <td>2010-12-31 15:59:57</td>\n",
       "      <td>1</td>\n",
       "      <td>2010</td>\n",
       "      <td>12</td>\n",
       "      <td>31</td>\n",
       "      <td>15</td>\n",
       "      <td>4</td>\n",
       "    </tr>\n",
       "    <tr>\n",
       "      <th>4701418</th>\n",
       "      <td>c1b06fn</td>\n",
       "      <td>funny</td>\n",
       "      <td>2010-12-31 15:59:57</td>\n",
       "      <td>-3</td>\n",
       "      <td>2010</td>\n",
       "      <td>12</td>\n",
       "      <td>31</td>\n",
       "      <td>15</td>\n",
       "      <td>4</td>\n",
       "    </tr>\n",
       "    <tr>\n",
       "      <th>4701419</th>\n",
       "      <td>c1b06fo</td>\n",
       "      <td>apple</td>\n",
       "      <td>2010-12-31 15:59:58</td>\n",
       "      <td>-4</td>\n",
       "      <td>2010</td>\n",
       "      <td>12</td>\n",
       "      <td>31</td>\n",
       "      <td>15</td>\n",
       "      <td>4</td>\n",
       "    </tr>\n",
       "  </tbody>\n",
       "</table>\n",
       "<p>4701420 rows × 9 columns</p>\n",
       "</div>"
      ],
      "text/plain": [
       "        comment_id  subreddit           timestamp  karma  year  month  day  \\\n",
       "0          c17frnf      Music 2010-11-30 16:00:00     -5  2010     11   30   \n",
       "1          c17frng       IAmA 2010-11-30 16:00:01      8  2010     11   30   \n",
       "2          c17frnh       pics 2010-11-30 16:00:01      7  2010     11   30   \n",
       "3          c17frnk      funny 2010-11-30 16:00:05      2  2010     11   30   \n",
       "4          c17frnl       cats 2010-11-30 16:00:06      1  2010     11   30   \n",
       "...            ...        ...                 ...    ...   ...    ...  ...   \n",
       "4701415    c1b06fj    science 2010-12-31 15:59:57      0  2010     12   31   \n",
       "4701416    c1b06fk  australia 2010-12-31 15:59:57      2  2010     12   31   \n",
       "4701417    c1b06fm     gaming 2010-12-31 15:59:57      1  2010     12   31   \n",
       "4701418    c1b06fn      funny 2010-12-31 15:59:57     -3  2010     12   31   \n",
       "4701419    c1b06fo      apple 2010-12-31 15:59:58     -4  2010     12   31   \n",
       "\n",
       "         hour  weekday  \n",
       "0          16        1  \n",
       "1          16        1  \n",
       "2          16        1  \n",
       "3          16        1  \n",
       "4          16        1  \n",
       "...       ...      ...  \n",
       "4701415    15        4  \n",
       "4701416    15        4  \n",
       "4701417    15        4  \n",
       "4701418    15        4  \n",
       "4701419    15        4  \n",
       "\n",
       "[4701420 rows x 9 columns]"
      ]
     },
     "execution_count": 25,
     "metadata": {},
     "output_type": "execute_result"
    }
   ],
   "source": [
    "comments"
   ]
  },
  {
   "cell_type": "code",
   "execution_count": 26,
   "metadata": {},
   "outputs": [
    {
     "data": {
      "text/plain": [
       "month  day\n",
       "12     1      151284\n",
       "       2      127638\n",
       "       3      159309\n",
       "       4      120771\n",
       "       5      133489\n",
       "       6      167630\n",
       "       7      174313\n",
       "       8      175478\n",
       "       9      172127\n",
       "       10     160426\n",
       "       11     135179\n",
       "       12     148638\n",
       "       13     178487\n",
       "       14     170594\n",
       "       15     182470\n",
       "       16     172948\n",
       "       17     157330\n",
       "       18     126930\n",
       "       19     130086\n",
       "       20     155943\n",
       "       21     162464\n",
       "       22     163575\n",
       "       23     141843\n",
       "       24     107482\n",
       "       25     113165\n",
       "       26     116168\n",
       "       27     151338\n",
       "       28     163108\n",
       "       29     172834\n",
       "       30     160374\n",
       "       31      84858\n",
       "Name: comment_id, dtype: int64"
      ]
     },
     "execution_count": 26,
     "metadata": {},
     "output_type": "execute_result"
    }
   ],
   "source": [
    "grouped = comments.groupby(['month', 'day']).count()\n",
    "grouped\n",
    "december = grouped[1:]['comment_id']\n",
    "december"
   ]
  },
  {
   "cell_type": "code",
   "execution_count": 27,
   "metadata": {},
   "outputs": [
    {
     "data": {
      "text/plain": [
       "array([151284, 127638, 159309, 120771, 133489, 167630, 174313, 175478,\n",
       "       172127, 160426, 135179, 148638, 178487, 170594, 182470, 172948,\n",
       "       157330, 126930, 130086, 155943, 162464, 163575, 141843, 107482,\n",
       "       113165, 116168, 151338, 163108, 172834, 160374,  84858],\n",
       "      dtype=int64)"
      ]
     },
     "execution_count": 27,
     "metadata": {},
     "output_type": "execute_result"
    }
   ],
   "source": [
    "december.values"
   ]
  },
  {
   "cell_type": "code",
   "execution_count": 28,
   "metadata": {},
   "outputs": [
    {
     "data": {
      "text/plain": [
       "<BarContainer object of 31 artists>"
      ]
     },
     "execution_count": 28,
     "metadata": {},
     "output_type": "execute_result"
    },
    {
     "data": {
      "image/png": "[encoded data removed]",
      "text/plain": [
       "<Figure size 720x720 with 1 Axes>"
      ]
     },
     "metadata": {
      "needs_background": "light"
     },
     "output_type": "display_data"
    }
   ],
   "source": [
    "\n",
    "# plotting volume against days in december\n",
    "fig, axes = plt.subplots(figsize=(10, 10))\n",
    "plt.bar(range(1, 32), december.values)"
   ]
  },
  {
   "attachments": {},
   "cell_type": "markdown",
   "metadata": {},
   "source": [
    "### Ryan Plots"
   ]
  },
  {
   "cell_type": "code",
   "execution_count": 33,
   "metadata": {},
   "outputs": [],
   "source": [
    "users = pd.read_csv('../data/out/users.csv')\n",
    "users_cmts = pd.read_csv('../data/out/users_comments.csv')\n",
    "cmts = pd.read_csv('../data/out/comments.csv')\n",
    "cmts_cmts = pd.read_csv('../data/out/comments_comments.csv')"
   ]
  },
  {
   "cell_type": "code",
   "execution_count": 45,
   "metadata": {},
   "outputs": [
    {
     "data": {
      "text/html": [
       "<div>\n",
       "<style scoped>\n",
       "    .dataframe tbody tr th:only-of-type {\n",
       "        vertical-align: middle;\n",
       "    }\n",
       "\n",
       "    .dataframe tbody tr th {\n",
       "        vertical-align: top;\n",
       "    }\n",
       "\n",
       "    .dataframe thead th {\n",
       "        text-align: right;\n",
       "    }\n",
       "</style>\n",
       "<table border=\"1\" class=\"dataframe\">\n",
       "  <thead>\n",
       "    <tr style=\"text-align: right;\">\n",
       "      <th></th>\n",
       "      <th>_silentheartsong</th>\n",
       "      <th>c17frnf</th>\n",
       "    </tr>\n",
       "  </thead>\n",
       "  <tbody>\n",
       "    <tr>\n",
       "      <th>0</th>\n",
       "      <td>product19</td>\n",
       "      <td>c17frng</td>\n",
       "    </tr>\n",
       "    <tr>\n",
       "      <th>1</th>\n",
       "      <td>RegularFreddieWilson</td>\n",
       "      <td>c17frnh</td>\n",
       "    </tr>\n",
       "    <tr>\n",
       "      <th>2</th>\n",
       "      <td>superdarkness</td>\n",
       "      <td>c17frnk</td>\n",
       "    </tr>\n",
       "    <tr>\n",
       "      <th>3</th>\n",
       "      <td>dockmarlin</td>\n",
       "      <td>c17frnl</td>\n",
       "    </tr>\n",
       "    <tr>\n",
       "      <th>4</th>\n",
       "      <td>snotrokit</td>\n",
       "      <td>c17frnm</td>\n",
       "    </tr>\n",
       "    <tr>\n",
       "      <th>...</th>\n",
       "      <td>...</td>\n",
       "      <td>...</td>\n",
       "    </tr>\n",
       "    <tr>\n",
       "      <th>4701414</th>\n",
       "      <td>Priapulid</td>\n",
       "      <td>c1b06fj</td>\n",
       "    </tr>\n",
       "    <tr>\n",
       "      <th>4701415</th>\n",
       "      <td>ButterflyEffect</td>\n",
       "      <td>c1b06fk</td>\n",
       "    </tr>\n",
       "    <tr>\n",
       "      <th>4701416</th>\n",
       "      <td>Mishkan</td>\n",
       "      <td>c1b06fm</td>\n",
       "    </tr>\n",
       "    <tr>\n",
       "      <th>4701417</th>\n",
       "      <td>wildbangappears</td>\n",
       "      <td>c1b06fn</td>\n",
       "    </tr>\n",
       "    <tr>\n",
       "      <th>4701418</th>\n",
       "      <td>wjv</td>\n",
       "      <td>c1b06fo</td>\n",
       "    </tr>\n",
       "  </tbody>\n",
       "</table>\n",
       "<p>4701419 rows × 2 columns</p>\n",
       "</div>"
      ],
      "text/plain": [
       "             _silentheartsong  c17frnf\n",
       "0                   product19  c17frng\n",
       "1        RegularFreddieWilson  c17frnh\n",
       "2               superdarkness  c17frnk\n",
       "3                  dockmarlin  c17frnl\n",
       "4                   snotrokit  c17frnm\n",
       "...                       ...      ...\n",
       "4701414             Priapulid  c1b06fj\n",
       "4701415       ButterflyEffect  c1b06fk\n",
       "4701416               Mishkan  c1b06fm\n",
       "4701417       wildbangappears  c1b06fn\n",
       "4701418                   wjv  c1b06fo\n",
       "\n",
       "[4701419 rows x 2 columns]"
      ]
     },
     "execution_count": 45,
     "metadata": {},
     "output_type": "execute_result"
    }
   ],
   "source": [
    "users_cmts"
   ]
  },
  {
   "cell_type": "code",
   "execution_count": 35,
   "metadata": {},
   "outputs": [
    {
     "data": {
      "text/html": [
       "<div>\n",
       "<style scoped>\n",
       "    .dataframe tbody tr th:only-of-type {\n",
       "        vertical-align: middle;\n",
       "    }\n",
       "\n",
       "    .dataframe tbody tr th {\n",
       "        vertical-align: top;\n",
       "    }\n",
       "\n",
       "    .dataframe thead th {\n",
       "        text-align: right;\n",
       "    }\n",
       "</style>\n",
       "<table border=\"1\" class=\"dataframe\">\n",
       "  <thead>\n",
       "    <tr style=\"text-align: right;\">\n",
       "      <th></th>\n",
       "      <th>_silentheartsong</th>\n",
       "      <th>c17frnf</th>\n",
       "      <th>Music</th>\n",
       "      <th>1291161600</th>\n",
       "      <th>-5</th>\n",
       "    </tr>\n",
       "  </thead>\n",
       "  <tbody>\n",
       "    <tr>\n",
       "      <th>0</th>\n",
       "      <td>product19</td>\n",
       "      <td>c17frng</td>\n",
       "      <td>IAmA</td>\n",
       "      <td>1291161601</td>\n",
       "      <td>8</td>\n",
       "    </tr>\n",
       "    <tr>\n",
       "      <th>1</th>\n",
       "      <td>RegularFreddieWilson</td>\n",
       "      <td>c17frnh</td>\n",
       "      <td>pics</td>\n",
       "      <td>1291161601</td>\n",
       "      <td>7</td>\n",
       "    </tr>\n",
       "    <tr>\n",
       "      <th>2</th>\n",
       "      <td>superdarkness</td>\n",
       "      <td>c17frnk</td>\n",
       "      <td>funny</td>\n",
       "      <td>1291161605</td>\n",
       "      <td>2</td>\n",
       "    </tr>\n",
       "    <tr>\n",
       "      <th>3</th>\n",
       "      <td>dockmarlin</td>\n",
       "      <td>c17frnl</td>\n",
       "      <td>cats</td>\n",
       "      <td>1291161606</td>\n",
       "      <td>1</td>\n",
       "    </tr>\n",
       "    <tr>\n",
       "      <th>4</th>\n",
       "      <td>snotrokit</td>\n",
       "      <td>c17frnm</td>\n",
       "      <td>pics</td>\n",
       "      <td>1291161606</td>\n",
       "      <td>19</td>\n",
       "    </tr>\n",
       "  </tbody>\n",
       "</table>\n",
       "</div>"
      ],
      "text/plain": [
       "       _silentheartsong  c17frnf  Music  1291161600  -5\n",
       "0             product19  c17frng   IAmA  1291161601   8\n",
       "1  RegularFreddieWilson  c17frnh   pics  1291161601   7\n",
       "2         superdarkness  c17frnk  funny  1291161605   2\n",
       "3            dockmarlin  c17frnl   cats  1291161606   1\n",
       "4             snotrokit  c17frnm   pics  1291161606  19"
      ]
     },
     "execution_count": 35,
     "metadata": {},
     "output_type": "execute_result"
    }
   ],
   "source": [
    "\n",
    "users_reddits = users_cmts.merge(cmts.rename({'c17frng':'c17frnf'}, axis=1), on='c17frnf', how='left')\n",
    "users_reddits.head()"
   ]
  },
  {
   "cell_type": "code",
   "execution_count": 47,
   "metadata": {},
   "outputs": [
    {
     "data": {
      "image/png": "[encoded data removed]",
      "text/plain": [
       "<Figure size 432x288 with 1 Axes>"
      ]
     },
     "metadata": {
      "needs_background": "light"
     },
     "output_type": "display_data"
    }
   ],
   "source": [
    "df = users_reddits.groupby(by='Music').nunique().rename({'_silentheartsong':'count'}, axis=1)[['count']].reset_index().rename({'Music':'subreddit'})\n",
    "top_10_subs = df.sort_values('count', ascending=False).head(10)\n",
    "\n",
    "\n",
    "sns.barplot(data=top_10_subs, x=\"Music\", y=\"count\")\n",
    "plt.xticks(rotation=80)\n",
    "# plt.title('Top 10 Subreddits with Unique Users')\n",
    "plt.xlabel('Subreddits')\n",
    "plt.ylabel('Number of Unique Users')\n",
    "plt.show()"
   ]
  },
  {
   "cell_type": "code",
   "execution_count": 49,
   "metadata": {},
   "outputs": [
    {
     "data": {
      "image/png": "[encoded data removed]",
      "text/plain": [
       "<Figure size 432x288 with 1 Axes>"
      ]
     },
     "metadata": {},
     "output_type": "display_data"
    }
   ],
   "source": [
    "users_cmt_cnt = users_cmts.groupby('_silentheartsong').nunique().reset_index().rename({'_silentheartsong':'usernames', 'c17frnf':'num_cmts'}, axis=1).sort_values('num_cmts', ascending=False)\n",
    "\n",
    "def bin(x):\n",
    "    if x == 1:\n",
    "        return '1 comment'\n",
    "    elif 1 < x < 11:\n",
    "        return '2 - 10 comments'\n",
    "    elif 11 <= x:\n",
    "        return '10+ comments'\n",
    "\n",
    "users_cmt_cnt['range'] = users_cmt_cnt['num_cmts'].apply(bin)\n",
    "simp = users_cmt_cnt['range'].value_counts(normalize=True).to_frame().reset_index()\n",
    "\n",
    "data = simp['range']\n",
    "labels = simp['index']\n",
    "\n",
    "colors = sns.color_palette('pastel')[0:5]\n",
    "\n",
    "plt.pie(data, labels = labels, colors = colors, autopct='%.0f%%')\n",
    "# plt.title('Distribution of comments made by Users')\n",
    "plt.show()"
   ]
  },
  {
   "cell_type": "code",
   "execution_count": null,
   "metadata": {},
   "outputs": [],
   "source": []
  }
 ],
 "metadata": {
  "kernelspec": {
   "display_name": "Python 3.8.6 64-bit",
   "language": "python",
   "name": "python3"
  },
  "language_info": {
   "codemirror_mode": {
    "name": "ipython",
    "version": 3
   },
   "file_extension": ".py",
   "mimetype": "text/x-python",
   "name": "python",
   "nbconvert_exporter": "python",
   "pygments_lexer": "ipython3",
   "version": "3.8.6"
  },
  "orig_nbformat": 4,
  "vscode": {
   "interpreter": {
    "hash": "6a82a2736f4e30ecddee8e03be653c31f8ea8f45af7fb118f94e1afed2a8b07d"
   }
  }
 },
 "nbformat": 4,
 "nbformat_minor": 2
}
