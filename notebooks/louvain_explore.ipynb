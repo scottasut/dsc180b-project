{
 "cells": [
  {
   "cell_type": "markdown",
   "id": "81aadf8d",
   "metadata": {},
   "source": [
    "# Louvain Algorithm for Community Detection"
   ]
  },
  {
   "cell_type": "markdown",
   "id": "d84b0660",
   "metadata": {},
   "source": [
    "The Louvain algorithm is a community detection algorithm. It works on weighted edges, undirected edges, homogeneous vertex types and heterogeneous vertex types. Our Reddit graph is composed of three classes of nodes: \"Users\", \"Comments\", and \"Subreddits\", making it a heterogeneous graph."
   ]
  },
  {
   "cell_type": "code",
   "execution_count": 38,
   "id": "3847f6e6",
   "metadata": {},
   "outputs": [],
   "source": [
    "# pip install ipycytoscape"
   ]
  },
  {
   "cell_type": "code",
   "execution_count": 39,
   "id": "e3f0fab8",
   "metadata": {},
   "outputs": [],
   "source": [
    "import pyTigerGraph\n",
    "from pyTigerGraph.datasets import Datasets\n",
    "from pyTigerGraph.visualization import drawSchema\n",
    "from pyTigerGraph import TigerGraphConnection\n",
    "import json\n",
    "\n",
    "# Read in DB configs\n",
    "with open('config.json', \"r\") as config_file:\n",
    "    config = json.load(config_file)\n",
    "\n",
    "conn = TigerGraphConnection(\n",
    "    host=config[\"host\"],\n",
    "    graphname=config[\"graphname\"],\n",
    "    username=config[\"username\"],\n",
    "    password=config[\"password\"],\n",
    ")"
   ]
  },
  {
   "cell_type": "code",
   "execution_count": 40,
   "id": "d074f396",
   "metadata": {},
   "outputs": [
    {
     "ename": "KeyError",
     "evalue": "'error'",
     "output_type": "error",
     "traceback": [
      "\u001b[0;31m---------------------------------------------------------------------------\u001b[0m",
      "\u001b[0;31mKeyError\u001b[0m                                  Traceback (most recent call last)",
      "Input \u001b[0;32mIn [40]\u001b[0m, in \u001b[0;36m<cell line: 2>\u001b[0;34m()\u001b[0m\n\u001b[1;32m      1\u001b[0m \u001b[38;5;66;03m# graph secret (replace this)\u001b[39;00m\n\u001b[0;32m----> 2\u001b[0m \u001b[43mconn\u001b[49m\u001b[38;5;241;43m.\u001b[39;49m\u001b[43mgetToken\u001b[49m\u001b[43m(\u001b[49m\u001b[38;5;124;43m\"\u001b[39;49m\u001b[38;5;124;43mpm3jg7ns6cnhfl6nuqql2c0or0mts64h\u001b[39;49m\u001b[38;5;124;43m\"\u001b[39;49m\u001b[43m)\u001b[49m\n\u001b[1;32m      3\u001b[0m \u001b[38;5;28mprint\u001b[39m(conn\u001b[38;5;241m.\u001b[39mecho())\n",
      "File \u001b[0;32m~/opt/anaconda3/lib/python3.9/site-packages/pyTigerGraph/pyTigerGraphAuth.py:257\u001b[0m, in \u001b[0;36mpyTigerGraphAuth.getToken\u001b[0;34m(self, secret, setToken, lifetime)\u001b[0m\n\u001b[1;32m    254\u001b[0m     \u001b[38;5;28;01mexcept\u001b[39;00m:\n\u001b[1;32m    255\u001b[0m         success \u001b[38;5;241m=\u001b[39m \u001b[38;5;28;01mFalse\u001b[39;00m\n\u001b[0;32m--> 257\u001b[0m \u001b[38;5;28;01mif\u001b[39;00m \u001b[38;5;129;01mnot\u001b[39;00m \u001b[43mres\u001b[49m\u001b[43m[\u001b[49m\u001b[38;5;124;43m\"\u001b[39;49m\u001b[38;5;124;43merror\u001b[39;49m\u001b[38;5;124;43m\"\u001b[39;49m\u001b[43m]\u001b[49m:\n\u001b[1;32m    258\u001b[0m     \u001b[38;5;28;01mif\u001b[39;00m setToken:\n\u001b[1;32m    259\u001b[0m         \u001b[38;5;28mself\u001b[39m\u001b[38;5;241m.\u001b[39mapiToken \u001b[38;5;241m=\u001b[39m res[\u001b[38;5;124m\"\u001b[39m\u001b[38;5;124mtoken\u001b[39m\u001b[38;5;124m\"\u001b[39m]\n",
      "\u001b[0;31mKeyError\u001b[0m: 'error'"
     ]
    }
   ],
   "source": [
    "# graph secret (replace this)\n",
    "conn.getToken(\"pm3jg7ns6cnhfl6nuqql2c0or0mts64h\")\n",
    "print(conn.echo())"
   ]
  },
  {
   "cell_type": "code",
   "execution_count": 7,
   "id": "1e5162c2",
   "metadata": {},
   "outputs": [
    {
     "name": "stdout",
     "output_type": "stream",
     "text": [
      "['User', 'Comment', 'Subreddit']\n"
     ]
    }
   ],
   "source": [
    "print(conn.getVertexTypes())"
   ]
  },
  {
   "cell_type": "code",
   "execution_count": 8,
   "id": "77426015",
   "metadata": {},
   "outputs": [
    {
     "name": "stdout",
     "output_type": "stream",
     "text": [
      "['wrote', 'belongs_to', 'replied_to']\n"
     ]
    }
   ],
   "source": [
    "print(conn.getEdgeTypes())"
   ]
  },
  {
   "cell_type": "code",
   "execution_count": 10,
   "id": "dcf7a1b2",
   "metadata": {},
   "outputs": [
    {
     "data": {
      "application/vnd.jupyter.widget-view+json": {
       "model_id": "c592f5c185d94bb6856682d3f15d2efd",
       "version_major": 2,
       "version_minor": 0
      },
      "text/plain": [
       "CytoscapeWidget(cytoscape_layout={'name': 'circle', 'animate': True, 'padding': 1}, cytoscape_style=[{'selecto…"
      ]
     },
     "metadata": {},
     "output_type": "display_data"
    }
   ],
   "source": [
    "# need to pip install icytoscape for vis to work\n",
    "\n",
    "drawSchema(conn.getSchema(force=True))"
   ]
  },
  {
   "cell_type": "code",
   "execution_count": 29,
   "id": "ae79cadf",
   "metadata": {},
   "outputs": [
    {
     "name": "stdout",
     "output_type": "stream",
     "text": [
      "Parameters for tg_louvain (parameter: type [= default value]):\n",
      "- v_type: SET<STRING>\n",
      "- e_type: SET<STRING>\n",
      "- wt_attr: str = \"weight\"\n",
      "- max_iter: int = 10\n",
      "- result_attr: str = \"cid\"\n",
      "- file_path: str = \"\"\n",
      "- print_info: bool = False\n"
     ]
    },
    {
     "data": {
      "text/plain": [
       "{'v_type': None,\n",
       " 'e_type': None,\n",
       " 'wt_attr': 'weight',\n",
       " 'max_iter': 10,\n",
       " 'result_attr': 'cid',\n",
       " 'file_path': '',\n",
       " 'print_info': False}"
      ]
     },
     "execution_count": 29,
     "metadata": {},
     "output_type": "execute_result"
    }
   ],
   "source": [
    "# original params with \"v_type_set\"/\"v_edge_set\" does not work, change to v_type/e_type\n",
    "feat.getParams(\"tg_louvain\")"
   ]
  },
  {
   "cell_type": "code",
   "execution_count": 11,
   "id": "fcc68cec",
   "metadata": {},
   "outputs": [],
   "source": [
    "# need to actually install weighted edges onto graph\n",
    "feat = conn.gds.featurizer()"
   ]
  },
  {
   "cell_type": "code",
   "execution_count": 12,
   "id": "a707360a",
   "metadata": {},
   "outputs": [
    {
     "name": "stdout",
     "output_type": "stream",
     "text": [
      "Available algorithms for Community:\n",
      "  connected_components:\n",
      "    strongly_connected_components:\n",
      "      01. name: tg_scc\n",
      "  k_core:\n",
      "    02. name: tg_kcore\n",
      "  label_propagation:\n",
      "    03. name: tg_label_prop\n",
      "  local_clustering_coefficient:\n",
      "    04. name: tg_lcc\n",
      "  louvain:\n",
      "    05. name: tg_louvain\n",
      "  triangle_counting:\n",
      "    06. name: tg_tri_count_fast\n",
      "Call runAlgorithm() with the algorithm name to execute it\n"
     ]
    }
   ],
   "source": [
    "feat.listAlgorithms(\"Community\")"
   ]
  },
  {
   "cell_type": "code",
   "execution_count": 36,
   "id": "0bd173b2",
   "metadata": {},
   "outputs": [
    {
     "name": "stdout",
     "output_type": "stream",
     "text": [
      "Altering graph schema to save results...\n",
      "The job add_VERTEX_attr_SAFPhz completes in 42.631 seconds!\n"
     ]
    }
   ],
   "source": [
    "#louvain params/how do params change w multiple v/e types\n",
    "params = {\n",
    "    'v_type': \"User\",\n",
    "    'e_type': \"wrote\",\n",
    "    'wt_attr': 'weight',\n",
    "    'max_iter': 10,\n",
    "    'result_attr': 'tg_louvain',\n",
    "    'file_path': '',\n",
    "    'print_info': False}\n",
    "\n",
    "res = feat.runAlgorithm(\"tg_louvain\", params = params)"
   ]
  },
  {
   "cell_type": "code",
   "execution_count": 37,
   "id": "fdc284b1",
   "metadata": {},
   "outputs": [
    {
     "data": {
      "text/html": [
       "<div>\n",
       "<style scoped>\n",
       "    .dataframe tbody tr th:only-of-type {\n",
       "        vertical-align: middle;\n",
       "    }\n",
       "\n",
       "    .dataframe tbody tr th {\n",
       "        vertical-align: top;\n",
       "    }\n",
       "\n",
       "    .dataframe thead th {\n",
       "        text-align: right;\n",
       "    }\n",
       "</style>\n",
       "<table border=\"1\" class=\"dataframe\">\n",
       "  <thead>\n",
       "    <tr style=\"text-align: right;\">\n",
       "      <th></th>\n",
       "      <th>v_id</th>\n",
       "      <th>is_train</th>\n",
       "      <th>is_test</th>\n",
       "      <th>cid</th>\n",
       "      <th>tg_louvain</th>\n",
       "    </tr>\n",
       "  </thead>\n",
       "  <tbody>\n",
       "    <tr>\n",
       "      <th>0</th>\n",
       "      <td>lastcall32</td>\n",
       "      <td>False</td>\n",
       "      <td>False</td>\n",
       "      <td>761266176</td>\n",
       "      <td>761266176</td>\n",
       "    </tr>\n",
       "    <tr>\n",
       "      <th>1</th>\n",
       "      <td>SomethingVulgar</td>\n",
       "      <td>False</td>\n",
       "      <td>False</td>\n",
       "      <td>726808827</td>\n",
       "      <td>-1</td>\n",
       "    </tr>\n",
       "    <tr>\n",
       "      <th>2</th>\n",
       "      <td>daplane</td>\n",
       "      <td>False</td>\n",
       "      <td>False</td>\n",
       "      <td>719468411</td>\n",
       "      <td>-1</td>\n",
       "    </tr>\n",
       "    <tr>\n",
       "      <th>3</th>\n",
       "      <td>subslol</td>\n",
       "      <td>False</td>\n",
       "      <td>False</td>\n",
       "      <td>717372018</td>\n",
       "      <td>-1</td>\n",
       "    </tr>\n",
       "    <tr>\n",
       "      <th>4</th>\n",
       "      <td>Reads2Fast</td>\n",
       "      <td>False</td>\n",
       "      <td>False</td>\n",
       "      <td>717372045</td>\n",
       "      <td>-1</td>\n",
       "    </tr>\n",
       "    <tr>\n",
       "      <th>...</th>\n",
       "      <td>...</td>\n",
       "      <td>...</td>\n",
       "      <td>...</td>\n",
       "      <td>...</td>\n",
       "      <td>...</td>\n",
       "    </tr>\n",
       "    <tr>\n",
       "      <th>995</th>\n",
       "      <td>buncle</td>\n",
       "      <td>False</td>\n",
       "      <td>False</td>\n",
       "      <td>761267171</td>\n",
       "      <td>761267171</td>\n",
       "    </tr>\n",
       "    <tr>\n",
       "      <th>996</th>\n",
       "      <td>keithrolf</td>\n",
       "      <td>False</td>\n",
       "      <td>False</td>\n",
       "      <td>761267172</td>\n",
       "      <td>761267172</td>\n",
       "    </tr>\n",
       "    <tr>\n",
       "      <th>997</th>\n",
       "      <td>baddspellar</td>\n",
       "      <td>False</td>\n",
       "      <td>False</td>\n",
       "      <td>761267173</td>\n",
       "      <td>761267173</td>\n",
       "    </tr>\n",
       "    <tr>\n",
       "      <th>998</th>\n",
       "      <td>talas43</td>\n",
       "      <td>False</td>\n",
       "      <td>False</td>\n",
       "      <td>761267174</td>\n",
       "      <td>761267174</td>\n",
       "    </tr>\n",
       "    <tr>\n",
       "      <th>999</th>\n",
       "      <td>cuentanueva</td>\n",
       "      <td>False</td>\n",
       "      <td>False</td>\n",
       "      <td>761267175</td>\n",
       "      <td>761267175</td>\n",
       "    </tr>\n",
       "  </tbody>\n",
       "</table>\n",
       "<p>1000 rows × 5 columns</p>\n",
       "</div>"
      ],
      "text/plain": [
       "                v_id  is_train  is_test        cid  tg_louvain\n",
       "0         lastcall32     False    False  761266176   761266176\n",
       "1    SomethingVulgar     False    False  726808827          -1\n",
       "2            daplane     False    False  719468411          -1\n",
       "3            subslol     False    False  717372018          -1\n",
       "4         Reads2Fast     False    False  717372045          -1\n",
       "..               ...       ...      ...        ...         ...\n",
       "995           buncle     False    False  761267171   761267171\n",
       "996        keithrolf     False    False  761267172   761267172\n",
       "997      baddspellar     False    False  761267173   761267173\n",
       "998          talas43     False    False  761267174   761267174\n",
       "999      cuentanueva     False    False  761267175   761267175\n",
       "\n",
       "[1000 rows x 5 columns]"
      ]
     },
     "metadata": {},
     "output_type": "display_data"
    }
   ],
   "source": [
    "\n",
    "df = conn.getVertexDataFrame(\"User\", limit=100000)\n",
    "display(df)"
   ]
  },
  {
   "cell_type": "code",
   "execution_count": null,
   "id": "7aab1208",
   "metadata": {},
   "outputs": [],
   "source": []
  }
 ],
 "metadata": {
  "kernelspec": {
   "display_name": "Python 3 (ipykernel)",
   "language": "python",
   "name": "python3"
  },
  "language_info": {
   "codemirror_mode": {
    "name": "ipython",
    "version": 3
   },
   "file_extension": ".py",
   "mimetype": "text/x-python",
   "name": "python",
   "nbconvert_exporter": "python",
   "pygments_lexer": "ipython3",
   "version": "3.9.12"
  }
 },
 "nbformat": 4,
 "nbformat_minor": 5
}
