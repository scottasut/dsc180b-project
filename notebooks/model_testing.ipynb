{
 "cells": [
  {
   "cell_type": "code",
   "execution_count": 1,
   "metadata": {},
   "outputs": [],
   "source": [
    "import sys\n",
    "sys.path.append('../')\n",
    "\n",
    "from src.models.cosine_knn import CosineKNN\n",
    "from src.models.jaccard import SimpleJaccard\n",
    "from src.models.popular_recommender import PopularRecommender\n",
    "import pandas as pd"
   ]
  },
  {
   "cell_type": "code",
   "execution_count": 2,
   "metadata": {},
   "outputs": [],
   "source": [
    "comments_to_subreddit = {}\n",
    "data = []\n",
    "users = []\n",
    "with open('../data/out/users_comments.csv') as ucf, open('../data/out/comments.csv') as cf:\n",
    "    for l in cf.readlines():\n",
    "        c, sr, _, _ = l.split(',')\n",
    "        comments_to_subreddit[c] = sr\n",
    "\n",
    "    for l in ucf.readlines():\n",
    "        u, c = l.split(',')\n",
    "        data.append((u, comments_to_subreddit[c.strip()]))\n",
    "        users.append(u)"
   ]
  },
  {
   "cell_type": "code",
   "execution_count": 3,
   "metadata": {},
   "outputs": [],
   "source": [
    "df = pd.DataFrame(data, columns=['user', 'subreddit'])"
   ]
  },
  {
   "cell_type": "code",
   "execution_count": 4,
   "metadata": {},
   "outputs": [],
   "source": [
    "jaccard_mdl = PopularRecommender(df)"
   ]
  },
  {
   "cell_type": "code",
   "execution_count": 5,
   "metadata": {},
   "outputs": [
    {
     "name": "stdout",
     "output_type": "stream",
     "text": [
      "Mishkan ['AskReddit']\n",
      "Priapulid ['AskReddit']\n",
      "2_of_8 ['gaming']\n",
      "gnovos ['gaming']\n",
      "ThanksYo ['AskReddit']\n",
      "LeeAmerica ['AskReddit']\n",
      "crunchy_fetus ['AskReddit']\n",
      "gentlemanofleisure ['fffffffuuuuuuuuuuuu']\n",
      "binary_search_tree ['IAmA']\n",
      "mordaunt0 ['pics']\n",
      "tovarish22 ['IAmA']\n",
      "duxup ['IAmA']\n",
      "methinks2015 ['gaming']\n",
      "case2000 ['AskReddit']\n",
      "cekryb ['pics']\n",
      "tatamovich ['pics']\n",
      "VasterVaster ['pics']\n",
      "blzd4dyz ['gaming']\n",
      "justice7 ['IAmA']\n",
      "awwnuts ['pics']\n"
     ]
    }
   ],
   "source": [
    "for u in users[::-1][:20]:\n",
    "    print(u, jaccard_mdl.recommend(u))"
   ]
  },
  {
   "cell_type": "code",
   "execution_count": null,
   "metadata": {},
   "outputs": [],
   "source": [
    "knn_mdl = CosineKNN(df)"
   ]
  }
 ],
 "metadata": {
  "kernelspec": {
   "display_name": "Python 3",
   "language": "python",
   "name": "python3"
  },
  "language_info": {
   "codemirror_mode": {
    "name": "ipython",
    "version": 3
   },
   "file_extension": ".py",
   "mimetype": "text/x-python",
   "name": "python",
   "nbconvert_exporter": "python",
   "pygments_lexer": "ipython3",
   "version": "3.9.4"
  },
  "orig_nbformat": 4,
  "vscode": {
   "interpreter": {
    "hash": "3765b5c36215b6942432267d5a9eb97e0199a22c25b16bdeee0eec4357e615e6"
   }
  }
 },
 "nbformat": 4,
 "nbformat_minor": 2
}
