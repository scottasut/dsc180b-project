{
 "cells": [
  {
   "cell_type": "markdown",
   "metadata": {},
   "source": [
    "# Imports and Data Loading"
   ]
  },
  {
   "cell_type": "code",
   "execution_count": 6,
   "metadata": {},
   "outputs": [],
   "source": [
    "import sys\n",
    "import numpy as np\n",
    "sys.path.append('../')\n",
    "from src.models.baselines import PopularRecommender, SimpleJaccard, CosineKNN\n",
    "import pandas as pd\n",
    "from src.models.models import NetStatKNN, GNNHandler\n",
    "from src.models.evaluator import Evaluator\n",
    "import src.util.tigergraph_util as tgu\n",
    "import tqdm\n",
    "import torch\n",
    "from torch_geometric.data import HeteroData\n",
    "import torch_geometric.transforms as T\n",
    "import warnings\n",
    "warnings.filterwarnings('ignore')"
   ]
  },
  {
   "attachments": {},
   "cell_type": "markdown",
   "metadata": {},
   "source": [
    "This is the data the baselines use for training as they are non graph-based."
   ]
  },
  {
   "cell_type": "code",
   "execution_count": 2,
   "metadata": {},
   "outputs": [],
   "source": [
    "df = pd.read_csv('../data/out/user_subreddit.csv', header=None)"
   ]
  },
  {
   "cell_type": "markdown",
   "metadata": {},
   "source": [
    "# Our user:\n",
    "In this notebook, we will make some subreddit recommendations for user 'lowpass'."
   ]
  },
  {
   "cell_type": "code",
   "execution_count": 3,
   "metadata": {},
   "outputs": [],
   "source": [
    "user = 'lowpass'"
   ]
  },
  {
   "attachments": {},
   "cell_type": "markdown",
   "metadata": {},
   "source": [
    "# Evaluation:\n",
    "Creating an evaluation helper:"
   ]
  },
  {
   "cell_type": "code",
   "execution_count": 4,
   "metadata": {},
   "outputs": [],
   "source": [
    "evaluator = Evaluator('../data/out/test_interactions.csv', subset=500)\n",
    "at_k = [1, 3, 5, 10, 25]"
   ]
  },
  {
   "cell_type": "markdown",
   "metadata": {},
   "source": [
    "# Baseline recommender models:"
   ]
  },
  {
   "cell_type": "markdown",
   "metadata": {},
   "source": [
    "## Popularity recommender:\n",
    "Recommends popular subreddits user does not belong to"
   ]
  },
  {
   "cell_type": "code",
   "execution_count": 5,
   "metadata": {},
   "outputs": [
    {
     "data": {
      "text/plain": [
       "['politics', 'IAmA', 'trees', 'worldnews', 'science']"
      ]
     },
     "execution_count": 5,
     "metadata": {},
     "output_type": "execute_result"
    }
   ],
   "source": [
    "pop_rec = PopularRecommender(df)\n",
    "pop_rec.recommend(user, n=5)"
   ]
  },
  {
   "cell_type": "code",
   "execution_count": 6,
   "metadata": {},
   "outputs": [
    {
     "data": {
      "text/plain": [
       "{'@1': (0.1, 0.09583333333333334),\n",
       " '@3': (0.09444444444444455, 0.27291666666666664),\n",
       " '@5': (0.07291666666666657, 0.35),\n",
       " '@10': (0.047500000000000105, 0.4583333333333333),\n",
       " '@25': (0.025166666666666504, 0.6072916666666667)}"
      ]
     },
     "execution_count": 6,
     "metadata": {},
     "output_type": "execute_result"
    }
   ],
   "source": [
    "evaluator.precision_recall(pop_rec, at_k)"
   ]
  },
  {
   "attachments": {},
   "cell_type": "markdown",
   "metadata": {},
   "source": [
    "precision: 0.02990719257540542\n",
    "\n",
    "recall:    0.2524693404043752"
   ]
  },
  {
   "cell_type": "markdown",
   "metadata": {},
   "source": [
    "## Jaccard similarity recommender:\n",
    "Recommends subreddits by determining what similar users (determined by Jaccard similarity) belong to"
   ]
  },
  {
   "cell_type": "code",
   "execution_count": 7,
   "metadata": {},
   "outputs": [
    {
     "data": {
      "text/plain": [
       "['learnprogramming']"
      ]
     },
     "execution_count": 7,
     "metadata": {},
     "output_type": "execute_result"
    }
   ],
   "source": [
    "jaccard_rec = SimpleJaccard(df)\n",
    "jaccard_rec.recommend(user)"
   ]
  },
  {
   "cell_type": "code",
   "execution_count": 8,
   "metadata": {},
   "outputs": [
    {
     "data": {
      "text/plain": [
       "{'@1': (0.025, 0.022916666666666665),\n",
       " '@3': (0.020138888888888887, 0.058333333333333334),\n",
       " '@5': (0.01958333333333333, 0.09479166666666666),\n",
       " '@10': (0.020416666666666628, 0.19791666666666666),\n",
       " '@25': (0.020499999999999928, 0.49270833333333336)}"
      ]
     },
     "execution_count": 8,
     "metadata": {},
     "output_type": "execute_result"
    }
   ],
   "source": [
    "evaluator.precision_recall(jaccard_rec, at_k)"
   ]
  },
  {
   "attachments": {},
   "cell_type": "markdown",
   "metadata": {},
   "source": [
    "precision: 0.009563066776587017\n",
    "\n",
    "recall:    0.07598568418848715"
   ]
  },
  {
   "cell_type": "markdown",
   "metadata": {},
   "source": [
    "## Cosine similarity KNN recommender:\n",
    "Recommends subreddits by determining what similar users (determined by nearest-neighbor similarity in a KNN) belong to"
   ]
  },
  {
   "cell_type": "code",
   "execution_count": 9,
   "metadata": {},
   "outputs": [
    {
     "data": {
      "text/plain": [
       "['beer']"
      ]
     },
     "execution_count": 9,
     "metadata": {},
     "output_type": "execute_result"
    }
   ],
   "source": [
    "knn_rec = CosineKNN(df)\n",
    "knn_rec.recommend(user)"
   ]
  },
  {
   "cell_type": "code",
   "execution_count": 10,
   "metadata": {},
   "outputs": [
    {
     "data": {
      "text/plain": [
       "{'@1': (0.06041666666666667, 0.06041666666666667),\n",
       " '@3': (0.0423611111111111, 0.12708333333333333),\n",
       " '@5': (0.03729166666666662, 0.17708333333333334),\n",
       " '@10': (0.03879464285714283, 0.26666666666666666),\n",
       " '@25': (0.040257181611571886, 0.3458333333333333)}"
      ]
     },
     "execution_count": 10,
     "metadata": {},
     "output_type": "execute_result"
    }
   ],
   "source": [
    "evaluator.precision_recall(knn_rec, at_k)"
   ]
  },
  {
   "attachments": {},
   "cell_type": "markdown",
   "metadata": {},
   "source": [
    "precision: 0.02346024330772864\n",
    "\n",
    "recall:    0.12531798374749745"
   ]
  },
  {
   "cell_type": "markdown",
   "metadata": {},
   "source": [
    "# Interaction graph recommender models:"
   ]
  },
  {
   "cell_type": "code",
   "execution_count": 11,
   "metadata": {},
   "outputs": [],
   "source": [
    "conn = tgu.connection('../config/tigergraph.json')\n",
    "df = conn.getVertexDataFrame('user', select='fastrp_embedding')\n",
    "df = pd.concat([df['v_id'].to_frame(), df['fastrp_embedding'].apply(pd.Series)], axis=1)\n",
    "df.columns = ['v_id', 'pagerank', 'louvain', 'label_prop', 'degree']\n",
    "embeddings = pd.read_csv('../data/out/user.csv', header=None)\n",
    "embeddings = embeddings.rename(columns={0:'v_id'})\n",
    "embeddings['v_id'] = embeddings['v_id'].astype(str)\n",
    "df['v_id'] = df['v_id'].astype(str)\n",
    "user_data = df.merge(embeddings, on='v_id', how='inner')\n",
    "subreddit_data = pd.read_csv('../data/out/subreddit.csv', header=None)\n",
    "user_subreddit = pd.read_csv('../data/out/user_subreddit.csv', header=None)\n",
    "\n",
    "reddit_graph = NetStatKNN(conn)"
   ]
  },
  {
   "cell_type": "markdown",
   "metadata": {},
   "source": [
    "## Centrality KNN community recommender:\n",
    "Recommends subreddits by determining what similar users (determined by nearest neighbors of the following centrality metrics: pagerank, louvain, label propagation, degree) belong to"
   ]
  },
  {
   "cell_type": "code",
   "execution_count": 12,
   "metadata": {},
   "outputs": [],
   "source": [
    "reddit_graph.fit(user_data, subreddit_data, user_subreddit, 10)"
   ]
  },
  {
   "cell_type": "code",
   "execution_count": 17,
   "metadata": {},
   "outputs": [
    {
     "data": {
      "text/plain": [
       "{'@1': (0.0, 0.0),\n",
       " '@3': (0.02079141515761234, 0.027699530516431925),\n",
       " '@5': (0.0338028169014084, 0.05908995989478886),\n",
       " '@10': (0.07122736418511083, 0.2293605323336342),\n",
       " '@25': (0.07557344064386266, 0.4943317205836611)}"
      ]
     },
     "execution_count": 17,
     "metadata": {},
     "output_type": "execute_result"
    }
   ],
   "source": [
    "evaluator.precision_recall(reddit_graph, at_k, subset_size=500)"
   ]
  },
  {
   "attachments": {},
   "cell_type": "markdown",
   "metadata": {},
   "source": [
    "## Graph Convolution Network\n",
    "Uses a graph convolution network to predict links between users and subreddits:"
   ]
  },
  {
   "cell_type": "code",
   "execution_count": 2,
   "metadata": {},
   "outputs": [],
   "source": [
    "user = pd.read_csv('../data/out/user.csv', header=None)\n",
    "subreddit = pd.read_csv('../data/out/subreddit.csv', header=None)\n",
    "user_user = pd.read_csv('../data/out/user_user.csv', header=None)\n",
    "user_user.dropna(inplace=True)\n",
    "user_subreddit = pd.read_csv('../data/out/user_subreddit.csv', header=None)\n",
    "\n",
    "unique_users = user[0].unique()\n",
    "unique_subreddits = subreddit[0].unique()\n",
    "user_map = {u:i for i, u in enumerate(unique_users)}\n",
    "rev_user_map = {i:u for u, i in user_map.items()}\n",
    "subreddit_map = {u:i for i, u in enumerate(unique_subreddits)}\n",
    "rev_subreddit_map = {i:u for u, i in subreddit_map.items()}\n",
    "\n",
    "user[0] = user[0].map(user_map)\n",
    "subreddit[0] = subreddit[0].map(subreddit_map)\n",
    "user_subreddit[0], user_subreddit[1] = user_subreddit[0].map(user_map), user_subreddit[1].map(subreddit_map)\n",
    "\n",
    "data = HeteroData()\n",
    "data['user'].node_id = torch.arange(len(unique_users))\n",
    "data['subreddit'].node_id = torch.arange(len(unique_subreddits))\n",
    "data['user'].x = torch.tensor(user.drop(columns=[0]).values)\n",
    "data['subreddit'].x = torch.tensor(subreddit.drop(columns=[0]).values)\n",
    "data['user', 'commented_in', 'subreddit'].edge_index = torch.tensor(user_subreddit.drop(columns=[2]).values).T\n",
    "data = T.ToUndirected()(data)"
   ]
  },
  {
   "cell_type": "code",
   "execution_count": 3,
   "metadata": {},
   "outputs": [],
   "source": [
    "gnn = torch.load('gnn.pt')\n",
    "gnn_handler = GNNHandler(data)"
   ]
  },
  {
   "cell_type": "code",
   "execution_count": 56,
   "metadata": {},
   "outputs": [
    {
     "data": {
      "text/plain": [
       "HeteroData(\n",
       "  \u001b[1muser\u001b[0m={\n",
       "    node_id=[243809],\n",
       "    x=[243809, 1250]\n",
       "  },\n",
       "  \u001b[1msubreddit\u001b[0m={\n",
       "    node_id=[4420],\n",
       "    x=[4420, 1250]\n",
       "  },\n",
       "  \u001b[1m(user, commented_in, subreddit)\u001b[0m={\n",
       "    edge_index=[2, 629841],\n",
       "    edge_label=[209946],\n",
       "    edge_label_index=[2, 209946]\n",
       "  },\n",
       "  \u001b[1m(subreddit, rev_commented_in, user)\u001b[0m={ edge_index=[2, 629841] }\n",
       ")"
      ]
     },
     "execution_count": 56,
     "metadata": {},
     "output_type": "execute_result"
    }
   ],
   "source": [
    "gnn_handler.test_data"
   ]
  },
  {
   "cell_type": "code",
   "execution_count": 61,
   "metadata": {},
   "outputs": [
    {
     "name": "stderr",
     "output_type": "stream",
     "text": [
      "100%|██████████| 1641/1641 [02:32<00:00, 10.77it/s]\n"
     ]
    }
   ],
   "source": [
    "preds = []\n",
    "truth = []\n",
    "for sample in tqdm.tqdm(gnn_handler.test_loader):\n",
    "    preds.append(gnn(sample))\n",
    "    truth.append(sample['user', 'commented_in', 'subreddit'].edge_label)"
   ]
  },
  {
   "cell_type": "code",
   "execution_count": 74,
   "metadata": {},
   "outputs": [
    {
     "data": {
      "text/plain": [
       "tensor([-27.1711,   3.0866, -67.8404,  ..., -88.2594,   1.4111, -27.4865],\n",
       "       grad_fn=<SubBackward0>)"
      ]
     },
     "execution_count": 74,
     "metadata": {},
     "output_type": "execute_result"
    }
   ],
   "source": [
    "torch.cat(preds, dim=0) - torch.cat(truth, dim=0)"
   ]
  },
  {
   "cell_type": "code",
   "execution_count": 91,
   "metadata": {},
   "outputs": [
    {
     "ename": "TypeError",
     "evalue": "iteration over a 0-d tensor",
     "output_type": "error",
     "traceback": [
      "\u001b[1;31m---------------------------------------------------------------------------\u001b[0m",
      "\u001b[1;31mTypeError\u001b[0m                                 Traceback (most recent call last)",
      "\u001b[1;32m<ipython-input-91-660cbd9206bc>\u001b[0m in \u001b[0;36m<module>\u001b[1;34m\u001b[0m\n\u001b[0;32m      1\u001b[0m \u001b[0mprecision\u001b[0m \u001b[1;33m=\u001b[0m \u001b[1;33m[\u001b[0m\u001b[1;33m]\u001b[0m\u001b[1;33m\u001b[0m\u001b[1;33m\u001b[0m\u001b[0m\n\u001b[0;32m      2\u001b[0m \u001b[0mk\u001b[0m \u001b[1;33m=\u001b[0m \u001b[1;36m5\u001b[0m\u001b[1;33m\u001b[0m\u001b[1;33m\u001b[0m\u001b[0m\n\u001b[1;32m----> 3\u001b[1;33m \u001b[1;32mfor\u001b[0m \u001b[0mpred\u001b[0m\u001b[1;33m,\u001b[0m \u001b[0mtruth\u001b[0m \u001b[1;32min\u001b[0m \u001b[0mzip\u001b[0m\u001b[1;33m(\u001b[0m\u001b[0mpreds\u001b[0m\u001b[1;33m,\u001b[0m \u001b[0mtruth\u001b[0m\u001b[1;33m)\u001b[0m\u001b[1;33m:\u001b[0m\u001b[1;33m\u001b[0m\u001b[1;33m\u001b[0m\u001b[0m\n\u001b[0m\u001b[0;32m      4\u001b[0m     \u001b[0mrecs\u001b[0m \u001b[1;33m=\u001b[0m \u001b[0mset\u001b[0m\u001b[1;33m(\u001b[0m\u001b[0mnp\u001b[0m\u001b[1;33m.\u001b[0m\u001b[0mwhere\u001b[0m\u001b[1;33m(\u001b[0m\u001b[0mpred\u001b[0m \u001b[1;33m>\u001b[0m \u001b[1;36m0\u001b[0m\u001b[1;33m)\u001b[0m\u001b[1;33m[\u001b[0m\u001b[1;33m:\u001b[0m\u001b[0mk\u001b[0m\u001b[1;33m]\u001b[0m\u001b[1;33m[\u001b[0m\u001b[1;36m0\u001b[0m\u001b[1;33m]\u001b[0m\u001b[1;33m)\u001b[0m\u001b[1;33m\u001b[0m\u001b[1;33m\u001b[0m\u001b[0m\n\u001b[0;32m      5\u001b[0m     \u001b[0mrelevant\u001b[0m \u001b[1;33m=\u001b[0m \u001b[0mset\u001b[0m\u001b[1;33m(\u001b[0m\u001b[0mnp\u001b[0m\u001b[1;33m.\u001b[0m\u001b[0mwhere\u001b[0m\u001b[1;33m(\u001b[0m\u001b[0mtruth\u001b[0m \u001b[1;33m>\u001b[0m \u001b[1;36m0\u001b[0m\u001b[1;33m)\u001b[0m\u001b[1;33m[\u001b[0m\u001b[1;36m0\u001b[0m\u001b[1;33m]\u001b[0m\u001b[1;33m)\u001b[0m\u001b[1;33m\u001b[0m\u001b[1;33m\u001b[0m\u001b[0m\n",
      "\u001b[1;32mc:\\Users\\Scott\\anaconda3\\lib\\site-packages\\torch\\_tensor.py\u001b[0m in \u001b[0;36m__iter__\u001b[1;34m(self)\u001b[0m\n\u001b[0;32m    914\u001b[0m         \u001b[1;31m# See gh-54457\u001b[0m\u001b[1;33m\u001b[0m\u001b[1;33m\u001b[0m\u001b[1;33m\u001b[0m\u001b[0m\n\u001b[0;32m    915\u001b[0m         \u001b[1;32mif\u001b[0m \u001b[0mself\u001b[0m\u001b[1;33m.\u001b[0m\u001b[0mdim\u001b[0m\u001b[1;33m(\u001b[0m\u001b[1;33m)\u001b[0m \u001b[1;33m==\u001b[0m \u001b[1;36m0\u001b[0m\u001b[1;33m:\u001b[0m\u001b[1;33m\u001b[0m\u001b[1;33m\u001b[0m\u001b[0m\n\u001b[1;32m--> 916\u001b[1;33m             \u001b[1;32mraise\u001b[0m \u001b[0mTypeError\u001b[0m\u001b[1;33m(\u001b[0m\u001b[1;34m\"iteration over a 0-d tensor\"\u001b[0m\u001b[1;33m)\u001b[0m\u001b[1;33m\u001b[0m\u001b[1;33m\u001b[0m\u001b[0m\n\u001b[0m\u001b[0;32m    917\u001b[0m         \u001b[1;32mif\u001b[0m \u001b[0mtorch\u001b[0m\u001b[1;33m.\u001b[0m\u001b[0m_C\u001b[0m\u001b[1;33m.\u001b[0m\u001b[0m_get_tracing_state\u001b[0m\u001b[1;33m(\u001b[0m\u001b[1;33m)\u001b[0m\u001b[1;33m:\u001b[0m\u001b[1;33m\u001b[0m\u001b[1;33m\u001b[0m\u001b[0m\n\u001b[0;32m    918\u001b[0m             warnings.warn(\n",
      "\u001b[1;31mTypeError\u001b[0m: iteration over a 0-d tensor"
     ]
    }
   ],
   "source": [
    "precision = []\n",
    "k = 5\n",
    "for pred, t in zip(preds, truth):\n",
    "    recs = set(np.where(pred > 0)[:k][0])\n",
    "    relevant = set(np.where(t > 0)[0])\n",
    "    relevant_recs = relevant.intersection(recs)\n",
    "    precision.append((len(relevant_recs) / len(recs)) / k)\n",
    "sum(precision) / len(precision)"
   ]
  },
  {
   "cell_type": "code",
   "execution_count": 60,
   "metadata": {},
   "outputs": [
    {
     "data": {
      "text/plain": [
       "tensor([1, 1, 1,  ..., 0, 0, 0], dtype=torch.int16)"
      ]
     },
     "execution_count": 60,
     "metadata": {},
     "output_type": "execute_result"
    }
   ],
   "source": [
    "gnn_handler.test_data['user', 'commented_in', 'subreddit'].edge_label.to(torch.int16)"
   ]
  },
  {
   "cell_type": "code",
   "execution_count": 63,
   "metadata": {},
   "outputs": [
    {
     "ename": "RuntimeError",
     "evalue": "both arguments to matmul need to be at least 1D, but they are 0D and 1D",
     "output_type": "error",
     "traceback": [
      "\u001b[1;31m---------------------------------------------------------------------------\u001b[0m",
      "\u001b[1;31mRuntimeError\u001b[0m                              Traceback (most recent call last)",
      "\u001b[1;32m<ipython-input-63-2c03f20caa0b>\u001b[0m in \u001b[0;36m<module>\u001b[1;34m\u001b[0m\n\u001b[0;32m     10\u001b[0m \u001b[1;33m\u001b[0m\u001b[0m\n\u001b[0;32m     11\u001b[0m \u001b[1;31m# Calculate relevance scores using dot product\u001b[0m\u001b[1;33m\u001b[0m\u001b[1;33m\u001b[0m\u001b[1;33m\u001b[0m\u001b[0m\n\u001b[1;32m---> 12\u001b[1;33m \u001b[0mrelevance_scores\u001b[0m \u001b[1;33m=\u001b[0m \u001b[1;33m(\u001b[0m\u001b[0muser_emb\u001b[0m \u001b[1;33m@\u001b[0m \u001b[0msubreddit_emb\u001b[0m\u001b[1;33m.\u001b[0m\u001b[0mT\u001b[0m\u001b[1;33m)\u001b[0m\u001b[1;33m.\u001b[0m\u001b[0msqueeze\u001b[0m\u001b[1;33m(\u001b[0m\u001b[1;33m)\u001b[0m\u001b[1;33m\u001b[0m\u001b[1;33m\u001b[0m\u001b[0m\n\u001b[0m\u001b[0;32m     13\u001b[0m \u001b[0msorted_scores\u001b[0m\u001b[1;33m,\u001b[0m \u001b[0msorted_indices\u001b[0m \u001b[1;33m=\u001b[0m \u001b[0mtorch\u001b[0m\u001b[1;33m.\u001b[0m\u001b[0msort\u001b[0m\u001b[1;33m(\u001b[0m\u001b[0mrelevance_scores\u001b[0m\u001b[1;33m,\u001b[0m \u001b[0mdescending\u001b[0m\u001b[1;33m=\u001b[0m\u001b[1;32mTrue\u001b[0m\u001b[1;33m)\u001b[0m\u001b[1;33m\u001b[0m\u001b[1;33m\u001b[0m\u001b[0m\n\u001b[0;32m     14\u001b[0m \u001b[1;33m\u001b[0m\u001b[0m\n",
      "\u001b[1;31mRuntimeError\u001b[0m: both arguments to matmul need to be at least 1D, but they are 0D and 1D"
     ]
    }
   ],
   "source": [
    "gnn.eval()\n",
    "with torch.no_grad():\n",
    "    for sample in gnn_handler.test_loader:\n",
    "        # x = batch['user'].x # node features\n",
    "        # edge_index = batch.edge_index # edge indices\n",
    "        node_emb = gnn(sample)\n",
    "\n",
    "user_emb = node_emb[0] # user embedding\n",
    "subreddit_emb = node_emb[1:] # subreddit embeddings\n",
    "\n",
    "# Calculate relevance scores using dot product\n",
    "relevance_scores = (user_emb @ subreddit_emb.T).squeeze()\n",
    "sorted_scores, sorted_indices = torch.sort(relevance_scores, descending=True)\n",
    "\n",
    "# Recommend top-k subreddits\n",
    "k = 10\n",
    "topk_indices = sorted_indices[:k]\n",
    "recommended_subreddits = [data.x[topk_index] for topk_index in topk_indices]"
   ]
  },
  {
   "cell_type": "code",
   "execution_count": 69,
   "metadata": {},
   "outputs": [
    {
     "data": {
      "text/plain": [
       "tensor([-2.6171e+01,  5.0866e+00, -6.6840e+01, -3.1928e+01,  6.9193e+00,\n",
       "        -1.9449e+01,  6.0662e+00, -1.4203e+02, -3.0919e+01,  7.9207e+00,\n",
       "        -2.1436e+01,  2.6394e+00, -4.3705e+01,  4.2754e+00, -1.4541e+01,\n",
       "        -6.0923e+01, -1.8664e+02, -1.0626e+02,  3.6333e+00, -1.0438e+02,\n",
       "        -4.1458e+01, -9.6985e+00, -1.2371e+02, -6.4670e+01, -1.0691e+02,\n",
       "        -1.1019e+02,  2.9756e+00, -2.0708e+01, -2.1019e+01,  2.9112e-01,\n",
       "        -1.3068e+02, -1.1109e+02, -6.1581e+01, -7.0139e+00, -2.2070e+00,\n",
       "        -1.5022e+01,  5.4217e+00, -6.6455e+00, -2.9591e+00, -2.8664e+01,\n",
       "        -6.2047e+01,  5.3950e+00,  5.5349e-01, -1.5419e+01, -2.3033e+01,\n",
       "        -1.3211e+01, -3.7338e+01, -1.2623e+02, -2.4077e+01, -7.6420e+01,\n",
       "        -1.0495e+02, -1.3695e+02, -4.8100e+01, -4.1117e+01,  4.4821e+00,\n",
       "        -3.5613e+01, -4.8283e+01, -1.9142e+02, -2.7311e+01, -1.4921e+01,\n",
       "        -7.2238e+01, -1.4870e+01, -1.0926e+02,  1.8832e+00,  5.9559e+00,\n",
       "        -1.4235e+02, -8.9788e+01, -5.0970e+01, -3.8514e+01, -9.8951e+01,\n",
       "        -2.6072e+02, -7.4274e+01, -5.6872e+01, -1.2489e+02, -1.2340e+02,\n",
       "        -5.5215e+01, -4.3205e+01,  4.0280e+00, -9.5493e+01, -4.1973e+01,\n",
       "        -3.1969e+01, -5.3603e+01, -2.9640e+01, -3.9959e+01,  2.8063e+00,\n",
       "        -1.0242e+02, -6.9842e+00, -5.1132e+01, -3.2023e+01,  7.4976e+00,\n",
       "        -2.3661e+01,  7.3475e+00, -1.1050e+02, -1.2612e+01, -4.0339e+01,\n",
       "        -1.1588e+02, -2.2117e+01,  1.4266e+00, -2.3576e+01,  9.4549e+00,\n",
       "        -3.8615e+01, -1.0465e+02, -1.2962e+01, -4.2527e+01, -3.8621e+01,\n",
       "        -4.4289e+01, -7.3974e+00, -3.1435e+01, -7.9785e+01,  2.9027e-01,\n",
       "        -1.2686e+01, -5.5852e+01, -7.8039e+01, -1.8667e+01, -3.5218e+00,\n",
       "        -1.8569e+01, -1.2024e+02, -4.3597e+01, -1.0872e+01, -3.0926e+00,\n",
       "         4.5530e+00,  1.2702e+00,  2.6312e+00, -4.7928e+01, -1.2968e+02,\n",
       "        -7.2020e+01, -8.3910e+00, -1.0129e+02, -1.8538e+01, -1.4774e+02,\n",
       "        -6.9765e+01, -2.4296e+01, -3.1370e+01, -7.4590e+01, -7.9278e+01,\n",
       "        -5.4571e+01, -2.6741e+01, -9.1126e+01, -9.4090e+01, -1.4099e+02,\n",
       "        -1.2932e+01, -6.3529e+01, -3.1419e+01, -3.3734e+01, -5.8763e+01,\n",
       "        -5.1240e+02, -2.0480e+01, -1.9319e+02, -7.9262e+01, -2.2388e+01,\n",
       "        -7.0973e+01, -5.9480e+01, -3.7922e+01, -6.4325e+00, -3.2550e+01,\n",
       "        -1.0840e+02, -1.6827e+01, -1.2531e+02, -4.3512e+01, -1.5528e+01,\n",
       "        -1.4770e+02, -3.4885e+01, -5.8056e+01, -1.2958e+01, -7.2852e+01,\n",
       "        -6.1666e+01, -1.1362e+02, -1.3607e+01, -1.2487e+02, -3.2213e+01,\n",
       "        -1.3227e+01, -3.7656e+01, -2.1530e+02, -3.5722e+01, -7.6283e+01,\n",
       "        -3.3066e+01, -4.1717e+01, -2.1709e+01, -2.5722e+01, -7.9156e+01,\n",
       "        -9.5151e+00, -2.9854e+02, -1.1547e+02, -6.6213e+01, -7.4323e+01,\n",
       "        -3.7424e+01, -5.1418e+01, -1.5370e+02, -2.6221e+01, -9.2605e-01,\n",
       "        -1.2342e+02, -2.9146e+01, -1.3235e+02, -1.7242e+02, -5.7694e+01,\n",
       "        -1.4325e+01, -3.1143e+02, -1.6858e+01, -1.8046e+01, -9.6929e+01,\n",
       "        -1.0938e+01, -3.5388e+01, -9.7188e+01, -2.7430e+00, -7.2700e+01,\n",
       "        -5.6722e+01, -9.7527e+01, -7.3877e+01, -6.7410e+01, -1.9791e+01,\n",
       "        -1.2498e+01, -6.6239e+01, -4.7659e+01, -2.0838e+01, -1.3283e+02,\n",
       "        -7.2965e+01, -1.4068e+02, -5.9170e+01, -8.1966e+01, -2.2473e+01,\n",
       "        -7.6677e+01, -3.7614e+01, -3.4221e+01, -1.2284e+01, -1.0835e+02,\n",
       "        -3.5100e+01, -1.9642e+01, -6.8081e+01, -3.3169e+01, -2.4565e+01,\n",
       "        -2.4412e+01, -8.5348e+01, -1.0170e+02, -6.4914e+01, -1.1885e+02,\n",
       "        -1.8312e+01, -8.1177e+01, -9.7989e+01, -1.5735e+02, -4.7522e+01,\n",
       "        -1.6822e+01, -7.9219e+01, -6.7254e+01, -1.3985e+02, -3.4197e+01,\n",
       "        -9.8534e+00, -7.9703e+00, -1.5990e+02, -3.2116e+01, -7.8512e+01,\n",
       "        -2.5224e+01, -4.1702e+01, -1.3763e+02, -6.0592e+01, -5.0216e+01,\n",
       "        -2.2013e+01, -1.2247e+02, -8.9672e+00, -1.9312e+01, -2.4845e+01,\n",
       "        -2.4690e+01, -3.4501e+01, -3.7320e+01, -6.5083e+00, -1.4405e+01,\n",
       "        -5.6952e+01, -5.1604e+01, -3.0687e+01, -5.5754e+01, -1.0558e+02,\n",
       "        -1.4442e+02, -2.3347e+02, -1.0716e+02,  7.9356e+00, -3.0917e+01,\n",
       "        -1.2152e+02, -4.2045e+01, -3.0353e+02, -1.3667e+02, -1.0250e+02,\n",
       "        -5.0356e+01, -3.5584e+01, -1.6702e+02, -4.4375e+01, -2.0186e+01,\n",
       "        -4.6325e+01, -2.3295e+02, -1.4684e+01, -7.0633e+01, -3.0554e+01,\n",
       "        -2.0549e+01, -9.9646e+00, -1.3001e+01, -1.1067e+01, -3.8699e+01,\n",
       "        -7.1816e+00, -1.8120e+01, -6.3713e+01, -1.1709e+02, -1.0032e+02,\n",
       "        -1.8680e+01, -1.4804e+02, -2.5656e+01, -1.5901e+01,  7.3725e-01,\n",
       "        -6.4137e+01, -3.6398e+01, -4.3295e+01, -3.0653e+00, -2.1403e+00,\n",
       "        -9.1069e+01, -1.1020e+02, -1.7200e+02, -1.4344e+01, -6.3184e+01,\n",
       "        -7.7256e+00, -1.3574e+02,  2.3268e+00, -1.0207e+01, -7.7966e+00,\n",
       "        -4.5012e+01, -2.6132e+01, -9.8567e+01, -9.3840e+01, -9.5854e+00,\n",
       "        -2.2646e+01, -6.4622e+01, -7.5652e+01, -1.9385e+01, -3.5012e+01,\n",
       "        -6.8321e+01, -1.0465e+02, -3.7211e+01, -1.7734e+02, -1.9346e+01,\n",
       "        -3.9627e+01, -1.8707e+02, -6.4722e+01, -1.3460e+01, -6.6811e+01,\n",
       "        -2.6251e+01, -3.6636e+01, -7.9191e+01, -1.7364e+02, -4.1790e+01,\n",
       "        -5.4783e+01, -2.9662e+01, -2.1002e+02, -8.6250e+01, -1.0968e+02,\n",
       "        -2.3277e+02,  7.8652e-01, -3.3739e+01, -2.4793e+01, -9.7935e+01,\n",
       "        -8.1696e+01, -9.9434e+00, -3.3170e+01, -8.5312e+01, -1.0031e+01,\n",
       "        -1.5523e+01, -4.4118e+01, -1.5177e+02, -7.4171e+01, -4.2822e+00,\n",
       "        -1.7282e+01, -3.2132e+01, -6.0110e+01, -3.7994e+01, -2.9745e+01,\n",
       "        -2.5473e+01, -9.7739e+01, -2.3811e+02, -3.4885e+01, -1.8308e+01,\n",
       "        -8.3232e+01, -7.8986e+01, -3.3733e+01, -4.9101e+01, -2.3957e+01,\n",
       "        -7.3094e+00, -1.6328e+01, -1.5511e+01, -6.8106e+00],\n",
       "       grad_fn=<SumBackward1>)"
      ]
     },
     "execution_count": 69,
     "metadata": {},
     "output_type": "execute_result"
    }
   ],
   "source": [
    "preds[0]"
   ]
  },
  {
   "cell_type": "code",
   "execution_count": null,
   "metadata": {},
   "outputs": [],
   "source": []
  }
 ],
 "metadata": {
  "kernelspec": {
   "display_name": "Python 3",
   "language": "python",
   "name": "python3"
  },
  "language_info": {
   "codemirror_mode": {
    "name": "ipython",
    "version": 3
   },
   "file_extension": ".py",
   "mimetype": "text/x-python",
   "name": "python",
   "nbconvert_exporter": "python",
   "pygments_lexer": "ipython3",
   "version": "3.8.8"
  },
  "vscode": {
   "interpreter": {
    "hash": "3765b5c36215b6942432267d5a9eb97e0199a22c25b16bdeee0eec4357e615e6"
   }
  }
 },
 "nbformat": 4,
 "nbformat_minor": 2
}
