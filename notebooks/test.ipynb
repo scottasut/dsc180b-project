{
 "cells": [
  {
   "cell_type": "code",
   "execution_count": 1,
   "metadata": {},
   "outputs": [],
   "source": [
    "import torch\n",
    "import torch_geometric\n",
    "from torch_geometric.data import Data\n",
    "from torch_geometric.data import HeteroData\n",
    "import torch_geometric.transforms as T\n",
    "import pandas as pd\n",
    "import sys\n",
    "sys.path.append('../')\n",
    "from src.models.models import GNNHandler"
   ]
  },
  {
   "cell_type": "code",
   "execution_count": 2,
   "metadata": {},
   "outputs": [
    {
     "name": "stderr",
     "output_type": "stream",
     "text": [
      "c:\\Users\\Scott\\anaconda3\\lib\\site-packages\\ipykernel\\ipkernel.py:287: DeprecationWarning: `should_run_async` will not call `transform_cell` automatically in the future. Please pass the result to `transformed_cell` argument and any exception that happen during thetransform in `preprocessing_exc_tuple` in IPython 7.17 and above.\n",
      "  and should_run_async(code)\n"
     ]
    }
   ],
   "source": [
    "user = pd.read_csv('../data/out/user.csv', header=None)\n",
    "subreddit = pd.read_csv('../data/out/subreddit.csv', header=None)\n",
    "user_user = pd.read_csv('../data/out/user_user.csv', header=None)\n",
    "user_user.dropna(inplace=True)\n",
    "user_subreddit = pd.read_csv('../data/out/user_subreddit.csv', header=None)"
   ]
  },
  {
   "cell_type": "code",
   "execution_count": 3,
   "metadata": {},
   "outputs": [
    {
     "name": "stderr",
     "output_type": "stream",
     "text": [
      "c:\\Users\\Scott\\anaconda3\\lib\\site-packages\\ipykernel\\ipkernel.py:287: DeprecationWarning: `should_run_async` will not call `transform_cell` automatically in the future. Please pass the result to `transformed_cell` argument and any exception that happen during thetransform in `preprocessing_exc_tuple` in IPython 7.17 and above.\n",
      "  and should_run_async(code)\n"
     ]
    }
   ],
   "source": [
    "unique_users = user[0].unique()\n",
    "unique_subreddits = subreddit[0].unique()\n",
    "user_map = {u:i for i, u in enumerate(unique_users)}\n",
    "rev_user_map = {i:u for u, i in user_map.items()}\n",
    "subreddit_map = {u:i for i, u in enumerate(unique_subreddits)}\n",
    "rev_subreddit_map = {i:u for u, i in subreddit_map.items()}\n",
    "\n",
    "user[0] = user[0].map(user_map)\n",
    "subreddit[0] = subreddit[0].map(subreddit_map)\n",
    "user_subreddit[0], user_subreddit[1] = user_subreddit[0].map(user_map), user_subreddit[1].map(subreddit_map)\n",
    "\n",
    "data = HeteroData()\n",
    "data['user'].node_id = torch.arange(len(unique_users))\n",
    "data['subreddit'].node_id = torch.arange(len(unique_subreddits))\n",
    "data['user'].x = torch.tensor(user.drop(columns=[0]).values)\n",
    "data['subreddit'].x = torch.tensor(subreddit.drop(columns=[0]).values)\n",
    "data['user', 'commented_in', 'subreddit'].edge_index = torch.tensor(user_subreddit.drop(columns=[2]).values).T\n",
    "data = T.ToUndirected()(data)"
   ]
  },
  {
   "cell_type": "code",
   "execution_count": 4,
   "metadata": {},
   "outputs": [],
   "source": [
    "gnn_handler = GNNHandler(data)"
   ]
  },
  {
   "cell_type": "code",
   "execution_count": 5,
   "metadata": {},
   "outputs": [],
   "source": [
    "gnn_handler.set_model(hidden_channels=64)"
   ]
  },
  {
   "cell_type": "code",
   "execution_count": 6,
   "metadata": {},
   "outputs": [
    {
     "name": "stderr",
     "output_type": "stream",
     "text": [
      "100%|██████████| 1313/1313 [03:54<00:00,  5.59it/s]\n",
      "  0%|          | 1/1313 [00:00<03:58,  5.49it/s]"
     ]
    },
    {
     "name": "stdout",
     "output_type": "stream",
     "text": [
      "Epoch 0, Loss: 0.1587\n"
     ]
    },
    {
     "name": "stderr",
     "output_type": "stream",
     "text": [
      "100%|██████████| 1313/1313 [03:55<00:00,  5.58it/s]"
     ]
    },
    {
     "name": "stdout",
     "output_type": "stream",
     "text": [
      "Epoch 1, Loss: 0.1404\n"
     ]
    },
    {
     "name": "stderr",
     "output_type": "stream",
     "text": [
      "\n"
     ]
    }
   ],
   "source": [
    "gnn_handler.train(2)"
   ]
  },
  {
   "cell_type": "code",
   "execution_count": null,
   "metadata": {},
   "outputs": [],
   "source": []
  }
 ],
 "metadata": {
  "kernelspec": {
   "display_name": "base",
   "language": "python",
   "name": "python3"
  },
  "language_info": {
   "codemirror_mode": {
    "name": "ipython",
    "version": 3
   },
   "file_extension": ".py",
   "mimetype": "text/x-python",
   "name": "python",
   "nbconvert_exporter": "python",
   "pygments_lexer": "ipython3",
   "version": "3.8.8"
  },
  "orig_nbformat": 4,
  "vscode": {
   "interpreter": {
    "hash": "4e4a7e6519862ba49e55c4dc5518f35f3fa69743883c131a62833a150be791c4"
   }
  }
 },
 "nbformat": 4,
 "nbformat_minor": 2
}
