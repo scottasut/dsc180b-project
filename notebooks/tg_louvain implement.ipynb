{
 "cells": [
  {
   "cell_type": "markdown",
   "id": "81aadf8d",
   "metadata": {},
   "source": [
    "# Louvain Algorithm for Community Detection"
   ]
  },
  {
   "cell_type": "markdown",
   "id": "d84b0660",
   "metadata": {},
   "source": [
    "The Louvain algorithm is a community detection algorithm. It works on weighted edges, undirected edges, homogeneous vertex types and heterogeneous vertex types. Our Reddit graph is composed of three classes of nodes: \"Users\", \"Comments\", and \"Subreddits\", making it a heterogeneous graph."
   ]
  },
  {
   "cell_type": "code",
   "execution_count": 1,
   "id": "3847f6e6",
   "metadata": {},
   "outputs": [],
   "source": [
    "# pip install ipycytoscape"
   ]
  },
  {
   "cell_type": "code",
   "execution_count": 1,
   "id": "e3f0fab8",
   "metadata": {},
   "outputs": [],
   "source": [
    "import pyTigerGraph\n",
    "from pyTigerGraph.datasets import Datasets\n",
    "from pyTigerGraph.visualization import drawSchema\n",
    "from pyTigerGraph import TigerGraphConnection\n",
    "import json\n",
    "\n",
    "# Read in DB configs\n",
    "with open('config.json', \"r\") as config_file:\n",
    "    config = json.load(config_file)\n",
    "\n",
    "conn = TigerGraphConnection(\n",
    "    host=config[\"host\"],\n",
    "    graphname=config[\"graphname\"],\n",
    "    username=config[\"username\"],\n",
    "    password=config[\"password\"],\n",
    ")"
   ]
  },
  {
   "cell_type": "code",
   "execution_count": 2,
   "id": "d074f396",
   "metadata": {},
   "outputs": [
    {
     "name": "stdout",
     "output_type": "stream",
     "text": [
      "Hello GSQL\n"
     ]
    }
   ],
   "source": [
    "# graph secret (replace this)\n",
    "conn.getToken(\"pm3jg7ns6cnhfl6nuqql2c0or0mts64h\")\n",
    "print(conn.echo())"
   ]
  },
  {
   "cell_type": "code",
   "execution_count": 3,
   "id": "1e5162c2",
   "metadata": {},
   "outputs": [
    {
     "name": "stdout",
     "output_type": "stream",
     "text": [
      "['User', 'Comment', 'Subreddit']\n"
     ]
    }
   ],
   "source": [
    "print(conn.getVertexTypes())"
   ]
  },
  {
   "cell_type": "code",
   "execution_count": 4,
   "id": "77426015",
   "metadata": {},
   "outputs": [
    {
     "name": "stdout",
     "output_type": "stream",
     "text": [
      "['wrote', 'belongs_to', 'replied_to']\n"
     ]
    }
   ],
   "source": [
    "print(conn.getEdgeTypes())"
   ]
  },
  {
   "cell_type": "code",
   "execution_count": 5,
   "id": "dcf7a1b2",
   "metadata": {
    "scrolled": true
   },
   "outputs": [
    {
     "data": {
      "application/vnd.jupyter.widget-view+json": {
       "model_id": "fc057eb3f232410ab8371f1a3ea9ed9c",
       "version_major": 2,
       "version_minor": 0
      },
      "text/plain": [
       "CytoscapeWidget(cytoscape_layout={'name': 'circle', 'animate': True, 'padding': 1}, cytoscape_style=[{'selecto…"
      ]
     },
     "metadata": {},
     "output_type": "display_data"
    }
   ],
   "source": [
    "# need to pip install icytoscape for vis to work\n",
    "\n",
    "drawSchema(conn.getSchema(force=True))"
   ]
  },
  {
   "cell_type": "code",
   "execution_count": 16,
   "id": "fcc68cec",
   "metadata": {},
   "outputs": [],
   "source": [
    "# need to actually install weighted edges onto graph\n",
    "feat = conn.gds.featurizer()"
   ]
  },
  {
   "cell_type": "code",
   "execution_count": 17,
   "id": "ae79cadf",
   "metadata": {},
   "outputs": [
    {
     "name": "stdout",
     "output_type": "stream",
     "text": [
      "Parameters for tg_louvain (parameter: type [= default value]):\n",
      "- v_type: SET<STRING>\n",
      "- e_type: SET<STRING>\n",
      "- wt_attr: str = \"weight\"\n",
      "- max_iter: int = 10\n",
      "- result_attr: str = \"cid\"\n",
      "- file_path: str = \"\"\n",
      "- print_info: bool = False\n"
     ]
    },
    {
     "data": {
      "text/plain": [
       "{'v_type': None,\n",
       " 'e_type': None,\n",
       " 'wt_attr': 'weight',\n",
       " 'max_iter': 10,\n",
       " 'result_attr': 'cid',\n",
       " 'file_path': '',\n",
       " 'print_info': False}"
      ]
     },
     "execution_count": 17,
     "metadata": {},
     "output_type": "execute_result"
    }
   ],
   "source": [
    "# original params with \"v_type_set\"/\"v_edge_set\" does not work, change to v_type/e_type and use list of strings not set\n",
    "feat.getParams(\"tg_louvain\")"
   ]
  },
  {
   "cell_type": "code",
   "execution_count": 18,
   "id": "a707360a",
   "metadata": {},
   "outputs": [
    {
     "name": "stdout",
     "output_type": "stream",
     "text": [
      "Available algorithms for Community:\n",
      "  connected_components:\n",
      "    strongly_connected_components:\n",
      "      01. name: tg_scc\n",
      "  k_core:\n",
      "    02. name: tg_kcore\n",
      "  label_propagation:\n",
      "    03. name: tg_label_prop\n",
      "  local_clustering_coefficient:\n",
      "    04. name: tg_lcc\n",
      "  louvain:\n",
      "    05. name: tg_louvain\n",
      "  triangle_counting:\n",
      "    06. name: tg_tri_count_fast\n",
      "Call runAlgorithm() with the algorithm name to execute it\n"
     ]
    }
   ],
   "source": [
    "feat.listAlgorithms(\"Community\")"
   ]
  },
  {
   "cell_type": "code",
   "execution_count": 19,
   "id": "0bd173b2",
   "metadata": {},
   "outputs": [
    {
     "name": "stdout",
     "output_type": "stream",
     "text": [
      "Altering graph schema to save results...\n",
      "The job add_VERTEX_attr_eEyOFH completes in 52.856 seconds!\n"
     ]
    }
   ],
   "source": [
    "#louvain params/how do params change w multiple v/e types\n",
    "params = {\n",
    "    'v_type': [\"User\", \"Subreddit\", \"Comment\"],\n",
    "    'e_type': [\"wrote\", \"belongs_to\", \"replied_to\"],\n",
    "    'wt_attr': 'weight',\n",
    "    'max_iter': 10,\n",
    "    'result_attr': 'tg_louvain',\n",
    "    'file_path': '',\n",
    "    'print_info': False}\n",
    "\n",
    "res = feat.runAlgorithm(\"tg_louvain\", params = params)"
   ]
  },
  {
   "cell_type": "code",
   "execution_count": 20,
   "id": "fdc284b1",
   "metadata": {},
   "outputs": [],
   "source": [
    "user_df = conn.getVertexDataFrame(\"User\", limit=100_000)\n",
    "subreddit_df = conn.getVertexDataFrame(\"Subreddit\", limit=100_000)\n",
    "comment_df = conn.getVertexDataFrame(\"Comment\", limit=100_000)"
   ]
  },
  {
   "cell_type": "code",
   "execution_count": 21,
   "id": "7aab1208",
   "metadata": {},
   "outputs": [
    {
     "data": {
      "text/html": [
       "<div>\n",
       "<style scoped>\n",
       "    .dataframe tbody tr th:only-of-type {\n",
       "        vertical-align: middle;\n",
       "    }\n",
       "\n",
       "    .dataframe tbody tr th {\n",
       "        vertical-align: top;\n",
       "    }\n",
       "\n",
       "    .dataframe thead th {\n",
       "        text-align: right;\n",
       "    }\n",
       "</style>\n",
       "<table border=\"1\" class=\"dataframe\">\n",
       "  <thead>\n",
       "    <tr style=\"text-align: right;\">\n",
       "      <th></th>\n",
       "      <th>v_id</th>\n",
       "      <th>is_train</th>\n",
       "      <th>is_test</th>\n",
       "      <th>tg_louvain</th>\n",
       "    </tr>\n",
       "  </thead>\n",
       "  <tbody>\n",
       "    <tr>\n",
       "      <th>0</th>\n",
       "      <td>lastcall32</td>\n",
       "      <td>False</td>\n",
       "      <td>False</td>\n",
       "      <td>761266176</td>\n",
       "    </tr>\n",
       "    <tr>\n",
       "      <th>1</th>\n",
       "      <td>SomethingVulgar</td>\n",
       "      <td>False</td>\n",
       "      <td>False</td>\n",
       "      <td>726808827</td>\n",
       "    </tr>\n",
       "    <tr>\n",
       "      <th>2</th>\n",
       "      <td>daplane</td>\n",
       "      <td>False</td>\n",
       "      <td>False</td>\n",
       "      <td>719468411</td>\n",
       "    </tr>\n",
       "    <tr>\n",
       "      <th>3</th>\n",
       "      <td>subslol</td>\n",
       "      <td>False</td>\n",
       "      <td>False</td>\n",
       "      <td>717372018</td>\n",
       "    </tr>\n",
       "    <tr>\n",
       "      <th>4</th>\n",
       "      <td>Reads2Fast</td>\n",
       "      <td>False</td>\n",
       "      <td>False</td>\n",
       "      <td>717372045</td>\n",
       "    </tr>\n",
       "    <tr>\n",
       "      <th>...</th>\n",
       "      <td>...</td>\n",
       "      <td>...</td>\n",
       "      <td>...</td>\n",
       "      <td>...</td>\n",
       "    </tr>\n",
       "    <tr>\n",
       "      <th>99995</th>\n",
       "      <td>pennypacker84</td>\n",
       "      <td>False</td>\n",
       "      <td>False</td>\n",
       "      <td>703595399</td>\n",
       "    </tr>\n",
       "    <tr>\n",
       "      <th>99996</th>\n",
       "      <td>giacomobo</td>\n",
       "      <td>False</td>\n",
       "      <td>False</td>\n",
       "      <td>725696073</td>\n",
       "    </tr>\n",
       "    <tr>\n",
       "      <th>99997</th>\n",
       "      <td>harrybr</td>\n",
       "      <td>False</td>\n",
       "      <td>False</td>\n",
       "      <td>703595401</td>\n",
       "    </tr>\n",
       "    <tr>\n",
       "      <th>99998</th>\n",
       "      <td>ivybutcher</td>\n",
       "      <td>False</td>\n",
       "      <td>False</td>\n",
       "      <td>703595402</td>\n",
       "    </tr>\n",
       "    <tr>\n",
       "      <th>99999</th>\n",
       "      <td>misspinaberry</td>\n",
       "      <td>False</td>\n",
       "      <td>False</td>\n",
       "      <td>703595403</td>\n",
       "    </tr>\n",
       "  </tbody>\n",
       "</table>\n",
       "<p>100000 rows × 4 columns</p>\n",
       "</div>"
      ],
      "text/plain": [
       "                  v_id  is_train  is_test  tg_louvain\n",
       "0           lastcall32     False    False   761266176\n",
       "1      SomethingVulgar     False    False   726808827\n",
       "2              daplane     False    False   719468411\n",
       "3              subslol     False    False   717372018\n",
       "4           Reads2Fast     False    False   717372045\n",
       "...                ...       ...      ...         ...\n",
       "99995    pennypacker84     False    False   703595399\n",
       "99996        giacomobo     False    False   725696073\n",
       "99997          harrybr     False    False   703595401\n",
       "99998       ivybutcher     False    False   703595402\n",
       "99999    misspinaberry     False    False   703595403\n",
       "\n",
       "[100000 rows x 4 columns]"
      ]
     },
     "metadata": {},
     "output_type": "display_data"
    }
   ],
   "source": [
    "display(user_df)"
   ]
  },
  {
   "cell_type": "code",
   "execution_count": 22,
   "id": "22e293cd",
   "metadata": {},
   "outputs": [
    {
     "data": {
      "text/html": [
       "<div>\n",
       "<style scoped>\n",
       "    .dataframe tbody tr th:only-of-type {\n",
       "        vertical-align: middle;\n",
       "    }\n",
       "\n",
       "    .dataframe tbody tr th {\n",
       "        vertical-align: top;\n",
       "    }\n",
       "\n",
       "    .dataframe thead th {\n",
       "        text-align: right;\n",
       "    }\n",
       "</style>\n",
       "<table border=\"1\" class=\"dataframe\">\n",
       "  <thead>\n",
       "    <tr style=\"text-align: right;\">\n",
       "      <th></th>\n",
       "      <th>v_id</th>\n",
       "      <th>is_train</th>\n",
       "      <th>is_test</th>\n",
       "      <th>tg_louvain</th>\n",
       "    </tr>\n",
       "  </thead>\n",
       "  <tbody>\n",
       "    <tr>\n",
       "      <th>0</th>\n",
       "      <td>flying</td>\n",
       "      <td>False</td>\n",
       "      <td>False</td>\n",
       "      <td>828375040</td>\n",
       "    </tr>\n",
       "    <tr>\n",
       "      <th>1</th>\n",
       "      <td>icyhotwatch</td>\n",
       "      <td>False</td>\n",
       "      <td>False</td>\n",
       "      <td>828375041</td>\n",
       "    </tr>\n",
       "    <tr>\n",
       "      <th>2</th>\n",
       "      <td>abortion</td>\n",
       "      <td>False</td>\n",
       "      <td>False</td>\n",
       "      <td>828375042</td>\n",
       "    </tr>\n",
       "    <tr>\n",
       "      <th>3</th>\n",
       "      <td>dorama</td>\n",
       "      <td>False</td>\n",
       "      <td>False</td>\n",
       "      <td>828375043</td>\n",
       "    </tr>\n",
       "    <tr>\n",
       "      <th>4</th>\n",
       "      <td>thai</td>\n",
       "      <td>False</td>\n",
       "      <td>False</td>\n",
       "      <td>828375044</td>\n",
       "    </tr>\n",
       "    <tr>\n",
       "      <th>...</th>\n",
       "      <td>...</td>\n",
       "      <td>...</td>\n",
       "      <td>...</td>\n",
       "      <td>...</td>\n",
       "    </tr>\n",
       "    <tr>\n",
       "      <th>4415</th>\n",
       "      <td>Umphreys</td>\n",
       "      <td>False</td>\n",
       "      <td>False</td>\n",
       "      <td>643825802</td>\n",
       "    </tr>\n",
       "    <tr>\n",
       "      <th>4416</th>\n",
       "      <td>macessentials</td>\n",
       "      <td>False</td>\n",
       "      <td>False</td>\n",
       "      <td>643825803</td>\n",
       "    </tr>\n",
       "    <tr>\n",
       "      <th>4417</th>\n",
       "      <td>DADA</td>\n",
       "      <td>False</td>\n",
       "      <td>False</td>\n",
       "      <td>643825804</td>\n",
       "    </tr>\n",
       "    <tr>\n",
       "      <th>4418</th>\n",
       "      <td>doctorwho</td>\n",
       "      <td>False</td>\n",
       "      <td>False</td>\n",
       "      <td>643825805</td>\n",
       "    </tr>\n",
       "    <tr>\n",
       "      <th>4419</th>\n",
       "      <td>SNL</td>\n",
       "      <td>False</td>\n",
       "      <td>False</td>\n",
       "      <td>643825806</td>\n",
       "    </tr>\n",
       "  </tbody>\n",
       "</table>\n",
       "<p>4420 rows × 4 columns</p>\n",
       "</div>"
      ],
      "text/plain": [
       "               v_id  is_train  is_test  tg_louvain\n",
       "0            flying     False    False   828375040\n",
       "1       icyhotwatch     False    False   828375041\n",
       "2          abortion     False    False   828375042\n",
       "3            dorama     False    False   828375043\n",
       "4              thai     False    False   828375044\n",
       "...             ...       ...      ...         ...\n",
       "4415       Umphreys     False    False   643825802\n",
       "4416  macessentials     False    False   643825803\n",
       "4417           DADA     False    False   643825804\n",
       "4418      doctorwho     False    False   643825805\n",
       "4419            SNL     False    False   643825806\n",
       "\n",
       "[4420 rows x 4 columns]"
      ]
     },
     "metadata": {},
     "output_type": "display_data"
    }
   ],
   "source": [
    "display(subreddit_df)"
   ]
  },
  {
   "cell_type": "code",
   "execution_count": 23,
   "id": "38964e88",
   "metadata": {},
   "outputs": [
    {
     "data": {
      "text/html": [
       "<div>\n",
       "<style scoped>\n",
       "    .dataframe tbody tr th:only-of-type {\n",
       "        vertical-align: middle;\n",
       "    }\n",
       "\n",
       "    .dataframe tbody tr th {\n",
       "        vertical-align: top;\n",
       "    }\n",
       "\n",
       "    .dataframe thead th {\n",
       "        text-align: right;\n",
       "    }\n",
       "</style>\n",
       "<table border=\"1\" class=\"dataframe\">\n",
       "  <thead>\n",
       "    <tr style=\"text-align: right;\">\n",
       "      <th></th>\n",
       "      <th>v_id</th>\n",
       "      <th>subreddit</th>\n",
       "      <th>created_utc</th>\n",
       "      <th>karma</th>\n",
       "      <th>is_train</th>\n",
       "      <th>is_test</th>\n",
       "      <th>tg_louvain</th>\n",
       "    </tr>\n",
       "  </thead>\n",
       "  <tbody>\n",
       "    <tr>\n",
       "      <th>0</th>\n",
       "      <td>c17gpbu</td>\n",
       "      <td>pics</td>\n",
       "      <td>1291175952</td>\n",
       "      <td>2</td>\n",
       "      <td>False</td>\n",
       "      <td>False</td>\n",
       "      <td>794820608</td>\n",
       "    </tr>\n",
       "    <tr>\n",
       "      <th>1</th>\n",
       "      <td>c17gp8w</td>\n",
       "      <td>pics</td>\n",
       "      <td>1291175925</td>\n",
       "      <td>1</td>\n",
       "      <td>False</td>\n",
       "      <td>False</td>\n",
       "      <td>-1</td>\n",
       "    </tr>\n",
       "    <tr>\n",
       "      <th>2</th>\n",
       "      <td>c17gp8h</td>\n",
       "      <td>AskReddit</td>\n",
       "      <td>1291175920</td>\n",
       "      <td>1</td>\n",
       "      <td>False</td>\n",
       "      <td>False</td>\n",
       "      <td>-1</td>\n",
       "    </tr>\n",
       "    <tr>\n",
       "      <th>3</th>\n",
       "      <td>c17gp62</td>\n",
       "      <td>reddit.com</td>\n",
       "      <td>1291175894</td>\n",
       "      <td>1</td>\n",
       "      <td>False</td>\n",
       "      <td>False</td>\n",
       "      <td>-1</td>\n",
       "    </tr>\n",
       "    <tr>\n",
       "      <th>4</th>\n",
       "      <td>c17gp3o</td>\n",
       "      <td>worldnews</td>\n",
       "      <td>1291175870</td>\n",
       "      <td>3</td>\n",
       "      <td>False</td>\n",
       "      <td>False</td>\n",
       "      <td>794820612</td>\n",
       "    </tr>\n",
       "    <tr>\n",
       "      <th>...</th>\n",
       "      <td>...</td>\n",
       "      <td>...</td>\n",
       "      <td>...</td>\n",
       "      <td>...</td>\n",
       "      <td>...</td>\n",
       "      <td>...</td>\n",
       "      <td>...</td>\n",
       "    </tr>\n",
       "    <tr>\n",
       "      <th>99995</th>\n",
       "      <td>c19m6ye</td>\n",
       "      <td>AskReddit</td>\n",
       "      <td>1292741916</td>\n",
       "      <td>1</td>\n",
       "      <td>False</td>\n",
       "      <td>False</td>\n",
       "      <td>-1</td>\n",
       "    </tr>\n",
       "    <tr>\n",
       "      <th>99996</th>\n",
       "      <td>c19m6k4</td>\n",
       "      <td>AskReddit</td>\n",
       "      <td>1292741672</td>\n",
       "      <td>2</td>\n",
       "      <td>False</td>\n",
       "      <td>False</td>\n",
       "      <td>794920604</td>\n",
       "    </tr>\n",
       "    <tr>\n",
       "      <th>99997</th>\n",
       "      <td>c19m6jr</td>\n",
       "      <td>pics</td>\n",
       "      <td>1292741667</td>\n",
       "      <td>2</td>\n",
       "      <td>False</td>\n",
       "      <td>False</td>\n",
       "      <td>-1</td>\n",
       "    </tr>\n",
       "    <tr>\n",
       "      <th>99998</th>\n",
       "      <td>c19m6j9</td>\n",
       "      <td>pics</td>\n",
       "      <td>1292741657</td>\n",
       "      <td>1</td>\n",
       "      <td>False</td>\n",
       "      <td>False</td>\n",
       "      <td>794920606</td>\n",
       "    </tr>\n",
       "    <tr>\n",
       "      <th>99999</th>\n",
       "      <td>c19m6i8</td>\n",
       "      <td>food</td>\n",
       "      <td>1292741636</td>\n",
       "      <td>2</td>\n",
       "      <td>False</td>\n",
       "      <td>False</td>\n",
       "      <td>-1</td>\n",
       "    </tr>\n",
       "  </tbody>\n",
       "</table>\n",
       "<p>100000 rows × 7 columns</p>\n",
       "</div>"
      ],
      "text/plain": [
       "          v_id   subreddit  created_utc  karma  is_train  is_test  tg_louvain\n",
       "0      c17gpbu        pics   1291175952      2     False    False   794820608\n",
       "1      c17gp8w        pics   1291175925      1     False    False          -1\n",
       "2      c17gp8h   AskReddit   1291175920      1     False    False          -1\n",
       "3      c17gp62  reddit.com   1291175894      1     False    False          -1\n",
       "4      c17gp3o   worldnews   1291175870      3     False    False   794820612\n",
       "...        ...         ...          ...    ...       ...      ...         ...\n",
       "99995  c19m6ye   AskReddit   1292741916      1     False    False          -1\n",
       "99996  c19m6k4   AskReddit   1292741672      2     False    False   794920604\n",
       "99997  c19m6jr        pics   1292741667      2     False    False          -1\n",
       "99998  c19m6j9        pics   1292741657      1     False    False   794920606\n",
       "99999  c19m6i8        food   1292741636      2     False    False          -1\n",
       "\n",
       "[100000 rows x 7 columns]"
      ]
     },
     "metadata": {},
     "output_type": "display_data"
    }
   ],
   "source": [
    "display(comment_df)"
   ]
  },
  {
   "cell_type": "code",
   "execution_count": null,
   "id": "59166962",
   "metadata": {},
   "outputs": [],
   "source": []
  }
 ],
 "metadata": {
  "kernelspec": {
   "display_name": "Python 3 (ipykernel)",
   "language": "python",
   "name": "python3"
  },
  "language_info": {
   "codemirror_mode": {
    "name": "ipython",
    "version": 3
   },
   "file_extension": ".py",
   "mimetype": "text/x-python",
   "name": "python",
   "nbconvert_exporter": "python",
   "pygments_lexer": "ipython3",
   "version": "3.9.12"
  }
 },
 "nbformat": 4,
 "nbformat_minor": 5
}
