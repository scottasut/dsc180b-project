{
 "cells": [
  {
   "cell_type": "code",
   "execution_count": 6,
   "metadata": {},
   "outputs": [],
   "source": [
    "from cosine_knn import CosineKNN\n",
    "from jaccard import SimpleJaccard\n",
    "import pandas as pd"
   ]
  },
  {
   "cell_type": "code",
   "execution_count": 13,
   "metadata": {},
   "outputs": [],
   "source": [
    "comments_to_subreddit = {}\n",
    "data = []\n",
    "users = []\n",
    "with open('../../data/out/users_comments.csv') as ucf, open('../../data/out/comments.csv') as cf:\n",
    "    for l in cf.readlines():\n",
    "        c, sr, _, _ = l.split(',')\n",
    "        comments_to_subreddit[c] = sr\n",
    "\n",
    "    for l in ucf.readlines():\n",
    "        u, c = l.split(',')\n",
    "        data.append((u, comments_to_subreddit[c.strip()]))\n",
    "        users.append(u)"
   ]
  },
  {
   "cell_type": "code",
   "execution_count": 8,
   "metadata": {},
   "outputs": [],
   "source": [
    "df = pd.DataFrame(data, columns=['user', 'subreddit'])"
   ]
  },
  {
   "cell_type": "code",
   "execution_count": 9,
   "metadata": {},
   "outputs": [],
   "source": [
    "jaccard_mdl = SimpleJaccard(data)"
   ]
  },
  {
   "cell_type": "code",
   "execution_count": 14,
   "metadata": {},
   "outputs": [
    {
     "name": "stdout",
     "output_type": "stream",
     "text": [
      "Mishkan Frugal\n",
      "Priapulid atheism\n",
      "2_of_8 secretsanta\n",
      "gnovos offbeat\n",
      "ThanksYo offbeat\n",
      "LeeAmerica offbeat\n",
      "crunchy_fetus Frugal\n",
      "gentlemanofleisure offbeat\n",
      "binary_search_tree offbeat\n",
      "mordaunt0 atheism\n",
      "tovarish22 atheism\n",
      "duxup offbeat\n",
      "methinks2015 atheism\n",
      "case2000 atheism\n",
      "cekryb offbeat\n",
      "tatamovich offbeat\n",
      "VasterVaster offbeat\n",
      "blzd4dyz atheism\n",
      "justice7 offbeat\n",
      "awwnuts reddit.com\n",
      "kevinkm77 atheism\n",
      "chula198705 reddit.com\n",
      "Sybr33dNothing offbeat\n",
      "hippie_redneck offbeat\n",
      "Haiavaha atheism\n"
     ]
    }
   ],
   "source": [
    "for u in users[::-1][:25]:\n",
    "    print(u, jaccard_mdl.reccomend(u))"
   ]
  },
  {
   "cell_type": "code",
   "execution_count": null,
   "metadata": {},
   "outputs": [],
   "source": [
    "knn_mdl = CosineKNN(df)"
   ]
  }
 ],
 "metadata": {
  "kernelspec": {
   "display_name": "Python 3",
   "language": "python",
   "name": "python3"
  },
  "language_info": {
   "codemirror_mode": {
    "name": "ipython",
    "version": 3
   },
   "file_extension": ".py",
   "mimetype": "text/x-python",
   "name": "python",
   "nbconvert_exporter": "python",
   "pygments_lexer": "ipython3",
   "version": "3.9.4"
  },
  "orig_nbformat": 4,
  "vscode": {
   "interpreter": {
    "hash": "3765b5c36215b6942432267d5a9eb97e0199a22c25b16bdeee0eec4357e615e6"
   }
  }
 },
 "nbformat": 4,
 "nbformat_minor": 2
}
