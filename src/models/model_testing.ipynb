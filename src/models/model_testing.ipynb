{
 "cells": [
  {
   "cell_type": "code",
   "execution_count": 1,
   "metadata": {},
   "outputs": [],
   "source": [
    "from cosine_knn import CosineKNN\n",
    "from jaccard import SimpleJaccard\n",
    "import pandas as pd"
   ]
  },
  {
   "cell_type": "code",
   "execution_count": 2,
   "metadata": {},
   "outputs": [],
   "source": [
    "comments_to_subreddit = {}\n",
    "data = []\n",
    "with open('../../data/out/users_comments.csv') as ucf, open('../../data/out/comments.csv') as cf:\n",
    "    for l in cf.readlines():\n",
    "        c, sr, _, _ = l.split(',')\n",
    "        comments_to_subreddit[c] = sr\n",
    "\n",
    "    for l in ucf.readlines():\n",
    "        u, c = l.split(',')\n",
    "        data.append((u, comments_to_subreddit[c.strip()]))"
   ]
  },
  {
   "cell_type": "code",
   "execution_count": 3,
   "metadata": {},
   "outputs": [],
   "source": [
    "df = pd.DataFrame(data, columns=['user', 'subreddit'])\n",
    "mdl = CosineKNN(df)"
   ]
  },
  {
   "cell_type": "code",
   "execution_count": 4,
   "metadata": {},
   "outputs": [
    {
     "data": {
      "text/plain": [
       "{'rva': [('rva', 0.0),\n",
       "  ('Birmingham', 0.9477140700764614),\n",
       "  ('buffalobills', 0.9525964322141097),\n",
       "  ('daddit', 0.9717504905616213),\n",
       "  ('Conservative', 0.9742845197976135),\n",
       "  ('TodayYouTomorrowMe', 0.9743505391283508),\n",
       "  ('beards', 0.9744620285589798),\n",
       "  ('tonightsdinner', 0.9754453207932575),\n",
       "  ('Employment', 0.9765871803230547),\n",
       "  ('vcu', 0.9775236931101325),\n",
       "  ('drunk', 0.9811555711692028)],\n",
       " 'lgbt': [('lgbt', 0.0),\n",
       "  ('LGBTrees', 0.927042053947245),\n",
       "  ('gaygeek', 0.9344516846438773),\n",
       "  ('actuallesbians', 0.9367934986379043),\n",
       "  ('gaybears', 0.9478843225946654),\n",
       "  ('AskReddit', 0.9487106953649644),\n",
       "  ('transgender', 0.9495834259672306),\n",
       "  ('bisexual', 0.9531975132541508),\n",
       "  ('atheism', 0.9543044256907144),\n",
       "  ('asktransgender', 0.9557829630888495),\n",
       "  ('LGBTOlder', 0.9579196773327013)],\n",
       " 'AskReddit': [('AskReddit', 0.0),\n",
       "  ('pics', 0.7117479907480059),\n",
       "  ('WTF', 0.7772415803839714),\n",
       "  ('funny', 0.788737615841328),\n",
       "  ('reddit.com', 0.7929719113253832),\n",
       "  ('IAmA', 0.8030316116112206),\n",
       "  ('gaming', 0.8168817628427847),\n",
       "  ('politics', 0.8301133488270458),\n",
       "  ('DoesAnybodyElse', 0.8621684450601559),\n",
       "  ('atheism', 0.8751896646745201),\n",
       "  ('todayilearned', 0.8753303686303683)]}"
      ]
     },
     "execution_count": 4,
     "metadata": {},
     "output_type": "execute_result"
    }
   ],
   "source": [
    "mdl.user_recommend('ErikF')"
   ]
  },
  {
   "cell_type": "code",
   "execution_count": null,
   "metadata": {},
   "outputs": [],
   "source": [
    "mdl = SimpleJaccard(data)\n",
    "for u in ['_silentheartsong','product19','RegularFreddieWilson','superdarkness','dockmarlin','snotrokit','tforcram','Misio','greenstripe333','seKer82','FormerDittoHead','kurtu5','moby323']:\n",
    "    rec = mdl.reccomend(u)\n",
    "    print(u, rec)"
   ]
  },
  {
   "cell_type": "code",
   "execution_count": null,
   "metadata": {},
   "outputs": [],
   "source": []
  }
 ],
 "metadata": {
  "kernelspec": {
   "display_name": "Python 3",
   "language": "python",
   "name": "python3"
  },
  "language_info": {
   "codemirror_mode": {
    "name": "ipython",
    "version": 3
   },
   "file_extension": ".py",
   "mimetype": "text/x-python",
   "name": "python",
   "nbconvert_exporter": "python",
   "pygments_lexer": "ipython3",
   "version": "3.9.4"
  },
  "orig_nbformat": 4,
  "vscode": {
   "interpreter": {
    "hash": "3765b5c36215b6942432267d5a9eb97e0199a22c25b16bdeee0eec4357e615e6"
   }
  }
 },
 "nbformat": 4,
 "nbformat_minor": 2
}
