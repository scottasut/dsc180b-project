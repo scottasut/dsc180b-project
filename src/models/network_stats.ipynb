{
 "cells": [
  {
   "cell_type": "code",
   "execution_count": 70,
   "metadata": {},
   "outputs": [
    {
     "name": "stderr",
     "output_type": "stream",
     "text": [
      "c:\\Users\\ryand\\AppData\\Local\\Programs\\Python\\Python39\\lib\\site-packages\\ipykernel\\ipkernel.py:283: DeprecationWarning: `should_run_async` will not call `transform_cell` automatically in the future. Please pass the result to `transformed_cell` argument and any exception that happen during thetransform in `preprocessing_exc_tuple` in IPython 7.17 and above.\n",
      "  and should_run_async(code)\n"
     ]
    }
   ],
   "source": [
    "from pyTigerGraph import TigerGraphConnection\n",
    "import pyTigerGraph as tg\n",
    "import json\n",
    "import torch\n",
    "import numpy as np\n",
    "import pandas as pd\n",
    "import warnings\n",
    "import torch\n",
    "import torch.nn.functional as F\n",
    "from pyTigerGraph.gds.metrics import Accumulator, Accuracy\n",
    "import matplotlib.pyplot as plt"
   ]
  },
  {
   "cell_type": "code",
   "execution_count": 71,
   "metadata": {},
   "outputs": [],
   "source": [
    "def connection():\n",
    "    with open(\"../../configs/tigergraph_config.json\", \"r\") as config:\n",
    "        args = json.load(config)\n",
    "    \n",
    "    conn = tg.TigerGraphConnection(\n",
    "        host=args[\"host\"],\n",
    "        graphname=args[\"graphname\"],\n",
    "        username=args[\"username\"],\n",
    "        password=args[\"password\"],\n",
    "        gsqlSecret=args[\"gsqlSecret\"],\n",
    "        certPath=args[\"certPath\"]\n",
    "    )\n",
    "\n",
    "    if not connected(conn):\n",
    "        raise ConnectionError(\"Failed to connect to GSQL\")\n",
    "    return conn\n",
    "\n",
    "def connected(conn):\n",
    "    if not conn.echo() == \"Hello GSQL\":\n",
    "        return False\n",
    "    return True"
   ]
  },
  {
   "cell_type": "code",
   "execution_count": 156,
   "metadata": {},
   "outputs": [],
   "source": [
    "conn = connection()"
   ]
  },
  {
   "cell_type": "code",
   "execution_count": 106,
   "metadata": {},
   "outputs": [
    {
     "name": "stdout",
     "output_type": "stream",
     "text": [
      "---- Global vertices, edges, and all graphs\n",
      "Vertex Types:\n",
      "- VERTEX Specialty(PRIMARY_ID id STRING) WITH STATS=\"OUTDEGREE_BY_EDGETYPE\", PRIMARY_ID_AS_ATTRIBUTE=\"false\"\n",
      "- VERTEX SubSpecialty(PRIMARY_ID id STRING) WITH STATS=\"OUTDEGREE_BY_EDGETYPE\", PRIMARY_ID_AS_ATTRIBUTE=\"false\"\n",
      "- VERTEX Prescriber(PRIMARY_ID Prescriber_id STRING, pageRank FLOAT, communityId INT, articleRank FLOAT) WITH STATS=\"OUTDEGREE_BY_EDGETYPE\", PRIMARY_ID_AS_ATTRIBUTE=\"false\"\n",
      "- VERTEX Claim(PRIMARY_ID Claim_id STRING, rx_fill_date DATETIME, ICD10Code STRING, ICD10CodeDescription STRING, CodeGroupTitle STRING) WITH STATS=\"OUTDEGREE_BY_EDGETYPE\", PRIMARY_ID_AS_ATTRIBUTE=\"false\"\n",
      "- VERTEX Patient(PRIMARY_ID Patient_id STRING) WITH STATS=\"OUTDEGREE_BY_EDGETYPE\", PRIMARY_ID_AS_ATTRIBUTE=\"false\"\n",
      "Edge Types:\n",
      "- DIRECTED EDGE submitted_by(FROM Claim, TO Prescriber) WITH REVERSE_EDGE=\"reverse_submitted_by\"\n",
      "- DIRECTED EDGE reverse_submitted_by(FROM Prescriber, TO Claim) WITH REVERSE_EDGE=\"submitted_by\"\n",
      "- DIRECTED EDGE associated(FROM Claim, TO Patient) WITH REVERSE_EDGE=\"reverse_associated\"\n",
      "- DIRECTED EDGE reverse_associated(FROM Patient, TO Claim) WITH REVERSE_EDGE=\"associated\"\n",
      "- DIRECTED EDGE specialty_subspecialty(FROM Specialty, TO SubSpecialty) WITH REVERSE_EDGE=\"reverse_specialty_subspecialty\"\n",
      "- DIRECTED EDGE reverse_specialty_subspecialty(FROM SubSpecialty, TO Specialty) WITH REVERSE_EDGE=\"specialty_subspecialty\"\n",
      "- DIRECTED EDGE subspecialty_prescriber(FROM SubSpecialty, TO Prescriber) WITH REVERSE_EDGE=\"reverse_subspecialty_prescriber\"\n",
      "- DIRECTED EDGE reverse_subspecialty_prescriber(FROM Prescriber, TO SubSpecialty) WITH REVERSE_EDGE=\"subspecialty_prescriber\"\n",
      "- DIRECTED EDGE referral(FROM Prescriber, TO Prescriber, num_patient INT DEFAULT \"0\") WITH REVERSE_EDGE=\"reverse_referral\"\n",
      "- DIRECTED EDGE reverse_referral(FROM Prescriber, TO Prescriber, num_patient INT DEFAULT \"0\") WITH REVERSE_EDGE=\"referral\"\n",
      "\n",
      "Graphs:\n",
      "- Graph MyGraph(Specialty:v, SubSpecialty:v, Prescriber:v, Claim:v, Patient:v, submitted_by:e, reverse_submitted_by:e, associated:e, reverse_associated:e, specialty_subspecialty:e, reverse_specialty_subspecialty:e, subspecialty_prescriber:e, reverse_subspecialty_prescriber:e, referral:e, reverse_referral:e)\n",
      "- Graph Cora(Paper:v, Cite:e)\n",
      "- Graph imdb(movie:v, actor:v, director:v, actor_movie:e, director_movie:e, movie_actor:e, movie_director:e)\n",
      "- Graph hetero(v0:v, v1:v, v2:v, v0v0:e, v1v1:e, v1v2:e, v2v0:e, v2v1:e, v2v2:e)\n",
      "- Graph Twitch(User:v, following:e, reverse_following:e)\n",
      "- Graph Reddit(User:v, Comment:v, Subreddit:v, wrote:e, reverse_wrote:e, belongs_to:e, reverse_belongs_to:e, replied_to:e, reverse_replied_to:e)\n",
      "Jobs:\n",
      "- CREATE GLOBAL SCHEMA_CHANGE JOB add_VERTEX_attr_cJvwUv {\n",
      "ALTER VERTEX Prescriber ADD ATTRIBUTE (articleRank FLOAT);\n",
      "}\n",
      "\n",
      "\n",
      "\n",
      "JSON API version: v2\n",
      "Syntax version: v2\n",
      "\n"
     ]
    }
   ],
   "source": [
    "# https://dev.tigergraph.com/forum/t/tigergraph-python-connection-issue/2776\n",
    "# echo | openssl s_client  -connect 140ae89e8e714a18a7a51df2beca1811.i.tgcloud.io:443 |  sed -ne '/-BEGIN CERTIFICATE-/,/-END CERTIFICATE-/p' > 'C:\\Users\\ryand\\DSC180B\\dsc180b-project\\my-cert.txt'\n",
    "# have to put my-cert.txt in C:\\User\\ryand\\.gsql\\my-cert.txt\n",
    "print(conn.gsql(\"LS\"))"
   ]
  },
  {
   "cell_type": "code",
   "execution_count": 129,
   "metadata": {},
   "outputs": [
    {
     "data": {
      "text/plain": [
       "('sieph8qrphup7oottriqaajvtqqqfonf', 1677978230, '2023-03-05 01:03:50')"
      ]
     },
     "execution_count": 129,
     "metadata": {},
     "output_type": "execute_result"
    }
   ],
   "source": [
    "with open(\"../../configs/tigergraph_config.json\", \"r\") as config:\n",
    "        args = json.load(config)\n",
    "\n",
    "conn.getToken(args['gsqlSecret'])"
   ]
  },
  {
   "cell_type": "code",
   "execution_count": 75,
   "metadata": {},
   "outputs": [
    {
     "data": {
      "text/plain": [
       "{'User': 243809, 'Comment': 5117970, 'Subreddit': 4420}"
      ]
     },
     "execution_count": 75,
     "metadata": {},
     "output_type": "execute_result"
    }
   ],
   "source": [
    "# Number of vertices for every vertex type\n",
    "conn.getVertexCount('*')"
   ]
  },
  {
   "cell_type": "code",
   "execution_count": 76,
   "metadata": {},
   "outputs": [
    {
     "data": {
      "text/plain": [
       "{'wrote': 4701420,\n",
       " 'reverse_wrote': 4701420,\n",
       " 'belongs_to': 4701420,\n",
       " 'reverse_belongs_to': 4701420,\n",
       " 'replied_to': 2700760,\n",
       " 'reverse_replied_to': 2700760}"
      ]
     },
     "execution_count": 76,
     "metadata": {},
     "output_type": "execute_result"
    }
   ],
   "source": [
    "# Number of edges for every type\n",
    "conn.getEdgeCount()"
   ]
  },
  {
   "attachments": {},
   "cell_type": "markdown",
   "metadata": {},
   "source": [
    "## Feature Engineering"
   ]
  },
  {
   "cell_type": "code",
   "execution_count": 157,
   "metadata": {},
   "outputs": [],
   "source": [
    "f = conn.gds.featurizer()\n",
    "# f.installAlgorithm(\"tg_pagerank\")\n",
    "# f.installAlgorithm(\"tg_closeness_cent\")\n",
    "# f.installAlgorithm(\"tg_betweenness_cent\")\n",
    "# f.installAlgorithm(\"tg_label_prop\")\n",
    "# f.installAlgorithm(\"tg_maximal_indep_set\")"
   ]
  },
  {
   "cell_type": "code",
   "execution_count": 136,
   "metadata": {},
   "outputs": [
    {
     "data": {
      "text/html": [
       "<div>\n",
       "<style scoped>\n",
       "    .dataframe tbody tr th:only-of-type {\n",
       "        vertical-align: middle;\n",
       "    }\n",
       "\n",
       "    .dataframe tbody tr th {\n",
       "        vertical-align: top;\n",
       "    }\n",
       "\n",
       "    .dataframe thead th {\n",
       "        text-align: right;\n",
       "    }\n",
       "</style>\n",
       "<table border=\"1\" class=\"dataframe\">\n",
       "  <thead>\n",
       "    <tr style=\"text-align: right;\">\n",
       "      <th></th>\n",
       "      <th>Vertex_ID</th>\n",
       "      <th>score</th>\n",
       "    </tr>\n",
       "  </thead>\n",
       "  <tbody>\n",
       "    <tr>\n",
       "      <th>0</th>\n",
       "      <td>c1920o8</td>\n",
       "      <td>41.80026</td>\n",
       "    </tr>\n",
       "    <tr>\n",
       "      <th>1</th>\n",
       "      <td>c19z9dl</td>\n",
       "      <td>41.12798</td>\n",
       "    </tr>\n",
       "    <tr>\n",
       "      <th>2</th>\n",
       "      <td>c18dyjj</td>\n",
       "      <td>34.89923</td>\n",
       "    </tr>\n",
       "    <tr>\n",
       "      <th>3</th>\n",
       "      <td>c18dqrr</td>\n",
       "      <td>32.40516</td>\n",
       "    </tr>\n",
       "    <tr>\n",
       "      <th>4</th>\n",
       "      <td>c18gp4r</td>\n",
       "      <td>30.50136</td>\n",
       "    </tr>\n",
       "    <tr>\n",
       "      <th>...</th>\n",
       "      <td>...</td>\n",
       "      <td>...</td>\n",
       "    </tr>\n",
       "    <tr>\n",
       "      <th>95</th>\n",
       "      <td>c19zapt</td>\n",
       "      <td>10.75795</td>\n",
       "    </tr>\n",
       "    <tr>\n",
       "      <th>96</th>\n",
       "      <td>c17jgqc</td>\n",
       "      <td>10.70455</td>\n",
       "    </tr>\n",
       "    <tr>\n",
       "      <th>97</th>\n",
       "      <td>c1a2kjk</td>\n",
       "      <td>10.69053</td>\n",
       "    </tr>\n",
       "    <tr>\n",
       "      <th>98</th>\n",
       "      <td>c193cb5</td>\n",
       "      <td>10.58636</td>\n",
       "    </tr>\n",
       "    <tr>\n",
       "      <th>99</th>\n",
       "      <td>c19w3vz</td>\n",
       "      <td>10.57709</td>\n",
       "    </tr>\n",
       "  </tbody>\n",
       "</table>\n",
       "<p>100 rows × 2 columns</p>\n",
       "</div>"
      ],
      "text/plain": [
       "   Vertex_ID     score\n",
       "0    c1920o8  41.80026\n",
       "1    c19z9dl  41.12798\n",
       "2    c18dyjj  34.89923\n",
       "3    c18dqrr  32.40516\n",
       "4    c18gp4r  30.50136\n",
       "..       ...       ...\n",
       "95   c19zapt  10.75795\n",
       "96   c17jgqc  10.70455\n",
       "97   c1a2kjk  10.69053\n",
       "98   c193cb5  10.58636\n",
       "99   c19w3vz  10.57709\n",
       "\n",
       "[100 rows x 2 columns]"
      ]
     },
     "execution_count": 136,
     "metadata": {},
     "output_type": "execute_result"
    }
   ],
   "source": [
    "# only combination that works on our current data\n",
    "tg_pagerank_params = {\n",
    "  \"v_type\": \"Comment\",\n",
    "  \"e_type\": \"replied_to\",\n",
    "  \"result_attr\": \"pagerank\",\n",
    "}\n",
    "results = pd.json_normalize(f.runAlgorithm(\"tg_pagerank\",tg_pagerank_params)[0]['@@top_scores_heap'])\n",
    "results"
   ]
  },
  {
   "cell_type": "code",
   "execution_count": 158,
   "metadata": {},
   "outputs": [
    {
     "name": "stdout",
     "output_type": "stream",
     "text": [
      "The list of the categories for available algorithms in the GDS (https://github.com/tigergraph/gsql-graph-algorithms):\n",
      "Centrality: \n",
      " pagerank: \n",
      "  global: \n",
      "   weighted: \n",
      "    Algorithm Name: tg_pagerank_wt\n",
      "    Algorithm Link: https://github.com/tigergraph/gsql-graph-algorithms/blob/master/algorithms/Centrality/pagerank/global/weighted/tg_pagerank_wt.gsql. \n",
      "   unweighted: \n",
      "    Algorithm Name: tg_pagerank\n",
      "    Algorithm Link: https://github.com/tigergraph/gsql-graph-algorithms/blob/master/algorithms/Centrality/pagerank/global/unweighted/tg_pagerank.gsql. \n",
      " article_rank: \n",
      "  Algorithm Name: tg_article_rank\n",
      "  Algorithm Link: https://github.com/tigergraph/gsql-graph-algorithms/blob/master/algorithms/Centrality/article_rank/tg_article_rank.gsql. \n",
      " Betweenness: \n",
      "  Algorithm Name: tg_betweenness_cent\n",
      "  Algorithm Link: https://github.com/tigergraph/gsql-graph-algorithms/blob/master/algorithms/Centrality/betweenness/tg_betweenness_cent.gsql. \n",
      " closeness: \n",
      "  approximate: \n",
      "   Algorithm Name: tg_closeness_cent_approx\n",
      "   Algorithm Link: https://github.com/tigergraph/gsql-graph-algorithms/blob/master/algorithms/Centrality/closeness/approximate/tg_closeness_cent_approx.gsql. \n",
      "  exact: \n",
      "   Algorithm Name: tg_closeness_cent\n",
      "   Algorithm Link: https://github.com/tigergraph/gsql-graph-algorithms/blob/master/algorithms/Centrality/closeness/exact/tg_closeness_cent.gsql. \n",
      " degree: \n",
      "  Algorithm Name: tg_degree_cent\n",
      "  Algorithm Link: https://github.com/tigergraph/gsql-graph-algorithms/blob/master/algorithms/Centrality/degree/tg_degree_cent.gsql. \n",
      " eigenvector: \n",
      "  Algorithm Name: tg_eigenvector_cent\n",
      "  Algorithm Link: https://github.com/tigergraph/gsql-graph-algorithms/blob/master/algorithms/Centrality/eigenvector/tg_eigenvector_cent.gsql. \n",
      " harmonic: \n",
      "  Algorithm Name: tg_harmonic_cent\n",
      "  Algorithm Link: https://github.com/tigergraph/gsql-graph-algorithms/blob/master/algorithms/Centrality/harmonic/tg_harmonic_cent.gsql. \n",
      "Classification: \n",
      " maximal_independent_set: \n",
      "  deterministic: \n",
      "   Algorithm Name: tg_maximal_indep_set\n",
      "   Algorithm Link: https://github.com/tigergraph/gsql-graph-algorithms/blob/master/algorithms/Classification/maximal_independent_set/deterministic/tg_maximal_indep_set.gsql. \n",
      "Community: \n",
      " connected_components: \n",
      "  strongly_connected_components: \n",
      "   standard: \n",
      "    Algorithm Name: tg_scc\n",
      "    Algorithm Link: https://github.com/tigergraph/gsql-graph-algorithms/blob/master/algorithms/Community/connected_components/strongly_connected_components/standard/tg_scc.gsql. \n",
      " k_core: \n",
      "  Algorithm Name: tg_kcore\n",
      "  Algorithm Link: https://github.com/tigergraph/gsql-graph-algorithms/blob/master/algorithms/Community/k_core/tg_kcore.gsql. \n",
      " label_propagation: \n",
      "  Algorithm Name: tg_label_prop\n",
      "  Algorithm Link: https://github.com/tigergraph/gsql-graph-algorithms/blob/master/algorithms/Community/label_propagation/tg_label_prop.gsql. \n",
      " local_clustering_coefficient: \n",
      "  Algorithm Name: tg_lcc\n",
      "  Algorithm Link: https://github.com/tigergraph/gsql-graph-algorithms/blob/master/algorithms/Community/local_clustering_coefficient/tg_lcc.gsql. \n",
      " louvain: \n",
      "  Algorithm Name: tg_louvain\n",
      "  Algorithm Link: https://github.com/tigergraph/gsql-graph-algorithms/blob/master/algorithms/Community/louvain/tg_louvain.gsql. \n",
      " triangle_counting: \n",
      "  fast: \n",
      "   Algorithm Name: tg_tri_count_fast\n",
      "   Algorithm Link: https://github.com/tigergraph/gsql-graph-algorithms/blob/master/algorithms/Community/triangle_counting/fast/tg_tri_count_fast.gsql. \n",
      "Embeddings: \n",
      " FastRP: \n",
      "  Algorithm Name: tg_fastRP\n",
      "  Algorithm Link: https://github.com/tigergraph/gsql-graph-algorithms/blob/master/algorithms/GraphML/Embeddings/FastRP/tg_fastRP.gsql. \n",
      "Path: \n",
      " bfs: \n",
      "  Algorithm Name: tg_bfs\n",
      "  Algorithm Link: https://github.com/tigergraph/gsql-graph-algorithms/blob/master/algorithms/Path/bfs/tg_bfs.gsql. \n",
      " cycle_detection: \n",
      "  count: \n",
      "   Algorithm Name: tg_cycle_detection_count\n",
      "   Algorithm Link: https://github.com/tigergraph/gsql-graph-algorithms/blob/master/algorithms/Path/cycle_detection/count/tg_cycle_detection_count.gsql. \n",
      " shortest_path: \n",
      "  unweighted: \n",
      "   Algorithm Name: tg_shortest_ss_no_wt\n",
      "   Algorithm Link: https://github.com/tigergraph/gsql-graph-algorithms/blob/master/algorithms/Path/shortest_path/unweighted/tg_shortest_ss_no_wt.gsql. \n",
      "Topological Link Prediction: \n",
      " common_neighbors: \n",
      "  Algorithm Name: tg_common_neighbors\n",
      "  Algorithm Link: https://github.com/tigergraph/gsql-graph-algorithms/blob/master/algorithms/Topological%20Link%20Prediction/common_neighbors/tg_common_neighbors.gsql. \n",
      " preferential_attachment: \n",
      "  Algorithm Name: tg_preferential_attachment\n",
      "  Algorithm Link: https://github.com/tigergraph/gsql-graph-algorithms/blob/master/algorithms/Topological%20Link%20Prediction/preferential_attachment/tg_preferential_attachment.gsql. \n",
      " same_community: \n",
      "  Algorithm Name: tg_same_community\n",
      "  Algorithm Link: https://github.com/tigergraph/gsql-graph-algorithms/blob/master/algorithms/Topological%20Link%20Prediction/same_community/tg_same_community.gsql. \n",
      " total_neighbors: \n",
      "  Algorithm Name: tg_total_neighbors\n",
      "  Algorithm Link: https://github.com/tigergraph/gsql-graph-algorithms/blob/master/algorithms/Topological%20Link%20Prediction/total_neighbors/tg_total_neighbors.gsql. \n"
     ]
    },
    {
     "ename": "ValueError",
     "evalue": "The query name is not included in the list of queries.",
     "output_type": "error",
     "traceback": [
      "\u001b[1;31m---------------------------------------------------------------------------\u001b[0m",
      "\u001b[1;31mValueError\u001b[0m                                Traceback (most recent call last)",
      "\u001b[1;32m<ipython-input-158-177fa39f2883>\u001b[0m in \u001b[0;36m<module>\u001b[1;34m\u001b[0m\n\u001b[0;32m      5\u001b[0m   \u001b[1;34m\"result_attr\"\u001b[0m\u001b[1;33m:\u001b[0m \u001b[1;34m\"pagerank\"\u001b[0m\u001b[1;33m,\u001b[0m\u001b[1;33m\u001b[0m\u001b[1;33m\u001b[0m\u001b[0m\n\u001b[0;32m      6\u001b[0m }\n\u001b[1;32m----> 7\u001b[1;33m \u001b[0mresults\u001b[0m \u001b[1;33m=\u001b[0m \u001b[0mpd\u001b[0m\u001b[1;33m.\u001b[0m\u001b[0mjson_normalize\u001b[0m\u001b[1;33m(\u001b[0m\u001b[0mf\u001b[0m\u001b[1;33m.\u001b[0m\u001b[0mrunAlgorithm\u001b[0m\u001b[1;33m(\u001b[0m\u001b[1;34m\"tg_reddit_pagerank\"\u001b[0m\u001b[1;33m,\u001b[0m\u001b[0mtg_pagerank_params\u001b[0m\u001b[1;33m)\u001b[0m\u001b[1;33m[\u001b[0m\u001b[1;36m0\u001b[0m\u001b[1;33m]\u001b[0m\u001b[1;33m[\u001b[0m\u001b[1;34m'@@top_scores_heap'\u001b[0m\u001b[1;33m]\u001b[0m\u001b[1;33m)\u001b[0m\u001b[1;33m\u001b[0m\u001b[1;33m\u001b[0m\u001b[0m\n\u001b[0m\u001b[0;32m      8\u001b[0m \u001b[0mresults\u001b[0m\u001b[1;33m\u001b[0m\u001b[1;33m\u001b[0m\u001b[0m\n",
      "\u001b[1;32mc:\\Users\\ryand\\AppData\\Local\\Programs\\Python\\Python39\\lib\\site-packages\\pyTigerGraph\\gds\\featurizer.py\u001b[0m in \u001b[0;36mrunAlgorithm\u001b[1;34m(self, query_name, params, feat_name, feat_type, custom_query, schema_name, global_schema, timeout, sizeLimit)\u001b[0m\n\u001b[0;32m    408\u001b[0m         \u001b[1;32melse\u001b[0m\u001b[1;33m:\u001b[0m\u001b[1;33m\u001b[0m\u001b[1;33m\u001b[0m\u001b[0m\n\u001b[0;32m    409\u001b[0m             \u001b[1;32mif\u001b[0m \u001b[1;32mnot\u001b[0m\u001b[1;33m(\u001b[0m\u001b[0mcustom_query\u001b[0m\u001b[1;33m)\u001b[0m\u001b[1;33m:\u001b[0m\u001b[1;33m\u001b[0m\u001b[1;33m\u001b[0m\u001b[0m\n\u001b[1;32m--> 410\u001b[1;33m                 \u001b[0mdefault_params\u001b[0m \u001b[1;33m=\u001b[0m \u001b[0mself\u001b[0m\u001b[1;33m.\u001b[0m\u001b[0m_get_Params\u001b[0m\u001b[1;33m(\u001b[0m\u001b[0mquery_name\u001b[0m\u001b[1;33m)\u001b[0m\u001b[1;33m\u001b[0m\u001b[1;33m\u001b[0m\u001b[0m\n\u001b[0m\u001b[0;32m    411\u001b[0m             \u001b[1;32melse\u001b[0m\u001b[1;33m:\u001b[0m\u001b[1;33m\u001b[0m\u001b[1;33m\u001b[0m\u001b[0m\n\u001b[0;32m    412\u001b[0m                 \u001b[1;32mif\u001b[0m \u001b[0mfeat_name\u001b[0m \u001b[1;33m==\u001b[0m \u001b[1;32mNone\u001b[0m \u001b[1;32mor\u001b[0m \u001b[0mfeat_type\u001b[0m \u001b[1;33m==\u001b[0m \u001b[1;32mNone\u001b[0m\u001b[1;33m:\u001b[0m\u001b[1;33m\u001b[0m\u001b[1;33m\u001b[0m\u001b[0m\n",
      "\u001b[1;32mc:\\Users\\ryand\\AppData\\Local\\Programs\\Python\\Python39\\lib\\site-packages\\pyTigerGraph\\gds\\featurizer.py\u001b[0m in \u001b[0;36m_get_Params\u001b[1;34m(self, query_name)\u001b[0m\n\u001b[0;32m    335\u001b[0m         '''\n\u001b[0;32m    336\u001b[0m         \u001b[0m_dict\u001b[0m \u001b[1;33m=\u001b[0m \u001b[1;33m{\u001b[0m\u001b[1;33m}\u001b[0m\u001b[1;33m\u001b[0m\u001b[1;33m\u001b[0m\u001b[0m\n\u001b[1;32m--> 337\u001b[1;33m         \u001b[0mquery\u001b[0m \u001b[1;33m=\u001b[0m \u001b[0mself\u001b[0m\u001b[1;33m.\u001b[0m\u001b[0m_get_query\u001b[0m\u001b[1;33m(\u001b[0m\u001b[0mquery_name\u001b[0m\u001b[1;33m)\u001b[0m\u001b[1;33m\u001b[0m\u001b[1;33m\u001b[0m\u001b[0m\n\u001b[0m\u001b[0;32m    338\u001b[0m         \u001b[1;32mif\u001b[0m \u001b[0mquery\u001b[0m \u001b[1;33m==\u001b[0m \u001b[1;34m\"\"\u001b[0m\u001b[1;33m:\u001b[0m\u001b[1;33m\u001b[0m\u001b[1;33m\u001b[0m\u001b[0m\n\u001b[0;32m    339\u001b[0m             \u001b[0mself\u001b[0m\u001b[1;33m.\u001b[0m\u001b[0mlistAlgorithms\u001b[0m\u001b[1;33m(\u001b[0m\u001b[1;33m)\u001b[0m\u001b[1;33m\u001b[0m\u001b[1;33m\u001b[0m\u001b[0m\n",
      "\u001b[1;32mc:\\Users\\ryand\\AppData\\Local\\Programs\\Python\\Python39\\lib\\site-packages\\pyTigerGraph\\gds\\featurizer.py\u001b[0m in \u001b[0;36m_get_query\u001b[1;34m(self, query_name)\u001b[0m\n\u001b[0;32m    173\u001b[0m         \u001b[1;32mif\u001b[0m \u001b[0mquery\u001b[0m \u001b[1;33m==\u001b[0m \u001b[1;34m\"\"\u001b[0m\u001b[1;33m:\u001b[0m\u001b[1;33m\u001b[0m\u001b[1;33m\u001b[0m\u001b[0m\n\u001b[0;32m    174\u001b[0m             \u001b[0mself\u001b[0m\u001b[1;33m.\u001b[0m\u001b[0mlistAlgorithms\u001b[0m\u001b[1;33m(\u001b[0m\u001b[1;33m)\u001b[0m\u001b[1;33m\u001b[0m\u001b[1;33m\u001b[0m\u001b[0m\n\u001b[1;32m--> 175\u001b[1;33m             \u001b[1;32mraise\u001b[0m \u001b[0mValueError\u001b[0m\u001b[1;33m(\u001b[0m\u001b[1;34m\"The query name is not included in the list of queries.\"\u001b[0m\u001b[1;33m)\u001b[0m\u001b[1;33m\u001b[0m\u001b[1;33m\u001b[0m\u001b[0m\n\u001b[0m\u001b[0;32m    176\u001b[0m         \u001b[1;32mreturn\u001b[0m \u001b[0mquery\u001b[0m\u001b[1;33m\u001b[0m\u001b[1;33m\u001b[0m\u001b[0m\n\u001b[0;32m    177\u001b[0m \u001b[1;33m\u001b[0m\u001b[0m\n",
      "\u001b[1;31mValueError\u001b[0m: The query name is not included in the list of queries."
     ]
    }
   ],
   "source": [
    "# only combination that works on our current data\n",
    "tg_pagerank_params = {\n",
    "  \"v_type\": \"User\",\n",
    "  \"e_type\": [\"wrote\", \"reverse_wrote\", \"replied_to\", \"reverse_replied_to\"],\n",
    "  \"result_attr\": \"pagerank\",\n",
    "}\n",
    "results = pd.json_normalize(f.runAlgorithm(\"tg_reddit_pagerank\",tg_pagerank_params)[0]['@@top_scores_heap'])\n",
    "results"
   ]
  },
  {
   "cell_type": "code",
   "execution_count": 153,
   "metadata": {},
   "outputs": [
    {
     "data": {
      "text/plain": [
       "[{'top_scores': []}]"
      ]
     },
     "execution_count": 153,
     "metadata": {},
     "output_type": "execute_result"
    }
   ],
   "source": [
    "tg_closeness_params = {\n",
    "    \"v_type\": \"User\",\n",
    "    \"e_type\": [\"replied_to\", \"reverse_wrote\"],\n",
    "    \"reverse_e_type\": [\"reverse_replied_to\"],\n",
    "    \"result_attr\": \"closeness\"\n",
    "}\n",
    "results = pd.json_normalize(f.runAlgorithm(\"tg_closeness_cent\", tg_closeness_params))\n",
    "results\n",
    "f.runAlgorithm(\"tg_closeness_cent\", tg_closeness_params)"
   ]
  },
  {
   "cell_type": "code",
   "execution_count": 147,
   "metadata": {},
   "outputs": [
    {
     "name": "stderr",
     "output_type": "stream",
     "text": [
      "c:\\Users\\ryand\\AppData\\Local\\Programs\\Python\\Python39\\lib\\site-packages\\ipykernel\\ipkernel.py:283: DeprecationWarning: `should_run_async` will not call `transform_cell` automatically in the future. Please pass the result to `transformed_cell` argument and any exception that happen during thetransform in `preprocessing_exc_tuple` in IPython 7.17 and above.\n",
      "  and should_run_async(code)\n"
     ]
    },
    {
     "data": {
      "text/html": [
       "<div>\n",
       "<style scoped>\n",
       "    .dataframe tbody tr th:only-of-type {\n",
       "        vertical-align: middle;\n",
       "    }\n",
       "\n",
       "    .dataframe tbody tr th {\n",
       "        vertical-align: top;\n",
       "    }\n",
       "\n",
       "    .dataframe thead th {\n",
       "        text-align: right;\n",
       "    }\n",
       "</style>\n",
       "<table border=\"1\" class=\"dataframe\">\n",
       "  <thead>\n",
       "    <tr style=\"text-align: right;\">\n",
       "      <th></th>\n",
       "      <th>top_scores</th>\n",
       "    </tr>\n",
       "  </thead>\n",
       "  <tbody>\n",
       "    <tr>\n",
       "      <th>0</th>\n",
       "      <td>[]</td>\n",
       "    </tr>\n",
       "  </tbody>\n",
       "</table>\n",
       "</div>"
      ],
      "text/plain": [
       "  top_scores\n",
       "0         []"
      ]
     },
     "execution_count": 147,
     "metadata": {},
     "output_type": "execute_result"
    }
   ],
   "source": [
    "tg_betweenness_params = {\n",
    "    \"v_type\": [\"Comment\"],\n",
    "    \"e_type\": [\"replied_to\"],\n",
    "    \"reverse_e_type\": [\"reverse_replied_to\"],\n",
    "    \"result_attr\": \"betweenness\"\n",
    "}\n",
    "results = pd.json_normalize(f.runAlgorithm(\"tg_betweenness_cent\", tg_betweenness_params))\n",
    "results"
   ]
  },
  {
   "attachments": {},
   "cell_type": "markdown",
   "metadata": {},
   "source": [
    "## Data Loader"
   ]
  },
  {
   "cell_type": "code",
   "execution_count": 44,
   "metadata": {},
   "outputs": [
    {
     "name": "stdout",
     "output_type": "stream",
     "text": [
      "Installing and optimizing queries. It might take a minute if this is the first time you use this loader.\n",
      "Query installation finished.\n"
     ]
    }
   ],
   "source": [
    "graph_loader = conn.gds.graphLoader(\n",
    "    num_batches=1,\n",
    "    v_extra_feats=[\"x\"],\n",
    "    e_extra_feats=[],\n",
    "    output_format = \"PyG\")"
   ]
  },
  {
   "cell_type": "code",
   "execution_count": null,
   "metadata": {},
   "outputs": [],
   "source": []
  }
 ],
 "metadata": {
  "kernelspec": {
   "display_name": "Python 3",
   "language": "python",
   "name": "python3"
  },
  "language_info": {
   "codemirror_mode": {
    "name": "ipython",
    "version": 3
   },
   "file_extension": ".py",
   "mimetype": "text/x-python",
   "name": "python",
   "nbconvert_exporter": "python",
   "pygments_lexer": "ipython3",
   "version": "3.9.2 (tags/v3.9.2:1a79785, Feb 19 2021, 13:44:55) [MSC v.1928 64 bit (AMD64)]"
  },
  "orig_nbformat": 4,
  "vscode": {
   "interpreter": {
    "hash": "86cae0fd2a7309d6498bb54a8a1e9f5a08caad9528d9ae89ce1414511c8d5526"
   }
  }
 },
 "nbformat": 4,
 "nbformat_minor": 2
}
