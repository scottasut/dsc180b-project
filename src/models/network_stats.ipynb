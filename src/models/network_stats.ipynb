{
 "cells": [
  {
   "cell_type": "code",
   "execution_count": 173,
   "metadata": {},
   "outputs": [
    {
     "name": "stderr",
     "output_type": "stream",
     "text": [
      "c:\\Users\\ryand\\AppData\\Local\\Programs\\Python\\Python39\\lib\\site-packages\\ipykernel\\ipkernel.py:283: DeprecationWarning: `should_run_async` will not call `transform_cell` automatically in the future. Please pass the result to `transformed_cell` argument and any exception that happen during thetransform in `preprocessing_exc_tuple` in IPython 7.17 and above.\n",
      "  and should_run_async(code)\n"
     ]
    }
   ],
   "source": [
    "from pyTigerGraph import TigerGraphConnection\n",
    "import pyTigerGraph as tg\n",
    "import json\n",
    "import torch\n",
    "import numpy as np\n",
    "import pandas as pd\n",
    "import warnings\n",
    "import torch\n",
    "import torch.nn.functional as F\n",
    "from pyTigerGraph.gds.metrics import Accumulator, Accuracy\n",
    "import matplotlib.pyplot as plt\n",
    "import random"
   ]
  },
  {
   "cell_type": "code",
   "execution_count": 40,
   "metadata": {},
   "outputs": [],
   "source": [
    "def connection():\n",
    "    with open(\"../../configs/tigergraph_config_1.json\", \"r\") as config:\n",
    "        args = json.load(config)\n",
    "    \n",
    "    conn = tg.TigerGraphConnection(\n",
    "        host=args[\"host\"],\n",
    "        graphname=args[\"graphname\"],\n",
    "        username=args[\"username\"],\n",
    "        password=args[\"password\"],\n",
    "        gsqlSecret=args[\"gsqlSecret\"],\n",
    "        certPath=args[\"certPath\"]\n",
    "    )\n",
    "\n",
    "    if not connected(conn):\n",
    "        raise ConnectionError(\"Failed to connect to GSQL\")\n",
    "    return conn\n",
    "\n",
    "def connected(conn):\n",
    "    if not conn.echo() == \"Hello GSQL\":\n",
    "        return False\n",
    "    return True"
   ]
  },
  {
   "cell_type": "code",
   "execution_count": 53,
   "metadata": {},
   "outputs": [],
   "source": [
    "conn = connection()"
   ]
  },
  {
   "cell_type": "code",
   "execution_count": 25,
   "metadata": {},
   "outputs": [
    {
     "name": "stdout",
     "output_type": "stream",
     "text": [
      "---- Global vertices, edges, and all graphs\n",
      "Vertex Types:\n",
      "- VERTEX Specialty(PRIMARY_ID id STRING) WITH STATS=\"OUTDEGREE_BY_EDGETYPE\", PRIMARY_ID_AS_ATTRIBUTE=\"false\"\n",
      "- VERTEX SubSpecialty(PRIMARY_ID id STRING) WITH STATS=\"OUTDEGREE_BY_EDGETYPE\", PRIMARY_ID_AS_ATTRIBUTE=\"false\"\n",
      "- VERTEX Prescriber(PRIMARY_ID Prescriber_id STRING, pageRank FLOAT, communityId INT, articleRank FLOAT) WITH STATS=\"OUTDEGREE_BY_EDGETYPE\", PRIMARY_ID_AS_ATTRIBUTE=\"false\"\n",
      "- VERTEX Claim(PRIMARY_ID Claim_id STRING, rx_fill_date DATETIME, ICD10Code STRING, ICD10CodeDescription STRING, CodeGroupTitle STRING) WITH STATS=\"OUTDEGREE_BY_EDGETYPE\", PRIMARY_ID_AS_ATTRIBUTE=\"false\"\n",
      "- VERTEX Patient(PRIMARY_ID Patient_id STRING) WITH STATS=\"OUTDEGREE_BY_EDGETYPE\", PRIMARY_ID_AS_ATTRIBUTE=\"false\"\n",
      "Edge Types:\n",
      "- DIRECTED EDGE submitted_by(FROM Claim, TO Prescriber) WITH REVERSE_EDGE=\"reverse_submitted_by\"\n",
      "- DIRECTED EDGE reverse_submitted_by(FROM Prescriber, TO Claim) WITH REVERSE_EDGE=\"submitted_by\"\n",
      "- DIRECTED EDGE associated(FROM Claim, TO Patient) WITH REVERSE_EDGE=\"reverse_associated\"\n",
      "- DIRECTED EDGE reverse_associated(FROM Patient, TO Claim) WITH REVERSE_EDGE=\"associated\"\n",
      "- DIRECTED EDGE specialty_subspecialty(FROM Specialty, TO SubSpecialty) WITH REVERSE_EDGE=\"reverse_specialty_subspecialty\"\n",
      "- DIRECTED EDGE reverse_specialty_subspecialty(FROM SubSpecialty, TO Specialty) WITH REVERSE_EDGE=\"specialty_subspecialty\"\n",
      "- DIRECTED EDGE subspecialty_prescriber(FROM SubSpecialty, TO Prescriber) WITH REVERSE_EDGE=\"reverse_subspecialty_prescriber\"\n",
      "- DIRECTED EDGE reverse_subspecialty_prescriber(FROM Prescriber, TO SubSpecialty) WITH REVERSE_EDGE=\"subspecialty_prescriber\"\n",
      "- DIRECTED EDGE referral(FROM Prescriber, TO Prescriber, num_patient INT DEFAULT \"0\") WITH REVERSE_EDGE=\"reverse_referral\"\n",
      "- DIRECTED EDGE reverse_referral(FROM Prescriber, TO Prescriber, num_patient INT DEFAULT \"0\") WITH REVERSE_EDGE=\"referral\"\n",
      "\n",
      "Graphs:\n",
      "- Graph MyGraph(Specialty:v, SubSpecialty:v, Prescriber:v, Claim:v, Patient:v, submitted_by:e, reverse_submitted_by:e, associated:e, reverse_associated:e, specialty_subspecialty:e, reverse_specialty_subspecialty:e, subspecialty_prescriber:e, reverse_subspecialty_prescriber:e, referral:e, reverse_referral:e)\n",
      "- Graph Cora(Paper:v, Cite:e)\n",
      "- Graph imdb(movie:v, actor:v, director:v, actor_movie:e, director_movie:e, movie_actor:e, movie_director:e)\n",
      "- Graph hetero(v0:v, v1:v, v2:v, v0v0:e, v1v1:e, v1v2:e, v2v0:e, v2v1:e, v2v2:e)\n",
      "- Graph Twitch(User:v, following:e, reverse_following:e)\n",
      "- Graph Reddit(User:v, Comment:v, Subreddit:v, wrote:e, reverse_wrote:e, belongs_to:e, reverse_belongs_to:e, replied_to:e, reverse_replied_to:e)\n",
      "Jobs:\n",
      "- CREATE GLOBAL SCHEMA_CHANGE JOB add_VERTEX_attr_cJvwUv {\n",
      "ALTER VERTEX Prescriber ADD ATTRIBUTE (articleRank FLOAT);\n",
      "}\n",
      "\n",
      "\n",
      "\n",
      "JSON API version: v2\n",
      "Syntax version: v2\n",
      "\n"
     ]
    }
   ],
   "source": [
    "# https://dev.tigergraph.com/forum/t/tigergraph-python-connection-issue/2776\n",
    "# echo | openssl s_client  -connect 140ae89e8e714a18a7a51df2beca1811.i.tgcloud.io:443 |  sed -ne '/-BEGIN CERTIFICATE-/,/-END CERTIFICATE-/p' > 'C:\\Users\\ryand\\DSC180B\\dsc180b-project\\my-cert.txt'\n",
    "# have to put my-cert.txt in C:\\User\\ryand\\.gsql\\my-cert.txt\n",
    "print(conn.gsql(\"LS\"))"
   ]
  },
  {
   "cell_type": "code",
   "execution_count": 61,
   "metadata": {},
   "outputs": [
    {
     "data": {
      "text/plain": [
       "('9ge38iq0q74ip96huuir01uamtv8hspm', 1678311203, '2023-03-08 21:33:23')"
      ]
     },
     "execution_count": 61,
     "metadata": {},
     "output_type": "execute_result"
    }
   ],
   "source": [
    "with open(\"../../configs/tigergraph_config_1.json\", \"r\") as config:\n",
    "        args = json.load(config)\n",
    "\n",
    "conn.getToken(args['gsqlSecret'])"
   ]
  },
  {
   "cell_type": "code",
   "execution_count": 55,
   "metadata": {},
   "outputs": [
    {
     "data": {
      "text/plain": [
       "{'User': 169791, 'Comment': 3617032, 'Subreddit': 2674474}"
      ]
     },
     "execution_count": 55,
     "metadata": {},
     "output_type": "execute_result"
    }
   ],
   "source": [
    "# Number of vertices for every vertex type\n",
    "conn.getVertexCount('*')"
   ]
  },
  {
   "cell_type": "code",
   "execution_count": 56,
   "metadata": {},
   "outputs": [
    {
     "data": {
      "text/plain": [
       "{'interacted_with': 864858,\n",
       " 'posted': 2671545,\n",
       " 'replied_to': 2671545,\n",
       " 'belongs_to': 2671545}"
      ]
     },
     "execution_count": 56,
     "metadata": {},
     "output_type": "execute_result"
    }
   ],
   "source": [
    "# Number of edges for every type\n",
    "conn.getEdgeCount()"
   ]
  },
  {
   "attachments": {},
   "cell_type": "markdown",
   "metadata": {},
   "source": [
    "## Feature Engineering"
   ]
  },
  {
   "cell_type": "code",
   "execution_count": 45,
   "metadata": {},
   "outputs": [
    {
     "data": {
      "text/plain": [
       "'tg_betweenness_cent'"
      ]
     },
     "execution_count": 45,
     "metadata": {},
     "output_type": "execute_result"
    }
   ],
   "source": [
    "f = conn.gds.featurizer()\n",
    "f.installAlgorithm(\"tg_pagerank\")\n",
    "f.installAlgorithm(\"tg_closeness_cent\")\n",
    "f.installAlgorithm(\"tg_betweenness_cent\")\n",
    "# f.installAlgorithm(\"tg_label_prop\")\n",
    "# f.installAlgorithm(\"tg_maximal_indep_set\")"
   ]
  },
  {
   "cell_type": "code",
   "execution_count": 46,
   "metadata": {},
   "outputs": [
    {
     "data": {
      "text/plain": [
       "'tg_degree_cent'"
      ]
     },
     "execution_count": 46,
     "metadata": {},
     "output_type": "execute_result"
    }
   ],
   "source": [
    "f.installAlgorithm(\"tg_degree_cent\")"
   ]
  },
  {
   "cell_type": "code",
   "execution_count": 9,
   "metadata": {},
   "outputs": [
    {
     "data": {
      "text/html": [
       "<div>\n",
       "<style scoped>\n",
       "    .dataframe tbody tr th:only-of-type {\n",
       "        vertical-align: middle;\n",
       "    }\n",
       "\n",
       "    .dataframe tbody tr th {\n",
       "        vertical-align: top;\n",
       "    }\n",
       "\n",
       "    .dataframe thead th {\n",
       "        text-align: right;\n",
       "    }\n",
       "</style>\n",
       "<table border=\"1\" class=\"dataframe\">\n",
       "  <thead>\n",
       "    <tr style=\"text-align: right;\">\n",
       "      <th></th>\n",
       "      <th>Vertex_ID</th>\n",
       "      <th>score</th>\n",
       "    </tr>\n",
       "  </thead>\n",
       "  <tbody>\n",
       "    <tr>\n",
       "      <th>0</th>\n",
       "      <td>c1acius</td>\n",
       "      <td>196.52895</td>\n",
       "    </tr>\n",
       "    <tr>\n",
       "      <th>1</th>\n",
       "      <td>c18z0z2</td>\n",
       "      <td>170.31886</td>\n",
       "    </tr>\n",
       "    <tr>\n",
       "      <th>2</th>\n",
       "      <td>c1adjog</td>\n",
       "      <td>78.08121</td>\n",
       "    </tr>\n",
       "    <tr>\n",
       "      <th>3</th>\n",
       "      <td>c18oi9w</td>\n",
       "      <td>67.04869</td>\n",
       "    </tr>\n",
       "    <tr>\n",
       "      <th>4</th>\n",
       "      <td>c18aby5</td>\n",
       "      <td>57.40501</td>\n",
       "    </tr>\n",
       "    <tr>\n",
       "      <th>...</th>\n",
       "      <td>...</td>\n",
       "      <td>...</td>\n",
       "    </tr>\n",
       "    <tr>\n",
       "      <th>95</th>\n",
       "      <td>c1al6vh</td>\n",
       "      <td>18.90866</td>\n",
       "    </tr>\n",
       "    <tr>\n",
       "      <th>96</th>\n",
       "      <td>c1asxht</td>\n",
       "      <td>18.89968</td>\n",
       "    </tr>\n",
       "    <tr>\n",
       "      <th>97</th>\n",
       "      <td>c196gtu</td>\n",
       "      <td>18.80757</td>\n",
       "    </tr>\n",
       "    <tr>\n",
       "      <th>98</th>\n",
       "      <td>c17oi1z</td>\n",
       "      <td>18.79666</td>\n",
       "    </tr>\n",
       "    <tr>\n",
       "      <th>99</th>\n",
       "      <td>c19zqkk</td>\n",
       "      <td>18.76036</td>\n",
       "    </tr>\n",
       "  </tbody>\n",
       "</table>\n",
       "<p>100 rows × 2 columns</p>\n",
       "</div>"
      ],
      "text/plain": [
       "   Vertex_ID      score\n",
       "0    c1acius  196.52895\n",
       "1    c18z0z2  170.31886\n",
       "2    c1adjog   78.08121\n",
       "3    c18oi9w   67.04869\n",
       "4    c18aby5   57.40501\n",
       "..       ...        ...\n",
       "95   c1al6vh   18.90866\n",
       "96   c1asxht   18.89968\n",
       "97   c196gtu   18.80757\n",
       "98   c17oi1z   18.79666\n",
       "99   c19zqkk   18.76036\n",
       "\n",
       "[100 rows x 2 columns]"
      ]
     },
     "execution_count": 9,
     "metadata": {},
     "output_type": "execute_result"
    }
   ],
   "source": [
    "# only combination that works on our current data\n",
    "# how influential a comment is\n",
    "tg_pagerank_params = {\n",
    "  \"v_type\": \"Comment\",\n",
    "  \"e_type\": \"replied_to\",\n",
    "  \"result_attr\": \"pagerank\",\n",
    "}\n",
    "results = pd.json_normalize(f.runAlgorithm(\"tg_pagerank\",tg_pagerank_params)[0]['@@top_scores_heap'])\n",
    "results"
   ]
  },
  {
   "cell_type": "code",
   "execution_count": 65,
   "metadata": {},
   "outputs": [
    {
     "data": {
      "text/html": [
       "<div>\n",
       "<style scoped>\n",
       "    .dataframe tbody tr th:only-of-type {\n",
       "        vertical-align: middle;\n",
       "    }\n",
       "\n",
       "    .dataframe tbody tr th {\n",
       "        vertical-align: top;\n",
       "    }\n",
       "\n",
       "    .dataframe thead th {\n",
       "        text-align: right;\n",
       "    }\n",
       "</style>\n",
       "<table border=\"1\" class=\"dataframe\">\n",
       "  <thead>\n",
       "    <tr style=\"text-align: right;\">\n",
       "      <th></th>\n",
       "      <th>Vertex_ID</th>\n",
       "      <th>score</th>\n",
       "    </tr>\n",
       "  </thead>\n",
       "  <tbody>\n",
       "    <tr>\n",
       "      <th>0</th>\n",
       "      <td>nonsensical_answer</td>\n",
       "      <td>104.99404</td>\n",
       "    </tr>\n",
       "    <tr>\n",
       "      <th>1</th>\n",
       "      <td>andrewsmith1986</td>\n",
       "      <td>102.03746</td>\n",
       "    </tr>\n",
       "    <tr>\n",
       "      <th>2</th>\n",
       "      <td>ThatsItGuysShowsOver</td>\n",
       "      <td>68.71323</td>\n",
       "    </tr>\n",
       "    <tr>\n",
       "      <th>3</th>\n",
       "      <td>AMerrickanGirl</td>\n",
       "      <td>65.76088</td>\n",
       "    </tr>\n",
       "    <tr>\n",
       "      <th>4</th>\n",
       "      <td>moogle516</td>\n",
       "      <td>54.91937</td>\n",
       "    </tr>\n",
       "    <tr>\n",
       "      <th>...</th>\n",
       "      <td>...</td>\n",
       "      <td>...</td>\n",
       "    </tr>\n",
       "    <tr>\n",
       "      <th>95</th>\n",
       "      <td>powercow</td>\n",
       "      <td>24.21767</td>\n",
       "    </tr>\n",
       "    <tr>\n",
       "      <th>96</th>\n",
       "      <td>Iggyhopper</td>\n",
       "      <td>24.16838</td>\n",
       "    </tr>\n",
       "    <tr>\n",
       "      <th>97</th>\n",
       "      <td>lackofbrain</td>\n",
       "      <td>24.09249</td>\n",
       "    </tr>\n",
       "    <tr>\n",
       "      <th>98</th>\n",
       "      <td>ex_ample</td>\n",
       "      <td>23.89307</td>\n",
       "    </tr>\n",
       "    <tr>\n",
       "      <th>99</th>\n",
       "      <td>alphazero924</td>\n",
       "      <td>23.87244</td>\n",
       "    </tr>\n",
       "  </tbody>\n",
       "</table>\n",
       "<p>100 rows × 2 columns</p>\n",
       "</div>"
      ],
      "text/plain": [
       "               Vertex_ID      score\n",
       "0     nonsensical_answer  104.99404\n",
       "1        andrewsmith1986  102.03746\n",
       "2   ThatsItGuysShowsOver   68.71323\n",
       "3         AMerrickanGirl   65.76088\n",
       "4              moogle516   54.91937\n",
       "..                   ...        ...\n",
       "95              powercow   24.21767\n",
       "96            Iggyhopper   24.16838\n",
       "97           lackofbrain   24.09249\n",
       "98              ex_ample   23.89307\n",
       "99          alphazero924   23.87244\n",
       "\n",
       "[100 rows x 2 columns]"
      ]
     },
     "execution_count": 65,
     "metadata": {},
     "output_type": "execute_result"
    }
   ],
   "source": [
    "tg_pagerank_params = {\n",
    "  \"v_type\": \"User\",\n",
    "  \"e_type\": \"interacted_with\",\n",
    "  \"result_attr\": \"pagerank\",\n",
    "}\n",
    "results = pd.json_normalize(f.runAlgorithm(\"tg_pagerank\",tg_pagerank_params)[0]['@@top_scores_heap'])\n",
    "results"
   ]
  },
  {
   "cell_type": "code",
   "execution_count": 26,
   "metadata": {},
   "outputs": [
    {
     "name": "stderr",
     "output_type": "stream",
     "text": [
      "c:\\Users\\ryand\\AppData\\Local\\Programs\\Python\\Python39\\lib\\site-packages\\ipykernel\\ipkernel.py:283: DeprecationWarning: `should_run_async` will not call `transform_cell` automatically in the future. Please pass the result to `transformed_cell` argument and any exception that happen during thetransform in `preprocessing_exc_tuple` in IPython 7.17 and above.\n",
      "  and should_run_async(code)\n"
     ]
    },
    {
     "data": {
      "text/html": [
       "<div>\n",
       "<style scoped>\n",
       "    .dataframe tbody tr th:only-of-type {\n",
       "        vertical-align: middle;\n",
       "    }\n",
       "\n",
       "    .dataframe tbody tr th {\n",
       "        vertical-align: top;\n",
       "    }\n",
       "\n",
       "    .dataframe thead th {\n",
       "        text-align: right;\n",
       "    }\n",
       "</style>\n",
       "<table border=\"1\" class=\"dataframe\">\n",
       "  <thead>\n",
       "    <tr style=\"text-align: right;\">\n",
       "      <th></th>\n",
       "      <th>Vertex_ID</th>\n",
       "      <th>score</th>\n",
       "    </tr>\n",
       "  </thead>\n",
       "  <tbody>\n",
       "    <tr>\n",
       "      <th>0</th>\n",
       "      <td>andrewsmith1986</td>\n",
       "      <td>4415</td>\n",
       "    </tr>\n",
       "    <tr>\n",
       "      <th>1</th>\n",
       "      <td>nonsensical_answer</td>\n",
       "      <td>3573</td>\n",
       "    </tr>\n",
       "    <tr>\n",
       "      <th>2</th>\n",
       "      <td>NukeThePope</td>\n",
       "      <td>2498</td>\n",
       "    </tr>\n",
       "    <tr>\n",
       "      <th>3</th>\n",
       "      <td>NoMoreNicksLeft</td>\n",
       "      <td>2217</td>\n",
       "    </tr>\n",
       "    <tr>\n",
       "      <th>4</th>\n",
       "      <td>AMerrickanGirl</td>\n",
       "      <td>2149</td>\n",
       "    </tr>\n",
       "    <tr>\n",
       "      <th>...</th>\n",
       "      <td>...</td>\n",
       "      <td>...</td>\n",
       "    </tr>\n",
       "    <tr>\n",
       "      <th>95</th>\n",
       "      <td>inyouraeroplane</td>\n",
       "      <td>946</td>\n",
       "    </tr>\n",
       "    <tr>\n",
       "      <th>96</th>\n",
       "      <td>Nebu</td>\n",
       "      <td>945</td>\n",
       "    </tr>\n",
       "    <tr>\n",
       "      <th>97</th>\n",
       "      <td>smacksaw</td>\n",
       "      <td>945</td>\n",
       "    </tr>\n",
       "    <tr>\n",
       "      <th>98</th>\n",
       "      <td>jamesneysmith</td>\n",
       "      <td>942</td>\n",
       "    </tr>\n",
       "    <tr>\n",
       "      <th>99</th>\n",
       "      <td>neoumlaut</td>\n",
       "      <td>935</td>\n",
       "    </tr>\n",
       "  </tbody>\n",
       "</table>\n",
       "<p>100 rows × 2 columns</p>\n",
       "</div>"
      ],
      "text/plain": [
       "             Vertex_ID  score\n",
       "0      andrewsmith1986   4415\n",
       "1   nonsensical_answer   3573\n",
       "2          NukeThePope   2498\n",
       "3      NoMoreNicksLeft   2217\n",
       "4       AMerrickanGirl   2149\n",
       "..                 ...    ...\n",
       "95     inyouraeroplane    946\n",
       "96                Nebu    945\n",
       "97            smacksaw    945\n",
       "98       jamesneysmith    942\n",
       "99           neoumlaut    935\n",
       "\n",
       "[100 rows x 2 columns]"
      ]
     },
     "execution_count": 26,
     "metadata": {},
     "output_type": "execute_result"
    }
   ],
   "source": [
    "tg_degree_params = {\n",
    "    \"v_type\": [\"User\"],\n",
    "    \"e_type\": [\"interacted_with\", \"posted\", \"replied_to\", \"belongs_to\"]\n",
    "}\n",
    "results = pd.json_normalize(f.runAlgorithm(\"tg_degree_cent\",tg_degree_params)[0]['top_scores'])\n",
    "results"
   ]
  },
  {
   "cell_type": "code",
   "execution_count": 28,
   "metadata": {},
   "outputs": [
    {
     "name": "stderr",
     "output_type": "stream",
     "text": [
      "c:\\Users\\ryand\\AppData\\Local\\Programs\\Python\\Python39\\lib\\site-packages\\ipykernel\\ipkernel.py:283: DeprecationWarning: `should_run_async` will not call `transform_cell` automatically in the future. Please pass the result to `transformed_cell` argument and any exception that happen during thetransform in `preprocessing_exc_tuple` in IPython 7.17 and above.\n",
      "  and should_run_async(code)\n"
     ]
    },
    {
     "data": {
      "text/html": [
       "<div>\n",
       "<style scoped>\n",
       "    .dataframe tbody tr th:only-of-type {\n",
       "        vertical-align: middle;\n",
       "    }\n",
       "\n",
       "    .dataframe tbody tr th {\n",
       "        vertical-align: top;\n",
       "    }\n",
       "\n",
       "    .dataframe thead th {\n",
       "        text-align: right;\n",
       "    }\n",
       "</style>\n",
       "<table border=\"1\" class=\"dataframe\">\n",
       "  <thead>\n",
       "    <tr style=\"text-align: right;\">\n",
       "      <th></th>\n",
       "      <th>Vertex_ID</th>\n",
       "      <th>score</th>\n",
       "    </tr>\n",
       "  </thead>\n",
       "  <tbody>\n",
       "    <tr>\n",
       "      <th>0</th>\n",
       "      <td>AskReddit</td>\n",
       "      <td>365460</td>\n",
       "    </tr>\n",
       "    <tr>\n",
       "      <th>1</th>\n",
       "      <td>pics</td>\n",
       "      <td>199496</td>\n",
       "    </tr>\n",
       "    <tr>\n",
       "      <th>2</th>\n",
       "      <td>gaming</td>\n",
       "      <td>136544</td>\n",
       "    </tr>\n",
       "    <tr>\n",
       "      <th>3</th>\n",
       "      <td>reddit.com</td>\n",
       "      <td>136278</td>\n",
       "    </tr>\n",
       "    <tr>\n",
       "      <th>4</th>\n",
       "      <td>politics</td>\n",
       "      <td>118891</td>\n",
       "    </tr>\n",
       "    <tr>\n",
       "      <th>...</th>\n",
       "      <td>...</td>\n",
       "      <td>...</td>\n",
       "    </tr>\n",
       "    <tr>\n",
       "      <th>95</th>\n",
       "      <td>web_design</td>\n",
       "      <td>3301</td>\n",
       "    </tr>\n",
       "    <tr>\n",
       "      <th>96</th>\n",
       "      <td>Anarchism</td>\n",
       "      <td>3253</td>\n",
       "    </tr>\n",
       "    <tr>\n",
       "      <th>97</th>\n",
       "      <td>Eve</td>\n",
       "      <td>3246</td>\n",
       "    </tr>\n",
       "    <tr>\n",
       "      <th>98</th>\n",
       "      <td>history</td>\n",
       "      <td>3189</td>\n",
       "    </tr>\n",
       "    <tr>\n",
       "      <th>99</th>\n",
       "      <td>Homebrewing</td>\n",
       "      <td>3183</td>\n",
       "    </tr>\n",
       "  </tbody>\n",
       "</table>\n",
       "<p>100 rows × 2 columns</p>\n",
       "</div>"
      ],
      "text/plain": [
       "      Vertex_ID   score\n",
       "0     AskReddit  365460\n",
       "1          pics  199496\n",
       "2        gaming  136544\n",
       "3    reddit.com  136278\n",
       "4      politics  118891\n",
       "..          ...     ...\n",
       "95   web_design    3301\n",
       "96    Anarchism    3253\n",
       "97          Eve    3246\n",
       "98      history    3189\n",
       "99  Homebrewing    3183\n",
       "\n",
       "[100 rows x 2 columns]"
      ]
     },
     "execution_count": 28,
     "metadata": {},
     "output_type": "execute_result"
    }
   ],
   "source": [
    "tg_degree_params = {\n",
    "    \"v_type\": [\"Subreddit\", \"Comment\"],\n",
    "    \"e_type\": [\"interacted_with\", \"posted\", \"replied_to\", \"belongs_to\"]\n",
    "}\n",
    "results = pd.json_normalize(f.runAlgorithm(\"tg_degree_cent\",tg_degree_params)[0]['top_scores'])\n",
    "results"
   ]
  },
  {
   "cell_type": "code",
   "execution_count": 35,
   "metadata": {},
   "outputs": [
    {
     "name": "stderr",
     "output_type": "stream",
     "text": [
      "c:\\Users\\ryand\\AppData\\Local\\Programs\\Python\\Python39\\lib\\site-packages\\ipykernel\\ipkernel.py:283: DeprecationWarning: `should_run_async` will not call `transform_cell` automatically in the future. Please pass the result to `transformed_cell` argument and any exception that happen during thetransform in `preprocessing_exc_tuple` in IPython 7.17 and above.\n",
      "  and should_run_async(code)\n"
     ]
    },
    {
     "data": {
      "text/html": [
       "<div>\n",
       "<style scoped>\n",
       "    .dataframe tbody tr th:only-of-type {\n",
       "        vertical-align: middle;\n",
       "    }\n",
       "\n",
       "    .dataframe tbody tr th {\n",
       "        vertical-align: top;\n",
       "    }\n",
       "\n",
       "    .dataframe thead th {\n",
       "        text-align: right;\n",
       "    }\n",
       "</style>\n",
       "<table border=\"1\" class=\"dataframe\">\n",
       "  <thead>\n",
       "    <tr style=\"text-align: right;\">\n",
       "      <th></th>\n",
       "      <th>Vertex_ID</th>\n",
       "      <th>score</th>\n",
       "    </tr>\n",
       "  </thead>\n",
       "  <tbody>\n",
       "    <tr>\n",
       "      <th>0</th>\n",
       "      <td>c1acius</td>\n",
       "      <td>424</td>\n",
       "    </tr>\n",
       "    <tr>\n",
       "      <th>1</th>\n",
       "      <td>c18z0z2</td>\n",
       "      <td>385</td>\n",
       "    </tr>\n",
       "    <tr>\n",
       "      <th>2</th>\n",
       "      <td>c1adjog</td>\n",
       "      <td>167</td>\n",
       "    </tr>\n",
       "    <tr>\n",
       "      <th>3</th>\n",
       "      <td>c18oi9w</td>\n",
       "      <td>150</td>\n",
       "    </tr>\n",
       "    <tr>\n",
       "      <th>4</th>\n",
       "      <td>c18aby5</td>\n",
       "      <td>133</td>\n",
       "    </tr>\n",
       "    <tr>\n",
       "      <th>...</th>\n",
       "      <td>...</td>\n",
       "      <td>...</td>\n",
       "    </tr>\n",
       "    <tr>\n",
       "      <th>95</th>\n",
       "      <td>c18j971</td>\n",
       "      <td>43</td>\n",
       "    </tr>\n",
       "    <tr>\n",
       "      <th>96</th>\n",
       "      <td>c1apy2a</td>\n",
       "      <td>42</td>\n",
       "    </tr>\n",
       "    <tr>\n",
       "      <th>97</th>\n",
       "      <td>c1asxht</td>\n",
       "      <td>42</td>\n",
       "    </tr>\n",
       "    <tr>\n",
       "      <th>98</th>\n",
       "      <td>c1aq25k</td>\n",
       "      <td>42</td>\n",
       "    </tr>\n",
       "    <tr>\n",
       "      <th>99</th>\n",
       "      <td>c1aks8z</td>\n",
       "      <td>42</td>\n",
       "    </tr>\n",
       "  </tbody>\n",
       "</table>\n",
       "<p>100 rows × 2 columns</p>\n",
       "</div>"
      ],
      "text/plain": [
       "   Vertex_ID  score\n",
       "0    c1acius    424\n",
       "1    c18z0z2    385\n",
       "2    c1adjog    167\n",
       "3    c18oi9w    150\n",
       "4    c18aby5    133\n",
       "..       ...    ...\n",
       "95   c18j971     43\n",
       "96   c1apy2a     42\n",
       "97   c1asxht     42\n",
       "98   c1aq25k     42\n",
       "99   c1aks8z     42\n",
       "\n",
       "[100 rows x 2 columns]"
      ]
     },
     "execution_count": 35,
     "metadata": {},
     "output_type": "execute_result"
    }
   ],
   "source": [
    "tg_degree_params = {\n",
    "    \"v_type\": [\"Comment\"],\n",
    "    \"e_type\": [\"interacted_with\", \"posted\", \"replied_to\"]\n",
    "}\n",
    "results = pd.json_normalize(f.runAlgorithm(\"tg_degree_cent\",tg_degree_params)[0]['top_scores'])\n",
    "results"
   ]
  },
  {
   "cell_type": "code",
   "execution_count": 38,
   "metadata": {},
   "outputs": [
    {
     "name": "stderr",
     "output_type": "stream",
     "text": [
      "c:\\Users\\ryand\\AppData\\Local\\Programs\\Python\\Python39\\lib\\site-packages\\ipykernel\\ipkernel.py:283: DeprecationWarning: `should_run_async` will not call `transform_cell` automatically in the future. Please pass the result to `transformed_cell` argument and any exception that happen during thetransform in `preprocessing_exc_tuple` in IPython 7.17 and above.\n",
      "  and should_run_async(code)\n"
     ]
    },
    {
     "ename": "HTTPError",
     "evalue": "408 Client Error: Timeout for url: https://scott-ucds-hc.i.tgcloud.io:443/restpp/query/Reddit_Interactions/tg_eigenvector_cent",
     "output_type": "error",
     "traceback": [
      "\u001b[1;31m---------------------------------------------------------------------------\u001b[0m",
      "\u001b[1;31mHTTPError\u001b[0m                                 Traceback (most recent call last)",
      "\u001b[1;32m<ipython-input-38-b16b356b9ff3>\u001b[0m in \u001b[0;36m<module>\u001b[1;34m\u001b[0m\n\u001b[0;32m      4\u001b[0m }\n\u001b[0;32m      5\u001b[0m \u001b[1;33m\u001b[0m\u001b[0m\n\u001b[1;32m----> 6\u001b[1;33m \u001b[0mf\u001b[0m\u001b[1;33m.\u001b[0m\u001b[0mrunAlgorithm\u001b[0m\u001b[1;33m(\u001b[0m\u001b[1;34m\"tg_eigenvector_cent\"\u001b[0m\u001b[1;33m,\u001b[0m \u001b[0mparams\u001b[0m\u001b[1;33m=\u001b[0m\u001b[0mtg_eigen_params\u001b[0m\u001b[1;33m,\u001b[0m \u001b[0mtimeout\u001b[0m\u001b[1;33m=\u001b[0m\u001b[1;36m600000\u001b[0m\u001b[1;33m)\u001b[0m\u001b[1;33m\u001b[0m\u001b[1;33m\u001b[0m\u001b[0m\n\u001b[0m",
      "\u001b[1;32mc:\\Users\\ryand\\AppData\\Local\\Programs\\Python\\Python39\\lib\\site-packages\\pyTigerGraph\\gds\\featurizer.py\u001b[0m in \u001b[0;36mrunAlgorithm\u001b[1;34m(self, query_name, params, feat_name, feat_type, custom_query, schema_name, global_schema, timeout, sizeLimit)\u001b[0m\n\u001b[0;32m    424\u001b[0m                     \u001b[0mquery_ulr\u001b[0m\u001b[1;33m=\u001b[0m \u001b[0mself\u001b[0m\u001b[1;33m.\u001b[0m\u001b[0m_get_query_url\u001b[0m\u001b[1;33m(\u001b[0m\u001b[0mquery_name\u001b[0m\u001b[1;33m)\u001b[0m\u001b[1;33m\u001b[0m\u001b[1;33m\u001b[0m\u001b[0m\n\u001b[0;32m    425\u001b[0m                     \u001b[1;32mraise\u001b[0m \u001b[0mValueError\u001b[0m\u001b[1;33m(\u001b[0m\u001b[1;34m\"The algorithm does not provide any feature, see the algorithm details:\"\u001b[0m\u001b[1;33m+\u001b[0m\u001b[0mquery_ulr\u001b[0m\u001b[1;33m+\u001b[0m\u001b[1;34m\".\"\u001b[0m\u001b[1;33m)\u001b[0m\u001b[1;33m\u001b[0m\u001b[1;33m\u001b[0m\u001b[0m\n\u001b[1;32m--> 426\u001b[1;33m             \u001b[0mresult\u001b[0m \u001b[1;33m=\u001b[0m \u001b[0mself\u001b[0m\u001b[1;33m.\u001b[0m\u001b[0mconn\u001b[0m\u001b[1;33m.\u001b[0m\u001b[0mrunInstalledQuery\u001b[0m\u001b[1;33m(\u001b[0m\u001b[0mquery_name\u001b[0m\u001b[1;33m,\u001b[0m \u001b[0mparams\u001b[0m\u001b[1;33m,\u001b[0m\u001b[0mtimeout\u001b[0m\u001b[1;33m=\u001b[0m\u001b[0mtimeout\u001b[0m\u001b[1;33m,\u001b[0m\u001b[0msizeLimit\u001b[0m \u001b[1;33m=\u001b[0m \u001b[0msizeLimit\u001b[0m\u001b[1;33m,\u001b[0m\u001b[0musePost\u001b[0m\u001b[1;33m=\u001b[0m\u001b[1;32mTrue\u001b[0m\u001b[1;33m)\u001b[0m\u001b[1;33m\u001b[0m\u001b[1;33m\u001b[0m\u001b[0m\n\u001b[0m\u001b[0;32m    427\u001b[0m             \u001b[1;32mif\u001b[0m \u001b[0mresult\u001b[0m \u001b[1;33m!=\u001b[0m \u001b[1;32mNone\u001b[0m\u001b[1;33m:\u001b[0m\u001b[1;33m\u001b[0m\u001b[1;33m\u001b[0m\u001b[0m\n\u001b[0;32m    428\u001b[0m                 \u001b[1;32mreturn\u001b[0m \u001b[0mresult\u001b[0m\u001b[1;33m\u001b[0m\u001b[1;33m\u001b[0m\u001b[0m\n",
      "\u001b[1;32mc:\\Users\\ryand\\AppData\\Local\\Programs\\Python\\Python39\\lib\\site-packages\\pyTigerGraph\\pyTigerGraphQuery.py\u001b[0m in \u001b[0;36mrunInstalledQuery\u001b[1;34m(self, queryName, params, timeout, sizeLimit, usePost)\u001b[0m\n\u001b[0;32m    165\u001b[0m \u001b[1;33m\u001b[0m\u001b[0m\n\u001b[0;32m    166\u001b[0m         \u001b[1;32mif\u001b[0m \u001b[0musePost\u001b[0m\u001b[1;33m:\u001b[0m\u001b[1;33m\u001b[0m\u001b[1;33m\u001b[0m\u001b[0m\n\u001b[1;32m--> 167\u001b[1;33m             return self._post(self.restppUrl + \"/query/\" + self.graphname + \"/\" + queryName,\n\u001b[0m\u001b[0;32m    168\u001b[0m                 data=params, headers=headers)\n\u001b[0;32m    169\u001b[0m         \u001b[1;32melse\u001b[0m\u001b[1;33m:\u001b[0m\u001b[1;33m\u001b[0m\u001b[1;33m\u001b[0m\u001b[0m\n",
      "\u001b[1;32mc:\\Users\\ryand\\AppData\\Local\\Programs\\Python\\Python39\\lib\\site-packages\\pyTigerGraph\\pyTigerGraphBase.py\u001b[0m in \u001b[0;36m_post\u001b[1;34m(self, url, authMode, headers, data, resKey, skipCheck, params)\u001b[0m\n\u001b[0;32m    308\u001b[0m             \u001b[0mThe\u001b[0m \u001b[1;33m(\u001b[0m\u001b[0mrelevant\u001b[0m \u001b[0mpart\u001b[0m \u001b[0mof\u001b[0m \u001b[0mthe\u001b[0m\u001b[1;33m)\u001b[0m \u001b[0mresponse\u001b[0m \u001b[1;32mfrom\u001b[0m \u001b[0mthe\u001b[0m \u001b[0mrequest\u001b[0m \u001b[1;33m(\u001b[0m\u001b[1;32mas\u001b[0m \u001b[0ma\u001b[0m \u001b[0mdictionary\u001b[0m\u001b[1;33m)\u001b[0m\u001b[1;33m.\u001b[0m\u001b[1;33m\u001b[0m\u001b[1;33m\u001b[0m\u001b[0m\n\u001b[0;32m    309\u001b[0m         \"\"\"\n\u001b[1;32m--> 310\u001b[1;33m         \u001b[1;32mreturn\u001b[0m \u001b[0mself\u001b[0m\u001b[1;33m.\u001b[0m\u001b[0m_req\u001b[0m\u001b[1;33m(\u001b[0m\u001b[1;34m\"POST\"\u001b[0m\u001b[1;33m,\u001b[0m \u001b[0murl\u001b[0m\u001b[1;33m,\u001b[0m \u001b[0mauthMode\u001b[0m\u001b[1;33m,\u001b[0m \u001b[0mheaders\u001b[0m\u001b[1;33m,\u001b[0m \u001b[0mdata\u001b[0m\u001b[1;33m,\u001b[0m \u001b[0mresKey\u001b[0m\u001b[1;33m,\u001b[0m \u001b[0mskipCheck\u001b[0m\u001b[1;33m,\u001b[0m \u001b[0mparams\u001b[0m\u001b[1;33m)\u001b[0m\u001b[1;33m\u001b[0m\u001b[1;33m\u001b[0m\u001b[0m\n\u001b[0m\u001b[0;32m    311\u001b[0m \u001b[1;33m\u001b[0m\u001b[0m\n\u001b[0;32m    312\u001b[0m     \u001b[1;32mdef\u001b[0m \u001b[0m_delete\u001b[0m\u001b[1;33m(\u001b[0m\u001b[0mself\u001b[0m\u001b[1;33m,\u001b[0m \u001b[0murl\u001b[0m\u001b[1;33m:\u001b[0m \u001b[0mstr\u001b[0m\u001b[1;33m,\u001b[0m \u001b[0mauthMode\u001b[0m\u001b[1;33m:\u001b[0m \u001b[0mstr\u001b[0m \u001b[1;33m=\u001b[0m \u001b[1;34m\"token\"\u001b[0m\u001b[1;33m)\u001b[0m \u001b[1;33m->\u001b[0m \u001b[0mUnion\u001b[0m\u001b[1;33m[\u001b[0m\u001b[0mdict\u001b[0m\u001b[1;33m,\u001b[0m \u001b[0mlist\u001b[0m\u001b[1;33m]\u001b[0m\u001b[1;33m:\u001b[0m\u001b[1;33m\u001b[0m\u001b[1;33m\u001b[0m\u001b[0m\n",
      "\u001b[1;32mc:\\Users\\ryand\\AppData\\Local\\Programs\\Python\\Python39\\lib\\site-packages\\pyTigerGraph\\pyTigerGraphBase.py\u001b[0m in \u001b[0;36m_req\u001b[1;34m(self, method, url, authMode, headers, data, resKey, skipCheck, params)\u001b[0m\n\u001b[0;32m    244\u001b[0m \u001b[1;33m\u001b[0m\u001b[0m\n\u001b[0;32m    245\u001b[0m         \u001b[1;32mif\u001b[0m \u001b[0mres\u001b[0m\u001b[1;33m.\u001b[0m\u001b[0mstatus_code\u001b[0m \u001b[1;33m!=\u001b[0m \u001b[1;36m200\u001b[0m\u001b[1;33m:\u001b[0m\u001b[1;33m\u001b[0m\u001b[1;33m\u001b[0m\u001b[0m\n\u001b[1;32m--> 246\u001b[1;33m             \u001b[0mres\u001b[0m\u001b[1;33m.\u001b[0m\u001b[0mraise_for_status\u001b[0m\u001b[1;33m(\u001b[0m\u001b[1;33m)\u001b[0m\u001b[1;33m\u001b[0m\u001b[1;33m\u001b[0m\u001b[0m\n\u001b[0m\u001b[0;32m    247\u001b[0m         \u001b[0mres\u001b[0m \u001b[1;33m=\u001b[0m \u001b[0mjson\u001b[0m\u001b[1;33m.\u001b[0m\u001b[0mloads\u001b[0m\u001b[1;33m(\u001b[0m\u001b[0mres\u001b[0m\u001b[1;33m.\u001b[0m\u001b[0mtext\u001b[0m\u001b[1;33m)\u001b[0m\u001b[1;33m\u001b[0m\u001b[1;33m\u001b[0m\u001b[0m\n\u001b[0;32m    248\u001b[0m         \u001b[1;32mif\u001b[0m \u001b[1;32mnot\u001b[0m \u001b[0mskipCheck\u001b[0m\u001b[1;33m:\u001b[0m\u001b[1;33m\u001b[0m\u001b[1;33m\u001b[0m\u001b[0m\n",
      "\u001b[1;32mc:\\Users\\ryand\\AppData\\Local\\Programs\\Python\\Python39\\lib\\site-packages\\requests\\models.py\u001b[0m in \u001b[0;36mraise_for_status\u001b[1;34m(self)\u001b[0m\n\u001b[0;32m    941\u001b[0m \u001b[1;33m\u001b[0m\u001b[0m\n\u001b[0;32m    942\u001b[0m         \u001b[1;32mif\u001b[0m \u001b[0mhttp_error_msg\u001b[0m\u001b[1;33m:\u001b[0m\u001b[1;33m\u001b[0m\u001b[1;33m\u001b[0m\u001b[0m\n\u001b[1;32m--> 943\u001b[1;33m             \u001b[1;32mraise\u001b[0m \u001b[0mHTTPError\u001b[0m\u001b[1;33m(\u001b[0m\u001b[0mhttp_error_msg\u001b[0m\u001b[1;33m,\u001b[0m \u001b[0mresponse\u001b[0m\u001b[1;33m=\u001b[0m\u001b[0mself\u001b[0m\u001b[1;33m)\u001b[0m\u001b[1;33m\u001b[0m\u001b[1;33m\u001b[0m\u001b[0m\n\u001b[0m\u001b[0;32m    944\u001b[0m \u001b[1;33m\u001b[0m\u001b[0m\n\u001b[0;32m    945\u001b[0m     \u001b[1;32mdef\u001b[0m \u001b[0mclose\u001b[0m\u001b[1;33m(\u001b[0m\u001b[0mself\u001b[0m\u001b[1;33m)\u001b[0m\u001b[1;33m:\u001b[0m\u001b[1;33m\u001b[0m\u001b[1;33m\u001b[0m\u001b[0m\n",
      "\u001b[1;31mHTTPError\u001b[0m: 408 Client Error: Timeout for url: https://scott-ucds-hc.i.tgcloud.io:443/restpp/query/Reddit_Interactions/tg_eigenvector_cent"
     ]
    }
   ],
   "source": [
    "tg_eigen_params = {\n",
    "    \"v_type\": [\"User\", \"Comment\", \"Subreddit\"],\n",
    "    \"e_type\": [\"interacted_with\", \"posted\", \"replied_to\", \"belongs_to\"],\n",
    "}\n",
    "\n",
    "f.runAlgorithm(\"tg_eigenvector_cent\", params=tg_eigen_params, timeout=600000)"
   ]
  },
  {
   "cell_type": "code",
   "execution_count": 50,
   "metadata": {},
   "outputs": [
    {
     "data": {
      "text/plain": [
       "[{'top_scores': []}]"
      ]
     },
     "execution_count": 50,
     "metadata": {},
     "output_type": "execute_result"
    }
   ],
   "source": [
    "tg_closeness_params = {\n",
    "    \"v_type\": [\"User\", \"Comment\", \"Subreddit\"],\n",
    "    \"e_type\": [\"interacted_with\", \"posted\", \"replied_to\", \"belongs_to\"],\n",
    "    \"max_hops\": 3,\n",
    "    \"top_k\": 1\n",
    "}\n",
    "\n",
    "f.runAlgorithm(\"tg_closeness_cent\", params=tg_closeness_params, timeout=600000)"
   ]
  },
  {
   "cell_type": "code",
   "execution_count": 49,
   "metadata": {},
   "outputs": [
    {
     "data": {
      "text/plain": [
       "[{'top_scores': []}]"
      ]
     },
     "execution_count": 49,
     "metadata": {},
     "output_type": "execute_result"
    }
   ],
   "source": [
    "tg_betweenness_params = {\n",
    "    \"v_type\": [\"User\", \"Comment\", \"Subreddit\"],\n",
    "    \"e_type\": [\"interacted_with\", \"posted\", \"replied_to\", \"belongs_to\"],\n",
    "    \"top_k\": 1\n",
    "}\n",
    "\n",
    "f.runAlgorithm(\"tg_betweenness_cent\", tg_betweenness_params)\n"
   ]
  },
  {
   "cell_type": "code",
   "execution_count": 88,
   "metadata": {},
   "outputs": [
    {
     "name": "stderr",
     "output_type": "stream",
     "text": [
      "c:\\Users\\ryand\\AppData\\Local\\Programs\\Python\\Python39\\lib\\site-packages\\ipykernel\\ipkernel.py:283: DeprecationWarning: `should_run_async` will not call `transform_cell` automatically in the future. Please pass the result to `transformed_cell` argument and any exception that happen during thetransform in `preprocessing_exc_tuple` in IPython 7.17 and above.\n",
      "  and should_run_async(code)\n"
     ]
    },
    {
     "ename": "HTTPError",
     "evalue": "400 Client Error: Bad Request for url: https://scott-ucds-hc.i.tgcloud.io:443/restpp/query/Reddit_Interactions/tg_label_prop",
     "output_type": "error",
     "traceback": [
      "\u001b[1;31m---------------------------------------------------------------------------\u001b[0m",
      "\u001b[1;31mHTTPError\u001b[0m                                 Traceback (most recent call last)",
      "\u001b[1;32m<ipython-input-88-85ea0be8e152>\u001b[0m in \u001b[0;36m<module>\u001b[1;34m\u001b[0m\n\u001b[0;32m      7\u001b[0m }\n\u001b[0;32m      8\u001b[0m \u001b[1;33m\u001b[0m\u001b[0m\n\u001b[1;32m----> 9\u001b[1;33m \u001b[0mf\u001b[0m\u001b[1;33m.\u001b[0m\u001b[0mrunAlgorithm\u001b[0m\u001b[1;33m(\u001b[0m\u001b[1;34m\"tg_label_prop\"\u001b[0m\u001b[1;33m,\u001b[0m \u001b[0mtg_label_params\u001b[0m\u001b[1;33m,\u001b[0m \u001b[0mtimeout\u001b[0m\u001b[1;33m=\u001b[0m\u001b[1;36m300000\u001b[0m\u001b[1;33m)\u001b[0m\u001b[1;33m\u001b[0m\u001b[1;33m\u001b[0m\u001b[0m\n\u001b[0m",
      "\u001b[1;32mc:\\Users\\ryand\\AppData\\Local\\Programs\\Python\\Python39\\lib\\site-packages\\pyTigerGraph\\gds\\featurizer.py\u001b[0m in \u001b[0;36mrunAlgorithm\u001b[1;34m(self, query_name, params, feat_name, feat_type, custom_query, schema_name, global_schema, timeout, sizeLimit)\u001b[0m\n\u001b[0;32m    424\u001b[0m                     \u001b[0mquery_ulr\u001b[0m\u001b[1;33m=\u001b[0m \u001b[0mself\u001b[0m\u001b[1;33m.\u001b[0m\u001b[0m_get_query_url\u001b[0m\u001b[1;33m(\u001b[0m\u001b[0mquery_name\u001b[0m\u001b[1;33m)\u001b[0m\u001b[1;33m\u001b[0m\u001b[1;33m\u001b[0m\u001b[0m\n\u001b[0;32m    425\u001b[0m                     \u001b[1;32mraise\u001b[0m \u001b[0mValueError\u001b[0m\u001b[1;33m(\u001b[0m\u001b[1;34m\"The algorithm does not provide any feature, see the algorithm details:\"\u001b[0m\u001b[1;33m+\u001b[0m\u001b[0mquery_ulr\u001b[0m\u001b[1;33m+\u001b[0m\u001b[1;34m\".\"\u001b[0m\u001b[1;33m)\u001b[0m\u001b[1;33m\u001b[0m\u001b[1;33m\u001b[0m\u001b[0m\n\u001b[1;32m--> 426\u001b[1;33m             \u001b[0mresult\u001b[0m \u001b[1;33m=\u001b[0m \u001b[0mself\u001b[0m\u001b[1;33m.\u001b[0m\u001b[0mconn\u001b[0m\u001b[1;33m.\u001b[0m\u001b[0mrunInstalledQuery\u001b[0m\u001b[1;33m(\u001b[0m\u001b[0mquery_name\u001b[0m\u001b[1;33m,\u001b[0m \u001b[0mparams\u001b[0m\u001b[1;33m,\u001b[0m\u001b[0mtimeout\u001b[0m\u001b[1;33m=\u001b[0m\u001b[0mtimeout\u001b[0m\u001b[1;33m,\u001b[0m\u001b[0msizeLimit\u001b[0m \u001b[1;33m=\u001b[0m \u001b[0msizeLimit\u001b[0m\u001b[1;33m,\u001b[0m\u001b[0musePost\u001b[0m\u001b[1;33m=\u001b[0m\u001b[1;32mTrue\u001b[0m\u001b[1;33m)\u001b[0m\u001b[1;33m\u001b[0m\u001b[1;33m\u001b[0m\u001b[0m\n\u001b[0m\u001b[0;32m    427\u001b[0m             \u001b[1;32mif\u001b[0m \u001b[0mresult\u001b[0m \u001b[1;33m!=\u001b[0m \u001b[1;32mNone\u001b[0m\u001b[1;33m:\u001b[0m\u001b[1;33m\u001b[0m\u001b[1;33m\u001b[0m\u001b[0m\n\u001b[0;32m    428\u001b[0m                 \u001b[1;32mreturn\u001b[0m \u001b[0mresult\u001b[0m\u001b[1;33m\u001b[0m\u001b[1;33m\u001b[0m\u001b[0m\n",
      "\u001b[1;32mc:\\Users\\ryand\\AppData\\Local\\Programs\\Python\\Python39\\lib\\site-packages\\pyTigerGraph\\pyTigerGraphQuery.py\u001b[0m in \u001b[0;36mrunInstalledQuery\u001b[1;34m(self, queryName, params, timeout, sizeLimit, usePost)\u001b[0m\n\u001b[0;32m    165\u001b[0m \u001b[1;33m\u001b[0m\u001b[0m\n\u001b[0;32m    166\u001b[0m         \u001b[1;32mif\u001b[0m \u001b[0musePost\u001b[0m\u001b[1;33m:\u001b[0m\u001b[1;33m\u001b[0m\u001b[1;33m\u001b[0m\u001b[0m\n\u001b[1;32m--> 167\u001b[1;33m             return self._post(self.restppUrl + \"/query/\" + self.graphname + \"/\" + queryName,\n\u001b[0m\u001b[0;32m    168\u001b[0m                 data=params, headers=headers)\n\u001b[0;32m    169\u001b[0m         \u001b[1;32melse\u001b[0m\u001b[1;33m:\u001b[0m\u001b[1;33m\u001b[0m\u001b[1;33m\u001b[0m\u001b[0m\n",
      "\u001b[1;32mc:\\Users\\ryand\\AppData\\Local\\Programs\\Python\\Python39\\lib\\site-packages\\pyTigerGraph\\pyTigerGraphBase.py\u001b[0m in \u001b[0;36m_post\u001b[1;34m(self, url, authMode, headers, data, resKey, skipCheck, params)\u001b[0m\n\u001b[0;32m    308\u001b[0m             \u001b[0mThe\u001b[0m \u001b[1;33m(\u001b[0m\u001b[0mrelevant\u001b[0m \u001b[0mpart\u001b[0m \u001b[0mof\u001b[0m \u001b[0mthe\u001b[0m\u001b[1;33m)\u001b[0m \u001b[0mresponse\u001b[0m \u001b[1;32mfrom\u001b[0m \u001b[0mthe\u001b[0m \u001b[0mrequest\u001b[0m \u001b[1;33m(\u001b[0m\u001b[1;32mas\u001b[0m \u001b[0ma\u001b[0m \u001b[0mdictionary\u001b[0m\u001b[1;33m)\u001b[0m\u001b[1;33m.\u001b[0m\u001b[1;33m\u001b[0m\u001b[1;33m\u001b[0m\u001b[0m\n\u001b[0;32m    309\u001b[0m         \"\"\"\n\u001b[1;32m--> 310\u001b[1;33m         \u001b[1;32mreturn\u001b[0m \u001b[0mself\u001b[0m\u001b[1;33m.\u001b[0m\u001b[0m_req\u001b[0m\u001b[1;33m(\u001b[0m\u001b[1;34m\"POST\"\u001b[0m\u001b[1;33m,\u001b[0m \u001b[0murl\u001b[0m\u001b[1;33m,\u001b[0m \u001b[0mauthMode\u001b[0m\u001b[1;33m,\u001b[0m \u001b[0mheaders\u001b[0m\u001b[1;33m,\u001b[0m \u001b[0mdata\u001b[0m\u001b[1;33m,\u001b[0m \u001b[0mresKey\u001b[0m\u001b[1;33m,\u001b[0m \u001b[0mskipCheck\u001b[0m\u001b[1;33m,\u001b[0m \u001b[0mparams\u001b[0m\u001b[1;33m)\u001b[0m\u001b[1;33m\u001b[0m\u001b[1;33m\u001b[0m\u001b[0m\n\u001b[0m\u001b[0;32m    311\u001b[0m \u001b[1;33m\u001b[0m\u001b[0m\n\u001b[0;32m    312\u001b[0m     \u001b[1;32mdef\u001b[0m \u001b[0m_delete\u001b[0m\u001b[1;33m(\u001b[0m\u001b[0mself\u001b[0m\u001b[1;33m,\u001b[0m \u001b[0murl\u001b[0m\u001b[1;33m:\u001b[0m \u001b[0mstr\u001b[0m\u001b[1;33m,\u001b[0m \u001b[0mauthMode\u001b[0m\u001b[1;33m:\u001b[0m \u001b[0mstr\u001b[0m \u001b[1;33m=\u001b[0m \u001b[1;34m\"token\"\u001b[0m\u001b[1;33m)\u001b[0m \u001b[1;33m->\u001b[0m \u001b[0mUnion\u001b[0m\u001b[1;33m[\u001b[0m\u001b[0mdict\u001b[0m\u001b[1;33m,\u001b[0m \u001b[0mlist\u001b[0m\u001b[1;33m]\u001b[0m\u001b[1;33m:\u001b[0m\u001b[1;33m\u001b[0m\u001b[1;33m\u001b[0m\u001b[0m\n",
      "\u001b[1;32mc:\\Users\\ryand\\AppData\\Local\\Programs\\Python\\Python39\\lib\\site-packages\\pyTigerGraph\\pyTigerGraphBase.py\u001b[0m in \u001b[0;36m_req\u001b[1;34m(self, method, url, authMode, headers, data, resKey, skipCheck, params)\u001b[0m\n\u001b[0;32m    244\u001b[0m \u001b[1;33m\u001b[0m\u001b[0m\n\u001b[0;32m    245\u001b[0m         \u001b[1;32mif\u001b[0m \u001b[0mres\u001b[0m\u001b[1;33m.\u001b[0m\u001b[0mstatus_code\u001b[0m \u001b[1;33m!=\u001b[0m \u001b[1;36m200\u001b[0m\u001b[1;33m:\u001b[0m\u001b[1;33m\u001b[0m\u001b[1;33m\u001b[0m\u001b[0m\n\u001b[1;32m--> 246\u001b[1;33m             \u001b[0mres\u001b[0m\u001b[1;33m.\u001b[0m\u001b[0mraise_for_status\u001b[0m\u001b[1;33m(\u001b[0m\u001b[1;33m)\u001b[0m\u001b[1;33m\u001b[0m\u001b[1;33m\u001b[0m\u001b[0m\n\u001b[0m\u001b[0;32m    247\u001b[0m         \u001b[0mres\u001b[0m \u001b[1;33m=\u001b[0m \u001b[0mjson\u001b[0m\u001b[1;33m.\u001b[0m\u001b[0mloads\u001b[0m\u001b[1;33m(\u001b[0m\u001b[0mres\u001b[0m\u001b[1;33m.\u001b[0m\u001b[0mtext\u001b[0m\u001b[1;33m)\u001b[0m\u001b[1;33m\u001b[0m\u001b[1;33m\u001b[0m\u001b[0m\n\u001b[0;32m    248\u001b[0m         \u001b[1;32mif\u001b[0m \u001b[1;32mnot\u001b[0m \u001b[0mskipCheck\u001b[0m\u001b[1;33m:\u001b[0m\u001b[1;33m\u001b[0m\u001b[1;33m\u001b[0m\u001b[0m\n",
      "\u001b[1;32mc:\\Users\\ryand\\AppData\\Local\\Programs\\Python\\Python39\\lib\\site-packages\\requests\\models.py\u001b[0m in \u001b[0;36mraise_for_status\u001b[1;34m(self)\u001b[0m\n\u001b[0;32m    941\u001b[0m \u001b[1;33m\u001b[0m\u001b[0m\n\u001b[0;32m    942\u001b[0m         \u001b[1;32mif\u001b[0m \u001b[0mhttp_error_msg\u001b[0m\u001b[1;33m:\u001b[0m\u001b[1;33m\u001b[0m\u001b[1;33m\u001b[0m\u001b[0m\n\u001b[1;32m--> 943\u001b[1;33m             \u001b[1;32mraise\u001b[0m \u001b[0mHTTPError\u001b[0m\u001b[1;33m(\u001b[0m\u001b[0mhttp_error_msg\u001b[0m\u001b[1;33m,\u001b[0m \u001b[0mresponse\u001b[0m\u001b[1;33m=\u001b[0m\u001b[0mself\u001b[0m\u001b[1;33m)\u001b[0m\u001b[1;33m\u001b[0m\u001b[1;33m\u001b[0m\u001b[0m\n\u001b[0m\u001b[0;32m    944\u001b[0m \u001b[1;33m\u001b[0m\u001b[0m\n\u001b[0;32m    945\u001b[0m     \u001b[1;32mdef\u001b[0m \u001b[0mclose\u001b[0m\u001b[1;33m(\u001b[0m\u001b[0mself\u001b[0m\u001b[1;33m)\u001b[0m\u001b[1;33m:\u001b[0m\u001b[1;33m\u001b[0m\u001b[1;33m\u001b[0m\u001b[0m\n",
      "\u001b[1;31mHTTPError\u001b[0m: 400 Client Error: Bad Request for url: https://scott-ucds-hc.i.tgcloud.io:443/restpp/query/Reddit_Interactions/tg_label_prop"
     ]
    }
   ],
   "source": [
    "tg_label_params = {\n",
    "    \"v_type\": [\"User\", \"Comment\", \"Subreddit\"],\n",
    "    \"e_type\": [\"interacted_with\", \"posted\", \"replied_to\", \"belongs_to\"],\n",
    "    \"max_iter\": 10,\n",
    "    \"output_limit\": 100,\n",
    "    \"attr\": \"label_prop_score\"\n",
    "}\n",
    "\n",
    "f.runAlgorithm(\"tg_label_prop\", tg_label_params, timeout=300000)"
   ]
  },
  {
   "attachments": {},
   "cell_type": "markdown",
   "metadata": {},
   "source": [
    "### Data Loader"
   ]
  },
  {
   "cell_type": "code",
   "execution_count": 106,
   "metadata": {},
   "outputs": [
    {
     "name": "stdout",
     "output_type": "stream",
     "text": [
      "Wall time: 0 ns\n"
     ]
    }
   ],
   "source": [
    "# graph_loader = conn.gds.graphLoader(\n",
    "#     num_batches=10,\n",
    "#     v_in_feats = {\n",
    "#         \"Comment\": ['created_utc', 'subreddit', 'karma'],\n",
    "#         \"User\": ['name', 'link_karma', 'comment_karma', 'profile_over_18'],\n",
    "#         \"Subreddit\": ['name', 'allow_images', 'allow_videogifs', 'allow_videos', 'created_utc', 'over18', 'subscribers']\n",
    "#         },\n",
    "#     v_extra_feats={\n",
    "#         \"User\": [\"is_train\", \"is_test\"],\n",
    "#         \"Comment\": [\"is_train\", \"is_test\"],\n",
    "#         \"Subreddit\": [\"is_train\", \"is_test\"]\n",
    "#         },\n",
    "#     e_in_feats={\n",
    "#         \"interacted\": [\"num_interactions\"]\n",
    "#         },\n",
    "#     e_extra_feats={\n",
    "#         \"interacted\": [\"is_train\", \"is_test\"],\n",
    "#         \"wrote\": [\"is_train\", \"is_test\"],\n",
    "#         \"replied_to\": [\"is_train\", \"is_test\"],\n",
    "#         \"belongs_to\": [\"is_train\", \"is_test\"]\n",
    "#     },\n",
    "#     output_format = \"PyG\")\n",
    "\n",
    "# %time\n",
    "# graph_loader = conn.gds.graphLoader(\n",
    "#     num_batches=1,\n",
    "#     v_in_feats = {\n",
    "#         \"Comment\": ['created_utc', 'subreddit', 'karma'],\n",
    "#         },\n",
    "#     v_extra_feats={\n",
    "#         \"User\": [\"is_train\", \"is_test\"],\n",
    "#         \"Comment\": [\"is_train\", \"is_test\"],\n",
    "#         \"Subreddit\": [\"is_train\", \"is_test\"]\n",
    "#         },\n",
    "#     e_extra_feats={\n",
    "#         \"wrote\": [\"is_train\", \"is_test\"],\n",
    "#         \"replied_to\": [\"is_train\", \"is_test\"],\n",
    "#         \"belongs_to\": [\"is_train\", \"is_test\"]\n",
    "#     },\n",
    "#     output_format = \"PyG\")"
   ]
  },
  {
   "cell_type": "code",
   "execution_count": null,
   "metadata": {},
   "outputs": [],
   "source": [
    "# data = graph_loader.data"
   ]
  },
  {
   "attachments": {},
   "cell_type": "markdown",
   "metadata": {},
   "source": [
    "### Train Test Split"
   ]
  },
  {
   "cell_type": "code",
   "execution_count": 73,
   "metadata": {},
   "outputs": [
    {
     "name": "stdout",
     "output_type": "stream",
     "text": [
      "Splitting vertices...\n",
      "Vertex split finished successfully.\n"
     ]
    }
   ],
   "source": [
    "# split vertices\n",
    "splitter = conn.gds.vertexSplitter(is_train=0.9, is_test=0.1)\n",
    "splitter.run()"
   ]
  },
  {
   "cell_type": "code",
   "execution_count": 74,
   "metadata": {},
   "outputs": [],
   "source": [
    "vertices = conn.getVertexDataFrame(\"User\", select=\"is_train,is_test\")"
   ]
  },
  {
   "cell_type": "code",
   "execution_count": 75,
   "metadata": {},
   "outputs": [
    {
     "name": "stdout",
     "output_type": "stream",
     "text": [
      "Fraction of vertices with is_train = True: 0.9002715102685066\n",
      "Fraction of vertices with is_test = True: 0.09972848973149342\n"
     ]
    }
   ],
   "source": [
    "for attr in [\"is_train\", \"is_test\"]:\n",
    "    print(\"Fraction of vertices with {} = True: {}\".format(attr, vertices[attr].sum()/len(vertices)))"
   ]
  },
  {
   "cell_type": "code",
   "execution_count": 76,
   "metadata": {},
   "outputs": [
    {
     "name": "stdout",
     "output_type": "stream",
     "text": [
      "Splitting edges...\n",
      "Edge split finished successfully.\n"
     ]
    }
   ],
   "source": [
    "# split edges\n",
    "splitter = conn.gds.edgeSplitter(is_train=0.9, is_test=0.1)\n",
    "splitter.run()"
   ]
  },
  {
   "cell_type": "code",
   "execution_count": 84,
   "metadata": {},
   "outputs": [
    {
     "name": "stderr",
     "output_type": "stream",
     "text": [
      "c:\\Users\\ryand\\AppData\\Local\\Programs\\Python\\Python39\\lib\\site-packages\\ipykernel\\ipkernel.py:283: DeprecationWarning: `should_run_async` will not call `transform_cell` automatically in the future. Please pass the result to `transformed_cell` argument and any exception that happen during thetransform in `preprocessing_exc_tuple` in IPython 7.17 and above.\n",
      "  and should_run_async(code)\n"
     ]
    }
   ],
   "source": [
    "edges = conn.getEdgesDataFrame(select=\"is_train, is_test\", sourceVertexType=\"User\", sourceVertexId=\"ihsw\", edgeType=\"posted\")"
   ]
  },
  {
   "cell_type": "code",
   "execution_count": 87,
   "metadata": {},
   "outputs": [
    {
     "name": "stdout",
     "output_type": "stream",
     "text": [
      "Fraction of edges with is_train = True: 0.9880952380952381\n",
      "Fraction of edges with is_test = True: 0.2261904761904762\n"
     ]
    }
   ],
   "source": [
    "for attr in [\"is_train\", \"is_test\"]:\n",
    "    print(\"Fraction of edges with {} = True: {}\".format(attr, edges[attr].sum()/len(edges)))"
   ]
  },
  {
   "attachments": {},
   "cell_type": "markdown",
   "metadata": {},
   "source": [
    "### GSQL Queries"
   ]
  },
  {
   "cell_type": "code",
   "execution_count": 98,
   "metadata": {},
   "outputs": [
    {
     "data": {
      "text/plain": [
       "\"Using graph 'Reddit_Interactions'\\nSuccessfully created queries: [get_top_cmts].\""
      ]
     },
     "execution_count": 98,
     "metadata": {},
     "output_type": "execute_result"
    }
   ],
   "source": [
    "# get top 3 highest karma comments a user has made\n",
    "query = \"\"\"\n",
    "USE GRAPH Reddit_Interactions\n",
    "CREATE QUERY get_top_cmts (Vertex<User> u) SYNTAX v2 {\n",
    "    start = {u};\n",
    "    comments = SELECT c\n",
    "              FROM start:s -(posted:p)- Comment:c\n",
    "              ORDER BY c.karma ASC\n",
    "              LIMIT 3;\n",
    "              \n",
    "    PRINT comments[comments.subreddit, comments.karma];\n",
    "}\n",
    "\"\"\"\n",
    "\n",
    "results = conn.gsql(query)\n",
    "results"
   ]
  },
  {
   "cell_type": "code",
   "execution_count": 99,
   "metadata": {},
   "outputs": [],
   "source": [
    "results = conn.gsql(\n",
    "'''\n",
    "USE GRAPH Reddit_Interactions\n",
    "INSTALL QUERY get_top_cmts\n",
    "'''\n",
    ")"
   ]
  },
  {
   "cell_type": "code",
   "execution_count": 100,
   "metadata": {},
   "outputs": [
    {
     "name": "stdout",
     "output_type": "stream",
     "text": [
      "[\n",
      " {\n",
      "  \"comments\": [\n",
      "   {\n",
      "    \"v_id\": \"c1ayyis\",\n",
      "    \"v_type\": \"Comment\",\n",
      "    \"attributes\": {\n",
      "     \"comments.subreddit\": \"wow\",\n",
      "     \"comments.karma\": 0\n",
      "    }\n",
      "   },\n",
      "   {\n",
      "    \"v_id\": \"c1a7cg4\",\n",
      "    \"v_type\": \"Comment\",\n",
      "    \"attributes\": {\n",
      "     \"comments.subreddit\": \"wow\",\n",
      "     \"comments.karma\": 1\n",
      "    }\n",
      "   },\n",
      "   {\n",
      "    \"v_id\": \"c1agj7x\",\n",
      "    \"v_type\": \"Comment\",\n",
      "    \"attributes\": {\n",
      "     \"comments.subreddit\": \"wow\",\n",
      "     \"comments.karma\": 1\n",
      "    }\n",
      "   }\n",
      "  ]\n",
      " }\n",
      "]\n"
     ]
    }
   ],
   "source": [
    "parameters = {\n",
    "    \"u\": \"NozE8\"\n",
    "}\n",
    "results = conn.runInstalledQuery(\"get_top_cmts\", params=parameters)\n",
    "print(json.dumps(results, indent=1))"
   ]
  },
  {
   "cell_type": "code",
   "execution_count": 102,
   "metadata": {},
   "outputs": [
    {
     "data": {
      "text/plain": [
       "'Using graph \\'Reddit_Interactions\\'\\nSuccessfully created queries: [get_subreddits].\\nStart installing queries, about 1 minute ...\\ntg_closeness_cent query: curl -X GET \\'https://127.0.0.1:9000/query/Reddit_Interactions/tg_closeness_cent?v_type_set=VALUE&e_type_set=VALUE&reverse_e_type=VALUE&[max_hops=VALUE]&[top_k=VALUE]&[wf=VALUE]&[print_results=VALUE]&[result_attribute=VALUE]&[file_path=VALUE]&[display_edges=VALUE]\\'. Add -H \"Authorization: Bearer TOKEN\" if authentication is enabled.\\ntg_betweenness_cent query: curl -X GET \\'https://127.0.0.1:9000/query/Reddit_Interactions/tg_betweenness_cent?v_type_set=VALUE&e_type_set=VALUE&reverse_e_type=VALUE&[max_hops=VALUE]&[top_k=VALUE]&[print_results=VALUE]&[result_attribute=VALUE]&[file_path=VALUE]&[display_edges=VALUE]\\'. Add -H \"Authorization: Bearer TOKEN\" if authentication is enabled.\\nget_subreddits query: curl -X GET \\'https://127.0.0.1:9000/query/Reddit_Interactions/get_subreddits?u=VALUE\\'. Add -H \"Authorization: Bearer TOKEN\" if authentication is enabled.\\nSelect \\'m1\\' as compile server, now connecting ...\\nNode \\'m1\\' is prepared as compile server.\\n\\nQuery installation finished.'"
      ]
     },
     "execution_count": 102,
     "metadata": {},
     "output_type": "execute_result"
    }
   ],
   "source": [
    "# get all subreddits a user has made a comment in\n",
    "query = \"\"\"\n",
    "USE GRAPH Reddit_Interactions\n",
    "\n",
    "CREATE QUERY get_subreddits (Vertex<User> u) SYNTAX v2 {\n",
    "    start = {u};\n",
    "    comments = SELECT c\n",
    "              FROM start:s -(posted:p)- Comment:c;\n",
    "    \n",
    "    PRINT comments[comments.subreddit];\n",
    "}\n",
    "\n",
    "INSTALL QUERY get_subreddits\n",
    "\"\"\"\n",
    "\n",
    "results = conn.gsql(query)\n",
    "results"
   ]
  },
  {
   "cell_type": "code",
   "execution_count": 116,
   "metadata": {},
   "outputs": [
    {
     "name": "stdout",
     "output_type": "stream",
     "text": [
      "{'IAmA', 'food', 'wow'}\n",
      "{'wow', 'photography'}\n",
      "{'IAmA', 'pics', 'politics', 'blog', 'washingtondc', 'worldnews', 'atheism', 'DoesAnybodyElse', 'todayilearned', 'videos', 'geek'}\n"
     ]
    }
   ],
   "source": [
    "def get_subreddits(user):\n",
    "    parameters = {\n",
    "        \"u\": user\n",
    "    }\n",
    "    results = conn.runInstalledQuery(\"get_subreddits\", params=parameters)\n",
    "    subs = set()\n",
    "    for comment in results[0]['comments']:\n",
    "        subs.add(comment['attributes']['comments.subreddit'])\n",
    "    return subs\n",
    "\n",
    "print(get_subreddits(\"NozE8\"))\n",
    "print(get_subreddits(\"Ravelnze\"))\n",
    "print(get_subreddits(\"Dengar\"))"
   ]
  },
  {
   "cell_type": "code",
   "execution_count": 118,
   "metadata": {},
   "outputs": [
    {
     "data": {
      "text/plain": [
       "'Using graph \\'Reddit_Interactions\\'\\nSuccessfully created queries: [get_neighbor_subreddits].\\nStart installing queries, about 1 minute ...\\ntg_closeness_cent query: curl -X GET \\'https://127.0.0.1:9000/query/Reddit_Interactions/tg_closeness_cent?v_type_set=VALUE&e_type_set=VALUE&reverse_e_type=VALUE&[max_hops=VALUE]&[top_k=VALUE]&[wf=VALUE]&[print_results=VALUE]&[result_attribute=VALUE]&[file_path=VALUE]&[display_edges=VALUE]\\'. Add -H \"Authorization: Bearer TOKEN\" if authentication is enabled.\\ntg_betweenness_cent query: curl -X GET \\'https://127.0.0.1:9000/query/Reddit_Interactions/tg_betweenness_cent?v_type_set=VALUE&e_type_set=VALUE&reverse_e_type=VALUE&[max_hops=VALUE]&[top_k=VALUE]&[print_results=VALUE]&[result_attribute=VALUE]&[file_path=VALUE]&[display_edges=VALUE]\\'. Add -H \"Authorization: Bearer TOKEN\" if authentication is enabled.\\nget_neighbor_subreddits query: curl -X GET \\'https://127.0.0.1:9000/query/Reddit_Interactions/get_neighbor_subreddits?u=VALUE\\'. Add -H \"Authorization: Bearer TOKEN\" if authentication is enabled.\\nSelect \\'m1\\' as compile server, now connecting ...\\nNode \\'m1\\' is prepared as compile server.\\n\\nQuery installation finished.'"
      ]
     },
     "execution_count": 118,
     "metadata": {},
     "output_type": "execute_result"
    }
   ],
   "source": [
    "# get all the subreddits of users that this user has interacted with\n",
    "query = \"\"\"\n",
    "USE GRAPH Reddit_Interactions\n",
    "\n",
    "CREATE QUERY get_neighbor_subreddits (Vertex<User> u) SYNTAX v2 {\n",
    "    start = {u};\n",
    "    users = SELECT tgt\n",
    "              FROM start:s -(interacted_with:i)- User:tgt;\n",
    "\n",
    "    comments = SELECT c\n",
    "                FROM users -(posted:p)- Comment:c;\n",
    "    \n",
    "    PRINT comments[comments.subreddit];\n",
    "}\n",
    "\n",
    "INSTALL QUERY get_neighbor_subreddits\n",
    "\"\"\"\n",
    "\n",
    "results = conn.gsql(query)\n",
    "results"
   ]
  },
  {
   "cell_type": "code",
   "execution_count": 127,
   "metadata": {},
   "outputs": [
    {
     "name": "stderr",
     "output_type": "stream",
     "text": [
      "c:\\Users\\ryand\\AppData\\Local\\Programs\\Python\\Python39\\lib\\site-packages\\ipykernel\\ipkernel.py:283: DeprecationWarning: `should_run_async` will not call `transform_cell` automatically in the future. Please pass the result to `transformed_cell` argument and any exception that happen during thetransform in `preprocessing_exc_tuple` in IPython 7.17 and above.\n",
      "  and should_run_async(code)\n"
     ]
    },
    {
     "data": {
      "text/plain": [
       "{'4chan',\n",
       " 'AMA',\n",
       " 'Amateur',\n",
       " 'Anarchism',\n",
       " 'Android',\n",
       " 'AskReddit',\n",
       " 'Bacon',\n",
       " 'Bad_Cop_No_Donut',\n",
       " 'Cooking',\n",
       " 'DIY',\n",
       " 'DateRape',\n",
       " 'DoesAnybodyElse',\n",
       " 'Drugs',\n",
       " 'Economics',\n",
       " 'Favors',\n",
       " 'Fitness',\n",
       " 'FoodPorn',\n",
       " 'Frugal',\n",
       " 'GetMotivated',\n",
       " 'Homebrewing',\n",
       " 'IAmA',\n",
       " 'IWantOut',\n",
       " 'MensRights',\n",
       " 'Military',\n",
       " 'Music',\n",
       " 'PHP',\n",
       " 'TheAgora',\n",
       " 'WTF',\n",
       " 'WeAreTheFilmMakers',\n",
       " 'WeAreTheMusicMakers',\n",
       " 'animation',\n",
       " 'askscience',\n",
       " 'atheism',\n",
       " 'aviation',\n",
       " 'aww',\n",
       " 'blog',\n",
       " 'books',\n",
       " 'buildapc',\n",
       " 'business',\n",
       " 'cars',\n",
       " 'circlejerk',\n",
       " 'comics',\n",
       " 'entertainment',\n",
       " 'environment',\n",
       " 'fffffffuuuuuuuuuuuu',\n",
       " 'food',\n",
       " 'funny',\n",
       " 'gadgets',\n",
       " 'gaming',\n",
       " 'geek',\n",
       " 'guns',\n",
       " 'hardware',\n",
       " 'harrypotter',\n",
       " 'humor',\n",
       " 'iphone',\n",
       " 'kindle',\n",
       " 'lgbt',\n",
       " 'linux',\n",
       " 'london',\n",
       " 'loseit',\n",
       " 'movies',\n",
       " 'netsec',\n",
       " 'news',\n",
       " 'offbeat',\n",
       " 'ottawa',\n",
       " 'photography',\n",
       " 'pics',\n",
       " 'politics',\n",
       " 'reddit.com',\n",
       " 'science',\n",
       " 'seduction',\n",
       " 'sex',\n",
       " 'shittyadvice',\n",
       " 'soccer',\n",
       " 'space',\n",
       " 'starcraft',\n",
       " 'sweden',\n",
       " 'technology',\n",
       " 'tf2',\n",
       " 'todayilearned',\n",
       " 'trees',\n",
       " 'unitedkingdom',\n",
       " 'videos',\n",
       " 'washingtondc',\n",
       " 'worldnews',\n",
       " 'wow',\n",
       " 'writing'}"
      ]
     },
     "execution_count": 127,
     "metadata": {},
     "output_type": "execute_result"
    }
   ],
   "source": [
    "def get_neighboring_subreddits(user):\n",
    "    parameters = {\n",
    "        \"u\": user\n",
    "    }\n",
    "    results = conn.runInstalledQuery(\"get_neighbor_subreddits\", params=parameters)\n",
    "    subs = set()\n",
    "    for comment in results[0]['comments']:\n",
    "        subs.add(comment['attributes']['comments.subreddit'])\n",
    "    return subs\n",
    "\n",
    "get_neighboring_subreddits(\"NozE8\")"
   ]
  },
  {
   "cell_type": "code",
   "execution_count": 130,
   "metadata": {},
   "outputs": [
    {
     "data": {
      "text/plain": [
       "'Using graph \\'Reddit_Interactions\\'\\nSuccessfully created queries: [get_users_subs].\\nStart installing queries, about 1 minute ...\\ntg_betweenness_cent query: curl -X GET \\'https://127.0.0.1:9000/query/Reddit_Interactions/tg_betweenness_cent?v_type_set=VALUE&e_type_set=VALUE&reverse_e_type=VALUE&[max_hops=VALUE]&[top_k=VALUE]&[print_results=VALUE]&[result_attribute=VALUE]&[file_path=VALUE]&[display_edges=VALUE]\\'. Add -H \"Authorization: Bearer TOKEN\" if authentication is enabled.\\nget_users_subs query: curl -X GET \\'https://127.0.0.1:9000/query/Reddit_Interactions/get_users_subs?u=VALUE\\'. Add -H \"Authorization: Bearer TOKEN\" if authentication is enabled.\\nSelect \\'m1\\' as compile server, now connecting ...\\nNode \\'m1\\' is prepared as compile server.\\n\\nQuery installation finished.'"
      ]
     },
     "execution_count": 130,
     "metadata": {},
     "output_type": "execute_result"
    }
   ],
   "source": [
    "query = \"\"\"\n",
    "USE GRAPH Reddit_Interactions\n",
    "\n",
    "CREATE QUERY get_users_subs (Vertex<User> u) SYNTAX v2 {\n",
    "    ListAccum<STRING> @subs;\n",
    "\n",
    "    start = {u};\n",
    "    users = SELECT tgt\n",
    "            FROM start:s -(interacted_with:i)- User:tgt;\n",
    "\n",
    "    users_subs = SELECT x\n",
    "                 FROM users:x -(posted:p)- Comment:tgt\n",
    "                 ACCUM x.@subs += tgt.subreddit;\n",
    "    \n",
    "    PRINT users_subs[users_subs.@subs];\n",
    "}\n",
    "\n",
    "INSTALL QUERY get_users_subs\n",
    "\"\"\"\n",
    "\n",
    "results = conn.gsql(query)\n",
    "results"
   ]
  },
  {
   "cell_type": "code",
   "execution_count": 171,
   "metadata": {},
   "outputs": [
    {
     "data": {
      "text/plain": [
       "{'Vitalstatistix': 0.125,\n",
       " 'benniaustindev': 0.10526315789473684,\n",
       " 'burzmali': 0.06666666666666667,\n",
       " 'zenhob': 0.23076923076923078,\n",
       " 'HotmailOnreddit': 0.08333333333333333,\n",
       " 'Midianite_Caller': 0.23076923076923078,\n",
       " 'tehbizz': 0.19047619047619047,\n",
       " 'aepr88': 0.23076923076923078,\n",
       " 'ggggbabybabybaby': 0.1891891891891892,\n",
       " 'julia_gulia': 0.16666666666666666,\n",
       " 'devgeek0': 0.21739130434782608,\n",
       " 'proudblond': 0.07692307692307693,\n",
       " 'Mizzenmast': 0.08333333333333333,\n",
       " 'murphymurphy': 0.20833333333333334,\n",
       " 'BANANARCHY': 0.2,\n",
       " 'softmaker': 0.23809523809523808,\n",
       " 'NozE8': 0.07692307692307693,\n",
       " 'kimjongsick': 0.14285714285714285,\n",
       " 'itzepiic': 0.3684210526315789,\n",
       " 'radbro': 0.25,\n",
       " 'rdjw': 0.07692307692307693}"
      ]
     },
     "execution_count": 171,
     "metadata": {},
     "output_type": "execute_result"
    }
   ],
   "source": [
    "def calc_user_score(user):\n",
    "    # given a user, calculates how similar they are compared to all of the other users they have interacted with\n",
    "    # similarity metric is determined by number of subreddits in common / number of subreddits both users are active in \n",
    "    parameters = {\n",
    "        \"u\": user\n",
    "    }\n",
    "    results = conn.runInstalledQuery(\"get_users_subs\", params=parameters)\n",
    "\n",
    "    my_subs = get_subreddits(user)\n",
    "    ans = {}\n",
    "    \n",
    "    for comment in results[0]['users_subs']:\n",
    "        other_subs = set(comment['attributes']['users_subs.@subs'])\n",
    "        total_subs = len(my_subs.union(other_subs))\n",
    "        score = len(my_subs.intersection(other_subs)) / total_subs\n",
    "        ans[comment['v_id']] = score\n",
    "        \n",
    "    return ans\n",
    "\n",
    "calc_user_score(\"Dengar\")"
   ]
  },
  {
   "cell_type": "code",
   "execution_count": 153,
   "metadata": {},
   "outputs": [],
   "source": [
    "def diff_subs(user_one, user_two):\n",
    "    # given user one and two, return subreddits of user_two that user_one isnt apart of\n",
    "    one_subs = get_subreddits(user_one)\n",
    "    two_subs = get_subreddits(user_two)\n",
    "    return two_subs - one_subs"
   ]
  },
  {
   "cell_type": "code",
   "execution_count": 182,
   "metadata": {},
   "outputs": [
    {
     "name": "stderr",
     "output_type": "stream",
     "text": [
      "<ipython-input-182-746aaaa4b6f9>:10: DeprecationWarning: Sampling from a set deprecated\n",
      "since Python 3.9 and will be removed in a subsequent version.\n",
      "  recs.update(random.sample(diff_subs(user, neighbor_user), num_rec))\n"
     ]
    },
    {
     "data": {
      "text/plain": [
       "{'DoesAnybodyElse', 'Drugs', 'announcements'}"
      ]
     },
     "execution_count": 182,
     "metadata": {},
     "output_type": "execute_result"
    }
   ],
   "source": [
    "def recommend_subs(user, sim_score=3, num_rec=1):\n",
    "    # could improve on this by checking how similar the recommended subs are to the current users subs and recommend the most similar subs instead of picking random ones\n",
    "    user_scores = calc_user_score(user)\n",
    "    recs = set()\n",
    "\n",
    "    # third highest similarity score\n",
    "    threshold = sorted(user_scores.values())[-sim_score:][0]\n",
    "\n",
    "    for neighbor_user, score in user_scores.items():\n",
    "        if score >= threshold:\n",
    "            recs.update(random.sample(diff_subs(user, neighbor_user), num_rec))\n",
    "\n",
    "    return recs\n",
    "\n",
    "recommend_subs(\"jittwoii\")"
   ]
  },
  {
   "cell_type": "code",
   "execution_count": null,
   "metadata": {},
   "outputs": [],
   "source": []
  }
 ],
 "metadata": {
  "kernelspec": {
   "display_name": "Python 3",
   "language": "python",
   "name": "python3"
  },
  "language_info": {
   "codemirror_mode": {
    "name": "ipython",
    "version": 3
   },
   "file_extension": ".py",
   "mimetype": "text/x-python",
   "name": "python",
   "nbconvert_exporter": "python",
   "pygments_lexer": "ipython3",
   "version": "3.9.2"
  },
  "orig_nbformat": 4,
  "vscode": {
   "interpreter": {
    "hash": "86cae0fd2a7309d6498bb54a8a1e9f5a08caad9528d9ae89ce1414511c8d5526"
   }
  }
 },
 "nbformat": 4,
 "nbformat_minor": 2
}
