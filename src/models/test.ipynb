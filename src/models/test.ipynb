{
 "cells": [
  {
   "cell_type": "code",
   "execution_count": 1,
   "metadata": {},
   "outputs": [],
   "source": [
    "from cosine_knn import CosineKNN\n",
    "from jaccard import SimpleJaccard\n",
    "import pandas as pd"
   ]
  },
  {
   "cell_type": "code",
   "execution_count": 2,
   "metadata": {},
   "outputs": [],
   "source": [
    "comments_to_subreddit = {}\n",
    "data = []\n",
    "with open('../../data/out/users_comments.csv') as ucf, open('../../data/out/comments.csv') as cf:\n",
    "    for l in cf.readlines():\n",
    "        c, sr, _, _ = l.split(',')\n",
    "        comments_to_subreddit[c] = sr\n",
    "\n",
    "    for l in ucf.readlines():\n",
    "        u, c = l.split(',')\n",
    "        data.append((u, comments_to_subreddit[c.strip()]))"
   ]
  },
  {
   "cell_type": "code",
   "execution_count": 3,
   "metadata": {},
   "outputs": [],
   "source": [
    "df = pd.DataFrame(data, columns=['user', 'subreddit'])\n",
    "mdl = CosineKNN(df)"
   ]
  },
  {
   "cell_type": "code",
   "execution_count": 8,
   "metadata": {},
   "outputs": [
    {
     "data": {
      "text/plain": [
       "{'sports': [('sports', 0.0),\n",
       "  ('nfl', 0.9122978395063776),\n",
       "  ('CFB', 0.9371887131531116),\n",
       "  ('pics', 0.9408565063813055),\n",
       "  ('AskReddit', 0.9427368930535949),\n",
       "  ('baseball', 0.9482884380372526)],\n",
       " 'soccer': [('soccer', 4.6629367034256575e-15),\n",
       "  ('fifaleagues', 0.8892360227460346),\n",
       "  ('Gunners', 0.901554435396054),\n",
       "  ('Barca', 0.9129654492786548),\n",
       "  ('LiverpoolFC', 0.9140870088394004),\n",
       "  ('MLS', 0.9141488662452047)],\n",
       " 'baseball': [('baseball', 4.107825191113079e-15),\n",
       "  ('Giants', 0.9143207138039553),\n",
       "  ('eagles', 0.9212503837635885),\n",
       "  ('InstantNetflixPorn', 0.9304077876462671),\n",
       "  ('Derailed', 0.9304755570173502),\n",
       "  ('Brewers', 0.9377548329889811)]}"
      ]
     },
     "execution_count": 8,
     "metadata": {},
     "output_type": "execute_result"
    }
   ],
   "source": [
    "mdl.recommend(['sports', 'soccer', 'baseball'], 5)"
   ]
  },
  {
   "cell_type": "code",
   "execution_count": null,
   "metadata": {},
   "outputs": [],
   "source": [
    "mdl = SimpleJaccard(data)\n",
    "for u in ['_silentheartsong','product19','RegularFreddieWilson','superdarkness','dockmarlin','snotrokit','tforcram','Misio','greenstripe333','seKer82','FormerDittoHead','kurtu5','moby323']:\n",
    "    rec = mdl.reccomend(u)\n",
    "    print(u, rec)"
   ]
  },
  {
   "cell_type": "code",
   "execution_count": null,
   "metadata": {},
   "outputs": [],
   "source": []
  }
 ],
 "metadata": {
  "kernelspec": {
   "display_name": "Python 3",
   "language": "python",
   "name": "python3"
  },
  "language_info": {
   "codemirror_mode": {
    "name": "ipython",
    "version": 3
   },
   "file_extension": ".py",
   "mimetype": "text/x-python",
   "name": "python",
   "nbconvert_exporter": "python",
   "pygments_lexer": "ipython3",
   "version": "3.9.4"
  },
  "orig_nbformat": 4,
  "vscode": {
   "interpreter": {
    "hash": "3765b5c36215b6942432267d5a9eb97e0199a22c25b16bdeee0eec4357e615e6"
   }
  }
 },
 "nbformat": 4,
 "nbformat_minor": 2
}
